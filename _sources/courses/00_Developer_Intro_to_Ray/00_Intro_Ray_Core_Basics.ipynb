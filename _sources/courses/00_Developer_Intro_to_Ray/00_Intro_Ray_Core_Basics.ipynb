{
 "cells": [
  {
   "cell_type": "markdown",
   "id": "1fd443a5-c9d3-4b6f-ad72-59c1eba1d112",
   "metadata": {},
   "source": [
    "# Introduction to Ray Core: Getting Started"
   ]
  },
  {
   "cell_type": "markdown",
   "id": "f6e3a7d5-5033-4f31-912a-0e405c1a1bc9",
   "metadata": {},
   "source": [
    "© 2025, Anyscale. All Rights Reserved"
   ]
  },
  {
   "cell_type": "markdown",
   "id": "1947e07a",
   "metadata": {},
   "source": [
    "💻 **Launch Locally**: You can run this notebook locally.\n",
    "\n",
    "🚀 **Launch on Cloud**: Think about running this notebook on a Ray Cluster (Click [here](http://console.anyscale.com/register) to easily start a Ray cluster on Anyscale)"
   ]
  },
  {
   "cell_type": "markdown",
   "id": "fcd84432-84b0-426e-8546-42f33804f2fa",
   "metadata": {},
   "source": [
    "This notebook provides a step-by-step quick tour of Ray Core basics.\n",
    "\n",
    "<div class=\"alert alert-block alert-info\">\n",
    "\n",
    "<b> Here is the roadmap for this notebook </b>\n",
    "\n",
    "<ol>\n",
    "  <li>Overview</li>\n",
    "  <li>Creating Remote Functions</li>\n",
    "  <li>Executing Remote Functions</li>\n",
    "  <li>Getting Results</li>\n",
    "  <li>Putting It All Together\n",
    "    <ul>\n",
    "      <li>Note about Ray ID Specification</li>\n",
    "      <li>Anti-pattern: Calling ray.get in a loop harms parallelism</li>\n",
    "    </ul>\n",
    "  </li>\n",
    "</ol>\n",
    "</div>"
   ]
  },
  {
   "cell_type": "markdown",
   "id": "5c263dcd",
   "metadata": {},
   "source": [
    "**Imports**"
   ]
  },
  {
   "cell_type": "code",
   "execution_count": null,
   "id": "98399ea9-933a-452f-be3f-bc1535006443",
   "metadata": {
    "tags": []
   },
   "outputs": [],
   "source": [
    "import os\n",
    "import random\n",
    "import sys\n",
    "import time\n",
    "\n",
    "import numpy as np\n",
    "import ray"
   ]
  },
  {
   "cell_type": "markdown",
   "id": "9ff9ad39-11cb-495e-964f-a05a95159bea",
   "metadata": {},
   "source": [
    "## 0. Overview\n",
    "\n",
    "<div class=\"alert alert-info\">\n",
    "  <strong><a href=\"https://docs.ray.io/en/latest/ray-core/walkthrough.html\" target=\"_blank\">Ray Core</a></strong> is an open-source, Python, general purpose, distributed computing library that enables Engineers to scale Python apps.\n",
    "</div>\n",
    "\n",
    "Ray Core is about:\n",
    "* distributing computation across many cores, nodes, or devices (e.g., accelerators)\n",
    "* scheduling *arbitrary task graphs*\n",
    "    * any code you can write, you can distribute, scale, and accelerate with Ray Core\n",
    "* managing the overhead\n",
    "    * At scale, distributed computation introduces growing \"frictions\":\n",
    "        * data-specific overhead: serialization/deserialization, transfer costs.\n",
    "        * scheduling overhead: managing the queue of tasks to run, deciding where to run them.\n",
    "        * system-specific overhead: garbage collection, memory management, etc.\n",
    "    * Ray Core addresses these issues as first-order concerns in its design via:\n",
    "        * a distributed scheduler\n",
    "        * distributed memory\n",
    "        * distributed reference counting\n",
    " \n",
    "For common technical use cases, Ray libraries and other components provide simple development experience and are built on top of Ray Core."
   ]
  },
  {
   "cell_type": "markdown",
   "id": "8c356de6",
   "metadata": {},
   "source": [
    "## 1. Creating Remote Functions\n",
    "\n",
    "The first step in using Ray is to create remote functions. A remote function is a regular Python function that can be executed on any process in your cluster."
   ]
  },
  {
   "cell_type": "markdown",
   "id": "bb8b00c1-d320-4b62-a35b-08bea2e848e3",
   "metadata": {},
   "source": [
    "Given a simple Python function:"
   ]
  },
  {
   "cell_type": "code",
   "execution_count": null,
   "id": "bc20546b-510d-4885-82fa-5d12503d52f4",
   "metadata": {
    "tags": []
   },
   "outputs": [],
   "source": [
    "def add(a, b):\n",
    "    return a + b\n",
    "\n",
    "add"
   ]
  },
  {
   "cell_type": "markdown",
   "id": "c46f71e2",
   "metadata": {},
   "source": [
    "Decorate the function with @ray.remote to turn it into a remote function."
   ]
  },
  {
   "cell_type": "code",
   "execution_count": null,
   "id": "6cb578bb",
   "metadata": {},
   "outputs": [],
   "source": [
    "@ray.remote\n",
    "def remote_add(a, b):\n",
    "    return a + b\n",
    "\n",
    "remote_add"
   ]
  },
  {
   "cell_type": "markdown",
   "id": "4b65a5bf-999a-4461-9ece-4ff87ed50d70",
   "metadata": {},
   "source": [
    "<div class=\"alert alert-info\">\n",
    "  <strong><a href=\"https://docs.ray.io/en/latest/ray-core/key-concepts.html#tasks\" target=\"_blank\">Tasks</a></strong> is a remote, stateless Python function invocation.\n",
    "</div>\n"
   ]
  },
  {
   "cell_type": "markdown",
   "id": "a03627df",
   "metadata": {},
   "source": [
    "## 2. Executing Remote Functions"
   ]
  },
  {
   "cell_type": "markdown",
   "id": "b4479f92",
   "metadata": {},
   "source": [
    "Native python functions are invoked by calling them"
   ]
  },
  {
   "cell_type": "code",
   "execution_count": null,
   "id": "5d026c15",
   "metadata": {},
   "outputs": [],
   "source": [
    "add(1, 2)"
   ]
  },
  {
   "cell_type": "markdown",
   "id": "2dfd3ad7-0d0e-4313-82d7-4d36f2e9537b",
   "metadata": {},
   "source": [
    "Remote ray functions are executed as tasks by calling them with `.remote()` suffix"
   ]
  },
  {
   "cell_type": "code",
   "execution_count": null,
   "id": "c7f0c8a3-f456-4594-a994-0e5a528c3b78",
   "metadata": {
    "tags": []
   },
   "outputs": [],
   "source": [
    "remote_add.remote(1, 2)"
   ]
  },
  {
   "cell_type": "markdown",
   "id": "f8b79fec",
   "metadata": {},
   "source": [
    "Here is what happens when you call `{remote_function}.remote`:\n",
    "1. Ray schedules the function execution as a task in a separate process in the cluster\n",
    "2. Ray returns an `ObjectRef` (a reference to the future result) to you **immediately** \n",
    "3. The cluster executes the actual computation in the background\n"
   ]
  },
  {
   "cell_type": "code",
   "execution_count": null,
   "id": "3c939071-2454-4042-8136-75ffbbf6cce0",
   "metadata": {
    "tags": []
   },
   "outputs": [],
   "source": [
    "ref = remote_add.remote(1, 2)\n",
    "ref"
   ]
  },
  {
   "cell_type": "markdown",
   "id": "cc911f58",
   "metadata": {},
   "source": [
    "## 3. Getting Results"
   ]
  },
  {
   "cell_type": "markdown",
   "id": "7928ca98-dc51-4ecf-b757-92996dd0c69a",
   "metadata": {},
   "source": [
    "If we want to wait (block) and retrieve the corresponding object, we can use `ray.get`"
   ]
  },
  {
   "cell_type": "code",
   "execution_count": null,
   "id": "a564c830-d30d-4d4c-adb5-ee12adee605b",
   "metadata": {
    "tags": []
   },
   "outputs": [],
   "source": [
    "ray.get(ref)"
   ]
  },
  {
   "cell_type": "markdown",
   "id": "d550f58a",
   "metadata": {},
   "source": [
    "## 4. Putting It All Together\n",
    "\n",
    "Here are the three steps:\n",
    "1. Create the remote function\n",
    "2. Execute it remotely\n",
    "3. Get the result when needed\n"
   ]
  },
  {
   "cell_type": "markdown",
   "id": "4da412f5-133a-441b-8734-b96f56389f05",
   "metadata": {},
   "source": [
    "<div class=\"alert alert-block alert-info\">\n",
    "    \n",
    "__Activity: define and invoke a Ray task__\n",
    "\n",
    "Define a remote function `sqrt_add` that accepts two arguments and performs the following steps:\n",
    "1. computes the square-root of the first\n",
    "2. adds the second\n",
    "3. returns the result\n",
    "\n",
    "Execute it with 2 different sets of parameters and collect the results\n",
    "\n",
    "```python\n",
    "# Hint: define the below as a remote function\n",
    "def sqrt_add(a, b):\n",
    "    ... \n",
    "\n",
    "# Hint: invoke it as a remote task and collect the results\n",
    "```\n",
    "\n",
    "\n",
    "</div>"
   ]
  },
  {
   "cell_type": "code",
   "execution_count": null,
   "id": "ace32382",
   "metadata": {},
   "outputs": [],
   "source": [
    "# Write your solution here"
   ]
  },
  {
   "cell_type": "markdown",
   "id": "34fe7b54",
   "metadata": {},
   "source": [
    "<div class=\"alert alert-block alert-info\">\n",
    "\n",
    "<details>\n",
    "\n",
    "<summary> Click to see solution </summary>\n",
    "\n",
    "```python\n",
    "import math\n",
    "\n",
    "@ray.remote\n",
    "def sqrt_add(a, b):\n",
    "    return math.sqrt(a) + b\n",
    "\n",
    "ray.get([sqrt_add.remote(2, 3), sqrt_add.remote(5, 4)])\n",
    "```\n",
    "\n",
    "</details>\n",
    "\n",
    "</div>\n"
   ]
  },
  {
   "cell_type": "markdown",
   "id": "1ae13f94-7307-4a43-ad55-bfa8df9c6cdb",
   "metadata": {},
   "source": [
    "### 4.1. Note about Ray ID Specification"
   ]
  },
  {
   "cell_type": "markdown",
   "id": "a6948957",
   "metadata": {},
   "source": [
    "IDs for tasks and objects are build according to the [ID specification in Ray](https://github.com/ray-project/ray/blob/master/src/ray/design_docs/id_specification.md)."
   ]
  },
  {
   "cell_type": "markdown",
   "id": "a84c4e70",
   "metadata": {},
   "source": [
    "### 4.2. Anti-pattern: Calling ray.get in a loop harms parallelism"
   ]
  },
  {
   "cell_type": "markdown",
   "id": "09dbf506-7cd4-4408-b4b6-91b1defeef9e",
   "metadata": {},
   "source": [
    "|<img src=\"https://assets-training.s3.us-west-2.amazonaws.com/ray-core/ray-core/ray-get-in-a-loop.png\" width=\"70%\" loading=\"lazy\">|\n",
    "|:--|\n",
    "|ray.get() is a blocking call. Avoid calling it on every item (left panel). Calling only on the final result improves performance (right panel).|"
   ]
  },
  {
   "cell_type": "markdown",
   "id": "daeed79b-fb6f-45c3-a3c1-2f501ff56241",
   "metadata": {},
   "source": [
    "When trying to collect results for multiple remote function invocations (tasks), don't block and wait for each one individually. Let's consider this remote function:"
   ]
  },
  {
   "cell_type": "code",
   "execution_count": null,
   "id": "4322b5b1",
   "metadata": {},
   "outputs": [],
   "source": [
    "@ray.remote\n",
    "def expensive_square(x):\n",
    "    time.sleep(5)\n",
    "    return x**2"
   ]
  },
  {
   "cell_type": "markdown",
   "id": "0405e415-06da-462f-8d5c-f8b6f0a460c2",
   "metadata": {},
   "source": [
    "This implementation will block for each item in the loop:"
   ]
  },
  {
   "cell_type": "code",
   "execution_count": null,
   "id": "907ed0b7",
   "metadata": {},
   "outputs": [],
   "source": [
    "results = []\n",
    "for item in range(4):\n",
    "    output = ray.get(expensive_square.remote(item))\n",
    "    results.append(output)\n",
    "results"
   ]
  },
  {
   "cell_type": "markdown",
   "id": "0abdcf63",
   "metadata": {},
   "source": [
    "Schedule all remote calls, which are then processed in parallel. After scheduling the work, we can then request all the results at once."
   ]
  },
  {
   "cell_type": "code",
   "execution_count": null,
   "id": "d7e498de",
   "metadata": {},
   "outputs": [],
   "source": [
    "refs = []\n",
    "for j in range(4):\n",
    "    refs.append(expensive_square.remote(j))\n",
    "results = ray.get(refs)\n",
    "results"
   ]
  },
  {
   "cell_type": "markdown",
   "id": "837090c0-cd19-4678-bca8-99270a9a20f7",
   "metadata": {},
   "source": [
    "<div class=\"alert alert-info\">\n",
    "Read more about this <strong><a href=\"https://docs.ray.io/en/latest/ray-core/patterns/ray-get-loop.html\" target=\"_blank\">anti-pattern</a></strong>.\n",
    "</div>"
   ]
  },
  {
   "cell_type": "markdown",
   "id": "642e3863",
   "metadata": {},
   "source": [
    "<!-- TODO: add Patterns/antipatterns based on above learnings-->\n"
   ]
  }
 ],
 "metadata": {
  "kernelspec": {
   "display_name": "ray-jupyter",
   "language": "python",
   "name": "python3"
  },
  "language_info": {
   "codemirror_mode": {
    "name": "ipython",
    "version": 3
   },
   "file_extension": ".py",
   "mimetype": "text/x-python",
   "name": "python",
   "nbconvert_exporter": "python",
   "pygments_lexer": "ipython3",
   "version": "3.11.13"
  }
 },
 "nbformat": 4,
 "nbformat_minor": 5
}
