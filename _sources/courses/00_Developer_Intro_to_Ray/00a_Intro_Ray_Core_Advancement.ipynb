{
 "cells": [
  {
   "cell_type": "markdown",
   "id": "1fd443a5-c9d3-4b6f-ad72-59c1eba1d112",
   "metadata": {},
   "source": [
    "# Introduction to Ray Core (Advancement): Object store, Tasks, Actors"
   ]
  },
  {
   "cell_type": "markdown",
   "id": "f6e3a7d5-5033-4f31-912a-0e405c1a1bc9",
   "metadata": {},
   "source": [
    "© 2025, Anyscale. All Rights Reserved"
   ]
  },
  {
   "cell_type": "markdown",
   "id": "1947e07a",
   "metadata": {},
   "source": [
    "💻 **Launch Locally**: You can run this notebook locally.\n",
    "\n",
    "🚀 **Launch on Cloud**: Think about running this notebook on a Ray Cluster (Click [here](http://console.anyscale.com/register) to easily start a Ray cluster on Anyscale)"
   ]
  },
  {
   "cell_type": "markdown",
   "id": "fcd84432-84b0-426e-8546-42f33804f2fa",
   "metadata": {},
   "source": [
    "This notebook provides a step-by-step introduction to Object store, Tasks, and Actors, which are all the fundamental building blocks of Ray that enables distributed computing.\n",
    "\n",
    "<div class=\"alert alert-block alert-info\">\n",
    "\n",
    "<b> Here is the roadmap for this notebook </b>\n",
    "\n",
    "<ol>\n",
    "  <li>Object store\n",
    "    <ul>\n",
    "      <li>Pattern: pass an object as a top-level argument</li>\n",
    "    </ul>\n",
    "  </li>\n",
    "  <li>Chaining Tasks and Passing Data</li>\n",
    "  <li>Task retries</li>\n",
    "  <li>Task Runtime Environments\n",
    "    <ul>\n",
    "      <li>Note about pip dependencies</li>\n",
    "    </ul>\n",
    "  </li>\n",
    "  <li>Resource allocation and management\n",
    "    <ul>\n",
    "      <li>Note on resources requests, available resources, configuring large clusters</li>\n",
    "      <li>Fractional resources</li>\n",
    "      <li>IO bound tasks and fractional resources</li>\n",
    "    </ul>\n",
    "  </li>\n",
    "  <li>Nested Tasks</li>\n",
    "  <li>Pattern: Pipeline data processing and waiting for results\n",
    "    <ul>\n",
    "      <li>Batch Processing Pattern</li>\n",
    "      <li>Note on fetching too many objects at once with ray.get causes failure</li>\n",
    "    </ul>\n",
    "  </li>\n",
    "  <li>Ray Actors</li>\n",
    "</ol>\n",
    "</div>"
   ]
  },
  {
   "cell_type": "markdown",
   "id": "5c263dcd",
   "metadata": {},
   "source": [
    "**Imports**"
   ]
  },
  {
   "cell_type": "code",
   "execution_count": null,
   "id": "98399ea9-933a-452f-be3f-bc1535006443",
   "metadata": {
    "tags": []
   },
   "outputs": [],
   "source": [
    "import os\n",
    "import random\n",
    "import sys\n",
    "import time\n",
    "\n",
    "import numpy as np\n",
    "import ray"
   ]
  },
  {
   "cell_type": "markdown",
   "id": "eb0c32ae-d8e0-4f41-804e-1e8f30cde987",
   "metadata": {},
   "source": [
    "## 1. Object store"
   ]
  },
  {
   "cell_type": "markdown",
   "id": "7b74deb4-4f18-4d79-8bfd-2ca864882005",
   "metadata": {},
   "source": [
    "Each worker node has its own object store, and collectively, these form a shared object store across the cluster.\n",
    "\n",
    "Remote objects are immutable. That is, their values cannot be changed after creation. This allows remote objects to be replicated in multiple object stores without needing to synchronize the copies.\n",
    "\n",
    "|<img src=\"https://assets-training.s3.us-west-2.amazonaws.com/ray-core/ray-core/ray-cluster.png\" width=\"70%\" loading=\"lazy\">|\n",
    "|:--|\n",
    "|A Ray cluster with a head node and two worker nodes. Highlighted in orange is distributed object store.|"
   ]
  },
  {
   "cell_type": "markdown",
   "id": "c33078fc-7246-41ab-87c3-2be7856bc9f2",
   "metadata": {},
   "source": [
    "<div class=\"alert alert-info\">\n",
    "  <strong><a href=\"https://docs.ray.io/en/latest/ray-core/key-concepts.html#objects\" target=\"_blank\">Object</a></strong> - tasks and actors create and work with remote objects, which can be stored anywhere in a cluster. These objects are accessed using <strong>ObjectRef</strong> and are cached in a distributed shared-memory <strong>object store</strong>.\n",
    "</div>"
   ]
  },
  {
   "cell_type": "markdown",
   "id": "e644a8d5-db13-4782-918a-589842d2468e",
   "metadata": {},
   "source": [
    "Let's consider following example:"
   ]
  },
  {
   "cell_type": "code",
   "execution_count": null,
   "id": "f7ab638f-35d4-4a7c-99f3-426544680025",
   "metadata": {},
   "outputs": [],
   "source": [
    "large_matrix = np.random.rand(1024, 1024, 1024//8) # approx. 1 GB\n",
    "size_in_bytes = sys.getsizeof(large_matrix)\n",
    "\n",
    "print(f\"large_matrix has: {size_in_bytes/1024/1024/1024:.2f} GB\")"
   ]
  },
  {
   "cell_type": "markdown",
   "id": "5f739cd4-1321-4797-9d16-41d250072f21",
   "metadata": {},
   "source": [
    "Add an object to the object store using `ray.put()`"
   ]
  },
  {
   "cell_type": "code",
   "execution_count": null,
   "id": "413522e0-1f76-4b96-af72-ac5746beb201",
   "metadata": {},
   "outputs": [],
   "source": [
    "obj_ref = ray.put(large_matrix)\n",
    "obj_ref"
   ]
  },
  {
   "cell_type": "markdown",
   "id": "983baa95-8e4b-4b26-a50b-068f6a99cd6f",
   "metadata": {},
   "source": [
    "Use the `ray.get()` method to fetch the result of a remote object from an object ref"
   ]
  },
  {
   "cell_type": "code",
   "execution_count": null,
   "id": "b4bc5d9d-8616-41b8-9619-8067187e617b",
   "metadata": {},
   "outputs": [],
   "source": [
    "large_mat_from_object_store = ray.get(obj_ref)"
   ]
  },
  {
   "cell_type": "code",
   "execution_count": null,
   "id": "fe680c84-9483-492b-956a-2d999fdddd28",
   "metadata": {},
   "outputs": [],
   "source": [
    "np.array_equal(large_mat_from_object_store, large_matrix)"
   ]
  },
  {
   "cell_type": "code",
   "execution_count": null,
   "id": "2a991d4b-d621-42ae-8d9e-c104632cc753",
   "metadata": {},
   "outputs": [],
   "source": [
    "large_mat_from_object_store is large_matrix"
   ]
  },
  {
   "cell_type": "markdown",
   "id": "d888210a-e354-4fd1-87af-def070c39adf",
   "metadata": {},
   "source": [
    "### 1.1. Pattern: pass an object as a top-level argument"
   ]
  },
  {
   "cell_type": "markdown",
   "id": "c6f93d13-3eb9-4af2-a0eb-e4fa17e59f78",
   "metadata": {},
   "source": [
    "When an object is passed directly as a top-level argument to a task, Ray will de-reference the object. This means that Ray will fetch the underlying data for all top-level object reference arguments, not executing the task until the object data becomes fully available."
   ]
  },
  {
   "cell_type": "markdown",
   "id": "a4d6699d-a1ef-4277-8bb9-7e651feb2725",
   "metadata": {},
   "source": [
    "<div class=\"alert alert-info\">\n",
    "This pattern assumes that two conditions are satisfied:\n",
    "<ol>\n",
    "<li> the object is large</li>\n",
    "<li> user wants to reuse the object multiple times</li>\n",
    "</ol>\n",
    "</div>"
   ]
  },
  {
   "cell_type": "code",
   "execution_count": null,
   "id": "abecf347-7f03-4e31-b576-ccf0123afcdf",
   "metadata": {},
   "outputs": [],
   "source": [
    "@ray.remote\n",
    "def compute(x, y):\n",
    "    return int(np.matmul(x, y).sum())"
   ]
  },
  {
   "cell_type": "code",
   "execution_count": null,
   "id": "303547c5-08c4-44ca-a7a5-1546123b7bf6",
   "metadata": {},
   "outputs": [],
   "source": [
    "mat1_ref = ray.put(np.random.rand(32, 32))\n",
    "mat2_ref = ray.put(np.random.rand(32, 32))"
   ]
  },
  {
   "cell_type": "code",
   "execution_count": null,
   "id": "7482f08a-6fbf-4f23-b9c3-ae3322ff2824",
   "metadata": {},
   "outputs": [],
   "source": [
    "collection = []\n",
    "for i in range(10):\n",
    "    collection.append(compute.remote(mat1_ref, mat2_ref))\n",
    "\n",
    "results = ray.get(collection)\n",
    "results"
   ]
  },
  {
   "cell_type": "markdown",
   "id": "36e6e46c",
   "metadata": {},
   "source": [
    "## 2. Chaining Tasks and Passing Data"
   ]
  },
  {
   "cell_type": "markdown",
   "id": "28d38a95-a92a-466a-8d0f-e84de66ea2a8",
   "metadata": {},
   "source": [
    "Let's say we now want to execute a graph of two tasks:\n",
    "1. Square a value using `expensive_square`\n",
    "2. Add 1 to the `expensive_square` result, by using `remote_add`\n",
    "\n",
    "This can be achieved without fetching an intermediate result."
   ]
  },
  {
   "cell_type": "markdown",
   "id": "65a87c1f-0256-4c0b-afdf-5699e9f0f5dc",
   "metadata": {},
   "source": [
    "Anti-pattern:"
   ]
  },
  {
   "cell_type": "code",
   "execution_count": null,
   "id": "5ac8b9f7",
   "metadata": {},
   "outputs": [],
   "source": [
    "@ray.remote\n",
    "def remote_add(a, b):\n",
    "    return a + b\n",
    "\n",
    "@ray.remote\n",
    "def expensive_square(x):\n",
    "    time.sleep(5)\n",
    "    return x**2\n",
    "\n",
    "# 1st task\n",
    "square_ref = expensive_square.remote(2)\n",
    "square_value = ray.get(square_ref)\n",
    "\n",
    "# 2nd task\n",
    "sum_ref = remote_add.remote(1, square_value)\n",
    "sum_value = ray.get(sum_ref)"
   ]
  },
  {
   "cell_type": "markdown",
   "id": "4167a2bc",
   "metadata": {},
   "source": [
    "Chain the tasks by passing the `ObjectRef` directly to the second task:"
   ]
  },
  {
   "cell_type": "code",
   "execution_count": null,
   "id": "e7a5c8cf",
   "metadata": {},
   "outputs": [],
   "source": [
    "square_ref = expensive_square.remote(2)\n",
    "sum_ref = remote_add.remote(1, square_ref)\n",
    "sum_value = ray.get(sum_ref)"
   ]
  },
  {
   "cell_type": "markdown",
   "id": "4cc33472",
   "metadata": {},
   "source": [
    "In this way Ray doesn't fetch data to the \"driver\" process, *especially* if the returned object is large.\n",
    "\n",
    "The term \"driver\" refers to the process that initiated the connection to the cluster which in this case is the Python process running this notebook."
   ]
  },
  {
   "cell_type": "markdown",
   "id": "3b33b66a",
   "metadata": {},
   "source": [
    "Under the hood, Ray will still call `ray.get` on the first task\n",
    "\n",
    "i.e. effectively, Ray will do something like this to make the argument available to the second task:\n",
    "\n",
    "```python\n",
    "def expensive_square(x):\n",
    "    if isinstance(x, ObjectRef):\n",
    "        x = ray.get(x)\n",
    "    time.sleep(5)\n",
    "    return x**2\n",
    "```"
   ]
  },
  {
   "cell_type": "markdown",
   "id": "889efdaa-bd04-40df-8e54-4542bf4e5468",
   "metadata": {},
   "source": [
    "The benefit of this approach is that data at most needs to be transferred once between the first and second task. Instead of going through the driver process. To read more about this, see [Passing object arguments](https://docs.ray.io/en/latest/ray-core/objects.html#passing-object-arguments).\n",
    "\n",
    "Also note, you can bypass this behavior by wrapping/nesting the object ref in a container object (e.g., a tuple, list, or dict):"
   ]
  },
  {
   "cell_type": "code",
   "execution_count": null,
   "id": "ae47fea4",
   "metadata": {},
   "outputs": [],
   "source": [
    "ref = expensive_square.remote(1)\n",
    "out_ref = remote_add.remote([ref], [ref])\n",
    "ray.get(out_ref) "
   ]
  },
  {
   "cell_type": "markdown",
   "id": "4efa520d",
   "metadata": {},
   "source": [
    "## 3. Task retries"
   ]
  },
  {
   "cell_type": "markdown",
   "id": "58bb3e4b-e142-4718-9bc5-fb68ca833fc8",
   "metadata": {},
   "source": [
    "Let's consider two types of exceptions:\n",
    "1. **system errors** (e.g., Python-level exceptions)\n",
    "2. **application-level errors** (e.g., a machine fails)\n",
    "\n",
    "Ray will automatically **retry a task up to 3 times**, if it fails due to a system error (e.g., a worker node dies)."
   ]
  },
  {
   "cell_type": "markdown",
   "id": "ec0c809f",
   "metadata": {},
   "source": [
    "Below task won't be retried by default because it's an application failure"
   ]
  },
  {
   "cell_type": "code",
   "execution_count": null,
   "id": "7a7cb77a",
   "metadata": {},
   "outputs": [],
   "source": [
    "@ray.remote\n",
    "def incorrect_square(x: int, prob: float) -> int:\n",
    "    # Simulate potential failures\n",
    "    if random.random() < prob:  # % chance of failure\n",
    "        raise ValueError(\"Random failure\")\n",
    "    return x**2"
   ]
  },
  {
   "cell_type": "code",
   "execution_count": null,
   "id": "da3941df",
   "metadata": {},
   "outputs": [],
   "source": [
    "try:\n",
    "    ray.get([incorrect_square.remote(x=4, prob=0.5) for _ in range(10)])\n",
    "except ray.exceptions.RayTaskError:\n",
    "    print(\"At least one of the tasks failed\", flush=True)"
   ]
  },
  {
   "cell_type": "markdown",
   "id": "83c88e98-6526-424c-9f92-341b369b1c23",
   "metadata": {},
   "source": [
    "Ray let's you specify how to handle retries when an exception is encountered.\n",
    "\n",
    "Let's retry on `ValueError`, like below:"
   ]
  },
  {
   "cell_type": "code",
   "execution_count": null,
   "id": "ae3bd41f",
   "metadata": {},
   "outputs": [],
   "source": [
    "@ray.remote(retry_exceptions=[ValueError])\n",
    "def correct_square(x: int, prob: float) -> int:\n",
    "    # Simulate potential failures\n",
    "    if random.random() < prob:  # % chance of failure\n",
    "        raise ValueError(\"Random failure\")\n",
    "\n",
    "    return x**2"
   ]
  },
  {
   "cell_type": "markdown",
   "id": "09269628",
   "metadata": {},
   "source": [
    "Note we did not have to re-define the remote function, instead we could have used `.options`"
   ]
  },
  {
   "cell_type": "code",
   "execution_count": null,
   "id": "4efdd26a",
   "metadata": {},
   "outputs": [],
   "source": [
    "correct_square_mod = correct_square.options(\n",
    "    retry_exceptions=[ValueError], max_retries=10,\n",
    ")"
   ]
  },
  {
   "cell_type": "markdown",
   "id": "4e9775c9",
   "metadata": {},
   "source": [
    "Let's try it out:"
   ]
  },
  {
   "cell_type": "code",
   "execution_count": null,
   "id": "7cc09a75",
   "metadata": {},
   "outputs": [],
   "source": [
    "try:\n",
    "    outputs = ray.get([correct_square_mod.remote(x=4, prob=0.5) for _ in range(10)])\n",
    "except ray.exceptions.RayTaskError:\n",
    "    print(\"At least one of the tasks failed\", flush=True)\n",
    "\n",
    "outputs"
   ]
  },
  {
   "cell_type": "markdown",
   "id": "858e11aa",
   "metadata": {},
   "source": [
    "<div class=\"alert alert-info\">\n",
    "Refer to the <strong><a href=\"https://docs.ray.io/en/latest/ray-core/tasks/retries.html\" target=\"_blank\">retries</a></strong> to learn more.\n",
    "</div>"
   ]
  },
  {
   "cell_type": "markdown",
   "id": "00383d23",
   "metadata": {},
   "source": [
    "## 4. Task Runtime Environments\n",
    "\n",
    "Runtime environments can be used on top of the prepared environment from the Ray Cluster to customize the execution of tasks.\n",
    "\n",
    "When setting up a worker process to run a task, Ray will first prepare the environment for the task.\n",
    "\n",
    "This includes things like:\n",
    "* installing dependencies\n",
    "* setting environment variables\n",
    "\n",
    "For example, we can set an environment variable:"
   ]
  },
  {
   "cell_type": "code",
   "execution_count": null,
   "id": "35d6e83b",
   "metadata": {},
   "outputs": [],
   "source": [
    "@ray.remote(runtime_env={\"env_vars\": {\"MY_CUSTOM_ENV\": \"prod\"}})\n",
    "def f():\n",
    "    env = os.environ[\"MY_CUSTOM_ENV\"]\n",
    "    return f\"My custom env is {env}\""
   ]
  },
  {
   "cell_type": "code",
   "execution_count": null,
   "id": "0cf3ecad-0484-4345-b581-e96d522deb24",
   "metadata": {},
   "outputs": [],
   "source": [
    "ray.get(f.remote())"
   ]
  },
  {
   "cell_type": "markdown",
   "id": "ce1364e2-436e-4663-a5be-cc218839258c",
   "metadata": {},
   "source": [
    "### 4.1. Note about pip dependencies"
   ]
  },
  {
   "cell_type": "markdown",
   "id": "038497c8",
   "metadata": {},
   "source": [
    "pip dependencies in task runtime environments don't come for free. They add to the startup time of the worker process.\n",
    "\n",
    "If you find yourself needing to install the same dependencies across many tasks, consider baking them into the image you use to start your Ray cluster."
   ]
  },
  {
   "cell_type": "markdown",
   "id": "2ba453ac",
   "metadata": {},
   "source": [
    "## 5. Resource allocation and management"
   ]
  },
  {
   "cell_type": "markdown",
   "id": "84badf43-ef05-4de6-be07-0a654bb98b7a",
   "metadata": {},
   "source": [
    "By default, Ray will schedule a task as long as there is at least one CPU available."
   ]
  },
  {
   "cell_type": "markdown",
   "id": "a80cdf05-3386-44ee-9da1-c1dfaedb82ac",
   "metadata": {},
   "source": [
    "In code this can be specified in the `ray.remote`, like this:"
   ]
  },
  {
   "cell_type": "code",
   "execution_count": null,
   "id": "e52ea5aa",
   "metadata": {},
   "outputs": [],
   "source": [
    "@ray.remote(num_cpus=1)\n",
    "def remote_add(a, b):\n",
    "    return a + b"
   ]
  },
  {
   "cell_type": "markdown",
   "id": "569c8f47",
   "metadata": {},
   "source": [
    "However, these resource specifications are not enforced - i.e. they are entirely [logical and not physical](https://docs.ray.io/en/latest/ray-core/scheduling/resources.html#physical-resources-vs-logical-resources).\n",
    "\n",
    "This means that you can for instance perform multiprocessing or multithreading within a task and oversubscribe to resources."
   ]
  },
  {
   "cell_type": "code",
   "execution_count": null,
   "id": "936d7605",
   "metadata": {},
   "outputs": [],
   "source": [
    "@ray.remote(num_cpus=1)\n",
    "def mm(n: int = 4000):\n",
    "    A = np.random.rand(n, n)\n",
    "    B = np.random.rand(n, n)\n",
    "\n",
    "    # Time the dot product\n",
    "    start = time.time()\n",
    "    C = np.dot(A, B)\n",
    "    end = time.time()\n",
    "    print(f\"Took {end - start}s\")\n",
    "    \n",
    "ray.get(mm.options(runtime_env={\"env_vars\": {\"OMP_NUM_THREADS\": \"1\"}}).remote())\n",
    "ray.get(mm.options(runtime_env={\"env_vars\": {\"OMP_NUM_THREADS\": \"8\"}}).remote())"
   ]
  },
  {
   "cell_type": "markdown",
   "id": "1190416f",
   "metadata": {},
   "source": [
    "<div class=\"alert alert-info\">\n",
    "\n",
    "Note by default, Ray will set the `OMP_NUM_THREADS` environment variable to the number of CPUs in the cluster.\n",
    "\n",
    "Learn more about <strong><a href=\"https://docs.ray.io/en/latest/ray-core/scheduling/resources.html#physical-resources-and-logical-resources\" target=\"_blank\">physical resources and logical resources</a></strong>.\n",
    "</div>"
   ]
  },
  {
   "cell_type": "markdown",
   "id": "3433fdf2-db23-4cad-8b22-9616a85e5138",
   "metadata": {},
   "source": [
    "### 5.1. Note on resources requests, available resources, configuring large clusters"
   ]
  },
  {
   "cell_type": "markdown",
   "id": "36b5e13b-0228-4dca-934e-bfc10b0e067d",
   "metadata": {},
   "source": [
    "<p>During the <em>scheduling stage</em>, Ray evaluates the <strong>resource requirements</strong> specified via the <code>@ray.remote</code> decorator or within the <code>resources={...}</code> argument. These requirements may include:</p>\n",
    "\n",
    "<ul>\n",
    "    <li><strong>CPU</strong> e.g., <code>@ray.remote(num_cpus=2)</code>)</li>\n",
    "    <li><strong>GPU</strong> e.g., <code>@ray.remote(num_gpus=1)</code>)</li>\n",
    "    <li><strong>Custom resources</strong>: User-defined custom resources like <code>\"TPU\"</code></li>\n",
    "    <li><strong>Memory</strong></li>\n",
    "</ul>\n",
    "\n",
    "<p>Ray's scheduler checks the <strong>resource specification</strong> (sometimes referred to as <strong>resource shape</strong>) to match tasks and actors with available resources in the cluster. If the exact resource combination is unavailable, Ray may autoscale the cluster.</p>\n",
    "\n",
    "<p>You can inspect the current resource availability using:</p>\n",
    "<pre><code>\n",
    "ray.available_resources()\n",
    "</code></pre>\n",
    "\n",
    "<p>This returns a dictionary showing the currently available CPUs, GPUs, memory, and any custom resources, for example:</p>\n",
    "\n",
    "<pre><code>{'CPU': 24.0, 'GPU': 1.0, 'memory': 2147483648.0}</code></pre>"
   ]
  },
  {
   "cell_type": "code",
   "execution_count": null,
   "id": "084f3b86-3154-4b9a-add5-b8c38636f158",
   "metadata": {},
   "outputs": [],
   "source": [
    "ray.available_resources()"
   ]
  },
  {
   "cell_type": "markdown",
   "id": "a95db62a-822a-41a9-83b2-c5136e4715a3",
   "metadata": {},
   "source": [
    "<div class=\"alert alert-info\">\n",
    "\n",
    "<strong>Pattern:</strong> configure the head node to be unavailable for compute tasks.\n",
    "\n",
    "When scaling to large clusters, it's important to ensure that the <strong>head node</strong> does not handle any compute tasks. Users can indicate that the head node is unavailable for compute by setting its resources:\n",
    "\n",
    "```resources: {\"CPU\": 0}```\n",
    "\n",
    "Learn more about <strong><a href=\"https://docs.ray.io/en/latest/cluster/vms/user-guides/large-cluster-best-practices.html#configuring-the-head-node\" target=\"_blank\">configuring the head node</a></strong>.\n",
    "</div>"
   ]
  },
  {
   "cell_type": "markdown",
   "id": "33dd688e-4a16-4483-a473-185ef01c25e9",
   "metadata": {},
   "source": [
    "### 5.2. Fractional resources"
   ]
  },
  {
   "cell_type": "markdown",
   "id": "6ea6043b-1a09-4eca-8414-a95565150afb",
   "metadata": {},
   "source": [
    "Fractional resources allow Ray Tasks to request a fraction of a CPU or GPU (e.g., 0.5), enabling finer-grained resource allocation.\n",
    "\n",
    "Let's consider the above example again:"
   ]
  },
  {
   "cell_type": "code",
   "execution_count": null,
   "id": "657e33c1-3a11-4992-80fc-cd850980b921",
   "metadata": {},
   "outputs": [],
   "source": [
    "@ray.remote(num_cpus=0.5)\n",
    "def remote_add(a, b):\n",
    "    return a + b"
   ]
  },
  {
   "cell_type": "code",
   "execution_count": null,
   "id": "28b395b0-4c4c-4210-8dd5-a10cb1687d1c",
   "metadata": {},
   "outputs": [],
   "source": [
    "ref = remote_add.remote(2, 3)\n",
    "ref"
   ]
  },
  {
   "cell_type": "code",
   "execution_count": null,
   "id": "6a6e06f1-8ffa-411b-890c-296c98be021e",
   "metadata": {},
   "outputs": [],
   "source": [
    "ray.get(ref)"
   ]
  },
  {
   "cell_type": "markdown",
   "id": "acf294f1-10d8-41ee-bdbb-7c87118c71ad",
   "metadata": {},
   "source": [
    "<div class=\"alert alert-info\">\n",
    "    Fractional resources include support for <strong><a href=\"https://docs.ray.io/en/latest/ray-core/scheduling/accelerators.html#fractional-accelerators\" target=\"_blank\">multiple accelerators</a></strong>, allowing users to load multiple smaller models onto a single GPU. This is especially useful for scenarios like batch inference. Learn more about <strong><a href=\"https://docs.ray.io/en/latest/ray-core/scheduling/resources.html#fractional-resource-requirements\" target=\"_blank\">fractional resource requirements</a></strong>.\n",
    "</div>"
   ]
  },
  {
   "cell_type": "markdown",
   "id": "82c96686-998f-421a-b5a9-04cc806d8a36",
   "metadata": {},
   "source": [
    "### 5.3. IO bound tasks and fractional resources"
   ]
  },
  {
   "cell_type": "markdown",
   "id": "afd8e0bd-72c5-4340-a57d-82d1ecda5d75",
   "metadata": {},
   "source": [
    "Setting fractional cpus or even `num_cpus=0` is a pattern for <strong>I/O-bound tasks</strong> that do not require CPU-intensive computation.\n",
    "\n",
    "<p>This allows Ray to oversubscribe CPUs, scheduling many such tasks concurrently without reserving CPU cores. Since <code>num_cpus=0</code> always passes the scheduler’s resource check, these tasks get scheduled immediately.</p>\n",
    "\n",
    "<p>This can lead to <strong>resource savings</strong> and better utilization in workloads with high I/O.</p>\n",
    "\n",
    "<p>More details about <a href=\"https://docs.ray.io/en/latest/ray-core/scheduling/resources.html#fractional-resource-requirements\" target=\"_blank\">\n",
    "fractional resource requirements</a>.</p>"
   ]
  },
  {
   "cell_type": "markdown",
   "id": "0f9fab1d-0f41-4175-a6cc-0161454d7718",
   "metadata": {},
   "source": [
    "## 6. Nested Tasks"
   ]
  },
  {
   "cell_type": "markdown",
   "id": "d131321a-7ac9-4a1e-8332-6c2808cde39b",
   "metadata": {},
   "source": [
    "Ray __does not__ require that all of your tasks and their dependencies be arranged from one \"driver\" process.\n",
    "\n",
    "For example, you can have a main task that schedules other tasks and then waits for them to complete."
   ]
  },
  {
   "cell_type": "code",
   "execution_count": null,
   "id": "39da2976-fccb-41bd-9ccc-2c2e2ff3106a",
   "metadata": {
    "tags": []
   },
   "outputs": [],
   "source": [
    "@ray.remote\n",
    "def main():\n",
    "    square_ref_1 = expensive_square.remote(1)\n",
    "    square_ref_2 = expensive_square.remote(2)\n",
    "    add_ref = remote_add.remote(square_ref_1, square_ref_2)\n",
    "    return ray.get(add_ref)"
   ]
  },
  {
   "cell_type": "code",
   "execution_count": null,
   "id": "f415fe45-c193-4fc0-8a2e-6bc8354d0145",
   "metadata": {
    "tags": []
   },
   "outputs": [],
   "source": [
    "ray.get(main.remote())"
   ]
  },
  {
   "cell_type": "markdown",
   "id": "2840697c-f5d9-437b-8e67-72cfa69dbdb4",
   "metadata": {},
   "source": [
    "In this example:\n",
    "1. Our local process requests Ray to schedule a `main` task in the cluster\n",
    "2. Ray executes the `main` task in a separate worker process\n",
    "3. Inside `main`, we invoke multiple `expensive_square` tasks, which Ray distributes across available worker processes\n",
    "4. Once all \"sub tasks\" complete, `main` returns the final value\n",
    "\n",
    "This ability for tasks to schedule other tasks using uniform semantics makes Ray particularly powerful and flexible."
   ]
  },
  {
   "cell_type": "markdown",
   "id": "1cac1a40",
   "metadata": {},
   "source": [
    "<div class=\"alert alert-info\">\n",
    "To avoid deadlocks, Ray yields CPU resources while blocked waiting for a task to complete. Read more about <strong><a href=\"https://docs.ray.io/en/latest/ray-core/tasks/nested-tasks.html#yielding-resources-while-blocked\" target=\"_blank\">yielding resources while blocked</a></strong>.\n",
    "</div>"
   ]
  },
  {
   "cell_type": "markdown",
   "id": "6e4c0ec2",
   "metadata": {},
   "source": [
    "## 7. Pattern: Pipeline data processing and waiting for results"
   ]
  },
  {
   "cell_type": "markdown",
   "id": "aecc9406-e8f9-4263-815a-3301a60dbef7",
   "metadata": {},
   "source": [
    "After launching a number of tasks, you may want to know which ones have finished executing without blocking on all of them. This could be achieved by `ray.wait()`"
   ]
  },
  {
   "cell_type": "markdown",
   "id": "f0ced3b1-18d1-4485-b075-589213d1cacb",
   "metadata": {},
   "source": [
    "|<img src=\"https://assets-training.s3.us-west-2.amazonaws.com/ray-core/ray-core/pipeline-data-processing.png\" width=\"50%\" loading=\"lazy\">|\n",
    "|:--|\n",
    "|(top panel) Execution timeline when using ray.get() to wait for all results before calling process results. (bottom panel) Execution timeline when using ray.wait() to process results as soon as they become available.|"
   ]
  },
  {
   "cell_type": "markdown",
   "id": "9e77d56d-fe64-4269-a66e-43c8429d5afb",
   "metadata": {},
   "source": [
    "Let's modify `expensive_square` a bit:"
   ]
  },
  {
   "cell_type": "code",
   "execution_count": null,
   "id": "006a1b66",
   "metadata": {},
   "outputs": [],
   "source": [
    "@ray.remote\n",
    "def expensive_square(x):\n",
    "    time.sleep(np.random.randint(1, 10))\n",
    "    return x**2"
   ]
  },
  {
   "cell_type": "code",
   "execution_count": null,
   "id": "473df4b6-4f94-4ce7-a559-0a1cb7a8f650",
   "metadata": {},
   "outputs": [],
   "source": [
    "expensive_compute = []\n",
    "\n",
    "for i in range(15):\n",
    "    expensive_compute.append(expensive_square.remote(i))\n",
    "\n",
    "expensive_compute"
   ]
  },
  {
   "cell_type": "markdown",
   "id": "4f86c39e-8178-4296-854e-082f1302fabb",
   "metadata": {},
   "source": [
    "Process items as soon as they become available"
   ]
  },
  {
   "cell_type": "code",
   "execution_count": null,
   "id": "bc468ba0-4b11-41a1-89b1-7a21b9924ac1",
   "metadata": {},
   "outputs": [],
   "source": [
    "ready_refs, not_ready_refs = ray.wait(expensive_compute) # wait for next object ref that is ready\n",
    "\n",
    "# process new item as soon as it becomes available\n",
    "while not_ready_refs:\n",
    "    print(f\"{ready_refs[0]} is ready; result: {ray.get(ready_refs[0])}\")\n",
    "    print(f\"{len(not_ready_refs)} items not ready... \\n\")\n",
    "\n",
    "    ready_refs, not_ready_refs = ray.wait(not_ready_refs) # wait for next item\n",
    "\n",
    "    assert len(ready_refs) == 1, f\"len(ready_refs) should be 1, got {len(ready_refs)} instead\"\n",
    "\n",
    "print(f\"I'm the last item: {ready_refs[0]}; result: {ray.get(ready_refs[0])}\")"
   ]
  },
  {
   "cell_type": "markdown",
   "id": "35f59714-5823-4575-949f-21f19ea0dba6",
   "metadata": {},
   "source": [
    "<div class=\"alert alert-info\">\n",
    "Read more about the <strong><a href=\"https://docs.ray.io/en/latest/ray-core/tips-for-first-time.html#tip-4-pipeline-data-processing\" target=\"_blank\">pipeline data processing</a></strong>\n",
    "</div>"
   ]
  },
  {
   "cell_type": "markdown",
   "id": "69b09d98-25b0-4873-8d73-7ba7e89460d4",
   "metadata": {},
   "source": [
    "### 7.1 Batch Processing Pattern"
   ]
  },
  {
   "cell_type": "markdown",
   "id": "1ac3236d-8e5d-4c43-8e99-7b7b189f7adc",
   "metadata": {},
   "source": [
    "Program can wait for a batch of `ObjectRef`, before returning. Let's consider this scenario:"
   ]
  },
  {
   "cell_type": "code",
   "execution_count": null,
   "id": "73efd911-b7c7-4ec6-b89c-a2f15284df29",
   "metadata": {},
   "outputs": [],
   "source": [
    "expensive_compute = []\n",
    "\n",
    "for i in range(15):\n",
    "    expensive_compute.append(expensive_square.remote(i))\n",
    "\n",
    "expensive_compute"
   ]
  },
  {
   "cell_type": "code",
   "execution_count": null,
   "id": "b06a10d3-2405-4b42-ad77-974cfeefb994",
   "metadata": {},
   "outputs": [],
   "source": [
    "BATCH_SIZE = 3\n",
    "\n",
    "ready_refs, not_ready_refs = ray.wait(expensive_compute, num_returns=BATCH_SIZE)  # wait for BATCH_SIZE object refs\n",
    "\n",
    "# process new item as soon as it becomes available\n",
    "while not_ready_refs:\n",
    "    print(f\"{ready_refs} are ready; results: {ray.get(ready_refs)}\")\n",
    "    print(f\"{len(not_ready_refs)} items not ready... \\n\")\n",
    "    ready_refs, not_ready_refs = ray.wait(not_ready_refs, num_returns=BATCH_SIZE)  # wait for BATCH_SIZE object refs\n",
    "\n",
    "print(f\"Last batch {ready_refs}; result: {ray.get(ready_refs)}\")"
   ]
  },
  {
   "cell_type": "markdown",
   "id": "448f4be5-d834-4626-845a-57fdf4bfc2b5",
   "metadata": {},
   "source": [
    "### 7.2 Note on fetching too many objects at once with ray.get causes failure"
   ]
  },
  {
   "cell_type": "markdown",
   "id": "b3c845bf-a640-41ed-9e34-b36a8f64529b",
   "metadata": {},
   "source": [
    "Calling `ray.get()` on too many objects will lead to **heap out-of-memory** or **object store out-of-space**."
   ]
  },
  {
   "cell_type": "markdown",
   "id": "eaa25c92-49eb-4b8b-88e3-838a3544f75f",
   "metadata": {},
   "source": [
    "```python\n",
    "object_refs = [expensive_square.remote(i) for i in range(1_000_000)]\n",
    "\n",
    "all_results_at_once = ray.get(object_refs)\n",
    "all_results_at_once\n",
    "```"
   ]
  },
  {
   "cell_type": "markdown",
   "id": "e6ec90e6-5d47-4650-847f-071f92cc4c1e",
   "metadata": {},
   "source": [
    "Instead fetch and process one batch at a time."
   ]
  },
  {
   "cell_type": "markdown",
   "id": "45f2ab2b-1672-430c-9d28-dc2cff27dc49",
   "metadata": {},
   "source": [
    "<div class=\"alert alert-info\">\n",
    "Read more about this <strong><a href=\"https://docs.ray.io/en/latest/ray-core/patterns/ray-get-too-many-objects.html#anti-pattern-fetching-too-many-objects-at-once-with-ray-get-causes-failure\" target=\"_blank\">anti-pattern</a></strong>.\n",
    "</div>"
   ]
  },
  {
   "cell_type": "markdown",
   "id": "0d03e83b-bc22-424d-9501-f8aacbca4c60",
   "metadata": {},
   "source": [
    "## 8. Ray Actors\n",
    "\n",
    "Actors extend the Ray API from functions (tasks) to classes.\n",
    "\n",
    "An actor is a stateful worker. When a new actor is instantiated, a new worker is created, and methods of the actor are scheduled on that specific worker and can access and mutate the state of that worker. Similarly to Ray Tasks, actors support CPU and GPU compute as well as fractional resources.\n",
    "\n",
    "Let's look at an example of an actor which maintains a running balance."
   ]
  },
  {
   "cell_type": "code",
   "execution_count": null,
   "id": "0500f797-7c77-4e68-a3d0-32c00544ee19",
   "metadata": {
    "tags": []
   },
   "outputs": [],
   "source": [
    "@ray.remote\n",
    "class Accounting:\n",
    "    def __init__(self):\n",
    "        self.total = 0\n",
    "    \n",
    "    def add(self, amount):\n",
    "        self.total += amount\n",
    "        \n",
    "    def remove(self, amount):\n",
    "        self.total -= amount\n",
    "        \n",
    "    def total(self):\n",
    "        return self.total"
   ]
  },
  {
   "cell_type": "markdown",
   "id": "ebdbf7b6-14e2-41dc-996a-764c6f2f3b27",
   "metadata": {},
   "source": [
    "<div class=\"alert alert-info\">\n",
    "  <strong><a href=\"https://docs.ray.io/en/latest/ray-core/key-concepts.html#actors\" target=\"_blank\">Actor</a></strong> is a remote, stateful Python class.\n",
    "</div>"
   ]
  },
  {
   "cell_type": "markdown",
   "id": "a58c3e32",
   "metadata": {},
   "source": [
    "<div class=\"alert alert-info\">\n",
    "\n",
    "The most common use case for actors is with state that is not mutated but is large enough that we may want to load it only once and ensure we can route calls to it over time, such as a large AI model.\n",
    "\n",
    "</div>"
   ]
  },
  {
   "cell_type": "markdown",
   "id": "9ad7a2da-0411-4e77-a371-3583a21c949e",
   "metadata": {},
   "source": [
    "Define an actor with the `@ray.remote` decorator and then use `<class_name>.remote()` to ask Ray to construct an instance of this actor somewhere in the cluster.\n",
    "\n",
    "We get an actor handle which we can use to communicate with that actor, pass to other code, tasks, or actors, etc."
   ]
  },
  {
   "cell_type": "code",
   "execution_count": null,
   "id": "4d9b1c79-fc12-4f59-8567-a04c4f11f379",
   "metadata": {
    "tags": []
   },
   "outputs": [],
   "source": [
    "acc = Accounting.remote()"
   ]
  },
  {
   "cell_type": "markdown",
   "id": "8bd54012-0d2e-4f15-a07d-5b36f3ade524",
   "metadata": {},
   "source": [
    "We can send a message to an actor -- with RPC semantics -- by using `<handle>.<method_name>.remote()`"
   ]
  },
  {
   "cell_type": "code",
   "execution_count": null,
   "id": "b932c862-980f-440e-8e57-74cbc556bf4d",
   "metadata": {
    "tags": []
   },
   "outputs": [],
   "source": [
    "acc.total.remote()"
   ]
  },
  {
   "cell_type": "markdown",
   "id": "325f56af-a8d1-482e-962c-2904bb757440",
   "metadata": {},
   "source": [
    "Not surprisingly, we get an object ref back"
   ]
  },
  {
   "cell_type": "code",
   "execution_count": null,
   "id": "4213d804-0e3b-4ed1-a0b2-41681d375456",
   "metadata": {
    "tags": []
   },
   "outputs": [],
   "source": [
    "ray.get(acc.total.remote())"
   ]
  },
  {
   "cell_type": "markdown",
   "id": "775651a3-09c7-4992-80ed-b793e9a78f96",
   "metadata": {},
   "source": [
    "We can mutate the state inside this actor instance"
   ]
  },
  {
   "cell_type": "code",
   "execution_count": null,
   "id": "6a685a15-3844-4a9e-a243-8befe6b8c4fe",
   "metadata": {
    "tags": []
   },
   "outputs": [],
   "source": [
    "acc.add.remote(100)"
   ]
  },
  {
   "cell_type": "code",
   "execution_count": null,
   "id": "642b27e1-7dd8-4ef7-8ebb-f0c4ec856427",
   "metadata": {
    "tags": []
   },
   "outputs": [],
   "source": [
    "acc.remove.remote(10)"
   ]
  },
  {
   "cell_type": "code",
   "execution_count": null,
   "id": "ad395cf9-b7f9-4dde-be12-b511de52c7fe",
   "metadata": {
    "tags": []
   },
   "outputs": [],
   "source": [
    "ray.get(acc.total.remote())"
   ]
  },
  {
   "cell_type": "markdown",
   "id": "1d59a163-e93e-4348-860c-fcbc0be8018b",
   "metadata": {},
   "source": [
    "<div class=\"alert alert-block alert-info\">\n",
    "\n",
    "__Activity: linear model inference__\n",
    "\n",
    "* Create an actor which applies a model to convert Celsius temperatures to Fahrenheit\n",
    "* The constructor should take model weights (w1 and w0) and store them as instance state\n",
    "* A convert method should take a scalar, multiply it by w1 then add w0 (weights retrieved from instance state) and then return the result\n",
    "\n",
    "```python\n",
    "\n",
    "# Hint: define the below as a remote actor\n",
    "class LinearModel:\n",
    "    def __init__(self, w0, w1):\n",
    "        # Hint: store the weights\n",
    "\n",
    "    def convert(self, celsius):\n",
    "        # Hint: convert the celsius temperature to Fahrenheit\n",
    "\n",
    "# Hint: create an instance of the LinearModel actor\n",
    "\n",
    "# Hint: convert 100 Celsius to Fahrenheit\n",
    "```\n",
    "\n",
    "</div>"
   ]
  },
  {
   "cell_type": "code",
   "execution_count": null,
   "id": "b425dd5a-a48f-4ef2-bbcf-6be72cd5ce24",
   "metadata": {},
   "outputs": [],
   "source": [
    "# Write your solution here"
   ]
  },
  {
   "cell_type": "markdown",
   "id": "f0a91503",
   "metadata": {},
   "source": [
    "<div class=\"alert alert-block alert-info\">\n",
    "\n",
    "<details>\n",
    "\n",
    "<summary> Click to see solution </summary>\n",
    "\n",
    "```python\n",
    "@ray.remote\n",
    "class LinearModel:\n",
    "    def __init__(self, w0, w1):\n",
    "        self.w0 = w0\n",
    "        self.w1 = w1\n",
    "\n",
    "    def convert(self, celsius):\n",
    "        return self.w1 * celsius + self.w0\n",
    "\n",
    "model = LinearModel.remote(w1=9/5, w0=32)\n",
    "ray.get(model.convert.remote(100))\n",
    "```\n",
    "\n",
    "</details>\n",
    "</div>\n"
   ]
  },
  {
   "cell_type": "markdown",
   "id": "642e3863",
   "metadata": {},
   "source": [
    "<!-- TODO: add Patterns/antipatterns based on above learnings-->\n"
   ]
  }
 ],
 "metadata": {
  "kernelspec": {
   "display_name": "ray-jupyter",
   "language": "python",
   "name": "python3"
  },
  "language_info": {
   "codemirror_mode": {
    "name": "ipython",
    "version": 3
   },
   "file_extension": ".py",
   "mimetype": "text/x-python",
   "name": "python",
   "nbconvert_exporter": "python",
   "pygments_lexer": "ipython3",
   "version": "3.11.13"
  }
 },
 "nbformat": 4,
 "nbformat_minor": 5
}
