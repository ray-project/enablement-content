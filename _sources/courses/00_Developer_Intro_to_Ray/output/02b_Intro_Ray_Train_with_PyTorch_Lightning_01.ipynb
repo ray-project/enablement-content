{
 "cells": [
  {
   "cell_type": "markdown",
   "id": "7078ab58-6ca4-4255-8050-b7c5fe7eae1c",
   "metadata": {
    "tags": []
   },
   "source": [
    "# Introduction to Ray Train: Ray Train + PyTorch Lightning\n",
    "\n",
    "\u00a9 2025, Anyscale. All Rights Reserved"
   ]
  },
  {
   "cell_type": "markdown",
   "id": "58510ed8",
   "metadata": {},
   "source": [
    "\ud83d\udcbb **Launch Locally**: Not recommended. You may encounter out-of-memory (OOM) errors when running certain cells locally.\n",
    "\n",
    "\ud83d\ude80 **Cloud Required**: A Ray Cluster with 4 GPUs (Click [here](http://console.anyscale.com/register) to easily start a Ray cluster on Anyscale) is recommended to run this notebook."
   ]
  },
  {
   "cell_type": "markdown",
   "id": "501c2710",
   "metadata": {},
   "source": [
    "This notebook demonstrates how to train a Stable Diffusion model using PyTorch Lightning and Ray Train. \n",
    "\n",
    "<div class=\"alert alert-block alert-info\">\n",
    "\n",
    "<b>Here is the roadmap for this notebook:</b>\n",
    "\n",
    "<ol>\n",
    "    <li>When to use Ray Train</li>\n",
    "    <li>Single GPU Training with PyTorch Lightning</li>\n",
    "    <li>Distributed Training with Ray Train and PyTorch Lightning</li>\n",
    "    <li>Ray Train in Production</li>\n",
    "</ol>\n",
    "\n",
    "</div>"
   ]
  },
  {
   "cell_type": "markdown",
   "id": "765f5851",
   "metadata": {},
   "source": [
    "**Imports**"
   ]
  },
  {
   "cell_type": "code",
   "execution_count": null,
   "id": "e9ecea11-fc44-4bc2-af6d-09db4753d78e",
   "metadata": {
    "tags": []
   },
   "outputs": [],
   "source": [
    "import os\n",
    "\n",
    "import lightning.pytorch as pl\n",
    "import numpy as np\n",
    "import pandas as pd\n",
    "import s3fs\n",
    "import torch\n",
    "import torch.nn.functional as F\n",
    "from torch.utils.data import DataLoader, Dataset\n",
    "from diffusers import DDPMScheduler, UNet2DConditionModel\n",
    "from lightning.pytorch.utilities.types import OptimizerLRScheduler\n",
    "from transformers import get_linear_schedule_with_warmup\n",
    "\n",
    "import ray.train\n",
    "from ray.train.lightning import (\n",
    "    RayDDPStrategy,\n",
    "    RayLightningEnvironment,\n",
    "    RayTrainReportCallback,\n",
    ")\n",
    "from ray.train.torch import TorchTrainer, get_device"
   ]
  }
 ],
 "metadata": {
  "kernelspec": {
   "display_name": "ray-jupyter",
   "language": "python",
   "name": "python3"
  },
  "language_info": {
   "codemirror_mode": {
    "name": "ipython",
    "version": 3
   },
   "file_extension": ".py",
   "mimetype": "text/x-python",
   "name": "python",
   "nbconvert_exporter": "python",
   "pygments_lexer": "ipython3",
   "version": "3.11.13"
  }
 },
 "nbformat": 4,
 "nbformat_minor": 5
}