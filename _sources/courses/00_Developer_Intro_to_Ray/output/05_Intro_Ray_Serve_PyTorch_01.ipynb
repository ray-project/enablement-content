{
 "cells": [
  {
   "cell_type": "markdown",
   "id": "682e224e-1bb9-470c-b363-386ede0785a4",
   "metadata": {},
   "source": [
    "# Introduction to Ray Serve with PyTorch\n",
    "\n"
   ]
  },
  {
   "cell_type": "markdown",
   "id": "55345a83",
   "metadata": {},
   "source": [
    "\ud83d\udcbb **Launch Locally**: You can run this notebook locally, but performance will be reduced.\n",
    "\n",
    "\ud83d\ude80 **Launch on Cloud**: A Ray Cluster (Click [here](http://console.anyscale.com/register) to easily start a Ray cluster on Anyscale) is recommended to run this notebook."
   ]
  },
  {
   "cell_type": "markdown",
   "id": "1060aea0",
   "metadata": {},
   "source": [
    "This notebook will introduce you to Ray Serve with PyTorch, a framework for building and deploying scalable ML applications.\n",
    "\n",
    "<div class=\"alert alert-block alert-info\">\n",
    "    \n",
    "<b>Here is the roadmap for this notebook:</b>\n",
    "\n",
    "<ul>\n",
    "    <li><b>1.</b> When to consider Ray Serve</li>\n",
    "    <li><b>2.</b> Overview of Ray Serve</li>\n",
    "    <li><b>3.</b> Implement an image classification service</li>\n",
    "    <li><b>4.</b> Development workflow with Ray Serve </li>\n",
    "</ul>\n",
    "</div>"
   ]
  },
  {
   "cell_type": "markdown",
   "id": "8d528147",
   "metadata": {},
   "source": [
    "**Imports**"
   ]
  },
  {
   "cell_type": "code",
   "execution_count": null,
   "id": "099b7710",
   "metadata": {},
   "outputs": [],
   "source": [
    "import subprocess\n",
    "from typing import Any\n",
    "\n",
    "import json\n",
    "import numpy as np\n",
    "import requests\n",
    "import torch\n",
    "from ray import serve\n",
    "from starlette.requests import Request"
   ]
  }
 ],
 "metadata": {
  "kernelspec": {
   "display_name": "ray-jupyter",
   "language": "python",
   "name": "python3"
  },
  "language_info": {
   "codemirror_mode": {
    "name": "ipython",
    "version": 3
   },
   "file_extension": ".py",
   "mimetype": "text/x-python",
   "name": "python",
   "nbconvert_exporter": "python",
   "pygments_lexer": "ipython3",
   "version": "3.11.13"
  }
 },
 "nbformat": 4,
 "nbformat_minor": 5
}