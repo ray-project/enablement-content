{
 "cells": [
  {
   "cell_type": "markdown",
   "metadata": {},
   "source": [
    "## 4. Transforming data\n",
    "\n",
    "To transform data, we can use the [`map_batches`](https://docs.ray.io/en/latest/data/api/doc/ray.data.Dataset.map_batches.html#ray-data-dataset-map-batches) API. \n",
    "\n",
    "`map_batches` takes a user-defined function which accepts a batch of data and returns a batch of transformed data."
   ]
  },
  {
   "cell_type": "code",
   "execution_count": null,
   "metadata": {
    "tags": []
   },
   "outputs": [],
   "source": [
    "def normalize(batch: dict[str, np.ndarray]) -> dict[str, np.ndarray]:\n",
    "    transform = Compose([ToTensor(), Normalize((0.5,), (0.5,))])\n",
    "    batch[\"image\"] = [transform(image) for image in batch[\"image\"]]\n",
    "    return batch"
   ]
  },
  {
   "cell_type": "markdown",
   "metadata": {},
   "source": [
    "Calling `ds.map_batches` will add a `map_batches` operator to the execution plan."
   ]
  },
  {
   "cell_type": "code",
   "execution_count": null,
   "metadata": {
    "tags": []
   },
   "outputs": [],
   "source": [
    "ds_normalized = ds.map_batches(normalize)"
   ]
  },
  {
   "cell_type": "markdown",
   "metadata": {},
   "source": [
    "To tune the batch size for the transformation, specify the `batch_size` parameter.  "
   ]
  },
  {
   "cell_type": "code",
   "execution_count": null,
   "metadata": {},
   "outputs": [],
   "source": [
    "ds_normalized = ds.map_batches(normalize, batch_size=32)"
   ]
  },
  {
   "cell_type": "markdown",
   "metadata": {},
   "source": [
    "<div class=\"alert alert-block alert-info\">\n",
    "\n",
    "**Note:** batching only helps with performance when a transformation is vectorized - i.e. benefits from processing multiple rows at once.\n",
    "\n",
    "Finding the optimal batch size depends on the hardware available and the target utilization.\n",
    "\n",
    "</div>"
   ]
  },
  {
   "cell_type": "markdown",
   "metadata": {},
   "source": [
    "### 4.1 On resource specification\n",
    "\n",
    "To specify the exact resources to use for a `map_batches` transformation, specify the `num_cpus`, `num_gpus`, `memory`, and `resources` parameters.\n",
    "\n",
    "- `num_cpus`: Number of CPUs to use for each task (use >1 if task performs multithreaded operations).\n",
    "- `num_gpus`: Number of GPUs to use for each task.\n",
    "- `memory`: Amount of RAM to use for each task (in bytes).\n",
    "- `resources`: What is referred to as custom resources in Ray. It is a way to specify which node types to use for each task."
   ]
  },
  {
   "cell_type": "code",
   "execution_count": null,
   "metadata": {},
   "outputs": [],
   "source": [
    "ds_normalized = ds.map_batches(normalize, batch_size=32, num_cpus=1, memory=100 * 1024**2)"
   ]
  },
  {
   "cell_type": "markdown",
   "metadata": {},
   "source": [
    "<div class=\"alert alert-block alert-info\">\n",
    "\n",
    "**Note:** Ray only performs a logical allocation of resources and does not physically enforce resource limits.\n",
    "\n",
    "By default, Ray will [retry OOM errors](https://docs.ray.io/en/latest/ray-core/scheduling/ray-oom-prevention.html#retry-policy) and Ray Data will infinitely retry tasks that fail due to system failures.\n",
    "\n",
    "Specifying resources helps avoid resource contention, avoiding unnecessary retries and confusing OOM errors.\n",
    "\n",
    "</div>"
   ]
  },
  {
   "cell_type": "markdown",
   "metadata": {},
   "source": [
    "### 4.2 On concurrency limiting\n",
    "\n",
    "Ray Data will attempt to use all the resources available in the cluster. \n",
    "\n",
    "In particular, it will schedule as many tasks as there are input blocks for each operator (stage) in the pipeline.\n",
    "\n",
    "To limit the concurrency for a particular transformation, specify the `concurrency` parameter."
   ]
  },
  {
   "cell_type": "code",
   "execution_count": null,
   "metadata": {},
   "outputs": [],
   "source": [
    "concurrency_limit = 10  # Don't schedule more than 10 tasks at a time\n",
    "\n",
    "ds_normalized = ds.map_batches(\n",
    "    normalize,\n",
    "    batch_size=32,\n",
    "    num_cpus=1,\n",
    "    memory=100 * 1024**2,\n",
    "    concurrency=concurrency_limit,\n",
    ")"
   ]
  },
  {
   "cell_type": "markdown",
   "metadata": {},
   "source": [
    "<div class=\"alert alert-block alert-info\">\n",
    "\n",
    "**Note:** Limiting concurrency might be helpful when you have an unbounded compute configuration (max number of nodes is too high) and you want to avoid aggressive scaling for a fast step in the pipeline (e.g. light preprocessing of data).\n",
    "\n",
    "Additionally, note that Ray Data will attempt to fuse transformations together to reduce data transfer between stages. Setting different concurrency limits for different transformations might prevent this optimization.\n",
    "\n",
    "</div>"
   ]
  },
  {
   "cell_type": "markdown",
   "metadata": {},
   "source": [
    "To verify the output of `normalize()`, call [`take_batch()`](https://docs.ray.io/en/latest/data/api/doc/ray.data.Dataset.take_batch.html#ray.data.Dataset.take_batch) on the dataset."
   ]
  },
  {
   "cell_type": "code",
   "execution_count": null,
   "metadata": {
    "tags": []
   },
   "outputs": [],
   "source": [
    "normalized_batch = ds_normalized.take_batch(batch_size=10)"
   ]
  },
  {
   "cell_type": "markdown",
   "metadata": {},
   "source": [
    "Check the normalized pixel value range:"
   ]
  },
  {
   "cell_type": "code",
   "execution_count": null,
   "metadata": {
    "tags": []
   },
   "outputs": [],
   "source": [
    "for image in normalized_batch[\"image\"]:\n",
    "    assert image.shape == (1, 28, 28) # channel, height, width\n",
    "    assert image.min() >= -1 and image.max() <= 1 # normalized to [-1, 1]"
   ]
  },
  {
   "cell_type": "markdown",
   "metadata": {},
   "source": [
    "<div class=\"alert alert-block alert-info\">\n",
    "\n",
    "**Activity**\n",
    "\n",
    "Add the ground truth label extracted from the image path.\n",
    "\n",
    "Starting point:\n",
    "\n",
    "```python\n",
    "ds = ray.data.read_images(\"s3://anyscale-public-materials/ray-ai-libraries/mnist/50_per_index/\", include_paths=True)\n",
    "ds_normalized = ds.map_batches(normalize)\n",
    "# batch = ds_normalized.take_batch(batch_size=3)\n",
    "\n",
    "# add_label\n",
    "ds_labeled = ds_normalized.map_batches(add_label)\n",
    "labeled_batch = ds_labeled.take_batch(10)\n",
    "print(labeled_batch)\n",
    "```\n",
    "\n",
    "\n",
    "**The task**\n",
    "\n",
    "Implement `add_label` function that takes batch of data and return batch with image label.\n",
    "\n",
    "The image path is in the format:`s3://anyscale-public-materials/ray-ai-libraries/mnist/50_per_index/{label}/{image_id}.png`.\n",
    "\n",
    "**Hint**: Define the add_label function; use `take_batch()` to better understand the data format.\n",
    "```\n",
    "def add_label(batch):\n",
    "    ...\n",
    "    return batch\n",
    "```\n",
    "\n",
    "</div>"
   ]
  },
  {
   "cell_type": "code",
   "execution_count": null,
   "metadata": {},
   "outputs": [],
   "source": [
    "# Write your solution here"
   ]
  },
  {
   "cell_type": "markdown",
   "metadata": {},
   "source": [
    "<div class=\"alert alert-block alert-info\">\n",
    "\n",
    "<details>\n",
    "\n",
    "<summary>Click to view solution</summary>\n",
    "\n",
    "```python\n",
    "def add_label(batch):\n",
    "    labels = []\n",
    "    for item in batch[\"path\"]:\n",
    "        label = int(item.split(\"/\")[-2])\n",
    "        labels.append(label)\n",
    "\n",
    "    batch[\"label\"] = np.array(labels)\n",
    "    return batch\n",
    "\n",
    "ds = ray.data.read_images(\"s3://anyscale-public-materials/ray-ai-libraries/mnist/50_per_index/\", include_paths=True)\n",
    "ds_normalized = ds.map_batches(normalize)\n",
    "ds_labeled = ds_normalized.map_batches(add_label)\n",
    "labeled_batch = ds_labeled.take_batch(10)\n",
    "print(labeled_batch)\n",
    "```\n",
    "\n",
    "</details>  \n",
    "</div>"
   ]
  }
 ],
 "metadata": {
  "kernelspec": {
   "display_name": "ray-jupyter",
   "language": "python",
   "name": "python3"
  },
  "language_info": {
   "codemirror_mode": {
    "name": "ipython",
    "version": 3
   },
   "file_extension": ".py",
   "mimetype": "text/x-python",
   "name": "python",
   "nbconvert_exporter": "python",
   "pygments_lexer": "ipython3",
   "version": "3.11.13"
  }
 },
 "nbformat": 4,
 "nbformat_minor": 4
}