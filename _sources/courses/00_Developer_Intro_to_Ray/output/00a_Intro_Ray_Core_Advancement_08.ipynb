{
 "cells": [
  {
   "cell_type": "markdown",
   "id": "6e4c0ec2",
   "metadata": {},
   "source": [
    "## 7. Pattern: Pipeline data processing and waiting for results"
   ]
  },
  {
   "cell_type": "markdown",
   "id": "aecc9406-e8f9-4263-815a-3301a60dbef7",
   "metadata": {},
   "source": [
    "After launching a number of tasks, you may want to know which ones have finished executing without blocking on all of them. This could be achieved by `ray.wait()`"
   ]
  },
  {
   "cell_type": "markdown",
   "id": "f0ced3b1-18d1-4485-b075-589213d1cacb",
   "metadata": {},
   "source": [
    "|<img src=\"https://assets-training.s3.us-west-2.amazonaws.com/ray-core/ray-core/pipeline-data-processing.png\" width=\"50%\" loading=\"lazy\">|\n",
    "|:--|\n",
    "|(top panel) Execution timeline when using ray.get() to wait for all results before calling process results. (bottom panel) Execution timeline when using ray.wait() to process results as soon as they become available.|"
   ]
  },
  {
   "cell_type": "markdown",
   "id": "9e77d56d-fe64-4269-a66e-43c8429d5afb",
   "metadata": {},
   "source": [
    "Let's modify `expensive_square` a bit:"
   ]
  },
  {
   "cell_type": "code",
   "execution_count": null,
   "id": "006a1b66",
   "metadata": {},
   "outputs": [],
   "source": [
    "@ray.remote\n",
    "def expensive_square(x):\n",
    "    time.sleep(np.random.randint(1, 10))\n",
    "    return x**2"
   ]
  },
  {
   "cell_type": "code",
   "execution_count": null,
   "id": "473df4b6-4f94-4ce7-a559-0a1cb7a8f650",
   "metadata": {},
   "outputs": [],
   "source": [
    "expensive_compute = []\n",
    "\n",
    "for i in range(15):\n",
    "    expensive_compute.append(expensive_square.remote(i))\n",
    "\n",
    "expensive_compute"
   ]
  },
  {
   "cell_type": "markdown",
   "id": "4f86c39e-8178-4296-854e-082f1302fabb",
   "metadata": {},
   "source": [
    "Process items as soon as they become available"
   ]
  },
  {
   "cell_type": "code",
   "execution_count": null,
   "id": "bc468ba0-4b11-41a1-89b1-7a21b9924ac1",
   "metadata": {},
   "outputs": [],
   "source": [
    "ready_refs, not_ready_refs = ray.wait(expensive_compute) # wait for next object ref that is ready\n",
    "\n",
    "# process new item as soon as it becomes available\n",
    "while not_ready_refs:\n",
    "    print(f\"{ready_refs[0]} is ready; result: {ray.get(ready_refs[0])}\")\n",
    "    print(f\"{len(not_ready_refs)} items not ready... \\n\")\n",
    "\n",
    "    ready_refs, not_ready_refs = ray.wait(not_ready_refs) # wait for next item\n",
    "\n",
    "    assert len(ready_refs) == 1, f\"len(ready_refs) should be 1, got {len(ready_refs)} instead\"\n",
    "\n",
    "print(f\"I'm the last item: {ready_refs[0]}; result: {ray.get(ready_refs[0])}\")"
   ]
  },
  {
   "cell_type": "markdown",
   "id": "35f59714-5823-4575-949f-21f19ea0dba6",
   "metadata": {},
   "source": [
    "<div class=\"alert alert-info\">\n",
    "Read more about the <strong><a href=\"https://docs.ray.io/en/latest/ray-core/tips-for-first-time.html#tip-4-pipeline-data-processing\" target=\"_blank\">pipeline data processing</a></strong>\n",
    "</div>"
   ]
  },
  {
   "cell_type": "markdown",
   "id": "69b09d98-25b0-4873-8d73-7ba7e89460d4",
   "metadata": {},
   "source": [
    "### 7.1 Batch Processing Pattern"
   ]
  },
  {
   "cell_type": "markdown",
   "id": "1ac3236d-8e5d-4c43-8e99-7b7b189f7adc",
   "metadata": {},
   "source": [
    "Program can wait for a batch of `ObjectRef`, before returning. Let's consider this scenario:"
   ]
  },
  {
   "cell_type": "code",
   "execution_count": null,
   "id": "73efd911-b7c7-4ec6-b89c-a2f15284df29",
   "metadata": {},
   "outputs": [],
   "source": [
    "expensive_compute = []\n",
    "\n",
    "for i in range(15):\n",
    "    expensive_compute.append(expensive_square.remote(i))\n",
    "\n",
    "expensive_compute"
   ]
  },
  {
   "cell_type": "code",
   "execution_count": null,
   "id": "b06a10d3-2405-4b42-ad77-974cfeefb994",
   "metadata": {},
   "outputs": [],
   "source": [
    "BATCH_SIZE = 3\n",
    "\n",
    "ready_refs, not_ready_refs = ray.wait(expensive_compute, num_returns=BATCH_SIZE)  # wait for BATCH_SIZE object refs\n",
    "\n",
    "# process new item as soon as it becomes available\n",
    "while not_ready_refs:\n",
    "    print(f\"{ready_refs} are ready; results: {ray.get(ready_refs)}\")\n",
    "    print(f\"{len(not_ready_refs)} items not ready... \\n\")\n",
    "    ready_refs, not_ready_refs = ray.wait(not_ready_refs, num_returns=BATCH_SIZE)  # wait for BATCH_SIZE object refs\n",
    "\n",
    "print(f\"Last batch {ready_refs}; result: {ray.get(ready_refs)}\")"
   ]
  },
  {
   "cell_type": "markdown",
   "id": "448f4be5-d834-4626-845a-57fdf4bfc2b5",
   "metadata": {},
   "source": [
    "### 7.2 Note on fetching too many objects at once with ray.get causes failure"
   ]
  },
  {
   "cell_type": "markdown",
   "id": "b3c845bf-a640-41ed-9e34-b36a8f64529b",
   "metadata": {},
   "source": [
    "Calling `ray.get()` on too many objects will lead to **heap out-of-memory** or **object store out-of-space**."
   ]
  },
  {
   "cell_type": "markdown",
   "id": "eaa25c92-49eb-4b8b-88e3-838a3544f75f",
   "metadata": {},
   "source": [
    "```python\n",
    "object_refs = [expensive_square.remote(i) for i in range(1_000_000)]\n",
    "\n",
    "all_results_at_once = ray.get(object_refs)\n",
    "all_results_at_once\n",
    "```"
   ]
  },
  {
   "cell_type": "markdown",
   "id": "e6ec90e6-5d47-4650-847f-071f92cc4c1e",
   "metadata": {},
   "source": [
    "Instead fetch and process one batch at a time."
   ]
  },
  {
   "cell_type": "markdown",
   "id": "45f2ab2b-1672-430c-9d28-dc2cff27dc49",
   "metadata": {},
   "source": [
    "<div class=\"alert alert-info\">\n",
    "Read more about this <strong><a href=\"https://docs.ray.io/en/latest/ray-core/patterns/ray-get-too-many-objects.html#anti-pattern-fetching-too-many-objects-at-once-with-ray-get-causes-failure\" target=\"_blank\">anti-pattern</a></strong>.\n",
    "</div>"
   ]
  }
 ],
 "metadata": {
  "kernelspec": {
   "display_name": "ray-jupyter",
   "language": "python",
   "name": "python3"
  },
  "language_info": {
   "codemirror_mode": {
    "name": "ipython",
    "version": 3
   },
   "file_extension": ".py",
   "mimetype": "text/x-python",
   "name": "python",
   "nbconvert_exporter": "python",
   "pygments_lexer": "ipython3",
   "version": "3.11.13"
  }
 },
 "nbformat": 4,
 "nbformat_minor": 5
}