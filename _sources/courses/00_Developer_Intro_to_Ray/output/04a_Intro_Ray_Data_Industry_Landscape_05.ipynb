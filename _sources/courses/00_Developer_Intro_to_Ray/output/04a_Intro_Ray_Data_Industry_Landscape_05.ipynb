{
 "cells": [
  {
   "cell_type": "markdown",
   "id": "b1c25a29",
   "metadata": {},
   "source": [
    "## Data Processing with Ray Data\n",
    "\n",
    "### What is Ray Data ?\n",
    "\n",
    "Ray Data is a distributed data processing library designed for high-performance workloads.\n",
    "\n",
    "- Initially developed as a last-mile data processing solution to seamlessly integrate with model training workflows.\n",
    "- Facilitates efficient execution of GPU-intensive batch inference tasks.\n",
    "- Currently being enhanced to support structured data processing, including advanced functionalities for operations such as joins and groupby.\n",
    "\n",
    "### Why Ray Data ?\n",
    "* Ray Data is natively designed to support:\n",
    "    - Heterogeneous computational workloads\n",
    "    - Pass data dependencies via a distributed in-memory object store\n",
    "* Ray's support for stateful computation through Actors is a core feature. In contrast:\n",
    "    - Spark lacks native support for stateful computations\n",
    "    - Dask documents stateful capabilities, it does not guarantee execution.\n",
    "* Ray Data's seamless integration with the broader Ray ecosystem (including Train, Tune, Core, and Serve) offers significant advantages in integration engineering, which often incurs higher costs and performance impacts than application engineering.\n",
    "* Ray's advanced resource tagging, accounting, and scalability capabilities are more sophisticated than those of other tools. \n",
    "\n",
    "### When to use Ray Core over Ray Data ?\n",
    "If a user is:\n",
    "- an expert in Ray Core\n",
    "- knows their data distribution very well\n",
    "- has very complex data processing logic\n",
    "\n",
    "Then perhaps trying out Ray Data won't lead to a win, given they will be able to optimize their workflow while implementing complex logic to handle object store backpressure.\n",
    "\n",
    "### On Ray Data vs Spark\n",
    "On the positive side:\n",
    "- It handles running on heterogeneous compute much nicer than Spark where GPU support has been patched in.\n",
    "- Its Python-native API and integration with the end-to-end Ray and ML ecosystem is a big win.\n",
    "\n",
    "On the negative side:\n",
    "- Still immature to claim it can compete with Spark on SQL-like operations.\n",
    "- Spark is a much more mature product with a much larger community and ecosystem."
   ]
  }
 ],
 "metadata": {
  "kernelspec": {
   "display_name": "Python 3 (ipykernel)",
   "language": "python",
   "name": "python3"
  },
  "language_info": {
   "codemirror_mode": {
    "name": "ipython",
    "version": 3
   },
   "file_extension": ".py",
   "mimetype": "text/x-python",
   "name": "python",
   "nbconvert_exporter": "python",
   "pygments_lexer": "ipython3",
   "version": "3.10.13"
  }
 },
 "nbformat": 4,
 "nbformat_minor": 5
}