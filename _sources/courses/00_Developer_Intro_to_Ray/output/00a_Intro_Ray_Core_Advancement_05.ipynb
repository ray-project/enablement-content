{
 "cells": [
  {
   "cell_type": "markdown",
   "id": "00383d23",
   "metadata": {},
   "source": [
    "## 4. Task Runtime Environments\n",
    "\n",
    "Runtime environments can be used on top of the prepared environment from the Ray Cluster to customize the execution of tasks.\n",
    "\n",
    "When setting up a worker process to run a task, Ray will first prepare the environment for the task.\n",
    "\n",
    "This includes things like:\n",
    "* installing dependencies\n",
    "* setting environment variables\n",
    "\n",
    "For example, we can set an environment variable:"
   ]
  },
  {
   "cell_type": "code",
   "execution_count": null,
   "id": "35d6e83b",
   "metadata": {},
   "outputs": [],
   "source": [
    "@ray.remote(runtime_env={\"env_vars\": {\"MY_CUSTOM_ENV\": \"prod\"}})\n",
    "def f():\n",
    "    env = os.environ[\"MY_CUSTOM_ENV\"]\n",
    "    return f\"My custom env is {env}\""
   ]
  },
  {
   "cell_type": "code",
   "execution_count": null,
   "id": "0cf3ecad-0484-4345-b581-e96d522deb24",
   "metadata": {},
   "outputs": [],
   "source": [
    "ray.get(f.remote())"
   ]
  },
  {
   "cell_type": "markdown",
   "id": "ce1364e2-436e-4663-a5be-cc218839258c",
   "metadata": {},
   "source": [
    "### 4.1. Note about pip dependencies"
   ]
  },
  {
   "cell_type": "markdown",
   "id": "038497c8",
   "metadata": {},
   "source": [
    "pip dependencies in task runtime environments don't come for free. They add to the startup time of the worker process.\n",
    "\n",
    "If you find yourself needing to install the same dependencies across many tasks, consider baking them into the image you use to start your Ray cluster."
   ]
  }
 ],
 "metadata": {
  "kernelspec": {
   "display_name": "ray-jupyter",
   "language": "python",
   "name": "python3"
  },
  "language_info": {
   "codemirror_mode": {
    "name": "ipython",
    "version": 3
   },
   "file_extension": ".py",
   "mimetype": "text/x-python",
   "name": "python",
   "nbconvert_exporter": "python",
   "pygments_lexer": "ipython3",
   "version": "3.11.13"
  }
 },
 "nbformat": 4,
 "nbformat_minor": 5
}