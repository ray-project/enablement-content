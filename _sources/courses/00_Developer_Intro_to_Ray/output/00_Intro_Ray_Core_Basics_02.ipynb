{
 "cells": [
  {
   "cell_type": "markdown",
   "id": "9ff9ad39-11cb-495e-964f-a05a95159bea",
   "metadata": {},
   "source": [
    "## 0. Overview\n",
    "\n",
    "<div class=\"alert alert-info\">\n",
    "  <strong><a href=\"https://docs.ray.io/en/latest/ray-core/walkthrough.html\" target=\"_blank\">Ray Core</a></strong> is an open-source, Python, general purpose, distributed computing library that enables Engineers to scale Python apps.\n",
    "</div>\n",
    "\n",
    "Ray Core is about:\n",
    "* distributing computation across many cores, nodes, or devices (e.g., accelerators)\n",
    "* scheduling *arbitrary task graphs*\n",
    "    * any code you can write, you can distribute, scale, and accelerate with Ray Core\n",
    "* managing the overhead\n",
    "    * At scale, distributed computation introduces growing \"frictions\":\n",
    "        * data-specific overhead: serialization/deserialization, transfer costs.\n",
    "        * scheduling overhead: managing the queue of tasks to run, deciding where to run them.\n",
    "        * system-specific overhead: garbage collection, memory management, etc.\n",
    "    * Ray Core addresses these issues as first-order concerns in its design via:\n",
    "        * a distributed scheduler\n",
    "        * distributed memory\n",
    "        * distributed reference counting\n",
    " \n",
    "For common technical use cases, Ray libraries and other components provide simple development experience and are built on top of Ray Core."
   ]
  }
 ],
 "metadata": {
  "kernelspec": {
   "display_name": "ray-jupyter",
   "language": "python",
   "name": "python3"
  },
  "language_info": {
   "codemirror_mode": {
    "name": "ipython",
    "version": 3
   },
   "file_extension": ".py",
   "mimetype": "text/x-python",
   "name": "python",
   "nbconvert_exporter": "python",
   "pygments_lexer": "ipython3",
   "version": "3.11.13"
  }
 },
 "nbformat": 4,
 "nbformat_minor": 5
}