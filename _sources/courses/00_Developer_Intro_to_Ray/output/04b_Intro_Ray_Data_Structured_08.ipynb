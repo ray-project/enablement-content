{
 "cells": [
  {
   "cell_type": "markdown",
   "metadata": {},
   "source": [
    "## 6. When to use Ray Data\n",
    "\n",
    "Ray Data is especially performant when needing to:\n",
    "- run data processing in a **streaming fashion** \n",
    "- run across a **large dataset**\n",
    "- run inside a **heterogeneous cluster of CPUs and GPUs**.\n",
    "\n",
    "Here is one use case for Batch Inference with Ray Data over a large dataset:\n",
    "\n",
    "<img src='https://docs.ray.io/en/releases-2.6.1/_images/stream-example.png' width=60%/>\n",
    "\n",
    "\n",
    "Ray Data also integrates seamlessly with Ray Train, making it an optimal choice for **data preprocessing in machine learning training pipelines**. Especially when you need to:\n",
    "- **Independently scale out data loading and transformation** from model training.\n",
    "- **Enable fault tolerance** for model training.\n"
   ]
  }
 ],
 "metadata": {
  "kernelspec": {
   "display_name": "ray-jupyter",
   "language": "python",
   "name": "python3"
  },
  "language_info": {
   "codemirror_mode": {
    "name": "ipython",
    "version": 3
   },
   "file_extension": ".py",
   "mimetype": "text/x-python",
   "name": "python",
   "nbconvert_exporter": "python",
   "pygments_lexer": "ipython3",
   "version": "3.11.13"
  }
 },
 "nbformat": 4,
 "nbformat_minor": 4
}