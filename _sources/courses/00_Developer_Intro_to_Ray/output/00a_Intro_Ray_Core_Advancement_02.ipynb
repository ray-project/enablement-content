{
 "cells": [
  {
   "cell_type": "markdown",
   "id": "eb0c32ae-d8e0-4f41-804e-1e8f30cde987",
   "metadata": {},
   "source": [
    "## 1. Object store"
   ]
  },
  {
   "cell_type": "markdown",
   "id": "7b74deb4-4f18-4d79-8bfd-2ca864882005",
   "metadata": {},
   "source": [
    "Each worker node has its own object store, and collectively, these form a shared object store across the cluster.\n",
    "\n",
    "Remote objects are immutable. That is, their values cannot be changed after creation. This allows remote objects to be replicated in multiple object stores without needing to synchronize the copies.\n",
    "\n",
    "|<img src=\"https://assets-training.s3.us-west-2.amazonaws.com/ray-core/ray-core/ray-cluster.png\" width=\"70%\" loading=\"lazy\">|\n",
    "|:--|\n",
    "|A Ray cluster with a head node and two worker nodes. Highlighted in orange is distributed object store.|"
   ]
  },
  {
   "cell_type": "markdown",
   "id": "c33078fc-7246-41ab-87c3-2be7856bc9f2",
   "metadata": {},
   "source": [
    "<div class=\"alert alert-info\">\n",
    "  <strong><a href=\"https://docs.ray.io/en/latest/ray-core/key-concepts.html#objects\" target=\"_blank\">Object</a></strong> - tasks and actors create and work with remote objects, which can be stored anywhere in a cluster. These objects are accessed using <strong>ObjectRef</strong> and are cached in a distributed shared-memory <strong>object store</strong>.\n",
    "</div>"
   ]
  },
  {
   "cell_type": "markdown",
   "id": "e644a8d5-db13-4782-918a-589842d2468e",
   "metadata": {},
   "source": [
    "Let's consider following example:"
   ]
  },
  {
   "cell_type": "code",
   "execution_count": null,
   "id": "f7ab638f-35d4-4a7c-99f3-426544680025",
   "metadata": {},
   "outputs": [],
   "source": [
    "large_matrix = np.random.rand(1024, 1024, 1024//8) # approx. 1 GB\n",
    "size_in_bytes = sys.getsizeof(large_matrix)\n",
    "\n",
    "print(f\"large_matrix has: {size_in_bytes/1024/1024/1024:.2f} GB\")"
   ]
  },
  {
   "cell_type": "markdown",
   "id": "5f739cd4-1321-4797-9d16-41d250072f21",
   "metadata": {},
   "source": [
    "Add an object to the object store using `ray.put()`"
   ]
  },
  {
   "cell_type": "code",
   "execution_count": null,
   "id": "413522e0-1f76-4b96-af72-ac5746beb201",
   "metadata": {},
   "outputs": [],
   "source": [
    "obj_ref = ray.put(large_matrix)\n",
    "obj_ref"
   ]
  },
  {
   "cell_type": "markdown",
   "id": "983baa95-8e4b-4b26-a50b-068f6a99cd6f",
   "metadata": {},
   "source": [
    "Use the `ray.get()` method to fetch the result of a remote object from an object ref"
   ]
  },
  {
   "cell_type": "code",
   "execution_count": null,
   "id": "b4bc5d9d-8616-41b8-9619-8067187e617b",
   "metadata": {},
   "outputs": [],
   "source": [
    "large_mat_from_object_store = ray.get(obj_ref)"
   ]
  },
  {
   "cell_type": "code",
   "execution_count": null,
   "id": "fe680c84-9483-492b-956a-2d999fdddd28",
   "metadata": {},
   "outputs": [],
   "source": [
    "np.array_equal(large_mat_from_object_store, large_matrix)"
   ]
  },
  {
   "cell_type": "code",
   "execution_count": null,
   "id": "2a991d4b-d621-42ae-8d9e-c104632cc753",
   "metadata": {},
   "outputs": [],
   "source": [
    "large_mat_from_object_store is large_matrix"
   ]
  },
  {
   "cell_type": "markdown",
   "id": "d888210a-e354-4fd1-87af-def070c39adf",
   "metadata": {},
   "source": [
    "### 1.1. Pattern: pass an object as a top-level argument"
   ]
  },
  {
   "cell_type": "markdown",
   "id": "c6f93d13-3eb9-4af2-a0eb-e4fa17e59f78",
   "metadata": {},
   "source": [
    "When an object is passed directly as a top-level argument to a task, Ray will de-reference the object. This means that Ray will fetch the underlying data for all top-level object reference arguments, not executing the task until the object data becomes fully available."
   ]
  },
  {
   "cell_type": "markdown",
   "id": "a4d6699d-a1ef-4277-8bb9-7e651feb2725",
   "metadata": {},
   "source": [
    "<div class=\"alert alert-info\">\n",
    "This pattern assumes that two conditions are satisfied:\n",
    "<ol>\n",
    "<li> the object is large</li>\n",
    "<li> user wants to reuse the object multiple times</li>\n",
    "</ol>\n",
    "</div>"
   ]
  },
  {
   "cell_type": "code",
   "execution_count": null,
   "id": "abecf347-7f03-4e31-b576-ccf0123afcdf",
   "metadata": {},
   "outputs": [],
   "source": [
    "@ray.remote\n",
    "def compute(x, y):\n",
    "    return int(np.matmul(x, y).sum())"
   ]
  },
  {
   "cell_type": "code",
   "execution_count": null,
   "id": "303547c5-08c4-44ca-a7a5-1546123b7bf6",
   "metadata": {},
   "outputs": [],
   "source": [
    "mat1_ref = ray.put(np.random.rand(32, 32))\n",
    "mat2_ref = ray.put(np.random.rand(32, 32))"
   ]
  },
  {
   "cell_type": "code",
   "execution_count": null,
   "id": "7482f08a-6fbf-4f23-b9c3-ae3322ff2824",
   "metadata": {},
   "outputs": [],
   "source": [
    "collection = []\n",
    "for i in range(10):\n",
    "    collection.append(compute.remote(mat1_ref, mat2_ref))\n",
    "\n",
    "results = ray.get(collection)\n",
    "results"
   ]
  }
 ],
 "metadata": {
  "kernelspec": {
   "display_name": "ray-jupyter",
   "language": "python",
   "name": "python3"
  },
  "language_info": {
   "codemirror_mode": {
    "name": "ipython",
    "version": 3
   },
   "file_extension": ".py",
   "mimetype": "text/x-python",
   "name": "python",
   "nbconvert_exporter": "python",
   "pygments_lexer": "ipython3",
   "version": "3.11.13"
  }
 },
 "nbformat": 4,
 "nbformat_minor": 5
}