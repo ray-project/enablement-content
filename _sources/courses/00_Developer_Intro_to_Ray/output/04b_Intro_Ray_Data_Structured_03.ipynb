{
 "cells": [
  {
   "cell_type": "markdown",
   "metadata": {},
   "source": [
    "## 1. How to Use Ray Data?\n",
    "\n",
    "You typically should use the Ray Data API in this way:\n",
    "\n",
    "1. **Create a Ray Dataset** from external storage or in-memory data.\n",
    "2. **Apply transformations** to the data.\n",
    "3. **Write the outputs** to external storage or **feed the outputs** to training workers.\n"
   ]
  }
 ],
 "metadata": {
  "kernelspec": {
   "display_name": "ray-jupyter",
   "language": "python",
   "name": "python3"
  },
  "language_info": {
   "codemirror_mode": {
    "name": "ipython",
    "version": 3
   },
   "file_extension": ".py",
   "mimetype": "text/x-python",
   "name": "python",
   "nbconvert_exporter": "python",
   "pygments_lexer": "ipython3",
   "version": "3.11.13"
  }
 },
 "nbformat": 4,
 "nbformat_minor": 4
}