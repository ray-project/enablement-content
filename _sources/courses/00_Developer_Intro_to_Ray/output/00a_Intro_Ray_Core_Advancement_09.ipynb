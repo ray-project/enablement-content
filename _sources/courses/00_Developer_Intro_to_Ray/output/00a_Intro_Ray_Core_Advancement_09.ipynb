{
 "cells": [
  {
   "cell_type": "markdown",
   "id": "0d03e83b-bc22-424d-9501-f8aacbca4c60",
   "metadata": {},
   "source": [
    "## 8. Ray Actors\n",
    "\n",
    "Actors extend the Ray API from functions (tasks) to classes.\n",
    "\n",
    "An actor is a stateful worker. When a new actor is instantiated, a new worker is created, and methods of the actor are scheduled on that specific worker and can access and mutate the state of that worker. Similarly to Ray Tasks, actors support CPU and GPU compute as well as fractional resources.\n",
    "\n",
    "Let's look at an example of an actor which maintains a running balance."
   ]
  },
  {
   "cell_type": "code",
   "execution_count": null,
   "id": "0500f797-7c77-4e68-a3d0-32c00544ee19",
   "metadata": {
    "tags": []
   },
   "outputs": [],
   "source": [
    "@ray.remote\n",
    "class Accounting:\n",
    "    def __init__(self):\n",
    "        self.total = 0\n",
    "    \n",
    "    def add(self, amount):\n",
    "        self.total += amount\n",
    "        \n",
    "    def remove(self, amount):\n",
    "        self.total -= amount\n",
    "        \n",
    "    def total(self):\n",
    "        return self.total"
   ]
  },
  {
   "cell_type": "markdown",
   "id": "ebdbf7b6-14e2-41dc-996a-764c6f2f3b27",
   "metadata": {},
   "source": [
    "<div class=\"alert alert-info\">\n",
    "  <strong><a href=\"https://docs.ray.io/en/latest/ray-core/key-concepts.html#actors\" target=\"_blank\">Actor</a></strong> is a remote, stateful Python class.\n",
    "</div>"
   ]
  },
  {
   "cell_type": "markdown",
   "id": "a58c3e32",
   "metadata": {},
   "source": [
    "<div class=\"alert alert-info\">\n",
    "\n",
    "The most common use case for actors is with state that is not mutated but is large enough that we may want to load it only once and ensure we can route calls to it over time, such as a large AI model.\n",
    "\n",
    "</div>"
   ]
  },
  {
   "cell_type": "markdown",
   "id": "9ad7a2da-0411-4e77-a371-3583a21c949e",
   "metadata": {},
   "source": [
    "Define an actor with the `@ray.remote` decorator and then use `<class_name>.remote()` to ask Ray to construct an instance of this actor somewhere in the cluster.\n",
    "\n",
    "We get an actor handle which we can use to communicate with that actor, pass to other code, tasks, or actors, etc."
   ]
  },
  {
   "cell_type": "code",
   "execution_count": null,
   "id": "4d9b1c79-fc12-4f59-8567-a04c4f11f379",
   "metadata": {
    "tags": []
   },
   "outputs": [],
   "source": [
    "acc = Accounting.remote()"
   ]
  },
  {
   "cell_type": "markdown",
   "id": "8bd54012-0d2e-4f15-a07d-5b36f3ade524",
   "metadata": {},
   "source": [
    "We can send a message to an actor -- with RPC semantics -- by using `<handle>.<method_name>.remote()`"
   ]
  },
  {
   "cell_type": "code",
   "execution_count": null,
   "id": "b932c862-980f-440e-8e57-74cbc556bf4d",
   "metadata": {
    "tags": []
   },
   "outputs": [],
   "source": [
    "acc.total.remote()"
   ]
  },
  {
   "cell_type": "markdown",
   "id": "325f56af-a8d1-482e-962c-2904bb757440",
   "metadata": {},
   "source": [
    "Not surprisingly, we get an object ref back"
   ]
  },
  {
   "cell_type": "code",
   "execution_count": null,
   "id": "4213d804-0e3b-4ed1-a0b2-41681d375456",
   "metadata": {
    "tags": []
   },
   "outputs": [],
   "source": [
    "ray.get(acc.total.remote())"
   ]
  },
  {
   "cell_type": "markdown",
   "id": "775651a3-09c7-4992-80ed-b793e9a78f96",
   "metadata": {},
   "source": [
    "We can mutate the state inside this actor instance"
   ]
  },
  {
   "cell_type": "code",
   "execution_count": null,
   "id": "6a685a15-3844-4a9e-a243-8befe6b8c4fe",
   "metadata": {
    "tags": []
   },
   "outputs": [],
   "source": [
    "acc.add.remote(100)"
   ]
  },
  {
   "cell_type": "code",
   "execution_count": null,
   "id": "642b27e1-7dd8-4ef7-8ebb-f0c4ec856427",
   "metadata": {
    "tags": []
   },
   "outputs": [],
   "source": [
    "acc.remove.remote(10)"
   ]
  },
  {
   "cell_type": "code",
   "execution_count": null,
   "id": "ad395cf9-b7f9-4dde-be12-b511de52c7fe",
   "metadata": {
    "tags": []
   },
   "outputs": [],
   "source": [
    "ray.get(acc.total.remote())"
   ]
  },
  {
   "cell_type": "markdown",
   "id": "1d59a163-e93e-4348-860c-fcbc0be8018b",
   "metadata": {},
   "source": [
    "<div class=\"alert alert-block alert-info\">\n",
    "\n",
    "__Activity: linear model inference__\n",
    "\n",
    "* Create an actor which applies a model to convert Celsius temperatures to Fahrenheit\n",
    "* The constructor should take model weights (w1 and w0) and store them as instance state\n",
    "* A convert method should take a scalar, multiply it by w1 then add w0 (weights retrieved from instance state) and then return the result\n",
    "\n",
    "```python\n",
    "\n",
    "# Hint: define the below as a remote actor\n",
    "class LinearModel:\n",
    "    def __init__(self, w0, w1):\n",
    "        # Hint: store the weights\n",
    "\n",
    "    def convert(self, celsius):\n",
    "        # Hint: convert the celsius temperature to Fahrenheit\n",
    "\n",
    "# Hint: create an instance of the LinearModel actor\n",
    "\n",
    "# Hint: convert 100 Celsius to Fahrenheit\n",
    "```\n",
    "\n",
    "</div>"
   ]
  },
  {
   "cell_type": "code",
   "execution_count": null,
   "id": "b425dd5a-a48f-4ef2-bbcf-6be72cd5ce24",
   "metadata": {},
   "outputs": [],
   "source": [
    "# Write your solution here"
   ]
  },
  {
   "cell_type": "markdown",
   "id": "f0a91503",
   "metadata": {},
   "source": [
    "<div class=\"alert alert-block alert-info\">\n",
    "\n",
    "<details>\n",
    "\n",
    "<summary> Click to see solution </summary>\n",
    "\n",
    "```python\n",
    "@ray.remote\n",
    "class LinearModel:\n",
    "    def __init__(self, w0, w1):\n",
    "        self.w0 = w0\n",
    "        self.w1 = w1\n",
    "\n",
    "    def convert(self, celsius):\n",
    "        return self.w1 * celsius + self.w0\n",
    "\n",
    "model = LinearModel.remote(w1=9/5, w0=32)\n",
    "ray.get(model.convert.remote(100))\n",
    "```\n",
    "\n",
    "</details>\n",
    "</div>\n"
   ]
  },
  {
   "cell_type": "markdown",
   "id": "642e3863",
   "metadata": {},
   "source": [
    "<!-- TODO: add Patterns/antipatterns based on above learnings-->\n"
   ]
  }
 ],
 "metadata": {
  "kernelspec": {
   "display_name": "ray-jupyter",
   "language": "python",
   "name": "python3"
  },
  "language_info": {
   "codemirror_mode": {
    "name": "ipython",
    "version": 3
   },
   "file_extension": ".py",
   "mimetype": "text/x-python",
   "name": "python",
   "nbconvert_exporter": "python",
   "pygments_lexer": "ipython3",
   "version": "3.11.13"
  }
 },
 "nbformat": 4,
 "nbformat_minor": 5
}