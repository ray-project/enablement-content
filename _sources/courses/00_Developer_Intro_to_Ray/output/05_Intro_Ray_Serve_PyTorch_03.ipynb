{
 "cells": [
  {
   "cell_type": "markdown",
   "id": "7250cc03-e52c-4e30-a262-8d8e0a5a0837",
   "metadata": {},
   "source": [
    "## 2. Overview of Ray Serve\n",
    "\n",
    "Serve is a framework for serving ML applications. \n",
    "\n",
    "### Applications\n",
    "\n",
    "Here is a high-level overview of the architecture of a Ray Serve Application.\n",
    "\n",
    "<img src='https://technical-training-assets.s3.us-west-2.amazonaws.com/Ray_Serve/serve_architecture.png' width=700/>\n",
    "\n",
    "A Ray Serve cluster is made up of one or more Applications.\n",
    "\n",
    "An Application is composed of one or more Deployments that work together. Key characteristics:\n",
    "- Applications are coarse-grained units of functionality\n",
    "- They can be **independently upgraded** without affecting other applications running on the same cluster\n",
    "- They provide isolation and separate deployment lifecycles\n",
    "\n",
    "### Deployments\n",
    "\n",
    "A Deployment is the fundamental building block in Ray Serve's architecture.\n",
    "\n",
    "<img src='https://technical-training-assets.s3.us-west-2.amazonaws.com/Ray_Serve/deployment.png' width=600/>\n",
    "\n",
    "Deployments enable:\n",
    "- Separation of concerns (e.g., different models, business logic, data transformations)\n",
    "- **Independent scaling**, including autoscaling capabilities\n",
    "- Multiple replicas for handling concurrent requests\n",
    "\n",
    "\n",
    "### Replicas\n",
    "Each Replica is a worker process (Ray actor) with its own request processing queue. Replicas offer flexible configuration options:\n",
    "\n",
    "- Specify its own hardware and resource requirements (e.g., GPUs)\n",
    "- Specify its own runtime environments (e.g., libraries)\n",
    "- Maintain state (e.g., models)\n",
    "\n",
    "This architecture provides a clean separation of concerns while enabling high scalability and efficient resource utilization."
   ]
  }
 ],
 "metadata": {
  "kernelspec": {
   "display_name": "ray-jupyter",
   "language": "python",
   "name": "python3"
  },
  "language_info": {
   "codemirror_mode": {
    "name": "ipython",
    "version": 3
   },
   "file_extension": ".py",
   "mimetype": "text/x-python",
   "name": "python",
   "nbconvert_exporter": "python",
   "pygments_lexer": "ipython3",
   "version": "3.11.13"
  }
 },
 "nbformat": 4,
 "nbformat_minor": 5
}