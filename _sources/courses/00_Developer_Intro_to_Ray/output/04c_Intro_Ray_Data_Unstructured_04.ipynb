{
 "cells": [
  {
   "cell_type": "markdown",
   "metadata": {},
   "source": [
    "## 3. Loading data"
   ]
  },
  {
   "cell_type": "markdown",
   "metadata": {},
   "source": [
    "Let's load some `MNIST` data from s3."
   ]
  },
  {
   "cell_type": "code",
   "execution_count": null,
   "metadata": {
    "tags": []
   },
   "outputs": [],
   "source": [
    "# Here is our dataset it contains 50 images per class\n",
    "!aws s3 ls s3://anyscale-public-materials/ray-ai-libraries/mnist/50_per_index/"
   ]
  },
  {
   "cell_type": "markdown",
   "metadata": {},
   "source": [
    "We will use the `read_images` function to load the image data."
   ]
  },
  {
   "cell_type": "code",
   "execution_count": null,
   "metadata": {
    "tags": []
   },
   "outputs": [],
   "source": [
    "ds = ray.data.read_images(\"s3://anyscale-public-materials/ray-ai-libraries/mnist/50_per_index/\", include_paths=True)\n",
    "type(ds)"
   ]
  },
  {
   "cell_type": "markdown",
   "metadata": {},
   "source": [
    "<div class=\"alert alert-block alert-info\">\n",
    "  <p><strong>Ray Data supports a variety of data sources for loading data</strong></p>\n",
    "  <ul>\n",
    "    <li>\n",
    "      Reading files from common file formats (e.g. Parquet, CSV, JSON, etc.)\n",
    "      <ul>\n",
    "          <li><code>ds = ray.data.read_parquet(\"s3://...\")</code></li>\n",
    "      </ul>\n",
    "    </li>\n",
    "    <li>Loading from in-memory data structures (e.g. NumPy, PyTorch, etc.)\n",
    "      <ul>\n",
    "          <li><code>ray.data.from_torch(torch_ds)</code></li>\n",
    "      </ul>\n",
    "    <li>Loading from data lakehouses and warehouses such as Snowflake, Iceberg, and Databricks.</li>\n",
    "      <ul>\n",
    "          <li><code>ds = ray.data.read_databricks_tables()</code></li>\n",
    "      </ul>\n",
    "  </ul>\n",
    "  <p>\n",
    "    Start with an extensive list of <a href=\"https://docs.ray.io/en/latest/data/api/input_output.html#input-output\" target=\"_blank\">supported formats</a> and review further options in our <a href=\"https://docs.ray.io/en/latest/data/loading-data.html#loading-data\" target=\"_blank\">data loading guide</a>.\n",
    "  </p>\n",
    "</div>"
   ]
  },
  {
   "cell_type": "markdown",
   "metadata": {},
   "source": [
    "Under the hood, Ray Data uses Ray tasks to read data from remote storage"
   ]
  },
  {
   "cell_type": "markdown",
   "metadata": {},
   "source": [
    "|<img src=\"https://anyscale-materials.s3.us-west-2.amazonaws.com/ray-data-deep-dive/Ray+Data+Internals+-+reading.png\" width=\"500px\" loading=\"lazy\">|\n",
    "|:--|\n",
    "|When reading from a file-based datasource, Ray Data starts with a number of read tasks proportional to the number of CPUs in the cluster. |\n",
    "|Each read task reads its assigned files and produces output blocks.|"
   ]
  },
  {
   "cell_type": "markdown",
   "metadata": {},
   "source": [
    "### 2.2 Note on blocks"
   ]
  },
  {
   "cell_type": "markdown",
   "metadata": {},
   "source": [
    "|<img src=\"https://assets-training.s3.us-west-2.amazonaws.com/ray-intro/block.png\" width=\"700px\" loading=\"lazy\">|\n",
    "|:--|\n",
    "|A Dataset when materialized is a distributed collection of blocks. This example illustrates a materialized dataset with three blocks, each block holding 1000 rows.|"
   ]
  },
  {
   "cell_type": "markdown",
   "metadata": {},
   "source": [
    "<div class=\"alert alert-block alert-info\">\n",
    "<strong>Block</strong> is a contiguous subset of rows from a dataset. Blocks are distributed across the cluster and processed independently in parallel. By default blocks are PyArrow tables.\n",
    "</div>"
   ]
  }
 ],
 "metadata": {
  "kernelspec": {
   "display_name": "ray-jupyter",
   "language": "python",
   "name": "python3"
  },
  "language_info": {
   "codemirror_mode": {
    "name": "ipython",
    "version": 3
   },
   "file_extension": ".py",
   "mimetype": "text/x-python",
   "name": "python",
   "nbconvert_exporter": "python",
   "pygments_lexer": "ipython3",
   "version": "3.11.13"
  }
 },
 "nbformat": 4,
 "nbformat_minor": 4
}