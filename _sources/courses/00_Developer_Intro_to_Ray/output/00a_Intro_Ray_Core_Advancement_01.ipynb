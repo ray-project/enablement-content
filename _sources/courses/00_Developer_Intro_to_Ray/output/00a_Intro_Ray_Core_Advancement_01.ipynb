{
 "cells": [
  {
   "cell_type": "markdown",
   "id": "1fd443a5-c9d3-4b6f-ad72-59c1eba1d112",
   "metadata": {},
   "source": [
    "# Introduction to Ray Core (Advancement): Object store, Tasks, Actors"
   ]
  },
  {
   "cell_type": "markdown",
   "id": "f6e3a7d5-5033-4f31-912a-0e405c1a1bc9",
   "metadata": {},
   "source": [
    "\u00a9 2025, Anyscale. All Rights Reserved"
   ]
  },
  {
   "cell_type": "markdown",
   "id": "1947e07a",
   "metadata": {},
   "source": [
    "\ud83d\udcbb **Launch Locally**: You can run this notebook locally.\n",
    "\n",
    "\ud83d\ude80 **Launch on Cloud**: Think about running this notebook on a Ray Cluster (Click [here](http://console.anyscale.com/register) to easily start a Ray cluster on Anyscale)"
   ]
  },
  {
   "cell_type": "markdown",
   "id": "fcd84432-84b0-426e-8546-42f33804f2fa",
   "metadata": {},
   "source": [
    "This notebook provides a step-by-step introduction to Object store, Tasks, and Actors, which are all the fundamental building blocks of Ray that enables distributed computing.\n",
    "\n",
    "<div class=\"alert alert-block alert-info\">\n",
    "\n",
    "<b> Here is the roadmap for this notebook </b>\n",
    "\n",
    "<ol>\n",
    "  <li>Object store\n",
    "    <ul>\n",
    "      <li>Pattern: pass an object as a top-level argument</li>\n",
    "    </ul>\n",
    "  </li>\n",
    "  <li>Chaining Tasks and Passing Data</li>\n",
    "  <li>Task retries</li>\n",
    "  <li>Task Runtime Environments\n",
    "    <ul>\n",
    "      <li>Note about pip dependencies</li>\n",
    "    </ul>\n",
    "  </li>\n",
    "  <li>Resource allocation and management\n",
    "    <ul>\n",
    "      <li>Note on resources requests, available resources, configuring large clusters</li>\n",
    "      <li>Fractional resources</li>\n",
    "      <li>IO bound tasks and fractional resources</li>\n",
    "    </ul>\n",
    "  </li>\n",
    "  <li>Nested Tasks</li>\n",
    "  <li>Pattern: Pipeline data processing and waiting for results\n",
    "    <ul>\n",
    "      <li>Batch Processing Pattern</li>\n",
    "      <li>Note on fetching too many objects at once with ray.get causes failure</li>\n",
    "    </ul>\n",
    "  </li>\n",
    "  <li>Ray Actors</li>\n",
    "</ol>\n",
    "</div>"
   ]
  },
  {
   "cell_type": "markdown",
   "id": "5c263dcd",
   "metadata": {},
   "source": [
    "**Imports**"
   ]
  },
  {
   "cell_type": "code",
   "execution_count": null,
   "id": "98399ea9-933a-452f-be3f-bc1535006443",
   "metadata": {
    "tags": []
   },
   "outputs": [],
   "source": [
    "import os\n",
    "import random\n",
    "import sys\n",
    "import time\n",
    "\n",
    "import numpy as np\n",
    "import ray"
   ]
  }
 ],
 "metadata": {
  "kernelspec": {
   "display_name": "ray-jupyter",
   "language": "python",
   "name": "python3"
  },
  "language_info": {
   "codemirror_mode": {
    "name": "ipython",
    "version": 3
   },
   "file_extension": ".py",
   "mimetype": "text/x-python",
   "name": "python",
   "nbconvert_exporter": "python",
   "pygments_lexer": "ipython3",
   "version": "3.11.13"
  }
 },
 "nbformat": 4,
 "nbformat_minor": 5
}