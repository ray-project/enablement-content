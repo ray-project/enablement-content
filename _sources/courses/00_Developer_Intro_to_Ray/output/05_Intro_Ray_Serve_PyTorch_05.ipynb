{
 "cells": [
  {
   "cell_type": "markdown",
   "id": "da966d55",
   "metadata": {},
   "source": [
    "## 4. Development workflow\n",
    "\n",
    "1. Define application in a `main.py` file\n",
    "2. Deploy the application with `serve run`\n",
    "3. Optionally specify configuration in a `config.yaml` file\n",
    "    - you can use `serve build` to scaffold a basic config.yaml file\n",
    "    - useful if you want to decouple the deployment configuration from the code\n",
    "4. After making a change \n",
    "    - you can re-run the application with `serve run`\n",
    "    - Note there is experimental support for hot-reloading of changes to the application (using `serve run --reload`)"
   ]
  },
  {
   "cell_type": "code",
   "execution_count": null,
   "id": "5ef75ec5",
   "metadata": {},
   "outputs": [],
   "source": [
    "# run the app with default config\n",
    "!cd intro/ && serve run main:mnist_app --non-blocking --name app1"
   ]
  },
  {
   "cell_type": "code",
   "execution_count": null,
   "id": "4ca83adc",
   "metadata": {},
   "outputs": [],
   "source": [
    "# build and optionally customize config\n",
    "!cd intro/ && serve build -o config.yaml main:mnist_app "
   ]
  },
  {
   "cell_type": "code",
   "execution_count": null,
   "id": "1a20b2e9",
   "metadata": {},
   "outputs": [],
   "source": [
    "# update the running app\n",
    "!cd intro/ && serve run config.yaml --non-blocking"
   ]
  },
  {
   "cell_type": "markdown",
   "id": "8ba25d08",
   "metadata": {},
   "source": [
    "In case you want to **parameterize the application building**, use an \"application builder\" pattern - i.e. set the import path to point to a callable that will return an application.\n",
    "\n",
    "To view an example, see `app_builder.py`"
   ]
  },
  {
   "cell_type": "code",
   "execution_count": null,
   "id": "89696b9a",
   "metadata": {},
   "outputs": [],
   "source": [
    "!cd intro/ && serve run app_builder:build_app --non-blocking --name app1 device=cpu"
   ]
  },
  {
   "cell_type": "markdown",
   "id": "09a6a9fc",
   "metadata": {},
   "source": [
    "For more details on the recommended development workflow, read the [docs here](https://docs.ray.io/en/latest/serve/advanced-guides/dev-workflow.html#development-workflow)\n",
    "\n",
    "\n",
    "For unit testing and debugging, Ray Serve provides a local testing mode. For more details, see the [docs here](https://docs.ray.io/en/latest/serve/advanced-guides/dev-workflow.html#local-testing-mode)"
   ]
  },
  {
   "cell_type": "code",
   "execution_count": null,
   "id": "84e18b25",
   "metadata": {},
   "outputs": [],
   "source": [
    "# Run this cell for file cleanup \n",
    "!rm {storage_folder}/model.pt"
   ]
  }
 ],
 "metadata": {
  "kernelspec": {
   "display_name": "ray-jupyter",
   "language": "python",
   "name": "python3"
  },
  "language_info": {
   "codemirror_mode": {
    "name": "ipython",
    "version": 3
   },
   "file_extension": ".py",
   "mimetype": "text/x-python",
   "name": "python",
   "nbconvert_exporter": "python",
   "pygments_lexer": "ipython3",
   "version": "3.11.13"
  }
 },
 "nbformat": 4,
 "nbformat_minor": 5
}