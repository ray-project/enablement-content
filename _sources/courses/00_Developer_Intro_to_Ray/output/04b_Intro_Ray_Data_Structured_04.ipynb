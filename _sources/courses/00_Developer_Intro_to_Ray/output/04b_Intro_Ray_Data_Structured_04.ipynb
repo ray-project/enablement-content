{
 "cells": [
  {
   "cell_type": "markdown",
   "metadata": {},
   "source": [
    "## 2. Loading Data\n",
    "\n",
    "Our Dataset is the New York City Taxi & Limousine Commission's Trip Record Data\n",
    "\n",
    "**Dataset features**\n",
    "\n",
    "| Column | Description | \n",
    "| ------ | ----------- |\n",
    "| `trip_distance` | Float representing trip distance in miles. |\n",
    "| `passenger_count` | The number of passengers |\n",
    "| `PULocationID` | TLC Taxi Zone in which the taximeter was engaged | \n",
    "| `DOLocationID` | TLC Taxi Zone in which the taximeter was disengaged | \n",
    "| `payment_type` | A numeric code signifying how the passenger paid for the trip. |\n",
    "| `tolls_amount` | Total amount of all tolls paid in trip. | \n",
    "| `tip_amount` | Tip amount \u2013 This field is automatically populated for credit card tips. Cash tips are not included. | \n",
    "| `total_amount` | The total amount charged to passengers. Does not include cash tips. |\n"
   ]
  },
  {
   "cell_type": "code",
   "execution_count": null,
   "metadata": {},
   "outputs": [],
   "source": [
    "COLUMNS = [\n",
    "    \"trip_distance\",\n",
    "    \"passenger_count\",\n",
    "    \"PULocationID\",\n",
    "    \"DOLocationID\",\n",
    "    \"payment_type\",\n",
    "    \"tolls_amount\",\n",
    "    \"tip_amount\",\n",
    "    \"total_amount\",\n",
    "]\n",
    "\n",
    "DATA_PATH = \"s3://anyscale-public-materials/nyc-taxi-cab\""
   ]
  },
  {
   "cell_type": "markdown",
   "metadata": {},
   "source": [
    "Let's read the data for a single month. It takes up to 2 minutes to run."
   ]
  },
  {
   "cell_type": "code",
   "execution_count": null,
   "metadata": {},
   "outputs": [],
   "source": [
    "df = pd.read_parquet(\n",
    "    f\"{DATA_PATH}/yellow_tripdata_2011-05.parquet\",\n",
    "    columns=COLUMNS,\n",
    ")\n",
    "\n",
    "df.head()"
   ]
  },
  {
   "cell_type": "markdown",
   "metadata": {},
   "source": [
    "Let's check how much memory the dataset is using."
   ]
  },
  {
   "cell_type": "code",
   "execution_count": null,
   "metadata": {},
   "outputs": [],
   "source": [
    "df.memory_usage(deep=True).sum().sum() / 1024**2"
   ]
  },
  {
   "cell_type": "markdown",
   "metadata": {},
   "source": [
    "Let's check how many files there are in the dataset"
   ]
  },
  {
   "cell_type": "code",
   "execution_count": null,
   "metadata": {},
   "outputs": [],
   "source": [
    "!aws s3 ls s3://anyscale-public-materials/nyc-taxi-cab/ --human-readable | wc -l"
   ]
  },
  {
   "cell_type": "markdown",
   "metadata": {},
   "source": [
    "We are not making use of all the columns and are already consuming ~1GB of data per file -> will quickly become a problem if you want to scale to entire dataset (~155 files) if we are running on a small node."
   ]
  },
  {
   "cell_type": "markdown",
   "metadata": {},
   "source": [
    "Let's instead make use of a distributed data preprocessing library like Ray Data to load the full dataset in a distributed manner."
   ]
  },
  {
   "cell_type": "code",
   "execution_count": null,
   "metadata": {},
   "outputs": [],
   "source": [
    "ds = ray.data.read_parquet(\n",
    "    DATA_PATH,\n",
    "    columns=COLUMNS,\n",
    ")"
   ]
  },
  {
   "cell_type": "markdown",
   "metadata": {},
   "source": [
    "There are Ray data equivalents for common pandas functions like `read_csv`, `read_parquet`, `read_json`, etc.\n",
    "\n",
    "Refer to the [Input/Output docs](https://docs.ray.io/en/latest/data/api/input_output.html) for a comprehensive list of read functions."
   ]
  },
  {
   "cell_type": "markdown",
   "metadata": {},
   "source": [
    "### Dataset\n",
    "\n",
    "Let's view our dataset"
   ]
  },
  {
   "cell_type": "code",
   "execution_count": null,
   "metadata": {},
   "outputs": [],
   "source": [
    "ds"
   ]
  },
  {
   "cell_type": "markdown",
   "metadata": {},
   "source": [
    "Ray Data by default adopts **lazy execution** this means that the data is not loaded into memory until it is needed. Instead only a small part of the dataset is loaded into memory to infer the schema."
   ]
  },
  {
   "cell_type": "markdown",
   "metadata": {},
   "source": [
    "A Dataset specifies a sequence of transformations that will be applied to the data. \n",
    "\n",
    "The data itself will be organized into blocks, where each block is a collection of rows.\n",
    "\n",
    "The following figure visualizes a tabular dataset with three blocks, each block holding 1000 rows each:\n",
    "\n",
    "<img src='https://docs.ray.io/en/releases-2.6.1/_images/dataset-arch.svg' width=50%/>\n",
    "\n",
    "Since a Dataset is just a list of Ray object references, it can be freely passed between Ray tasks, actors, and libraries like any other object reference. This flexibility is a unique characteristic of Ray Datasets."
   ]
  }
 ],
 "metadata": {
  "kernelspec": {
   "display_name": "ray-jupyter",
   "language": "python",
   "name": "python3"
  },
  "language_info": {
   "codemirror_mode": {
    "name": "ipython",
    "version": 3
   },
   "file_extension": ".py",
   "mimetype": "text/x-python",
   "name": "python",
   "nbconvert_exporter": "python",
   "pygments_lexer": "ipython3",
   "version": "3.11.13"
  }
 },
 "nbformat": 4,
 "nbformat_minor": 4
}