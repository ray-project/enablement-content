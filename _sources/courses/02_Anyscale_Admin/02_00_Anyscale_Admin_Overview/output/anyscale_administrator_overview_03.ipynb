{
 "cells": [
  {
   "cell_type": "markdown",
   "id": "d3d84cda",
   "metadata": {},
   "source": [
    "## 2. Cloud Deployment Types\n",
    "\n",
    "You can deploy Anyscale Clouds on different infrastructure types (virtual machines vs. Kubernetes), and can choose the way you deploy them (managed vs. custom).\n",
    "\n",
    "### Supported Infrastructure Types\n",
    "\n",
    "| **Infrastructure** | **Supported Platforms** |\n",
    "|-------------------|------------------------|\n",
    "| **Virtual Machines (VMs)** | \u2022 AWS EC2<br>\u2022 Google Cloud Compute Engine<br>\u2022 Serverless Anyscale (hosted by Anyscale) |\n",
    "| **Kubernetes (k8s)** | \u2022 Amazon EKS<br>\u2022 Google GKE<br>\u2022 Azure AKS<br>\u2022 On-premises Kubernetes clusters |\n",
    "\n",
    "### How Resources are defined\n",
    "\n",
    "| **Resources Management** | **Command** | **Best For** | **Key Features** |\n",
    "|---------------------|------------|--------------|------------------|\n",
    "| **\ud83e\udd16 Anyscale-Defined** | `anyscale cloud setup` | Quick setup, demos, evaluation | \u2022 Anyscale creates all resources<br>\u2022 Public subnet deployment (Each Ray node has public IP and can be accessed via SSH)<br>\u2022 Minimal configuration required<br>\u2022 \u26a0\ufe0f VM deployments only |\n",
    "| **\ud83d\udee0\ufe0f Customer-Defined** | `anyscale cloud register` | Production, compliance, customization | \u2022 Full infrastructure control<br>\u2022 Private/public subnet options<br>\u2022 Custom VPCs, IAM, networking<br>\u2022 \u2705 Required for Kubernetes |\n",
    "\n",
    "\n",
    "**\ud83d\udcdd Note**: All examples in this tutorial use `anyscale cloud register` to demonstrate full infrastructure control, including private subnets, custom VPCs, and detailed IAM configurations.\n",
    "\n",
    "The following section provides a practical example demonstrating the resources that Anyscale requires for AWS EC2 deployment. This example serves as a starting point to help you understand the deployment process. For Kubernetes deployments, additional K8s components are required, which will be covered in the next course."
   ]
  }
 ],
 "metadata": {
  "language_info": {
   "name": "python"
  }
 },
 "nbformat": 4,
 "nbformat_minor": 5
}