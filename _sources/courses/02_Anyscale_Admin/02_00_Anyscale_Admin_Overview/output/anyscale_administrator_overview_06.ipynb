{
 "cells": [
  {
   "cell_type": "markdown",
   "id": "83aff81c",
   "metadata": {},
   "source": [
    "## 4. Register Anyscale Cloud to Your Cloud Provider\n",
    "\n",
    "Register an Anyscale cloud to AWS EC2 using a command like this:"
   ]
  },
  {
   "cell_type": "code",
   "execution_count": null,
   "id": "20a950f7",
   "metadata": {},
   "outputs": [],
   "source": [
    "!anyscale cloud register --provider aws \\\n",
    "  --name {ANYSCALE_CLOUD_NAME} \\\n",
    "  --region {AWS_REGION} \\\n",
    "  --vpc-id {VPC_ID} \\\n",
    "  --subnet-ids {SUBNET_IDS} \\\n",
    "  --s3-bucket-id {S3_BUCKET_ID} \\\n",
    "  --anyscale-iam-role-id {ANYSCALE_IAM_ROLE_ARN} \\\n",
    "  --instance-iam-role-id {INSTANCE_IAM_ROLE_ARN} \\\n",
    "  --security-group-ids {SECURITY_GROUP_IDS} \\\n",
    "  --efs-id {EFS_ID}"
   ]
  },
  {
   "cell_type": "markdown",
   "id": "0c2f4efd",
   "metadata": {},
   "source": [
    "The `anyscale cloud register` command takes the resource IDs (VPC, subnets, IAM roles, S3 bucket, etc.) that you created through Terraform and registers them as a unified Anyscale Cloud deployment."
   ]
  }
 ],
 "metadata": {
  "language_info": {
   "name": "python"
  }
 },
 "nbformat": 4,
 "nbformat_minor": 5
}