{
 "cells": [
  {
   "cell_type": "markdown",
   "id": "da5e24f5",
   "metadata": {},
   "source": [
    "## 3. A Demonstrative Example of Resource Creation with AWS EC2\n",
    "\n",
    "Deploy Anyscale by creating several resources in your cloud provider. This section uses the **\"Architecture of an Anyscale Cloud runs on AWS EC2\"** diagram to explain the required resources.\n",
    "\n",
    "<img src=\"https://docs.anyscale.com/assets/images/aws-customer-defined-2ec2f924ecfe532b9ac8c30376c32aa4.png\" alt=\"Alt text\" width=\"100%\"/>"
   ]
  },
  {
   "cell_type": "markdown",
   "id": "f8a543e1",
   "metadata": {},
   "source": [
    "Streamline long-term management and enable customization by using modularized Terraform resources to create your cloud resources:"
   ]
  },
  {
   "cell_type": "markdown",
   "id": "494cb5d3",
   "metadata": {},
   "source": [
    "\n",
    "| Name | Optional/Required | Description |\n",
    "|------|------------------|-------------|\n",
    "| **[aws-anyscale-iam](https://github.com/anyscale/terraform-aws-anyscale-cloudfoundation-modules/tree/main/modules/aws-anyscale-iam)** | Required | Builds `IAM roles` and `policies` for secure cross-account access from the Anyscale control plane and EC2 instances in the data plane. |\n",
    "| **[aws-anyscale-securitygroups](https://github.com/anyscale/terraform-aws-anyscale-cloudfoundation-modules/blob/main/modules/aws-anyscale-securitygroups/README.md)** | Required | Configures `Security Groups` essential for Anyscale clusters and (optional) EFS storage.|\n",
    "| **[aws-anyscale-s3](https://github.com/anyscale/terraform-aws-anyscale-cloudfoundation-modules/blob/main/modules/aws-anyscale-s3/README.md)** | Required | Creates an `S3 Bucket` to store logs and shared resources.|\n",
    "| **[aws-anyscale-s3-policy](https://github.com/anyscale/terraform-aws-anyscale-cloudfoundation-modules/blob/main/modules/aws-anyscale-s3-policy/README.md)** | Required | Implements an `S3 Bucket Policy`, integrating with the `aws-anyscale-iam` module for comprehensive access control.|\n",
    "| **[aws-anyscale-vpc](https://github.com/anyscale/terraform-aws-anyscale-cloudfoundation-modules/blob/main/modules/aws-anyscale-vpc/README.md)** | Optional but opinionated | Creates a basic (opinionated) `VPC` for Anyscale.|\n",
    "| **[aws-anyscale-efs](https://github.com/anyscale/terraform-aws-anyscale-cloudfoundation-modules/blob/main/modules/aws-anyscale-efs/README.md)** | Optional | Deploys `EFS storage solutions` for workspace persistence and cluster shared storage|\n",
    "| **[aws-anyscale-memorydb](https://github.com/anyscale/terraform-aws-anyscale-cloudfoundation-modules/blob/main/modules/aws-anyscale-memorydb/README.md)** | Optional | Sets up `MemoryDB` as Anyscale Services Redis Cache for Head node fault tolerance|\n",
    "\n"
   ]
  }
 ],
 "metadata": {
  "language_info": {
   "name": "python"
  }
 },
 "nbformat": 4,
 "nbformat_minor": 5
}