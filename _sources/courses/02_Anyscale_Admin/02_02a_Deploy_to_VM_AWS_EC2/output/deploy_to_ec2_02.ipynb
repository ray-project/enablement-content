{
 "cells": [
  {
   "cell_type": "markdown",
   "metadata": {
    "vscode": {
     "languageId": "raw"
    }
   },
   "source": [
    "## 1. Create Anyscale Resources with Terraform"
   ]
  },
  {
   "cell_type": "markdown",
   "metadata": {},
   "source": [
    "Set up the necessary Terraform variables and apply the configuration:\n",
    "\n",
    "### Creating Anyscale Resources\n",
    "\n",
    "Steps for deploying Anyscale resources via Terraform:\n",
    "\n",
    "* Review and modify [variables.tf](variables.tf) with your configurations\n",
    "* (Optional) Create a `terraform.tfvars` file to override any defaults\n",
    "* View [main.tf](main.tf) to see how the resources are created\n"
   ]
  },
  {
   "cell_type": "code",
   "execution_count": null,
   "metadata": {},
   "outputs": [],
   "source": [
    "\"\"\"\n",
    "Set the global variables for the deployment, which are the same as in the variables.tf file.\n",
    "\"\"\"\n",
    "\n",
    "ANYSCALE_CLOUD_NAME = \"anyscale-cloud-ec2-private-example\" # Replace with your actual Anyscale cloud name\n",
    "AWS_REGION = \"us-west-2\"  # Replace with your actual AWS region\n",
    "ANYSCALE_S3_BUCKET_NAME = \"anyscale-ec2-new-us-west-2\" # You can leave it empty for now, you can get it from the output of the terraform apply command, then you can populate it here."
   ]
  },
  {
   "cell_type": "code",
   "execution_count": null,
   "metadata": {},
   "outputs": [],
   "source": [
    "# Run Terraform commands\n",
    "\n",
    "# Initialize Terraform\n",
    "!terraform init\n",
    "\n",
    "# Preview the changes\n",
    "!terraform plan\n",
    "\n",
    "# Apply the changes\n",
    "!terraform apply -auto-approve\n"
   ]
  },
  {
   "cell_type": "markdown",
   "metadata": {},
   "source": [
    "<details>\n",
    "<summary>Sometimes, your AWS account may have too many existing resources consuming capacity, causing you to hit service limits. In such cases, it's a good idea to release unused resources\u2014such as unassociated Elastic IPs (EIPs) or idle NAT gateways.\n",
    "</summary>\n",
    "During you installing, you may need to release the unused EIPs and deleted unused NAT.\n",
    "\n",
    "To find the unattached EIPs:\n",
    "```bash\n",
    "aws ec2 describe-addresses | jq '.Addresses[] | select(.InstanceId == null and .NetworkInterfaceId == null)'\n",
    "```\n",
    "You will see a list of unattached EIPs.\n",
    "\n",
    "To release one:\n",
    "\n",
    "```bash\n",
    "aws ec2 release-address --allocation-id eipalloc-xxxxxx\n",
    "```\n",
    "\n",
    "To find the unused NAT in your region, for example us-west-2:\n",
    "```bash\n",
    "aws ec2 describe-nat-gateways --region us-west-2 --filter \"Name=state,Values=available\" | jq '.NatGateways | length'\n",
    "```\n",
    "\n",
    "To delete one:\n",
    "\n",
    "```bash\n",
    "aws ec2 delete-nat-gateway --nat-gateway-id nat-xxxxxxxx\n",
    "```\n",
    "\n",
    "To identify VPCs that look like they might be safe to delete (test/development ones):\n",
    "```bash\n",
    "aws ec2 describe-vpcs --query 'Vpcs[*].[VpcId,Tags[?Key==`Name`].Value|[0]]' --output table | grep -E \"(test|temp|dev|scratch|derp|floral|scrumptious)\"\n",
    "```\n",
    "\n",
    "to delete one:\n",
    "```bash\n",
    "aws ec2 delete-vpc --vpc-id vpc-0f8bb12ddf9a451e9  # derp-vpc-derp-sunbeam\n",
    "```\n",
    "\n",
    "You may need to delete more depends on your scenario.\n",
    "\n",
    "</detail>"
   ]
  },
  {
   "cell_type": "markdown",
   "metadata": {},
   "source": [
    "<div class=\"alert alert-block alert-info\">\n",
    "<b>Take a note to the output of terraform apply! </b>You will need it when you register the Anyscale cloud to your cloud provider.\n",
    "</div>\n",
    "\n",
    "<details>\n",
    "<summary>Sample output</summary>\n",
    "```\n",
    "Apply complete! Resources: 50 added, 0 changed, 0 destroyed.\n",
    "\n",
    "Outputs:\n",
    "\n",
    "anyscale_registration_command = <<EOT\n",
    "anyscale cloud register --provider aws \\\n",
    "  --name anyscale-cloud-ec2-private-example \\\n",
    "  --region us-west-2 \\\n",
    "  --vpc-id vpc-0xxxxxxxxx \\\n",
    "  --subnet-ids subnet-xxxxxxxxxx,subnet-xxxxxxxxxxxx,subnet-0xxxxxxxxxx,subnet-0xxxxxxxx \\\n",
    "  --s3-bucket-id anyscale-ec2-new-us-west-2 \\\n",
    "  --anyscale-iam-role-id arn:aws:iam::959243851260:role/anyscale-ec2-role-new \\\n",
    "  --instance-iam-role-id arn:aws:iam::959243851260:role/anyscale-cluster-node-xxxxxxxxxxxx \\\n",
    "  --security-group-ids sg-xxxxxxxxx \\\n",
    "  --efs-id fs-xxxxxxxxxx\n",
    "\n",
    "EOT\n",
    "efs_id = \"fs-0bd7bde3f2c914b3e\"\n",
    "instance_profile_arn = \"arn:aws:iam::xxxxx:instance-profile/anyscale-cluster-node-xxxxxxxxxx\"\n",
    "s3_bucket_id = \"anyscale-ec2-new-us-west-2\"\n",
    "security_group_id = \"sg-xxxxxxxxxx\"\n",
    "subnet_ids = [\n",
    "  \"subnet-0a000000000000000\",\n",
    "  \"subnet-03000000000000000\",\n",
    "  \"subnet-00000000000000000\",\n",
    "  \"subnet-0a000000000000000\",\n",
    "]\n",
    "vpc_id = \"vpc-0000000000000\"```\n",
    "</details>"
   ]
  }
 ],
 "metadata": {
  "kernelspec": {
   "display_name": "Xing-ray-jupyter-3.11",
   "language": "python",
   "name": "xing-ray-jupyter"
  },
  "language_info": {
   "codemirror_mode": {
    "name": "ipython",
    "version": 3
   },
   "file_extension": ".py",
   "mimetype": "text/x-python",
   "name": "python",
   "nbconvert_exporter": "python",
   "pygments_lexer": "ipython3",
   "version": "3.11.13"
  }
 },
 "nbformat": 4,
 "nbformat_minor": 2
}