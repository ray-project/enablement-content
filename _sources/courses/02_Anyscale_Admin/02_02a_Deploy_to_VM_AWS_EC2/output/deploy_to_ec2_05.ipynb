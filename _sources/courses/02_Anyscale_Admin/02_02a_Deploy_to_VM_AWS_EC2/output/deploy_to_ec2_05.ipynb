{
 "cells": [
  {
   "cell_type": "markdown",
   "metadata": {
    "vscode": {
     "languageId": "raw"
    }
   },
   "source": [
    "## 4. Cleanup\n",
    "\n",
    "When you're done, you can terminate the cluster and clean up resources:\n"
   ]
  },
  {
   "cell_type": "code",
   "execution_count": null,
   "metadata": {},
   "outputs": [],
   "source": [
    "# Unregister the cloud\n",
    "!anyscale cloud delete {ANYSCALE_CLOUD_NAME}\n",
    "\n",
    "# Clean up S3 bucket if you cannot delete it because it is not empty, then run \"terraform destroy --auto-approve\" again\n",
    "!aws s3 rm s3://{ANYSCALE_S3_BUCKET_NAME} --recursive\n",
    "\n",
    "# Clean up Terraform resources\n",
    "!terraform destroy --auto-approve\n",
    "\n",
    "# Verify no Anyscale clouds are registered\n",
    "!anyscale cloud list\n",
    "\n",
    "# Verify Terraform resources are destroyed\n",
    "!terraform show"
   ]
  }
 ],
 "metadata": {
  "kernelspec": {
   "display_name": "Xing-ray-jupyter-3.11",
   "language": "python",
   "name": "xing-ray-jupyter"
  },
  "language_info": {
   "codemirror_mode": {
    "name": "ipython",
    "version": 3
   },
   "file_extension": ".py",
   "mimetype": "text/x-python",
   "name": "python",
   "nbconvert_exporter": "python",
   "pygments_lexer": "ipython3",
   "version": "3.11.13"
  }
 },
 "nbformat": 4,
 "nbformat_minor": 2
}