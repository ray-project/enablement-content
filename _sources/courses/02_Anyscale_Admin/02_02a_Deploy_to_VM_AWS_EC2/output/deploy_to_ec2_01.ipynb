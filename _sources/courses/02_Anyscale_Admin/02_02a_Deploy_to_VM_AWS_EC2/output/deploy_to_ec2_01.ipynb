{
 "cells": [
  {
   "cell_type": "markdown",
   "metadata": {
    "vscode": {
     "languageId": "raw"
    }
   },
   "source": [
    "# Introduction: Deploy Anyscale Ray on AWS EC2 Instances\n",
    "\n",
    "\u00a9 2025, Anyscale. All Rights Reserved\n",
    "\n",
    "This notebook serves as a guide for deploying Anyscale on AWS EC2 instances using the custom **`anyscale cloud register`** method. It walks through the necessary steps from prerequisites to Ray installation using Anyscale.\n",
    "\n",
    "Use it as a starting point and replace all placeholders (e.g.&nbsp;`{ANYSCALE_CLOUD_NAME}`) with values from your environment."
   ]
  },
  {
   "cell_type": "markdown",
   "metadata": {
    "vscode": {
     "languageId": "raw"
    }
   },
   "source": [
    "### Prerequisites\n",
    "\n",
    "Before we begin, ensure you have the following tools installed:\n",
    "\n",
    "```bash\n",
    "# Install AWS CLI (version 2.15.0+)\n",
    "# https://docs.aws.amazon.com/cli/latest/userguide/getting-started-install.html\n",
    "\n",
    "# Configure AWS credentials\n",
    "# https://docs.aws.amazon.com/cli/latest/userguide/cli-chap-configure.html\n",
    "\n",
    "# Install Terraform (version 1.9+)\n",
    "# https://developer.hashicorp.com/terraform/install\n",
    "\n",
    "# Install Anyscale CLI (version 0.5.86+)\n",
    "# https://docs.anyscale.com/reference/quickstart-cli/\n",
    "```\n",
    "\n",
    "You also need:\n",
    "- An existing AWS Account\n",
    "- Proper IAM permissions\n"
   ]
  },
  {
   "cell_type": "markdown",
   "metadata": {},
   "source": [
    "<div class=\"alert alert-block alert-info\">\n",
    "<b>Alternative Terraform Installation:</b> If you are not able to install <b>Terraform 1.9+</b> with homebrew, you can try to install it with <code>tfenv</code>.\n",
    "\n",
    "<details>\n",
    "<summary>Click to expand installation steps</summary>\n",
    "\n",
    "```bash\n",
    "brew install tfenv\n",
    "tfenv install 1.9.0\n",
    "tfenv use 1.9.0\n",
    "terraform version\n",
    "```\n",
    "\n",
    "</details>\n",
    "</div>"
   ]
  }
 ],
 "metadata": {
  "kernelspec": {
   "display_name": "Xing-ray-jupyter-3.11",
   "language": "python",
   "name": "xing-ray-jupyter"
  },
  "language_info": {
   "codemirror_mode": {
    "name": "ipython",
    "version": 3
   },
   "file_extension": ".py",
   "mimetype": "text/x-python",
   "name": "python",
   "nbconvert_exporter": "python",
   "pygments_lexer": "ipython3",
   "version": "3.11.13"
  }
 },
 "nbformat": 4,
 "nbformat_minor": 2
}