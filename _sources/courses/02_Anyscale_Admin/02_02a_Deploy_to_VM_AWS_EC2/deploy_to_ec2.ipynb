{
  "cells": [
    {
      "cell_type": "markdown",
      "metadata": {
        "vscode": {
          "languageId": "raw"
        }
      },
      "source": [
        "# Introduction: Deploy Anyscale Ray on AWS EC2 Instances\n",
        "\n",
        "© 2025, Anyscale. All Rights Reserved\n",
        "\n",
        "This notebook serves as a guide for deploying Anyscale on AWS EC2 instances using the custom **`anyscale cloud register`** method. It walks through the necessary steps from prerequisites to Ray installation using Anyscale.\n",
        "\n",
        "Use it as a starting point and replace all placeholders (e.g.&nbsp;`{ANYSCALE_CLOUD_NAME}`) with values from your environment."
      ]
    },
    {
      "cell_type": "markdown",
      "metadata": {
        "vscode": {
          "languageId": "raw"
        }
      },
      "source": [
        "### Prerequisites\n",
        "\n",
        "Before we begin, ensure you have the following tools installed:\n",
        "\n",
        "```bash\n",
        "# Install AWS CLI (version 2.15.0+)\n",
        "# https://docs.aws.amazon.com/cli/latest/userguide/getting-started-install.html\n",
        "\n",
        "# Configure AWS credentials\n",
        "# https://docs.aws.amazon.com/cli/latest/userguide/cli-chap-configure.html\n",
        "\n",
        "# Install Terraform (version 1.9+)\n",
        "# https://developer.hashicorp.com/terraform/install\n",
        "\n",
        "# Install Anyscale CLI (version 0.5.86+)\n",
        "# https://docs.anyscale.com/reference/quickstart-cli/\n",
        "```\n",
        "\n",
        "You also need:\n",
        "- An existing AWS Account\n",
        "- Proper IAM permissions\n"
      ]
    },
    {
      "cell_type": "markdown",
      "metadata": {},
      "source": [
        "<div class=\"alert alert-block alert-info\">\n",
        "<b>Alternative Terraform Installation:</b> If you are not able to install <b>Terraform 1.9+</b> with homebrew, you can try to install it with <code>tfenv</code>.\n",
        "\n",
        "<details>\n",
        "<summary>Click to expand installation steps</summary>\n",
        "\n",
        "```bash\n",
        "brew install tfenv\n",
        "tfenv install 1.9.0\n",
        "tfenv use 1.9.0\n",
        "terraform version\n",
        "```\n",
        "\n",
        "</details>\n",
        "</div>"
      ]
    },
    {
      "cell_type": "markdown",
      "metadata": {
        "vscode": {
          "languageId": "raw"
        }
      },
      "source": [
        "## 1. Create Anyscale Resources with Terraform"
      ]
    },
    {
      "cell_type": "markdown",
      "metadata": {},
      "source": [
        "Set up the necessary Terraform variables and apply the configuration:\n",
        "\n",
        "### Creating Anyscale Resources\n",
        "\n",
        "Steps for deploying Anyscale resources via Terraform:\n",
        "\n",
        "* Review and modify [variables.tf](variables.tf) with your configurations\n",
        "* (Optional) Create a `terraform.tfvars` file to override any defaults\n",
        "* View [main.tf](main.tf) to see how the resources are created\n"
      ]
    },
    {
      "cell_type": "code",
      "execution_count": null,
      "metadata": {},
      "outputs": [],
      "source": [
        "\"\"\"\n",
        "Set the global variables for the deployment, which are the same as in the variables.tf file.\n",
        "\"\"\"\n",
        "\n",
        "ANYSCALE_CLOUD_NAME = \"anyscale-cloud-ec2-private-example\" # Replace with your actual Anyscale cloud name\n",
        "AWS_REGION = \"us-west-2\"  # Replace with your actual AWS region\n",
        "ANYSCALE_S3_BUCKET_NAME = \"anyscale-ec2-new-us-west-2\" # You can leave it empty for now, you can get it from the output of the terraform apply command, then you can populate it here."
      ]
    },
    {
      "cell_type": "code",
      "execution_count": null,
      "metadata": {},
      "outputs": [],
      "source": [
        "# Run Terraform commands\n",
        "\n",
        "# Initialize Terraform\n",
        "!terraform init\n",
        "\n",
        "# Preview the changes\n",
        "!terraform plan\n",
        "\n",
        "# Apply the changes\n",
        "!terraform apply -auto-approve\n"
      ]
    },
    {
      "cell_type": "markdown",
      "metadata": {},
      "source": [
        "<details>\n",
        "<summary>Sometimes, your AWS account may have too many existing resources consuming capacity, causing you to hit service limits. In such cases, it's a good idea to release unused resources—such as unassociated Elastic IPs (EIPs) or idle NAT gateways.\n",
        "</summary>\n",
        "During you installing, you may need to release the unused EIPs and deleted unused NAT.\n",
        "\n",
        "To find the unattached EIPs:\n",
        "```bash\n",
        "aws ec2 describe-addresses | jq '.Addresses[] | select(.InstanceId == null and .NetworkInterfaceId == null)'\n",
        "```\n",
        "You will see a list of unattached EIPs.\n",
        "\n",
        "To release one:\n",
        "\n",
        "```bash\n",
        "aws ec2 release-address --allocation-id eipalloc-xxxxxx\n",
        "```\n",
        "\n",
        "To find the unused NAT in your region, for example us-west-2:\n",
        "```bash\n",
        "aws ec2 describe-nat-gateways --region us-west-2 --filter \"Name=state,Values=available\" | jq '.NatGateways | length'\n",
        "```\n",
        "\n",
        "To delete one:\n",
        "\n",
        "```bash\n",
        "aws ec2 delete-nat-gateway --nat-gateway-id nat-xxxxxxxx\n",
        "```\n",
        "\n",
        "To identify VPCs that look like they might be safe to delete (test/development ones):\n",
        "```bash\n",
        "aws ec2 describe-vpcs --query 'Vpcs[*].[VpcId,Tags[?Key==`Name`].Value|[0]]' --output table | grep -E \"(test|temp|dev|scratch|derp|floral|scrumptious)\"\n",
        "```\n",
        "\n",
        "to delete one:\n",
        "```bash\n",
        "aws ec2 delete-vpc --vpc-id vpc-0f8bb12ddf9a451e9  # derp-vpc-derp-sunbeam\n",
        "```\n",
        "\n",
        "You may need to delete more depends on your scenario.\n",
        "\n",
        "</detail>"
      ]
    },
    {
      "cell_type": "markdown",
      "metadata": {},
      "source": [
        "<div class=\"alert alert-block alert-info\">\n",
        "<b>Take a note to the output of terraform apply! </b>You will need it when you register the Anyscale cloud to your cloud provider.\n",
        "</div>\n",
        "\n",
        "<details>\n",
        "<summary>Sample output</summary>\n",
        "```\n",
        "Apply complete! Resources: 50 added, 0 changed, 0 destroyed.\n",
        "\n",
        "Outputs:\n",
        "\n",
        "anyscale_registration_command = <<EOT\n",
        "anyscale cloud register --provider aws \\\n",
        "  --name anyscale-cloud-ec2-private-example \\\n",
        "  --region us-west-2 \\\n",
        "  --vpc-id vpc-0xxxxxxxxx \\\n",
        "  --subnet-ids subnet-xxxxxxxxxx,subnet-xxxxxxxxxxxx,subnet-0xxxxxxxxxx,subnet-0xxxxxxxx \\\n",
        "  --s3-bucket-id anyscale-ec2-new-us-west-2 \\\n",
        "  --anyscale-iam-role-id arn:aws:iam::959243851260:role/anyscale-ec2-role-new \\\n",
        "  --instance-iam-role-id arn:aws:iam::959243851260:role/anyscale-cluster-node-xxxxxxxxxxxx \\\n",
        "  --security-group-ids sg-xxxxxxxxx \\\n",
        "  --efs-id fs-xxxxxxxxxx\n",
        "\n",
        "EOT\n",
        "efs_id = \"fs-0bd7bde3f2c914b3e\"\n",
        "instance_profile_arn = \"arn:aws:iam::xxxxx:instance-profile/anyscale-cluster-node-xxxxxxxxxx\"\n",
        "s3_bucket_id = \"anyscale-ec2-new-us-west-2\"\n",
        "security_group_id = \"sg-xxxxxxxxxx\"\n",
        "subnet_ids = [\n",
        "  \"subnet-0a000000000000000\",\n",
        "  \"subnet-03000000000000000\",\n",
        "  \"subnet-00000000000000000\",\n",
        "  \"subnet-0a000000000000000\",\n",
        "]\n",
        "vpc_id = \"vpc-0000000000000\"```\n",
        "</details>"
      ]
    },
    {
      "cell_type": "markdown",
      "metadata": {
        "vscode": {
          "languageId": "raw"
        }
      },
      "source": [
        "## 2. Register the Anyscale Cloud\n",
        "\n",
        "First, ensure you're logged into Anyscale. if you cannot run it in console, please run it in your local terminal:"
      ]
    },
    {
      "cell_type": "code",
      "execution_count": null,
      "metadata": {},
      "outputs": [],
      "source": [
        "# First, ensure you're logged into Anyscale\n",
        "!anyscale login"
      ]
    },
    {
      "cell_type": "markdown",
      "metadata": {
        "vscode": {
          "languageId": "raw"
        }
      },
      "source": [
        "Then use the output of `terraform apply` to register Anyscale cloud. You only need to replace the `--name` parameter with your preferred `ANYSCALE_CLOUD_NAME`. The command looks like:\n",
        "\n",
        "```bash\n",
        "anyscale cloud register ...\n",
        "```\n",
        "\n",
        "You will get output like:\n",
        "\n",
        "```text\n",
        "(anyscale +45.3s) Successfully created cloud anyscale-cloud-ec2-private-example, and it's ready to use.\n",
        "```"
      ]
    },
    {
      "cell_type": "markdown",
      "metadata": {
        "vscode": {
          "languageId": "raw"
        }
      },
      "source": [
        "## 3. Test\n",
        "\n",
        "Once the clusterOnce the cluster is created, you can test it by submitting a job from your terminal: is created, you can test it by submitting a job:\n"
      ]
    },
    {
      "cell_type": "code",
      "execution_count": null,
      "metadata": {},
      "outputs": [],
      "source": [
        "!cd ../test && python test_job.py --cloud-name {ANYSCALE_CLOUD_NAME} --stack-type vm\n",
        "\n",
        "# You can check the job status by running:\n",
        "!anyscale job list --cloud {ANYSCALE_CLOUD_NAME}"
      ]
    },
    {
      "cell_type": "markdown",
      "metadata": {},
      "source": [
        "You just start a job and you can see the logs from your Anyscale Console. You can view the running results from Anyscale console in \"Jobs\"."
      ]
    },
    {
      "cell_type": "markdown",
      "metadata": {
        "vscode": {
          "languageId": "raw"
        }
      },
      "source": [
        "## 4. Cleanup\n",
        "\n",
        "When you're done, you can terminate the cluster and clean up resources:\n"
      ]
    },
    {
      "cell_type": "code",
      "execution_count": null,
      "metadata": {},
      "outputs": [],
      "source": [
        "# Unregister the cloud\n",
        "!anyscale cloud delete {ANYSCALE_CLOUD_NAME}\n",
        "\n",
        "# Clean up S3 bucket if you cannot delete it because it is not empty, then run \"terraform destroy --auto-approve\" again\n",
        "!aws s3 rm s3://{ANYSCALE_S3_BUCKET_NAME} --recursive\n",
        "\n",
        "# Clean up Terraform resources\n",
        "!terraform destroy --auto-approve\n",
        "\n",
        "# Verify no Anyscale clouds are registered\n",
        "!anyscale cloud list\n",
        "\n",
        "# Verify Terraform resources are destroyed\n",
        "!terraform show"
      ]
    },
    {
      "cell_type": "markdown",
      "metadata": {
        "vscode": {
          "languageId": "raw"
        }
      },
      "source": [
        "## 5. Conclusion\n",
        "\n",
        "You have now successfully set up the Anyscale environment on AWS EC2 instances. This includes:\n",
        "\n",
        "1. Creating the necessary AWS resources using Terraform:\n",
        "   - VPC and subnets\n",
        "   - IAM roles and instance profiles\n",
        "   - S3 bucket for storage\n",
        "   - EFS for shared file storage\n",
        "   - Security groups\n",
        "2. Registering the Anyscale Cloud\n",
        "3. Creating and connecting to a Ray cluster\n",
        "4. Running a sample Ray job\n",
        "\n",
        "Additionally, you've learned about optional advanced configurations:\n",
        "- Autoscaling with Ray's built-in autoscaler\n",
        "- Adding load balancing with AWS Application Load Balancer\n",
        "- Using GPU instances for accelerated computing\n",
        "\n",
        "You can now use this environment to run Ray workloads on Anyscale using EC2 instances.\n"
      ]
    }
  ],
  "metadata": {
    "kernelspec": {
      "display_name": "Xing-ray-jupyter-3.11",
      "language": "python",
      "name": "xing-ray-jupyter"
    },
    "language_info": {
      "codemirror_mode": {
        "name": "ipython",
        "version": 3
      },
      "file_extension": ".py",
      "mimetype": "text/x-python",
      "name": "python",
      "nbconvert_exporter": "python",
      "pygments_lexer": "ipython3",
      "version": "3.11.13"
    }
  },
  "nbformat": 4,
  "nbformat_minor": 2
}
