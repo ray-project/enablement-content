{
 "cells": [
  {
   "cell_type": "markdown",
   "metadata": {
    "vscode": {
     "languageId": "raw"
    }
   },
   "source": [
    "## Prerequisites\n",
    "\n",
    "Before we begin, ensure you have the following tools installed:\n",
    "\n",
    "```bash\n",
    "# Create Google Cloud Project\n",
    "# https://cloud.google.com/resource-manager/docs/creating-managing-projects\n",
    "\n",
    "\n",
    "# Install Google Cloud SDK/CLI\n",
    "# https://cloud.google.com/sdk/docs/install\n",
    "\n",
    "# Configure Google Cloud CLI Authentication\n",
    "# https://cloud.google.com/docs/authentication/gcloud\n",
    "\n",
    "# Install Terraform (version 1.9+)\n",
    "# https://developer.hashicorp.com/terraform/install\n",
    "\n",
    "# Install Anyscale CLI (version 0.5.86+)\n",
    "# https://docs.anyscale.com/reference/quickstart-cli/\n",
    "```\n",
    "\n",
    "You also need:\n",
    "- A GCP Project with billing enabled\n",
    "- Project Owner or Editor role\n",
    "- Required APIs enabled (we'll do this in the next step)"
   ]
  }
 ],
 "metadata": {
  "language_info": {
   "name": "python"
  }
 },
 "nbformat": 4,
 "nbformat_minor": 2
}