{
 "cells": [
  {
   "cell_type": "markdown",
   "metadata": {
    "vscode": {
     "languageId": "raw"
    }
   },
   "source": [
    "## 4. Test\n",
    "\n",
    "Once the cloud is registered, you cOnce the cluster is created, you can test it by submitting a job:an test it by submitting a job:\n"
   ]
  },
  {
   "cell_type": "code",
   "execution_count": null,
   "metadata": {},
   "outputs": [],
   "source": [
    "A_RANDOM_JOB_NAME = \"A random job name\"  # Replace with a random job name you like\n",
    "\n",
    "!cd ../test && python test_job.py --cloud-name {ANYSCALE_CLOUD_NAME} --stack-type vm --cloud-provider gcp\n",
    "\n",
    "# You can check the job status by running:\n",
    "!anyscale job list --cloud {ANYSCALE_CLOUD_NAME}"
   ]
  },
  {
   "cell_type": "markdown",
   "metadata": {
    "vscode": {
     "languageId": "raw"
    }
   },
   "source": [
    "You just start a job and you can see the logs from your Anyscale Console. You can view the running results from Anyscale console in \"Jobs\"."
   ]
  }
 ],
 "metadata": {
  "language_info": {
   "name": "python"
  }
 },
 "nbformat": 4,
 "nbformat_minor": 2
}