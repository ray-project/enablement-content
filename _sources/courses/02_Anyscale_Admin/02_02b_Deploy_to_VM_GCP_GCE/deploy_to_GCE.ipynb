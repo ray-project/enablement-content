{
  "cells": [
    {
      "cell_type": "markdown",
      "metadata": {
        "vscode": {
          "languageId": "raw"
        }
      },
      "source": [
        "# Introduction: Deploy Anyscale Ray on GCP Compute Engine Instances (GCE)\n",
        "\n",
        "© 2025, Anyscale. All Rights Reserved\n",
        "\n",
        "This notebook shows how to create the infrastructure and Anyscale-specific resources needed for GCP Compute Engine (GCE) deployments using the custom **`anyscale cloud register`** method.\n",
        "\n",
        "Use it as a starting point and replace all placeholders (e.g.&nbsp;`{ANYSCALE_CLOUD_NAME}`) with values from your environment.\n",
        "\n",
        "**What this creates:**\n",
        "- VPC and subnet for Anyscale resources\n",
        "- IAM Service Account for Compute Engine nodes\n",
        "- GCS Storage Bucket for Anyscale logs and shared resources  \n",
        "- Filestore instance for shared storage (optional)\n",
        "\n",
        "**Prerequisites:**\n",
        "- Proper GCP permissions and authentication\n"
      ]
    },
    {
      "cell_type": "markdown",
      "metadata": {
        "vscode": {
          "languageId": "raw"
        }
      },
      "source": [
        "## Prerequisites\n",
        "\n",
        "Before we begin, ensure you have the following tools installed:\n",
        "\n",
        "```bash\n",
        "# Create Google Cloud Project\n",
        "# https://cloud.google.com/resource-manager/docs/creating-managing-projects\n",
        "\n",
        "\n",
        "# Install Google Cloud SDK/CLI\n",
        "# https://cloud.google.com/sdk/docs/install\n",
        "\n",
        "# Configure Google Cloud CLI Authentication\n",
        "# https://cloud.google.com/docs/authentication/gcloud\n",
        "\n",
        "# Install Terraform (version 1.9+)\n",
        "# https://developer.hashicorp.com/terraform/install\n",
        "\n",
        "# Install Anyscale CLI (version 0.5.86+)\n",
        "# https://docs.anyscale.com/reference/quickstart-cli/\n",
        "```\n",
        "\n",
        "You also need:\n",
        "- A GCP Project with billing enabled\n",
        "- Project Owner or Editor role\n",
        "- Required APIs enabled (we'll do this in the next step)"
      ]
    },
    {
      "cell_type": "markdown",
      "metadata": {
        "vscode": {
          "languageId": "raw"
        }
      },
      "source": [
        "## 1. Installation\n"
      ]
    },
    {
      "cell_type": "markdown",
      "metadata": {
        "vscode": {
          "languageId": "raw"
        }
      },
      "source": [
        "### 1.1 Configure Google Cloud Authentication\n",
        "\n",
        "First, set up authentication and configure your GCP project:\n"
      ]
    },
    {
      "cell_type": "code",
      "execution_count": null,
      "metadata": {},
      "outputs": [],
      "source": [
        "# Set up application default credentials\n",
        "# This will open a browser window for authentication\n",
        "!gcloud auth application-default login\n",
        "\n",
        "# Set your project (replace YOUR_PROJECT_ID with your actual project ID)\n",
        "# Example: !gcloud config set project my-anyscale-project-123456\n",
        "!gcloud config set project {GCP_PROJECT_ID}\n",
        "\n",
        "# Set your region like us-west2\n",
        "!gcloud config set compute/region {GCP_REGION}\n",
        "\n",
        "# Verify authentication and configuration\n",
        "!gcloud auth list\n",
        "!gcloud config list\n"
      ]
    },
    {
      "cell_type": "markdown",
      "metadata": {
        "vscode": {
          "languageId": "raw"
        }
      },
      "source": [
        "### 1.2 Enable Required APIs\n",
        "\n",
        "Enable all the necessary Google Cloud APIs for this deployment:\n"
      ]
    },
    {
      "cell_type": "code",
      "execution_count": null,
      "metadata": {},
      "outputs": [],
      "source": [
        "!gcloud services enable \\\n",
        "  compute.googleapis.com \\\n",
        "  storage.googleapis.com \\\n",
        "  file.googleapis.com \\\n",
        "  iam.googleapis.com \\\n",
        "  cloudresourcemanager.googleapis.com\n",
        "\n",
        "# Verify APIs are enabled\n",
        "!gcloud services list --enabled --filter=\"name:compute.googleapis.com OR name:storage.googleapis.com\"\n"
      ]
    },
    {
      "cell_type": "markdown",
      "metadata": {
        "vscode": {
          "languageId": "raw"
        }
      },
      "source": [
        "## 2. Create Anyscale Resources with Terraform\n",
        "\n",
        "Let's set up the necessary Terraform variables and apply the configuration:\n",
        "\n",
        "### Creating Anyscale Resources\n",
        "\n",
        "This deployment uses the official **Anyscale Terraform modules** from [terraform-google-anyscale-cloudfoundation-modules](https://github.com/anyscale/terraform-google-anyscale-cloudfoundation-modules). These modules provide:\n",
        "\n",
        "- **Pre-tested configurations** for GCP resources\n",
        "- **Security best practices** built-in\n",
        "- **Simplified resource management** with fewer variables to configure\n",
        "- **Automatic generation** of Anyscale registration commands\n",
        "\n",
        "Steps for deploying Anyscale resources via Terraform:\n",
        "\n",
        "* Review and modify [variables.tf](variables.tf) with your own configurations, and (optionally) create a `terraform.tfvars` file to override any of the defaults.\n",
        "* You can view [main.tf](main.tf) to see how the official Anyscale modules are used.\n"
      ]
    },
    {
      "cell_type": "markdown",
      "metadata": {
        "vscode": {
          "languageId": "raw"
        }
      },
      "source": [
        "### 2.1 Create terraform.tfvars\n",
        "\n",
        "Create a `terraform.tfvars` file with your specific configuration:\n"
      ]
    },
    {
      "cell_type": "markdown",
      "metadata": {},
      "source": [
        "Create terraform.tfvars file\n",
        "\n",
        "Required variables\n",
        "\n",
        "```\n",
        "google_project_id = {GCP_PROJECT_ID} # the name of your google project, not the project_number\n",
        "google_region = {GCP_REGION} # the region of your google project\n",
        "\n",
        "# Required variables\n",
        "anyscale_cloud_id = {ANYSCALE_CLOUD_NAME} # the anyscale cloud name you want to use\n",
        "common_prefix = {PREFIX_FOR_THE_RESOURCES_ADDED} # like: \"anyscale-compute-engine\"\n",
        "aws_role_name     = \"gcp_if_{YOUR_ANYSCALE_ORG_ID}\" # You can get it from your Anyscale account's \"Organization Settings\", it is a string like \"org_xxxxxxx\". Add this value with prefix \"gcp_if_\"\n",
        "\n",
        "# Optional variables\n",
        "# bucket_name = \"my-custom-bucket-name\"  # Uncomment to use custom bucket name\n",
        "# enable_filestore = true\n",
        "# filestore_capacity_gb = 1024\n",
        "# filestore_tier = \"STANDARD\"\n",
        "```\n",
        "\n",
        "Note: The VPC will be created automatically by Terraform using the configuration in `vpc.tf`."
      ]
    },
    {
      "cell_type": "markdown",
      "metadata": {
        "vscode": {
          "languageId": "raw"
        }
      },
      "source": [
        "### 2.2 Run Terraform Commands\n",
        "\n",
        "Now let's initialize and deploy the Terraform configuration:\n"
      ]
    },
    {
      "cell_type": "code",
      "execution_count": null,
      "metadata": {},
      "outputs": [],
      "source": [
        "# Initialize Terraform\n",
        "!terraform init\n",
        "\n",
        "# Preview the changes\n",
        "!terraform plan\n",
        "\n",
        "# Apply the changes (this may take 10-15 minutes)\n",
        "!terraform apply -auto-approve\n"
      ]
    },
    {
      "cell_type": "markdown",
      "metadata": {},
      "source": [
        "<div class=\"alert alert-block alert-info\">\n",
        "<b>Take a note to the output of terraform apply! </b>You will need it when you register the Anyscale cloud to your cloud provider.\n",
        "</div>\n",
        "\n",
        "<details>\n",
        "<summary>Sample output</summary>\n",
        "```\n",
        "Outputs:\n",
        "\n",
        "anyscale_registration_command = <<EOT\n",
        "anyscale cloud register \\\n",
        "    --name <anyscale_cloud_name> \\\n",
        "    --provider gcp \\\n",
        "    --region us-west2 \\\n",
        "    --compute-stack vm \\\n",
        "    --anyscale-operator-iam-identity anyscale-nodes-d3a9a7d0@xing-compute-engine-test.iam.gserviceaccount.com \\\n",
        "    --cloud-storage-bucket-name anyscale-compute-engine-bucket-xxx \\\n",
        "    --project-id xxx \\\n",
        "    --vpc-name xxx \\\n",
        "    --subnet-names anyscale-subnet \\\n",
        "    --anyscale-service-account-email anyscale-nodes-xxx@xxx.iam.gserviceaccount.com \\\n",
        "    --instance-service-account-email anyscale-nodes-xxx@xxx.iam.gserviceaccount.com \\\n",
        "    --provider-name projects/xxx/locations/global/workloadIdentityPools/xxxx/providers/anyscale-provider \\\n",
        "    --firewall-policy-names anyscale-firewall-policy-xxxx \\\n",
        "    --file-storage-id anyscale-filestore-xxxx \\\n",
        "    --filestore-location xxxxx-a\n",
        "EOT\n",
        "compute_nodes_service_account_email =\n",
        "filestore_instance_name = \n",
        "filestore_location = \n",
        "firewall_policy_name = \n",
        "gcs_bucket_name = \n",
        "workload_identity_pool_provider = \n",
        "```\n",
        "</details>"
      ]
    },
    {
      "cell_type": "markdown",
      "metadata": {
        "vscode": {
          "languageId": "raw"
        }
      },
      "source": [
        "## 3. Register the Anyscale Cloud\n",
        "\n",
        "First, ensure you're logged into Anyscale. if you cannot run it in console, please run it in your local terminal:\n"
      ]
    },
    {
      "cell_type": "code",
      "execution_count": null,
      "metadata": {},
      "outputs": [],
      "source": [
        "# First, ensure you're logged into Anyscale\n",
        "!anyscale login"
      ]
    },
    {
      "cell_type": "markdown",
      "metadata": {
        "vscode": {
          "languageId": "raw"
        }
      },
      "source": [
        "Then use the output of `terraform apply` to register Anyscale cloud. You only need to replace the `--name` parameter with your preferred `ANYSCALE_CLOUD_NAME`. The command looks like:\n",
        "\n",
        "```bash\n",
        "anyscale cloud register ...\n",
        "```\n",
        "\n",
        "You will get output like:\n",
        "\n",
        "```text\n",
        "Output\n",
        "(anyscale +18.0s) Successfully created cloud anyscale-cloud-gce-private-xxxxx, and it's ready to use.\n",
        "```"
      ]
    },
    {
      "cell_type": "markdown",
      "metadata": {
        "vscode": {
          "languageId": "raw"
        }
      },
      "source": [
        "## 4. Test\n",
        "\n",
        "Once the cloud is registered, you cOnce the cluster is created, you can test it by submitting a job:an test it by submitting a job:\n"
      ]
    },
    {
      "cell_type": "code",
      "execution_count": null,
      "metadata": {},
      "outputs": [],
      "source": [
        "A_RANDOM_JOB_NAME = \"A random job name\"  # Replace with a random job name you like\n",
        "\n",
        "!cd ../test && python test_job.py --cloud-name {ANYSCALE_CLOUD_NAME} --stack-type vm --cloud-provider gcp\n",
        "\n",
        "# You can check the job status by running:\n",
        "!anyscale job list --cloud {ANYSCALE_CLOUD_NAME}"
      ]
    },
    {
      "cell_type": "markdown",
      "metadata": {
        "vscode": {
          "languageId": "raw"
        }
      },
      "source": [
        "You just start a job and you can see the logs from your Anyscale Console. You can view the running results from Anyscale console in \"Jobs\"."
      ]
    },
    {
      "cell_type": "markdown",
      "metadata": {
        "vscode": {
          "languageId": "raw"
        }
      },
      "source": [
        "## 5. Cleanup\n",
        "\n",
        "When you're done, you can terminate the cluster and clean up resources:\n"
      ]
    },
    {
      "cell_type": "code",
      "execution_count": null,
      "metadata": {},
      "outputs": [],
      "source": [
        "# Step 1: Delete any running clusters\n",
        "!anyscale cluster terminate --name gcp-compute-ray-cluster-autoscaled\n",
        "\n",
        "# Step 2: Delete Anyscale Cloud Registration\n",
        "!anyscale cloud delete {ANYSCALE_CLOUD_NAME}\n",
        "\n",
        "# Step 3: Empty GCS bucket (if it has objects)\n",
        "# (Optional) If you want to delete the GCS bucket, you can run the following command:\n",
        "# Find your GCS bucket name from the output of the terraform apply command, then run the following command:\n",
        "!gsutil rm -r gs://{GCS_BUCKET_NAME}/*\n",
        "\n",
        "\n",
        "# Step 4: Destroy Terraform resources\n",
        "!terraform destroy -auto-approve\n",
        "\n",
        "# Optional: # You may need to delete firewall policy created by terraform manually."
      ]
    }
  ],
  "metadata": {
    "language_info": {
      "name": "python"
    }
  },
  "nbformat": 4,
  "nbformat_minor": 2
}
