{
 "cells": [
  {
   "cell_type": "markdown",
   "metadata": {
    "vscode": {
     "languageId": "raw"
    }
   },
   "source": [
    "# Introduction: Deploy Anyscale Ray on A New Google Kubernetes Engine (GKE) Cluster\n",
    "\n",
    "\u00a9 2025, Anyscale. All Rights Reserved\n",
    "\n",
    "This comprehensive guide walks you through the entire process of deploying Anyscale on GKE using the custom **`anyscale cloud register`** method. It walks through the necessary steps from prerequisites to Ray installation with Anyscale Operator.\n",
    "\n",
    "Use it as a starting point and replace all placeholders (e.g.&nbsp;`{ANYSCALE_CLOUD_NAME}`) with values from your environment.\n",
    "\n",
    "It is based on this [example](https://github.com/anyscale/terraform-kubernetes-anyscale-foundation-modules/blob/main/examples/gcp/gke-new_cluster/README.md), please refer to it for more information."
   ]
  }
 ],
 "metadata": {
  "kernelspec": {
   "display_name": "Xing-ray-jupyter-3.11",
   "language": "python",
   "name": "xing-ray-jupyter"
  },
  "language_info": {
   "codemirror_mode": {
    "name": "ipython",
    "version": 3
   },
   "file_extension": ".py",
   "mimetype": "text/x-python",
   "name": "python",
   "nbconvert_exporter": "python",
   "pygments_lexer": "ipython3",
   "version": "3.11.13"
  }
 },
 "nbformat": 4,
 "nbformat_minor": 2
}