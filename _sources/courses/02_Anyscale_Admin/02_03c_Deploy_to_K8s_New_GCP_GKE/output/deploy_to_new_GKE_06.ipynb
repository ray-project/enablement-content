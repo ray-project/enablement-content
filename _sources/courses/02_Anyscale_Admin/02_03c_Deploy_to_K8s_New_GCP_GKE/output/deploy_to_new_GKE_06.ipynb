{
 "cells": [
  {
   "cell_type": "markdown",
   "metadata": {
    "vscode": {
     "languageId": "raw"
    }
   },
   "source": [
    "## 4. kubectl Configuration\n",
    "\n",
    "Configure kubectl to connect to your newly created GKE cluster:\n"
   ]
  },
  {
   "cell_type": "code",
   "execution_count": null,
   "metadata": {},
   "outputs": [],
   "source": [
    "# Install GKE auth plugin\n",
    "!gcloud components install gke-gcloud-auth-plugin\n",
    "\n",
    "# Get cluster credentials (replace with your actual values)\n",
    "!gcloud container clusters get-credentials anyscale-gke --region {GCP_REGION} --project {GCP_PROJECT_ID}\n",
    "\n",
    "# Verify connection\n",
    "!kubectl get nodes\n"
   ]
  }
 ],
 "metadata": {
  "kernelspec": {
   "display_name": "Xing-ray-jupyter-3.11",
   "language": "python",
   "name": "xing-ray-jupyter"
  },
  "language_info": {
   "codemirror_mode": {
    "name": "ipython",
    "version": 3
   },
   "file_extension": ".py",
   "mimetype": "text/x-python",
   "name": "python",
   "nbconvert_exporter": "python",
   "pygments_lexer": "ipython3",
   "version": "3.11.13"
  }
 },
 "nbformat": 4,
 "nbformat_minor": 2
}