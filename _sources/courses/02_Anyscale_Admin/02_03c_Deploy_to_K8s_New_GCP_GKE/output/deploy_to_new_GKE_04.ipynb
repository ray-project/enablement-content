{
 "cells": [
  {
   "cell_type": "markdown",
   "metadata": {
    "vscode": {
     "languageId": "raw"
    }
   },
   "source": [
    "## 2. Create Anyscale Resources with Terraform\n",
    "\n",
    "Now we'll set up the GKE infrastructure using Terraform.\n"
   ]
  },
  {
   "cell_type": "markdown",
   "metadata": {
    "vscode": {
     "languageId": "raw"
    }
   },
   "source": [
    "### 2.1: Create terraform.tfvars\n",
    "\n",
    "Create a `terraform.tfvars` file with your specific configuration:\n"
   ]
  },
  {
   "cell_type": "markdown",
   "metadata": {},
   "source": [
    "```\n",
    "google_project_id = {GCP_PROJECT_ID}\n",
    "google_region = {GCP_REGION}\n",
    "```"
   ]
  },
  {
   "cell_type": "markdown",
   "metadata": {
    "vscode": {
     "languageId": "raw"
    }
   },
   "source": [
    "### 2.2: Deploy Infrastructure\n",
    "\n",
    "Initialize and deploy the Terraform configuration:\n"
   ]
  },
  {
   "cell_type": "code",
   "execution_count": null,
   "metadata": {},
   "outputs": [],
   "source": [
    "# Initialize Terraform\n",
    "!terraform init\n",
    "\n",
    "# Plan the deployment (review what will be created)\n",
    "!terraform plan\n",
    "\n",
    "# Apply the configuration (this may take 10-15 minutes)\n",
    "!terraform apply -auto-approve"
   ]
  },
  {
   "cell_type": "markdown",
   "metadata": {},
   "source": [
    "<div class=\"alert alert-block alert-info\">\n",
    "<b>Take a note to the output of terraform apply! </b>You will need it when you register the Anyscale cloud to your cloud provider.\n",
    "</div>\n",
    "\n",
    "<details>\n",
    "<summary>Sample output</summary>\n",
    "```\n",
    "Outputs:\n",
    "\n",
    "anyscale_registration_command = <<EOT\n",
    "anyscale cloud register \\\n",
    "    --name <anyscale_cloud_name> \\\n",
    "    --provider gcp \\\n",
    "    --region us-west2 \\\n",
    "    --compute-stack vm \\\n",
    "    --anyscale-operator-iam-identity anyscale-nodes-d3a9a7d0@xing-compute-engine-test.iam.gserviceaccount.com \\\n",
    "    --cloud-storage-bucket-name anyscale-compute-engine-bucket-xxx \\\n",
    "    --project-id xxx \\\n",
    "    --vpc-name xxx \\\n",
    "    --subnet-names anyscale-subnet \\\n",
    "    --anyscale-service-account-email anyscale-nodes-xxx@xxx.iam.gserviceaccount.com \\\n",
    "    --instance-service-account-email anyscale-nodes-xxx@xxx.iam.gserviceaccount.com \\\n",
    "    --provider-name projects/xxx/locations/global/workloadIdentityPools/xxxx/providers/anyscale-provider \\\n",
    "    --firewall-policy-names anyscale-firewall-policy-xxxx \\\n",
    "    --file-storage-id anyscale-filestore-xxxx \\\n",
    "    --filestore-location xxxxx-a\n",
    "EOT\n",
    "compute_nodes_service_account_email =\n",
    "filestore_instance_name = \n",
    "filestore_location = \n",
    "firewall_policy_name = \n",
    "gcs_bucket_name = \n",
    "workload_identity_pool_provider = \n",
    "```\n",
    "</details>"
   ]
  }
 ],
 "metadata": {
  "kernelspec": {
   "display_name": "Xing-ray-jupyter-3.11",
   "language": "python",
   "name": "xing-ray-jupyter"
  },
  "language_info": {
   "codemirror_mode": {
    "name": "ipython",
    "version": 3
   },
   "file_extension": ".py",
   "mimetype": "text/x-python",
   "name": "python",
   "nbconvert_exporter": "python",
   "pygments_lexer": "ipython3",
   "version": "3.11.13"
  }
 },
 "nbformat": 4,
 "nbformat_minor": 2
}