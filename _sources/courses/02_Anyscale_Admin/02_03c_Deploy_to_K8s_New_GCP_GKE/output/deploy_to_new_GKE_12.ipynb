{
 "cells": [
  {
   "cell_type": "markdown",
   "metadata": {},
   "source": [
    "## 9. Cleanup\n",
    "\n",
    "When you're done, you can terminate the cluster and clean up resources:\n"
   ]
  },
  {
   "cell_type": "code",
   "execution_count": null,
   "metadata": {},
   "outputs": [],
   "source": [
    "# Step 1: Delete Anyscale Cloud Registration\n",
    "\n",
    "!anyscale cloud delete {ANYSCALE_CLOUD_NAME}\n",
    "\n",
    "# Step 2: Clean up Kubernetes resources (BEFORE deleting cluster)\n",
    "\n",
    "!helm uninstall anyscale-operator --namespace anyscale-operator\n",
    "!helm uninstall ingress-nginx --namespace ingress-nginx\n",
    "!kubectl delete namespace anyscale-operator\n",
    "!kubectl delete namespace ingress-nginx\n",
    "\n",
    "# Step 3: Empty GCS bucket (if it has objects)\n",
    "# (Optional) Please make sure the Compute Engine API and any other required APIs are enabled:\n",
    "#!gcloud services list --enabled --project={YOUR_GCP_PROJECT_NAME}\n",
    "\n",
    "# (Optional) If you want to delete the GCS bucket, you can run the following command:\n",
    "# Find your GCS bucket name from the output of the terraform apply command, then run the following command:\n",
    "!gsutil rm -r gs://{GCS_BUCKET_NAME}/*\n",
    "\n",
    "# Step 4: Destroy Terraform resources\n",
    "!terraform destroy --auto-approve -var=\"google_project_id={GCP_PROJECT_ID}\" -var=\"google_region={GCP_REGION}\"\n",
    "\n",
    "# You may need to delete service accounts and VPC network created by terraform manually."
   ]
  }
 ],
 "metadata": {
  "kernelspec": {
   "display_name": "Xing-ray-jupyter-3.11",
   "language": "python",
   "name": "xing-ray-jupyter"
  },
  "language_info": {
   "codemirror_mode": {
    "name": "ipython",
    "version": 3
   },
   "file_extension": ".py",
   "mimetype": "text/x-python",
   "name": "python",
   "nbconvert_exporter": "python",
   "pygments_lexer": "ipython3",
   "version": "3.11.13"
  }
 },
 "nbformat": 4,
 "nbformat_minor": 2
}