{
 "cells": [
  {
   "cell_type": "markdown",
   "metadata": {
    "vscode": {
     "languageId": "raw"
    }
   },
   "source": [
    "## 5. Install NGINX Ingress Controller\n",
    "\n",
    "Install the NGINX Ingress Controller to handle external traffic. Choose sample-values_nginx_gke_private.yaml or sample-values_nginx_gke_public.yaml depending on your preference.\n"
   ]
  },
  {
   "cell_type": "code",
   "execution_count": null,
   "metadata": {},
   "outputs": [],
   "source": [
    "# Add Helm repository for NGINX\n",
    "!helm repo add nginx https://kubernetes.github.io/ingress-nginx\n",
    "!helm repo update\n",
    "\n",
    "# Install NGINX Ingress Controller\n",
    "!helm upgrade ingress-nginx nginx/ingress-nginx \\\n",
    "  --version 4.12.1 \\\n",
    "  --namespace ingress-nginx \\\n",
    "  --values nginx-values.yaml \\\n",
    "  --create-namespace \\\n",
    "  --install"
   ]
  },
  {
   "cell_type": "code",
   "execution_count": null,
   "metadata": {},
   "outputs": [],
   "source": [
    "# Verify NGINX installation\n",
    "!kubectl get service --namespace ingress-nginx ingress-nginx-controller --output wide\n",
    "!kubectl get pods --namespace ingress-nginx\n",
    "\n",
    "# Wait for external IP to be assigned (may take a few minutes)\n",
    "!kubectl get service --namespace ingress-nginx ingress-nginx-controller --watch"
   ]
  }
 ],
 "metadata": {
  "kernelspec": {
   "display_name": "Xing-ray-jupyter-3.11",
   "language": "python",
   "name": "xing-ray-jupyter"
  },
  "language_info": {
   "codemirror_mode": {
    "name": "ipython",
    "version": 3
   },
   "file_extension": ".py",
   "mimetype": "text/x-python",
   "name": "python",
   "nbconvert_exporter": "python",
   "pygments_lexer": "ipython3",
   "version": "3.11.13"
  }
 },
 "nbformat": 4,
 "nbformat_minor": 2
}