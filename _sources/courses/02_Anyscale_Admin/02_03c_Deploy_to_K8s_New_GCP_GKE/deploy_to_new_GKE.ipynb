{
  "cells": [
    {
      "cell_type": "markdown",
      "metadata": {
        "vscode": {
          "languageId": "raw"
        }
      },
      "source": [
        "# Introduction: Deploy Anyscale Ray on A New Google Kubernetes Engine (GKE) Cluster\n",
        "\n",
        "© 2025, Anyscale. All Rights Reserved\n",
        "\n",
        "This comprehensive guide walks you through the entire process of deploying Anyscale on GKE using the custom **`anyscale cloud register`** method. It walks through the necessary steps from prerequisites to Ray installation with Anyscale Operator.\n",
        "\n",
        "Use it as a starting point and replace all placeholders (e.g.&nbsp;`{ANYSCALE_CLOUD_NAME}`) with values from your environment.\n",
        "\n",
        "It is based on this [example](https://github.com/anyscale/terraform-kubernetes-anyscale-foundation-modules/blob/main/examples/gcp/gke-new_cluster/README.md), please refer to it for more information."
      ]
    },
    {
      "cell_type": "markdown",
      "metadata": {
        "vscode": {
          "languageId": "raw"
        }
      },
      "source": [
        "## Prerequisites\n",
        "\n",
        "Before you begin, ensure you have the following tools installed:\n",
        "\n",
        "```bash\n",
        "# Create Google Cloud Project\n",
        "# https://cloud.google.com/resource-manager/docs/creating-managing-projects\n",
        "\n",
        "# Install Google Cloud SDK/CLI\n",
        "# https://cloud.google.com/sdk/docs/install\n",
        "\n",
        "# Configure Google Cloud CLI Authentication\n",
        "# https://cloud.google.com/docs/authentication/gcloud\n",
        "\n",
        "# Install kubectl (version 1.25+)\n",
        "# https://kubernetes.io/docs/tasks/tools/\n",
        "\n",
        "# Install helm (version 3.10+)\n",
        "# https://helm.sh/docs/intro/install/\n",
        "\n",
        "# Install Anyscale CLI (version 0.5.86+)\n",
        "# https://docs.anyscale.com/reference/quickstart-cli/\n",
        "\n",
        "# Install Terraform (version 1.9+)\n",
        "# https://developer.hashicorp.com/terraform/install\n",
        "```\n",
        "\n",
        "You also need:\n",
        "- GCP Project Owner or Editor role\n",
        "- Billing account enabled\n",
        "- Required APIs enabled (we'll do this in the next step)\n"
      ]
    },
    {
      "cell_type": "markdown",
      "metadata": {},
      "source": [
        "<div class=\"alert alert-block alert-info\">\n",
        "<b>Alternative Terraform Installation:</b> If you are not able to install <b>Terraform 1.9+</b> with homebrew, you can try to install it with <code>tfenv</code>.\n",
        "\n",
        "<details>\n",
        "<summary>Click to expand installation steps</summary>\n",
        "\n",
        "```bash\n",
        "brew install tfenv\n",
        "tfenv install 1.9.0\n",
        "tfenv use 1.9.0\n",
        "terraform version\n",
        "```\n",
        "\n",
        "</details>\n",
        "</div>"
      ]
    },
    {
      "cell_type": "markdown",
      "metadata": {},
      "source": [
        "## 1. Installation"
      ]
    },
    {
      "cell_type": "markdown",
      "metadata": {
        "vscode": {
          "languageId": "raw"
        }
      },
      "source": [
        "### 1.1. Configure Google Cloud Authentication\n",
        "\n",
        "<details>\n",
        "<summary>Before starting, add gcloud command to your environment variables if you want to run your gcloud command globally:\n",
        "</summary>\n",
        "\n",
        "First, find your gcloud executable. On your system it might be under:\n",
        "\n",
        "```bash\n",
        " /Users/{USER_NAME}/Downloads/google-cloud-sdk/bin/gcloud\n",
        " ```\n",
        " \n",
        "Second, run:\n",
        "\n",
        "```bash\n",
        "echo $SHELL\n",
        "```\n",
        "\n",
        "The output might be:\n",
        "\n",
        "```bash\n",
        "/bin/zsh\n",
        "```\n",
        "Export the gcloud path. For example:\n",
        "\n",
        "```bash\n",
        "echo 'export PATH=\"/Users/{USER_NAME}/Downloads/google_cloud/sdk/bin:$PATH\"' >> ~/.zshrc'\n",
        "```\n",
        "\n",
        "Finally, run:\n",
        "```bash\n",
        "source ~/.zshrc\n",
        "```\n",
        "in your current terminal to start using gcloud command.\n",
        "</detail>\n"
      ]
    },
    {
      "cell_type": "markdown",
      "metadata": {},
      "source": [
        "Define the global variables and configure Google Cloud Authentication:"
      ]
    },
    {
      "cell_type": "code",
      "execution_count": null,
      "metadata": {},
      "outputs": [],
      "source": [
        "GCP_PROJECT_ID = \"anyscale-enablement-june-2025\" # Replace with your actual Google project ID\n",
        "GCP_REGION = \"us-west2\" # Replace with your actual GCP region\n",
        "ANYSCALE_CLOUD_NAME = \"anyscale-cloud-gke-private-xxx\" # Replace with your actual Anyscale cloud name"
      ]
    },
    {
      "cell_type": "code",
      "execution_count": null,
      "metadata": {},
      "outputs": [],
      "source": [
        "# Set up application default credentials\n",
        "!gcloud auth application-default login\n",
        "\n",
        "# Set your project (replace with your actual project ID)\n",
        "!gcloud config set project {GCP_PROJECT_ID}\n",
        "\n",
        "# Set your region\n",
        "!gcloud config set compute/region {GCP_REGION}\n",
        "\n",
        "# Verify configuration\n",
        "!gcloud config list\n"
      ]
    },
    {
      "cell_type": "markdown",
      "metadata": {
        "vscode": {
          "languageId": "raw"
        }
      },
      "source": [
        "### 1.2: Enable Required APIs\n",
        "\n",
        "Enable all the necessary Google Cloud APIs for this deployment:\n"
      ]
    },
    {
      "cell_type": "code",
      "execution_count": null,
      "metadata": {},
      "outputs": [],
      "source": [
        "!gcloud services enable \\\n",
        "  container.googleapis.com \\\n",
        "  compute.googleapis.com \\\n",
        "  storage.googleapis.com \\\n",
        "  file.googleapis.com \\\n",
        "  iam.googleapis.com \\\n",
        "  cloudresourcemanager.googleapis.com\n",
        "\n",
        "# Verify APIs are enabled\n",
        "!gcloud services list --enabled --filter=\"name:container.googleapis.com OR name:compute.googleapis.com\"\n"
      ]
    },
    {
      "cell_type": "markdown",
      "metadata": {},
      "source": [
        "You will see:\n",
        "```bash\n",
        "NAME                      TITLE\n",
        "compute.googleapis.com    Compute Engine API\n",
        "container.googleapis.com  Kubernetes Engine API\n",
        "```\n",
        "which means k8s and GCE APIs are enabled."
      ]
    },
    {
      "cell_type": "markdown",
      "metadata": {
        "vscode": {
          "languageId": "raw"
        }
      },
      "source": [
        "## 2. Create Anyscale Resources with Terraform\n",
        "\n",
        "Now we'll set up the GKE infrastructure using Terraform.\n"
      ]
    },
    {
      "cell_type": "markdown",
      "metadata": {
        "vscode": {
          "languageId": "raw"
        }
      },
      "source": [
        "### 2.1: Create terraform.tfvars\n",
        "\n",
        "Create a `terraform.tfvars` file with your specific configuration:\n"
      ]
    },
    {
      "cell_type": "markdown",
      "metadata": {},
      "source": [
        "```\n",
        "google_project_id = {GCP_PROJECT_ID}\n",
        "google_region = {GCP_REGION}\n",
        "```"
      ]
    },
    {
      "cell_type": "markdown",
      "metadata": {
        "vscode": {
          "languageId": "raw"
        }
      },
      "source": [
        "### 2.2: Deploy Infrastructure\n",
        "\n",
        "Initialize and deploy the Terraform configuration:\n"
      ]
    },
    {
      "cell_type": "code",
      "execution_count": null,
      "metadata": {},
      "outputs": [],
      "source": [
        "# Initialize Terraform\n",
        "!terraform init\n",
        "\n",
        "# Plan the deployment (review what will be created)\n",
        "!terraform plan\n",
        "\n",
        "# Apply the configuration (this may take 10-15 minutes)\n",
        "!terraform apply -auto-approve"
      ]
    },
    {
      "cell_type": "markdown",
      "metadata": {},
      "source": [
        "<div class=\"alert alert-block alert-info\">\n",
        "<b>Take a note to the output of terraform apply! </b>You will need it when you register the Anyscale cloud to your cloud provider.\n",
        "</div>\n",
        "\n",
        "<details>\n",
        "<summary>Sample output</summary>\n",
        "```\n",
        "Outputs:\n",
        "\n",
        "anyscale_registration_command = <<EOT\n",
        "anyscale cloud register \\\n",
        "    --name <anyscale_cloud_name> \\\n",
        "    --provider gcp \\\n",
        "    --region us-west2 \\\n",
        "    --compute-stack vm \\\n",
        "    --anyscale-operator-iam-identity anyscale-nodes-d3a9a7d0@xing-compute-engine-test.iam.gserviceaccount.com \\\n",
        "    --cloud-storage-bucket-name anyscale-compute-engine-bucket-xxx \\\n",
        "    --project-id xxx \\\n",
        "    --vpc-name xxx \\\n",
        "    --subnet-names anyscale-subnet \\\n",
        "    --anyscale-service-account-email anyscale-nodes-xxx@xxx.iam.gserviceaccount.com \\\n",
        "    --instance-service-account-email anyscale-nodes-xxx@xxx.iam.gserviceaccount.com \\\n",
        "    --provider-name projects/xxx/locations/global/workloadIdentityPools/xxxx/providers/anyscale-provider \\\n",
        "    --firewall-policy-names anyscale-firewall-policy-xxxx \\\n",
        "    --file-storage-id anyscale-filestore-xxxx \\\n",
        "    --filestore-location xxxxx-a\n",
        "EOT\n",
        "compute_nodes_service_account_email =\n",
        "filestore_instance_name = \n",
        "filestore_location = \n",
        "firewall_policy_name = \n",
        "gcs_bucket_name = \n",
        "workload_identity_pool_provider = \n",
        "```\n",
        "</details>"
      ]
    },
    {
      "cell_type": "markdown",
      "metadata": {
        "vscode": {
          "languageId": "raw"
        }
      },
      "source": [
        "## 3. Troubleshooting GPU Availability\n",
        "\n",
        "<div class=\"alert alert-block alert-warning\">\n",
        "<b>Common Issue:</b> T4 GPUs may not be available in all zones. If you encounter GPU availability errors, follow these steps:\n",
        "</div>\n"
      ]
    },
    {
      "cell_type": "code",
      "execution_count": null,
      "metadata": {},
      "outputs": [],
      "source": [
        "# Check GPU availability by your zone, for example, us-west2\n",
        "!gcloud compute accelerator-types list --filter=\"zone:{GCP_REGION}\"\n",
        "\n",
        "# If T4 GPUs are not available in us-west2-a, you may need to modify the Terraform configuration\n",
        "# to use different zones where T4 GPUs are available\n"
      ]
    },
    {
      "cell_type": "markdown",
      "metadata": {
        "vscode": {
          "languageId": "raw"
        }
      },
      "source": [
        "## 4. kubectl Configuration\n",
        "\n",
        "Configure kubectl to connect to your newly created GKE cluster:\n"
      ]
    },
    {
      "cell_type": "code",
      "execution_count": null,
      "metadata": {},
      "outputs": [],
      "source": [
        "# Install GKE auth plugin\n",
        "!gcloud components install gke-gcloud-auth-plugin\n",
        "\n",
        "# Get cluster credentials (replace with your actual values)\n",
        "!gcloud container clusters get-credentials anyscale-gke --region {GCP_REGION} --project {GCP_PROJECT_ID}\n",
        "\n",
        "# Verify connection\n",
        "!kubectl get nodes\n"
      ]
    },
    {
      "cell_type": "markdown",
      "metadata": {
        "vscode": {
          "languageId": "raw"
        }
      },
      "source": [
        "## 5. Install NGINX Ingress Controller\n",
        "\n",
        "Install the NGINX Ingress Controller to handle external traffic. Choose sample-values_nginx_gke_private.yaml or sample-values_nginx_gke_public.yaml depending on your preference.\n"
      ]
    },
    {
      "cell_type": "code",
      "execution_count": null,
      "metadata": {},
      "outputs": [],
      "source": [
        "# Add Helm repository for NGINX\n",
        "!helm repo add nginx https://kubernetes.github.io/ingress-nginx\n",
        "!helm repo update\n",
        "\n",
        "# Install NGINX Ingress Controller\n",
        "!helm upgrade ingress-nginx nginx/ingress-nginx \\\n",
        "  --version 4.12.1 \\\n",
        "  --namespace ingress-nginx \\\n",
        "  --values nginx-values.yaml \\\n",
        "  --create-namespace \\\n",
        "  --install"
      ]
    },
    {
      "cell_type": "code",
      "execution_count": null,
      "metadata": {},
      "outputs": [],
      "source": [
        "# Verify NGINX installation\n",
        "!kubectl get service --namespace ingress-nginx ingress-nginx-controller --output wide\n",
        "!kubectl get pods --namespace ingress-nginx\n",
        "\n",
        "# Wait for external IP to be assigned (may take a few minutes)\n",
        "!kubectl get service --namespace ingress-nginx ingress-nginx-controller --watch"
      ]
    },
    {
      "cell_type": "markdown",
      "metadata": {
        "vscode": {
          "languageId": "raw"
        }
      },
      "source": [
        "## 6. (Optional) Upgrade Anyscale Dependencies\n",
        "\n",
        "Install the required Anyscale dependencies and CLI:\n"
      ]
    },
    {
      "cell_type": "code",
      "execution_count": null,
      "metadata": {},
      "outputs": [],
      "source": [
        "# Install GCP dependencies for Anyscale\n",
        "!pip install 'anyscale[gcp]'\n",
        "\n",
        "# Upgrade Anyscale CLI to latest version\n",
        "!pip install --upgrade anyscale\n",
        "\n",
        "# Verify installation\n",
        "!anyscale --version"
      ]
    },
    {
      "cell_type": "markdown",
      "metadata": {
        "vscode": {
          "languageId": "raw"
        }
      },
      "source": [
        "## 7. Register the Anyscale Cloud\n",
        "\n",
        "First, ensure you're logged into Anyscale. if you cannot run it in console, please run it in your local terminal:"
      ]
    },
    {
      "cell_type": "code",
      "execution_count": null,
      "metadata": {},
      "outputs": [],
      "source": [
        "!anyscale login"
      ]
    },
    {
      "cell_type": "markdown",
      "metadata": {},
      "source": [
        "Then use the output of `terraform apply` to register Anyscale cloud. You only need to replace the `--name` parameter with your preferred `ANYSCALE_CLOUD_NAME`. The command looks like:\n",
        "\n",
        "```bash\n",
        "anyscale cloud register ...\n",
        "```\n",
        "\n",
        "You will get output like:\n",
        "\n",
        "```text\n",
        "Output\n",
        "(anyscale +17.9s) For registering this cloud's Kubernetes Manager, use cloud deployment ID 'cldrsrc_12345abcdefgh67890ijklmnop'.\n",
        "(anyscale +18.0s) Successfully created cloud anyscale-cloud-gke-private-xxxxx, and it's ready to use.\n",
        "```\n",
        "\n",
        "After running the command, note the Cloud Deployment ID from the output. It will look something like: \n",
        "```\n",
        "cldrsrc_12345abcdefgh67890ijklmnop\n",
        "```\n",
        "You'll need this for the next step\n"
      ]
    },
    {
      "cell_type": "markdown",
      "metadata": {},
      "source": [
        "## 8. Install the Anyscale Operator"
      ]
    },
    {
      "cell_type": "code",
      "execution_count": null,
      "metadata": {},
      "outputs": [],
      "source": [
        "# Set the cloud deployment ID from the previous step\n",
        "CLOUD_DEPLOYMENT_ID = \"cldrsrc_12345abcdefgh67890ijklmnop\"  # Replace with your actual cloud deployment ID\n",
        "\n",
        "!helm repo add anyscale https://anyscale.github.io/helm-charts\n",
        "!helm upgrade anyscale-operator anyscale/anyscale-operator \\\n",
        "  --set-string cloudDeploymentId={CLOUD_DEPLOYMENT_ID} \\\n",
        "  --set-string cloudProvider=aws \\\n",
        "  --set-string region={GCP_REGION} \\\n",
        "  --set-string workloadServiceAccountName=anyscale-operator \\\n",
        "  --namespace anyscale-operator \\\n",
        "  --create-namespace \\\n",
        "  --install"
      ]
    },
    {
      "cell_type": "markdown",
      "metadata": {},
      "source": [
        "## 8. Test\n",
        "\n",
        "Once the cluster is created, you can test it by submitting a job:"
      ]
    },
    {
      "cell_type": "code",
      "execution_count": null,
      "metadata": {},
      "outputs": [],
      "source": [
        "!cd ../test && python test_job.py --cloud-name {ANYSCALE_CLOUD_NAME} --stack-type k8s\n",
        "\n",
        "# You can check the job status by running:\n",
        "!anyscale job list --cloud {ANYSCALE_CLOUD_NAME}"
      ]
    },
    {
      "cell_type": "markdown",
      "metadata": {},
      "source": [
        "You just start a job and you can see the logs from your Anyscale Console. You can view the running results from Anyscale console in \"Jobs\"."
      ]
    },
    {
      "cell_type": "markdown",
      "metadata": {},
      "source": [
        "## 9. Cleanup\n",
        "\n",
        "When you're done, you can terminate the cluster and clean up resources:\n"
      ]
    },
    {
      "cell_type": "code",
      "execution_count": null,
      "metadata": {},
      "outputs": [],
      "source": [
        "# Step 1: Delete Anyscale Cloud Registration\n",
        "\n",
        "!anyscale cloud delete {ANYSCALE_CLOUD_NAME}\n",
        "\n",
        "# Step 2: Clean up Kubernetes resources (BEFORE deleting cluster)\n",
        "\n",
        "!helm uninstall anyscale-operator --namespace anyscale-operator\n",
        "!helm uninstall ingress-nginx --namespace ingress-nginx\n",
        "!kubectl delete namespace anyscale-operator\n",
        "!kubectl delete namespace ingress-nginx\n",
        "\n",
        "# Step 3: Empty GCS bucket (if it has objects)\n",
        "# (Optional) Please make sure the Compute Engine API and any other required APIs are enabled:\n",
        "#!gcloud services list --enabled --project={YOUR_GCP_PROJECT_NAME}\n",
        "\n",
        "# (Optional) If you want to delete the GCS bucket, you can run the following command:\n",
        "# Find your GCS bucket name from the output of the terraform apply command, then run the following command:\n",
        "!gsutil rm -r gs://{GCS_BUCKET_NAME}/*\n",
        "\n",
        "# Step 4: Destroy Terraform resources\n",
        "!terraform destroy --auto-approve -var=\"google_project_id={GCP_PROJECT_ID}\" -var=\"google_region={GCP_REGION}\"\n",
        "\n",
        "# You may need to delete service accounts and VPC network created by terraform manually."
      ]
    }
  ],
  "metadata": {
    "kernelspec": {
      "display_name": "Xing-ray-jupyter-3.11",
      "language": "python",
      "name": "xing-ray-jupyter"
    },
    "language_info": {
      "codemirror_mode": {
        "name": "ipython",
        "version": 3
      },
      "file_extension": ".py",
      "mimetype": "text/x-python",
      "name": "python",
      "nbconvert_exporter": "python",
      "pygments_lexer": "ipython3",
      "version": "3.11.13"
    }
  },
  "nbformat": 4,
  "nbformat_minor": 2
}
