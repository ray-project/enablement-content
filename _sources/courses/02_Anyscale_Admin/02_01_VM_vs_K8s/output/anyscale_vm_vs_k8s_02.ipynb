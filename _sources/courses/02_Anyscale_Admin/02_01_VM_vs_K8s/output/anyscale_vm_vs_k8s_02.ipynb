{
 "cells": [
  {
   "cell_type": "markdown",
   "id": "b85c1f6d",
   "metadata": {},
   "source": [
    "##  2. Virtual Machines (VM) vs. Kubernetes (K8s)\n",
    "\n",
    "Because Anyscale supports two infrastructure deployment types, you might wonder about the differences and which one you should use. This section explains the distinctions using AWS deployment examples, focusing on what resources Anyscale needs access to across the control layer, data layer, and workload execution.\n",
    "\n",
    "**Key Points:**\n",
    "\n",
    "* **Full Feature Parity**: Both VM and K8s deployments offer complete access to all Anyscale Platform features, including Workspaces, Services, Jobs, Job Queues, and advanced instance management.\n",
    "\n",
    "* **Primarily a Preference Decision**: For most users, the choice between VM and K8s deployments comes down to organizational preference and existing infrastructure. However, the following considerations can help guide your decision.\n",
    "\n",
    "The diagrams below illustrate the fundamental architectural differences between VM-based and Kubernetes-based Anyscale deployments:\n",
    "\n",
    "\n",
    "<div style=\"display: flex; justify-content: space-between; align-items: flex-start; gap: 20px;\">\n",
    "  <div style=\"flex: 1; text-align: center;\">\n",
    "    <h3>VM-based Architecture (EC2 example)</h3>\n",
    "    <img src=\"https://docs.anyscale.com/assets/images/aws-customer-defined-2ec2f924ecfe532b9ac8c30376c32aa4.png\" alt=\"VM-based Anyscale Architecture\" style=\"width: 100%; max-width: 600px;\">\n",
    "    <p><em>VM-based deployment with direct instance management</em></p>\n",
    "  </div>\n",
    "  <div style=\"flex: 1; text-align: center;\">\n",
    "    <h3>K8s-based Architecture</h3>\n",
    "    <img src=\"https://docs.anyscale.com/img/cloud-deployment/kubernetes.png\" alt=\"K8s-based Anyscale Architecture\" style=\"width: 100%; max-width: 600px;\">\n",
    "    <p><em>Pod-based deployment with Kubernetes orchestration</em></p>\n",
    "  </div>\n",
    "</div>"
   ]
  },
  {
   "cell_type": "markdown",
   "id": "63655edc",
   "metadata": {},
   "source": [
    "###  2.1 Control Layer: What Anyscale Manages or Needs Access To\n",
    "\n",
    "| Category                   | **VM-based**                                                              | **K8s-based**                                                                         |\n",
    "| -------------------------- | ------------------------------------------------------------------------------- | ------------------------------------------------------------------------------------------- |\n",
    "| **IAM permissions**        | \u2022 Requires a **cross-account IAM role**<br>\u2022 **Instance profiles** are used to grant access to cloud services | \u2022 **No cross-account IAM role required**\u2014Anyscale runs as a service within your infrastructure<br>\u2022 **All cloud resources access handled** |\n",
    "| **Resource management**    | \u2022 Anyscale provisions and manages EC2 instances, VPCs, security groups<br>\u2022 Full control over instance lifecycle and networking | \u2022 You manage the Kubernetes cluster; Anyscale only creates Kubernetes resources for Ray<br>\u2022 Anyscale interacts with K8s API but doesn't own cluster infrastructure |"
   ]
  },
  {
   "cell_type": "markdown",
   "id": "269ac17e",
   "metadata": {},
   "source": [
    "### 2.2 Data Layer: Storage, Object Stores, and External Dependencies\n",
    "\n",
    "| Category                               | **VM-based**                                                          | **K8s-based**                                                                              |\n",
    "| ------------------------------------ | --------------------------------------------------------------- | ------------------------------------------------------------------------------------ |\n",
    "| **Object Storage Access (e.g., AWS S3, GCP GCS)** | Handles via VM instance IAM roles attached to head/worker nodes.        | Handles via Pod with least-privilege policies.                      |\n",
    "| **(Optional) Shared File System (e.g., AWS EFS, GCP Filestore)** | Highly recommended for workspace persistence, as well as cluster shared storage. | Highly recommended for workspace persistence, as well as cluster shared storage.       |\n",
    "| **External Services Access (not in same VPC)**   | Accesses via VPC peering, private endpoints, or NAT.            | Requires K8s services (e.g., headless services, DNS) to reach data endpoints. |\n",
    "| **Networking**                       | Easier control with security groups and private link endpoints. | Requires K8s ingress/egress policy control and routing.                              |"
   ]
  },
  {
   "cell_type": "markdown",
   "id": "155bbd8a",
   "metadata": {},
   "source": [
    "### 2.3 Workload Execution Layer: How Ray Runs on Each Backend\n",
    "\n",
    "| Category                | **VM-based**                                                            | **K8s-based**                                                                              |\n",
    "| ------------------------ | ----------------------------------------------------------------- | ------------------------------------------------------------------------------------ |\n",
    "| **Cluster provisioning workflow** | User requests cluster \u2192 Anyscale assumes cross-account IAM role \u2192 Provisions VM resources \u2192 Instances auto-bootstrap and register \u2192 Automatic cleanup on teardown | User requests cluster \u2192 Anyscale Operator receives request \u2192 Provisions Ray pods via K8s scheduler \u2192 Operator manages pod lifecycle and cleanup |\n",
    "| **Ray head/worker execution**      | Run directly on VM instances with full system access | Run as Kubernetes pods using container images                                       |\n",
    "| **Autoscaling**          | Anyscale autoscaler controls VM nodes directly                       | \u2022 Anyscale autocaler manages pod autoscaling</br>\u2022 K8s cluster-autoscaler handles node scaling |\n",
    "| **Custom Image**        | Custom AMIs not supported\u2014use custom Docker images         | Specify custom image via patching                    |\n"
   ]
  },
  {
   "cell_type": "markdown",
   "id": "892a1bcd",
   "metadata": {},
   "source": [
    "### 2.4 When to use which\n",
    "\n",
    "| Use Case / Requirement | **VM-based** | **K8s-based** |\n",
    "| ----------------------- | ------------ | -------------- |\n",
    "| **Full automation, minimal infrastructure work** | \u2705 **Recommended** - Anyscale manages everything end-to-end | \u274c Requires existing K8s cluster management |\n",
    "| **Fast POC (proof-of-concept) setup** | \u2705 **Recommended** - Quick setup, no dependencies | \u274c More complex initial setup |\n",
    "| **Fast startup time** | \u2705 **Recommended** - Anyscale optimizes it. | \u274c K8s scheduler controls it |\n",
    "| **Fine-grained node shape** | N/A | \u2705 **Recommended** - Full Kubernetes orchestration |\n",
    "| **Share compute across multiple workloads.** | N/A | \u2705 **Recommended** - e.g., you plan to use schedulers like YuniKorn or queuing systems like Kueue. |"
   ]
  }
 ],
 "metadata": {
  "language_info": {
   "name": "python"
  }
 },
 "nbformat": 4,
 "nbformat_minor": 5
}