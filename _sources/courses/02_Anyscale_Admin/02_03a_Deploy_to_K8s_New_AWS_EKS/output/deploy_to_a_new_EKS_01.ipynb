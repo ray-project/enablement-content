{
 "cells": [
  {
   "cell_type": "markdown",
   "metadata": {
    "vscode": {
     "languageId": "raw"
    }
   },
   "source": [
    "# Introduction: Deploy Anyscale Ray on A New AWS EKS Cluster\n",
    "\n",
    "\u00a9 2025, Anyscale. All Rights Reserved\n",
    "\n",
    "This notebook serves as a guide for deploying an **Anyscale Cloud** on a new AWS EKS cluster using the custom **`anyscale cloud register`** method. It walks through the necessary steps from prerequisites to Ray installation with Anyscale Operator.\n",
    "\n",
    "Use it as a starting point and replace all placeholders (e.g.&nbsp;`{ANYSCALE_CLOUD_NAME}`) with values from your environment.\n",
    "\n",
    "It is based on this [example](https://github.com/anyscale/terraform-kubernetes-anyscale-foundation-modules/blob/main/examples/aws/eks-private/README.md), please refer to it for more information."
   ]
  },
  {
   "cell_type": "markdown",
   "metadata": {
    "vscode": {
     "languageId": "raw"
    }
   },
   "source": [
    "### Prerequisites\n",
    "\n",
    "Before we begin, ensure you have the following tools installed:\n",
    "\n",
    "```bash\n",
    "# Install AWS CLI (version 2.15.0+)\n",
    "# https://docs.aws.amazon.com/cli/latest/userguide/getting-started-install.html\n",
    "\n",
    "# Configure AWS credentials\n",
    "# https://docs.aws.amazon.com/cli/latest/userguide/cli-chap-configure.html\n",
    "\n",
    "# Install kubectl (version 1.25+)\n",
    "# https://kubernetes.io/docs/tasks/tools/\n",
    "\n",
    "# Install helm (version 3.10+)\n",
    "# https://helm.sh/docs/intro/install/\n",
    "\n",
    "# Install Anyscale CLI (version 0.5.86+)\n",
    "# https://docs.anyscale.com/reference/quickstart-cli/\n",
    "\n",
    "# Install Terraform (version 1.9+)\n",
    "# https://developer.hashicorp.com/terraform/install\n",
    "```"
   ]
  },
  {
   "cell_type": "markdown",
   "metadata": {},
   "source": [
    "<div class=\"alert alert-block alert-info\">\n",
    "<b>Alternative Terraform Installation:</b> If you are not able to install <b>Terraform 1.9+</b> with homebrew, you can try to install it with <code>tfenv</code>.\n",
    "\n",
    "<details>\n",
    "<summary>Click to expand installation steps</summary>\n",
    "\n",
    "```bash\n",
    "brew install tfenv\n",
    "tfenv install 1.9.0\n",
    "tfenv use 1.9.0\n",
    "terraform version\n",
    "```\n",
    "\n",
    "</details>\n",
    "</div>"
   ]
  },
  {
   "cell_type": "markdown",
   "metadata": {},
   "source": [
    "### Requirements"
   ]
  },
  {
   "cell_type": "markdown",
   "metadata": {},
   "source": [
    "| Name      | Version |\n",
    "|-----------|---------|\n",
    "| terraform | >= 1.9  |\n",
    "| aws       | ~> 5.0  |"
   ]
  },
  {
   "cell_type": "markdown",
   "metadata": {},
   "source": [
    "### Providers"
   ]
  },
  {
   "cell_type": "markdown",
   "metadata": {},
   "source": [
    "| Name | Version |\n",
    "|------|---------|\n",
    "| <a name=\"provider_aws\"></a> [aws](#provider\\_aws) | 5.90.0 |"
   ]
  },
  {
   "cell_type": "markdown",
   "metadata": {},
   "source": [
    "You also need:\n",
    "- An existing AWS Account\n",
    "- An existing AWS VPC\n",
    "- Proper IAM permissions"
   ]
  }
 ],
 "metadata": {
  "kernelspec": {
   "display_name": "Xing-ray-jupyter-3.11",
   "language": "python",
   "name": "xing-ray-jupyter"
  },
  "language_info": {
   "codemirror_mode": {
    "name": "ipython",
    "version": 3
   },
   "file_extension": ".py",
   "mimetype": "text/x-python",
   "name": "python",
   "nbconvert_exporter": "python",
   "pygments_lexer": "ipython3",
   "version": "3.11.13"
  }
 },
 "nbformat": 4,
 "nbformat_minor": 2
}