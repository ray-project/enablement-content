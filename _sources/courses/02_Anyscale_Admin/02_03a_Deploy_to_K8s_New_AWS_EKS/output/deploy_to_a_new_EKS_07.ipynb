{
 "cells": [
  {
   "cell_type": "markdown",
   "metadata": {},
   "source": [
    "## 6. Test\n",
    "\n",
    "Once the cluster is created, you can test it by submitting a job:"
   ]
  },
  {
   "cell_type": "code",
   "execution_count": null,
   "metadata": {},
   "outputs": [],
   "source": [
    "!cd ../test && python test_job.py --cloud-name \"{ANYSCALE_CLOUD_NAME}\" --stack-type k8s --cloud-provider aws \n",
    "\n",
    "# You can check the job status by running:\n",
    "!anyscale job list --cloud {ANYSCALE_CLOUD_NAME}"
   ]
  },
  {
   "cell_type": "markdown",
   "metadata": {},
   "source": [
    "\n",
    "\n",
    "You just start a job and you can see the logs from your Anyscale Console. You can view the running results from Anyscale console in \"Jobs\".\n",
    "\n",
    "You can also run:"
   ]
  },
  {
   "cell_type": "code",
   "execution_count": null,
   "metadata": {},
   "outputs": [],
   "source": [
    "!kubectl get pods --all-namespaces | grep -E \"(anyscale|ray)\" | grep -v \"cluster-autoscaler\""
   ]
  },
  {
   "cell_type": "markdown",
   "metadata": {},
   "source": [
    "to see new anyscale nodes are scaled up after this job starts; and after it is completed, those nodes will be terminated."
   ]
  },
  {
   "cell_type": "markdown",
   "metadata": {},
   "source": [
    "If you examine the [test job](../test/test_job.py#L30-L50), you'll see that we define a Ray cluster by configuring head nodes and worker nodes with appropriate instance types. When this job is submitted, the Ray cluster is created and the job executes on it."
   ]
  },
  {
   "cell_type": "code",
   "execution_count": null,
   "metadata": {},
   "outputs": [],
   "source": [
    "# Compute Configuration Defines Cluster Resources:\n",
    "\n",
    "compute_config = ComputeConfig(\n",
    "    cloud=cloud_name,\n",
    "    head_node=HeadNodeConfig(\n",
    "        instance_type=\"2CPU-8GB\",        # Ray head node\n",
    "    ),\n",
    "    worker_nodes=[\n",
    "        WorkerNodeGroupConfig(\n",
    "            instance_type=\"2CPU-8GB\",    # Ray worker nodes\n",
    "            min_nodes=1,                 # Minimum workers\n",
    "            max_nodes=1,                 # Maximum workers  \n",
    "        )\n",
    "    ],\n",
    ")"
   ]
  }
 ],
 "metadata": {
  "kernelspec": {
   "display_name": "Xing-ray-jupyter-3.11",
   "language": "python",
   "name": "xing-ray-jupyter"
  },
  "language_info": {
   "codemirror_mode": {
    "name": "ipython",
    "version": 3
   },
   "file_extension": ".py",
   "mimetype": "text/x-python",
   "name": "python",
   "nbconvert_exporter": "python",
   "pygments_lexer": "ipython3",
   "version": "3.11.13"
  }
 },
 "nbformat": 4,
 "nbformat_minor": 2
}