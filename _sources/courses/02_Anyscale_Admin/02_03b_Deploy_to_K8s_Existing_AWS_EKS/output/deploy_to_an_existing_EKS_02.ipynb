{
 "cells": [
  {
   "cell_type": "markdown",
   "metadata": {
    "vscode": {
     "languageId": "raw"
    }
   },
   "source": [
    "## Prerequisites\n",
    "\n",
    "Before we begin, ensure you have the following tools installed:\n",
    "\n",
    "```bash\n",
    "# Install AWS CLI (version 2.15.0+)\n",
    "# https://docs.aws.amazon.com/cli/latest/userguide/getting-started-install.html\n",
    "\n",
    "# Configure AWS credentials\n",
    "# https://docs.aws.amazon.com/cli/latest/userguide/cli-chap-configure.html\n",
    "\n",
    "# Install kubectl (version 1.25+)\n",
    "# https://kubernetes.io/docs/tasks/tools/\n",
    "\n",
    "# Install helm (version 3.10+)\n",
    "# https://helm.sh/docs/intro/install/\n",
    "\n",
    "# Install Anyscale CLI (version 0.5.86+)\n",
    "# https://docs.anyscale.com/reference/quickstart-cli/\n",
    "\n",
    "# Install Terraform (version 1.9+)\n",
    "# https://developer.hashicorp.com/terraform/install\n",
    "```"
   ]
  },
  {
   "cell_type": "markdown",
   "metadata": {},
   "source": [
    "<div class=\"alert alert-block alert-info\">\n",
    "<b>Alternative Terraform Installation:</b> If you are not able to install <b>Terraform 1.9+</b> with homebrew, you can try to install it with <code>tfenv</code>.\n",
    "\n",
    "<details>\n",
    "<summary>Click to expand installation steps</summary>\n",
    "\n",
    "```bash\n",
    "brew install tfenv\n",
    "tfenv install 1.9.0\n",
    "tfenv use 1.9.0\n",
    "terraform version\n",
    "```\n",
    "\n",
    "</details>\n",
    "</div>"
   ]
  },
  {
   "cell_type": "markdown",
   "metadata": {},
   "source": [
    "You also need:\n",
    "- An existing AWS Account\n",
    "- An existing AWS VPC\n",
    "- An existing AWS EKS Cluster running in the VPC (version 1.25+)\n",
    "- Proper IAM permissions"
   ]
  }
 ],
 "metadata": {
  "kernelspec": {
   "display_name": "Xing-ray-jupyter-3.11",
   "language": "python",
   "name": "xing-ray-jupyter"
  },
  "language_info": {
   "name": "python",
   "version": "3.11.13"
  }
 },
 "nbformat": 4,
 "nbformat_minor": 2
}