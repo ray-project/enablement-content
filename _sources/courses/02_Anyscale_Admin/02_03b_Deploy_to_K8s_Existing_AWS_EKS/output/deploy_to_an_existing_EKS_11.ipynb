{
 "cells": [
  {
   "cell_type": "markdown",
   "metadata": {},
   "source": [
    "## 9. Clean up\n",
    "\n",
    "Run these 3 commands in your terminal, updating the placeholder values to match your setup:"
   ]
  },
  {
   "cell_type": "code",
   "execution_count": null,
   "metadata": {},
   "outputs": [],
   "source": [
    "# Unregister the cloud\n",
    "!anyscale cloud delete {ANYSCALE_CLOUD_NAME}\n",
    "\n",
    "# Verify it is deleted\n",
    "!anyscale cloud list\n",
    "\n",
    "# Empty ANYSCALE S3 bucket if it contains data, if it throws error, please try it in your local terminal\n",
    "!aws s3 rm s3://{ANYSCALE_S3_BUCKET_NAME} --recursive"
   ]
  },
  {
   "cell_type": "markdown",
   "metadata": {},
   "source": [
    "Now you can run following block to clean up the rest of the resources:"
   ]
  },
  {
   "cell_type": "code",
   "execution_count": null,
   "metadata": {},
   "outputs": [],
   "source": [
    "# Uninstall the Anyscale operator\n",
    "!helm uninstall anyscale-operator --namespace anyscale-operator\n",
    "\n",
    "# Delete the namespace\n",
    "!kubectl delete namespace anyscale-operator\n",
    "\n",
    "# (Optional if you add it because you installed AnyscaleRay) Remove Nginx Ingress Controller\n",
    "!helm uninstall ingress-nginx --namespace ingress-nginx\n",
    "!kubectl delete namespace ingress-nginx\n",
    "\n",
    "# (Optional if you add it because you installed Anyscale) Remove AWS Load Balancer Controller\n",
    "!helm uninstall aws-load-balancer-controller --namespace kube-system\n",
    "\n",
    "# (Optional if you add it because you installed Anyscale) Remove Cluster Autoscaler\n",
    "!helm uninstall cluster-autoscaler --namespace kube-system\n",
    "\n",
    "# (Optional if you add it because you installed Anyscale) Remove Nvidia Device Plugin\n",
    "!helm uninstall nvdp --namespace nvidia-device-plugin\n",
    "!kubectl delete namespace nvidia-device-plugin\n",
    "\n",
    "# Empty ANYSCALE S3 bucket if it contains data, if it throws error, please try it in your local terminal\n",
    "!aws s3 rm s3://{ANYSCALE_S3_BUCKET_NAME} --recursive\n",
    "\n",
    "# Destroy Terraform-managed resources\n",
    "!terraform plan -destroy\n",
    "!terraform destroy --auto-approve\n",
    "\n",
    "# Verify no Anyscale-related pods are running\n",
    "!kubectl get pods --all-namespaces | grep -E \"(anyscale|ray)\"\n",
    "\n",
    "# Verify Helm releases are removed\n",
    "!helm list --all-namespaces\n",
    "\n",
    "# Verify Terraform resources are destroyed\n",
    "!terraform show"
   ]
  }
 ],
 "metadata": {
  "kernelspec": {
   "display_name": "Xing-ray-jupyter-3.11",
   "language": "python",
   "name": "xing-ray-jupyter"
  },
  "language_info": {
   "name": "python",
   "version": "3.11.13"
  }
 },
 "nbformat": 4,
 "nbformat_minor": 2
}