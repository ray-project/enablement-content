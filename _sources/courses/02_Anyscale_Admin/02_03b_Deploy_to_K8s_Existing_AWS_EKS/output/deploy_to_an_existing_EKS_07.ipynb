{
 "cells": [
  {
   "cell_type": "markdown",
   "metadata": {
    "vscode": {
     "languageId": "raw"
    }
   },
   "source": [
    "## 5. Install the Anyscale Operator"
   ]
  },
  {
   "cell_type": "code",
   "execution_count": null,
   "metadata": {},
   "outputs": [],
   "source": [
    "# Set the cloud deployment ID from the previous step\n",
    "CLOUD_DEPLOYMENT_ID = \"cldrsrc_12345abcdefgh67890ijklmnop\"  # Replace with your actual cloud deployment ID\n",
    "\n",
    "!helm repo add anyscale https://anyscale.github.io/helm-charts\n",
    "!helm upgrade anyscale-operator anyscale/anyscale-operator \\\n",
    "  --set-string cloudDeploymentId={CLOUD_DEPLOYMENT_ID} \\\n",
    "  --set-string cloudProvider=aws \\\n",
    "  --set-string region={AWS_REGION} \\\n",
    "  --set-string workloadServiceAccountName=anyscale-operator \\\n",
    "  --namespace anyscale-operator \\\n",
    "  --create-namespace \\\n",
    "  --install\n"
   ]
  }
 ],
 "metadata": {
  "kernelspec": {
   "display_name": "Xing-ray-jupyter-3.11",
   "language": "python",
   "name": "xing-ray-jupyter"
  },
  "language_info": {
   "name": "python",
   "version": "3.11.13"
  }
 },
 "nbformat": 4,
 "nbformat_minor": 2
}