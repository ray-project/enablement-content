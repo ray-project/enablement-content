{
 "cells": [
  {
   "cell_type": "markdown",
   "metadata": {},
   "source": [
    "### Sources\n",
    "\n",
    "- https://github.com/anyscale/cop-training-may-2025/blob/main/01_Ray_AI_Libraries/3b_Intro_Services.ipynb\n",
    "- https://docs.anyscale.com/platform/services/\n",
    "- https://workshops.anyscale.com/anyscale_101/6_anyscaleservice/index.html\n",
    "\n",
    "# 101 Introduction to Anyscale Services\n",
    "\n",
    "**Goal:** Productionize your AI/ML online inference workload with scalable, fault-tolerant infrastructure.\n",
    "\n",
    "**Anyscale Services** utilizes **Ray Serve** to provide a managed experince for deploying performant, scalable and reliable services. Each **Anyscale Service** runs on its own dedicated Ray cluster. Anyscale will also manage the infrastructure around a service, enabling autoscaling, high availability, observability, and zero-downtime upgrades.\n",
    "\n",
    "\n",
    "### Benefits of using Anyscale Services\n",
    "\n",
    "- **Autoscaling:** Scale automatically based on demand\n",
    "- **High Availiability / Resilient:** Tolerate node or process failures gracefully\n",
    "- **Mature Deployment Strategies:** Roll out updates incrementally with traffic shifting\n",
    "- **Enterprise Ready:** Integrate easily with Grafana dashboards and alerting systems\n",
    "\n",
    "### Anyscale Service Lifecycle\n",
    "\n",
    "1. **User deploys Ray Serve application (e.g., `app/main.py`) with Anyscale Service**\n",
    "2. **Anyscale spins up a Ray cluster**\n",
    "3. **Anyscale creates a load balancer (one per Anyscale Cloud)**\n",
    "4. **User Configures Handling failures (e.g., head node HA)**\n",
    "5. **Rolling out new versions**\n",
    "    - New cluster is launched\n",
    "    - Traffic is gradually shifted after health checks\n",
    "    - Old cluster is safely terminated\n",
    "\n",
    "## This guide will walk you through deploying, updating, and managing Anyscale Services"
   ]
  },
  {
   "cell_type": "markdown",
   "metadata": {},
   "source": [
    "## Part 1: Starting your first Anyscale Service\n",
    "\n",
    "#### 1. Spin up a **Anyscale Workspace,** we will use this as the environment to develop and publish the Anyscale Service. Give this workspace a name, check the **Auto-Select Worker Nodes** and leave everything else as default.\n",
    "\n",
    "\n",
    "\n",
    "<img src=\"./images/service1.png\" alt=\"Alt text\" width=\"500\"/>\n",
    "\n",
    "\n",
    "#### 2.Download starter template. Clone a github repository containing the files needed to deploy a Anyscale Service. Head over to the VSCode Tab (**In Anyscale Workspace**) and enter the following command into the terminal.\n",
    "\n",
    "\n",
    "`git clone https://github.com/anyscale/examples.git`\n",
    "\n",
    "\n",
    "<img src=\"./images/service2.png\" alt=\"Alt text\" width=\"500\"/>\n",
    "\n",
    "Next use terminal to navigate to the downloaded services directory.\n",
    "\n",
    "`cd examples/02_service_hello_world/`\n",
    "\n",
    "\n",
    "#### 3. Inspect the code for the Service Endpoint **(./examples/02_service_hello_world/main.py)**\n",
    "\n",
    "For this implementation, we will define a FastAPI application and deploy it using Ray Serve. Ray Serve wraps the FastAPI app (`FastAPIDeployment`) to manage this API (e.g. Autoscaling, Load Balancing).\n",
    "\n",
    "**Make the following modification to the last line of code,** this prepares the app for deployment instead of running it immediately."
   ]
  },
  {
   "cell_type": "code",
   "execution_count": null,
   "metadata": {},
   "outputs": [],
   "source": [
    "# File to Modify: ./examples/02_service_hello_world/main.py\n",
    "\n",
    "\n",
    "# ============================\n",
    "# Deployment Modification Guide\n",
    "# ============================\n",
    "\n",
    "# Step 1: COMMENT OUT the existing serve.run line below:\n",
    "# serve.run(FastAPIDeployment.bind(), route_prefix=\"/\")\n",
    "\n",
    "# Step 2: ADD the following line to deploy the deployment:\n",
    "deployment = FastAPIDeployment.bind()"
   ]
  },
  {
   "cell_type": "markdown",
   "metadata": {},
   "source": [
    "#### 4. Checkout the **service.yaml** file. \n",
    "\n",
    "The `service.yaml` file defines how a Anyscale Service should be deployed, specifying [configuration parameters](https://docs.anyscale.com/reference/service-api#serviceconfig) such as the service name, container image and compute resources. \n",
    "\n",
    "In this example, we leave many of the fields empty so the service can inherit default values from the current **Anyscale Workspace**. Setting these fields explicitly overrides the defaults—useful when developing locally or deploying to a custom environment. \n",
    "\n",
    "- Feel free to change the name of the **Anyscale Service** in this YAML file.\n",
    "- **Important:** Under `applications`, update `import_path` to match your deployment object (e.g., `main:deployment`)."
   ]
  },
  {
   "cell_type": "raw",
   "metadata": {
    "vscode": {
     "languageId": "raw"
    }
   },
   "source": [
    "# Speciy the Ray Serve app to deploy.\n",
    "applications:\n",
    "- import_path: main:deployment # change from main.app"
   ]
  },
  {
   "cell_type": "markdown",
   "metadata": {},
   "source": [
    "#### 5. Deploy the Anyscale Service by running the command below in the terminal and passing in the service configuration yaml file. "
   ]
  },
  {
   "cell_type": "raw",
   "metadata": {},
   "source": []
  },
  {
   "cell_type": "markdown",
   "metadata": {},
   "source": []
  }
 ],
 "metadata": {
  "language_info": {
   "name": "python"
  }
 },
 "nbformat": 4,
 "nbformat_minor": 2
}
