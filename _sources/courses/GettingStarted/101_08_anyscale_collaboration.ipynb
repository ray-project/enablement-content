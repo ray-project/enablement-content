{
 "cells": [
  {
   "cell_type": "markdown",
   "metadata": {},
   "source": [
    "## 101 -- Collaboration on Anyscale\n",
    "\n",
    "\n",
    "Anyscale makes it simple for engineers to collaborate on AI/ML applications by providing functionalities to share, organize, and duplicate work. Anyscale allows for granular access controls at the following levels:\n",
    "\n",
    "- Organization, a group of Anyscale users\n",
    "- [Cloud](https://docs.anyscale.com/administration/cloud-deployment/overview), a deployment of Anyscale that specifies where clusters launch (e.g. AWS / GCP / On Premises)\n",
    "- [Project](https://docs.anyscale.com/administration/organization/projects), a group of workspaces, jobs, or services\n",
    "\n",
    "### Anyscale Projects\n",
    "\n",
    "[Anyscale Projects](https://docs.anyscale.com/administration/organization/projects/) serve as a location for you to group Anyscale resources within a Anyscale Cloud. Unless specified, all of your work is captured in a “Default” project.\n",
    "\n",
    "The resources in the default project are accessible to every user who has access to that Anyscale Cloud. Beyond organization, Projects can be used to restrict access to only users that have been given permission to access them."
   ]
  },
  {
   "cell_type": "markdown",
   "metadata": {},
   "source": [
    "Let’s create a new project that you can share with a subset of your team. From the Project Selection Button, Select Manage Projects\n",
    "\n",
    "<img src=\"https://lz-public-demo.s3.us-east-1.amazonaws.com/anyscale101/collaboration1.png\" width=\"600\"/>\n",
    "\n",
    "\n",
    "You can now see all the projects created for this Anyscale Cloud (if any). Click Create and give your project a name. \n",
    "\n",
    "<img src=\"https://lz-public-demo.s3.us-east-1.amazonaws.com/anyscale101/collaboration2.png\" width=\"600\"/>\n",
    "\n",
    "\n",
    "Locate your created project and click the Share button. You can make your project publicly accessible by checking the box at the bottom, or keep it private by adding specific users and assigning permissions.\n",
    "\n",
    "<img src=\"https://lz-public-demo.s3.us-east-1.amazonaws.com/anyscale101/collaboration3.png\" width=\"600\"/>\n",
    "\n",
    "Head to the Projects Selector at the top of the screen and select your created project. Team members with access to a project may access all underlying Anyscale Entities (whether it’s Workspace Clusters, Jobs, or Services). \n",
    "\n",
    "<img src=\"https://lz-public-demo.s3.us-east-1.amazonaws.com/anyscale101/collaboration4.png\" width=\"600\"/>\n",
    "\n"
   ]
  },
  {
   "cell_type": "markdown",
   "metadata": {},
   "source": [
    "### Cloning/Duplicating Resources\n",
    "\n",
    "Users can “clone” a Job, Service, or Workspace to quickly create an identical environment. This goes beyond just collaborating in a Workspace or sharing code via git. \n",
    "\n",
    "Navigate to any Workspace, Job, or Service. Find and click on the ellipsis button. Select Duplicate to duplicate the entire environment setup.  Great for debugging!\n",
    "\n",
    "<img src=\"https://lz-public-demo.s3.us-east-1.amazonaws.com/anyscale101/collaboration5.png\" width=\"400\"/>"
   ]
  }
 ],
 "metadata": {
  "language_info": {
   "name": "python"
  }
 },
 "nbformat": 4,
 "nbformat_minor": 2
}
