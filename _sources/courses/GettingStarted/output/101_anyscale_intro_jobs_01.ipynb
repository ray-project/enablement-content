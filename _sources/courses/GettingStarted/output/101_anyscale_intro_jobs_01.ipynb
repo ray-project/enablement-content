{
 "cells": [
  {
   "cell_type": "markdown",
   "metadata": {},
   "source": [
    "#### Content Used\n",
    "- https://workshops.anyscale.com/anyscale_101/5_anyscalejobs/index.html\n",
    "- https://github.com/anyscale/cop-training-may-2025/blob/main/01_Ray_AI_Libraries/2b_Intro_Jobs.ipynb\n",
    "- https://docs.anyscale.com/platform/jobs/"
   ]
  },
  {
   "cell_type": "markdown",
   "metadata": {},
   "source": [
    "# 101 Introduction to Anyscale Services\n",
    "\n",
    "By offering a reliable, scalable, and CI/CD-friendly execution environment, users can use **Anyscale Jobs** to productionize AI/ML batch and training workloads, including batch inference, bulk embedding generation, or model training / fine-tuning. \n",
    "\n",
    "\n",
    "Every Anyscale Job runs your Python application on a dedicated Ray cluster. Unless overriden, this cluster is automatically started with the same compute configuration as your development Anyscale Workspace. Anyscale manages the full cluster lifecycle, therefore, unlike standard Ray Jobs, Anyscale Jobs does **not** require an active cluster.\n",
    "\n",
    "The Lifecycle of an Anyscale Cluster Includes the Following: \n",
    "- Starting the cluster  \n",
    "- Executing your code  \n",
    "- Handling node failures  \n",
    "- Tearing down the cluster on completion\n",
    "\n",
    "\n",
    "### Key Features\n",
    "\n",
    "- Programmatic submission via API  \n",
    "- Automated failure handling and configurable retries  \n",
    "- Email alerting  \n",
    "- Persisted outputs, logs, and metrics  \n",
    "\n",
    "\n",
    "### The following instructions will walk you through running your first job.\n"
   ]
  }
 ],
 "metadata": {
  "kernelspec": {
   "display_name": "lz_ray_env",
   "language": "python",
   "name": "python3"
  },
  "language_info": {
   "codemirror_mode": {
    "name": "ipython",
    "version": 3
   },
   "file_extension": ".py",
   "mimetype": "text/x-python",
   "name": "python",
   "nbconvert_exporter": "python",
   "pygments_lexer": "ipython3",
   "version": "3.11.11"
  }
 },
 "nbformat": 4,
 "nbformat_minor": 2
}