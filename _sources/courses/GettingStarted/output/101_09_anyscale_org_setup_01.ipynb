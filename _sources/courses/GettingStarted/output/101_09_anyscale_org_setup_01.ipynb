{
 "cells": [
  {
   "cell_type": "markdown",
   "metadata": {
    "vscode": {
     "languageId": "raw"
    }
   },
   "source": [
    "## 101 - Anyscale Organization and Cloud Setup\n",
    "\n",
    "This notebook explains how to correctly set up and structure an **Anyscale organization** for a company or team, using Anyscale-hosted or user-hosted cloud infrastructure. It also clarifies terminology and practices for managing clouds, projects, and user access.\n"
   ]
  }
 ],
 "metadata": {
  "language_info": {
   "name": "python"
  }
 },
 "nbformat": 4,
 "nbformat_minor": 2
}