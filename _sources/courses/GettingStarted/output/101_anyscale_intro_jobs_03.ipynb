{
 "cells": [
  {
   "cell_type": "markdown",
   "metadata": {},
   "source": [
    "## Part 2. Automation and Scheduling\n",
    "\n",
    "The Anyscale SDK and API provide a streamlined way to submit Anyscale Jobs programmatically. As with all Anyscale Jobs, Anyscale will manager the cluster lifecycle for job created through the API / SDK. You can submit Anyscale Jobs either from within the Anyscale Workspace or from another machine. \n",
    "\n",
    "There are two ways to submit a job:\n",
    "\n",
    "- Using the Anyscale CLI\n",
    "- Using the Anyscale Python SDK"
   ]
  },
  {
   "cell_type": "markdown",
   "metadata": {},
   "source": [
    "#### 1. Using the same workspace, create a notebook folder\n\n<img src=\"https://raw.githubusercontent.com/ray-project/enablement-content/refs/heads/main/courses/GettingStarted/images/jobs6.png\" alt=\"Alt text\" width=\"500\"/>\n\n\n#### 2. Use the Anyscale CLI to submit the Anyscale Job. For a full list of all available arguments, check out the [Anyscale Job CLI documentation](https://docs.anyscale.com/reference/job-api/#job-cli).\n\nCopy the following command and execute the cell (Shift + Enter). Check out the job status in the Anyscale Jobs console. \n\n`! anyscale job submit --name say-hello-world -- python main.py`\n\n#### 3. Submit the job again using the [Anyscale Python SDK](https://docs.anyscale.com/reference/job-api/#job-sdk)\n\nCopy and paste the code below to a new cell and run. "
   ]
  },
  {
   "cell_type": "code",
   "execution_count": null,
   "metadata": {},
   "outputs": [],
   "source": [
    "import anyscale\n",
    "\n",
    "# define the job configuration\n",
    "job_config = anyscale.job.JobConfig(\n",
    "    name=\"say-hello-world\",\n",
    "    working_dir=\".\",\n",
    "    entrypoint=\"python main.py\",\n",
    ")\n",
    "\n",
    "# submit the job\n",
    "job_id = anyscale.job.submit(job_config)"
   ]
  }
 ],
 "metadata": {
  "kernelspec": {
   "display_name": "lz_ray_env",
   "language": "python",
   "name": "python3"
  },
  "language_info": {
   "codemirror_mode": {
    "name": "ipython",
    "version": 3
   },
   "file_extension": ".py",
   "mimetype": "text/x-python",
   "name": "python",
   "nbconvert_exporter": "python",
   "pygments_lexer": "ipython3",
   "version": "3.11.11"
  }
 },
 "nbformat": 4,
 "nbformat_minor": 2
}