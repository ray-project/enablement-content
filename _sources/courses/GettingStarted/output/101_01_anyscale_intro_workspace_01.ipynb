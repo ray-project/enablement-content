{
 "cells": [
  {
   "cell_type": "markdown",
   "metadata": {},
   "source": [
    "## 101 \u2014 Introduction to Anyscale Workspaces\n",
    "\n",
    "Anyscale Workspaces is a fully managed development environment for users to build applications on top of Ray. Anyscale Workspaces handles the heavy lifting by managing the compute resources, environment dependencies, storage, and IDE integration, allowing developers to rapidly iterate. "
   ]
  },
  {
   "cell_type": "markdown",
   "metadata": {},
   "source": [
    "In this notebook, we will cover the following:\n",
    "\n",
    "- What Anyscale Workspaces are and how they simplify Ray development  \n",
    "- How to launch and configure your own Workspace  "
   ]
  },
  {
   "cell_type": "markdown",
   "metadata": {},
   "source": [
    "### Launching a Anyscale Workspace\n",
    "\n",
    "Anyscale can connect with any Cloud (or on-prem) environment. For this workshop, click on the cloud selection and select **Anyscale Cloud** (Anyscale will host the compute).\n",
    "\n",
    "\n",
    "<img src=\"https://lz-public-demo.s3.us-east-1.amazonaws.com/anyscale101/workspace1.png\"  width=\"500\"/>\n",
    "\n",
    "\n",
    "Next, head over to workspace tab and click **Create > Create from Blank Workspace** to configure a new Anyscale Workspace. Click Continue.\n",
    "\n",
    "<img src=\"https://lz-public-demo.s3.us-east-1.amazonaws.com/anyscale101/workspace2.png\"  width=\"500\"/>\n",
    "\n",
    "<p>&nbsp;</p>\n",
    "\n",
    "You\u2019ll be prompted with a screen to configure the Anyscale Workspace. Give your Workspace a name and choose the **default Container Image**. \n",
    "\n",
    "This defines the runtime environment for your Ray application, ensuring consistency by specifying the Ray version and the exact set of preinstalled libraries and their versions.\n",
    "\n",
    "<img src=\"https://lz-public-demo.s3.us-east-1.amazonaws.com/anyscale101/workspace3.png\"  width=\"500\"/>\n"
   ]
  },
  {
   "cell_type": "markdown",
   "metadata": {},
   "source": [
    "In the **Compute Configuration,** leave the head node as default. \n",
    "\n",
    "For the **Worker Nodes**, add a custom node group. These machines will run your Ray application, so choose the instance types and sizes (CPU or GPU) based on the needs of your workflow.\n",
    "\n",
    "Select the smallest availiable CPU instance.\n",
    "\n",
    "<img src=\"https://lz-public-demo.s3.us-east-1.amazonaws.com/anyscale101/workspace4.png\"  width=\"600\"/>"
   ]
  },
  {
   "cell_type": "markdown",
   "metadata": {},
   "source": [
    "Most workflows experience periods of bursty or spiky demand, Anyscale has the ability to autoscale Ray Clusters. Set the minimum number of nodes to 0 and the maximum node size to 2 in order to allow the cluster to autoscale based on workload.\n",
    "\n",
    "<img src=\"https://lz-public-demo.s3.us-east-1.amazonaws.com/anyscale101/workspace7.png\"  width=\"500\"/>"
   ]
  },
  {
   "cell_type": "markdown",
   "metadata": {},
   "source": [
    "Glance through the additional settings before clicking Create to create the workspace. In a few minutes, your Anyscale Workspace will be active and ready to go.\n",
    "\n",
    "<img src=\"https://lz-public-demo.s3.us-east-1.amazonaws.com/anyscale101/workspace5.png\"  width=\"700\"/>"
   ]
  }
 ],
 "metadata": {
  "language_info": {
   "name": "python"
  }
 },
 "nbformat": 4,
 "nbformat_minor": 2
}