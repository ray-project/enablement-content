{
 "cells": [
  {
   "cell_type": "markdown",
   "metadata": {},
   "source": [
    "# Online Model Serving with Ray Serve\n",
    "\u00a9 2025, Anyscale. All Rights Reserved"
   ]
  },
  {
   "cell_type": "markdown",
   "metadata": {},
   "source": [
    "\ud83d\udcbb **Launch Locally**: You can run this notebook locally.\n",
    "\n",
    "\ud83d\ude80 **Launch on Cloud**: Think about running this notebook on a Ray Cluster (Click [here](http://console.anyscale.com/register) to easily start a Ray cluster on Anyscale)"
   ]
  },
  {
   "cell_type": "markdown",
   "metadata": {},
   "source": [
    "Model serving is the process of deploying machine learning models to production so that they can be accessed and \n",
    "used by applications or users. It involves creating an API or interface that allows users to send requests to the model\n",
    "and receive predictions in response. There are several libraries and frameworks available for model serving, \n",
    "each with its own features and capabilities. In this notebook, we showcase Ray Serve and FastAPI to deploy a sentiment analysis\n",
    "machine learning (ML) model."
   ]
  },
  {
   "cell_type": "markdown",
   "metadata": {},
   "source": [
    "\n",
    "### What is Ray Serve?\n",
    "Ray Serve is a scalable model serving library that allows you to deploy and manage machine learning models in production.\n",
    "With Ray Serve, you can easily create a scalable and distributed serving architecture that\n",
    "can handle high traffic and large workloads. It is built on top of Ray, a distributed computing framework\n",
    "that allows you to run Python code in parallel across multiple machines. \n",
    "Ray Serve provides a simple API for deploying and managing models, as well as features like autoscaling,\n",
    "load balancing, and versioning.\n",
    "\n",
    "Ray Serve is designed to be easy to use and integrate with existing machine learning workflows.\n",
    "It supports a wide range of machine learning frameworks, including TensorFlow, PyTorch, and Scikit-learn.\n",
    "Ray Serve also provides a simple way to deploy models as REST APIs, using FastAPI,\n",
    "making it easy to integrate with web applications and other services.\n",
    "\n",
    "More information: https://docs.ray.io/en/latest/serve/index.html\n",
    "\n",
    "\n",
    "### Why not use just FastAPI or Flask?\n",
    "We could have simply used FastAPI or Flask to create a REST API for the model,\n",
    "but Ray Serve provides additional features like autoscaling and load balancing that \n",
    "make it a better choice for production deployments. Ray Serve also allows you to easily\n",
    "deploy multiple models and manage their versions, which can be useful in a production environment \n",
    "where you may need to deploy multiple models or update existing ones.\"\"\""
   ]
  },
  {
   "cell_type": "markdown",
   "metadata": {},
   "source": [
    "### Outline\n",
    "<div class=\"alert alert-block alert-info\">\n",
    "<ul>\n",
    "    <li>Architecture\n",
    "    <li>Import Libraries\n",
    "    <li>FastAPI service to accept HTTP requests and scaling with Ray Serve\n",
    "    <li>Simulate Client: Send test requests\n",
    "    <li>Shutdown the Serve app and the ray cluster\n",
    "</ul>\n",
    "</div>"
   ]
  }
 ],
 "metadata": {
  "kernelspec": {
   "display_name": "Python 3 (ipykernel)",
   "language": "python",
   "name": "python3"
  },
  "language_info": {
   "codemirror_mode": {
    "name": "ipython",
    "version": 3
   },
   "file_extension": ".py",
   "mimetype": "text/x-python",
   "name": "python",
   "nbconvert_exporter": "python",
   "pygments_lexer": "ipython3",
   "version": "3.11.6"
  }
 },
 "nbformat": 4,
 "nbformat_minor": 4
}