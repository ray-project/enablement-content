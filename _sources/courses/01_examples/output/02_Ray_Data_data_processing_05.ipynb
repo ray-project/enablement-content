{
 "cells": [
  {
   "cell_type": "markdown",
   "metadata": {},
   "source": [
    "## Join Two Ray Datasets\n",
    "Here we show a join operation by joining the filtered reviews with the metadata dataset on 'id'. This is a simple inner join operation to demonstrate how to combine datasets.\n",
    "\n",
    "Note: num_partitions=2 is used here for demonstration; adjust based on your dataset\n",
    "size and performance needs. The join operation can be expensive, so consider the size of your datasets."
   ]
  },
  {
   "cell_type": "code",
   "execution_count": 20,
   "metadata": {},
   "outputs": [],
   "source": [
    "# Join: inner join on 'id'\n",
    "joined = filtered.join(ds_meta, on=(\"id\",), join_type=\"inner\", num_partitions=2)\n"
   ]
  },
  {
   "cell_type": "code",
   "execution_count": 21,
   "metadata": {},
   "outputs": [
    {
     "name": "stderr",
     "output_type": "stream",
     "text": [
      "2025-07-11 08:42:12,344\tINFO logging.py:295 -- Registered dataset logger for dataset dataset_7_0\n",
      "2025-07-11 08:42:12,351\tINFO streaming_executor.py:117 -- Starting execution of Dataset dataset_7_0. Full logs are in /tmp/ray/session_2025-07-11_08-03-28_326524_18345/logs/ray-data\n",
      "2025-07-11 08:42:12,351\tINFO streaming_executor.py:118 -- Execution plan of Dataset dataset_7_0: InputDataBuffer[Input] -> TaskPoolMapOperator[Filter(<lambda>)], InputDataBuffer[Input] -> JoinOperator[Join(num_partitions=2)] -> LimitOperator[limit=5]\n"
     ]
    },
    {
     "data": {
      "application/vnd.jupyter.widget-view+json": {
       "model_id": "c9df6b8422bd4c2ea8181a82fac22ee7",
       "version_major": 2,
       "version_minor": 0
      },
      "text/plain": [
       "Running 0: 0.00 row [00:00, ? row/s]"
      ]
     },
     "metadata": {},
     "output_type": "display_data"
    },
    {
     "data": {
      "application/vnd.jupyter.widget-view+json": {
       "model_id": "f97dc6fb04ec4b3db26f700e6013c181",
       "version_major": 2,
       "version_minor": 0
      },
      "text/plain": [
       "- Filter(<lambda>) 1: 0.00 row [00:00, ? row/s]"
      ]
     },
     "metadata": {},
     "output_type": "display_data"
    },
    {
     "data": {
      "application/vnd.jupyter.widget-view+json": {
       "model_id": "ef9484dac4154b2ba3300e9e4472d957",
       "version_major": 2,
       "version_minor": 0
      },
      "text/plain": [
       "- Join(num_partitions=2) 2: 0.00 row [00:00, ? row/s]"
      ]
     },
     "metadata": {},
     "output_type": "display_data"
    },
    {
     "data": {
      "application/vnd.jupyter.widget-view+json": {
       "model_id": "1ad8caa26a4748609a90fd7c0b293c28",
       "version_major": 2,
       "version_minor": 0
      },
      "text/plain": [
       "- limit=5 3: 0.00 row [00:00, ? row/s]"
      ]
     },
     "metadata": {},
     "output_type": "display_data"
    },
    {
     "name": "stderr",
     "output_type": "stream",
     "text": [
      "2025-07-11 08:42:13,579\tINFO streaming_executor.py:227 -- \u2714\ufe0f  Dataset dataset_7_0 execution finished in 1.23 seconds\n"
     ]
    },
    {
     "name": "stdout",
     "output_type": "stream",
     "text": [
      "{'id': 12500, 'text': 'Zentropa has much in common with The Third Man, another noir-like film set among the rubble of postwar Europe. Like TTM, there is much inventive camera work. There is an innocent American who gets emotionally involved with a woman he doesn\\'t really understand, and whose naivety is all the more striking in contrast with the natives.<br /><br />But I\\'d have to say that The Third Man has a more well-crafted storyline. Zentropa is a bit disjointed in this respect. Perhaps this is intentional: it is presented as a dream/nightmare, and making it too coherent would spoil the effect. <br /><br />This movie is unrelentingly grim--\"noir\" in more than one sense; one never sees the sun shine. Grim, but intriguing, and frightening.', 'label': 1, 'source': 'imdb'}\n",
      "{'id': 13000, 'text': \"Visually stunning and full of Eastern Philosophy, this amazing martial arts fantasy is brought to you by master director Tsui Hark, the man behind some of the best films Hong Kong cinema has produced. The special effects are beautiful and imaginative. The plot is a bit on the cerebral side, but is a refreshing change from films that treat their audience as if they were morons. If thinking is not your forte, however, this may not be your movie. Maybe you should go see the latest from the Hollywood studio's no brain club, but if you are looking for something more, he's where you will find it.\", 'label': 1, 'source': 'imdb'}\n",
      "{'id': 13100, 'text': \"The fourth of five westerns Anthony Mann did with James Stewart, this one involves a hard bitten cattleman named Jeff Webster who takes a cattle drive from Wyoming to Alaska, via Seattle. He hooks up in Seattle with his partners Ben Tatum (Walter Brennan) and Rube Morris (Jay C. Flippen) that he has sent ahead of time in order to make preparations for the boat trip, north.<br /><br />But first, he has to put up with insubordinate trail hands, cheating riverboat captains and the charms of coy, manipulative Ronda Castle (Ruth Roman) who believes Jeff could be a valuable ally in the future. That's why she hides him out on the boat while the captain's looking for him for the earlier (and justifiable) killing of a trail hand.<br /><br />Jeff also has the misfortune of running into sleazy Judge Gannon (John McIntire) who runs the town of Skagway, Alaska. Gannon locks Jeff up for disrupting his public hanging by running his cattle through town. He fines Jeff the ownership of his cattle and Jeff just has to eat crow for the time being. <br /><br />In the meantime, Jeff agrees to ride point for Ronda up to Dawson in order to deliver supplies. But this is just a ruse so Jeff, Ben and Rube can slip back into Skagway and steal his cattle back. Of course Judge Gannon finds out about this and is right behind but is delayed by Jeff with a rifle while Ben races the cattle over the Canadian border out of Gannon's reach.<br /><br />After avoiding an avalanche and another shootout with some other Skagway men, they finally reach Dawson where Jeff sells his cattle to the highest bidder, which just happens to be Ronda who then promptly sets up a new gambling house in Dawson. Jeff then takes his money and buys himself a claim and starts panning for gold. <br /><br />But then Judge Gannon comes up to Dawson to get in on the gold action up there, and tells Jeff that he was getting a little bored with Skagway and wants to try his luck up in the Klondike, himself. That involves bring some hired gunman with him and forcibly stealing some of the other miner's claims. Jeff and Ben now feel it's time to clear out while the goings are good, leaving Rube to fend for himself as a most ineffective sheriff against Gannon and his gang.<br /><br />They look for a back way out only to find themselves ambushed by Gannon's men because Ben made the mistake of opening his big mouth. Ben is killed and Jeff is severely wounded but that doesn't save Judge Gannon from his just due. The ending shootout at night on the muddy Dawson street pretty much takes care of that. First Jeff kills two of Gannon's best gunman (Jack Elam and Robert Wilkie). Then as Ronda comes out to warn Jeff that Gannon is trying to slip around behind him, Gannon shoots her in the back and she dies right there in Jeff's arms. Then Jeff kills Gannon as he's hiding under a wooden sidewalk. Revenge has spoken.<br /><br />This is another rip-roaring western that's right up there with THE NAKED SPUR and THE MAN FROM LARAMIE. Why the Universal DVD uses a pan-and-scan print instead of the widescreen print TCM uses, is beyond me. You'll wind up missing half the glorious Alberta cinematography by William Daniels. So if you like well-written 50s westerns, then this one's an A-list keeper. <br /><br />8 out of 10\", 'label': 1, 'source': 'imdb'}\n",
      "{'id': 13600, 'text': \"I miss Dark Angel!..<br /><br />I understand not ever one likes it, but as far as I'm concerned the show should not have been canceled, especially for another space show mock up...<br /><br />I'm reading the books now. they are doing a pretty good job of explaining somethings, but I still think we should get a TV movie or something.<br /><br />THE FREAK NATION LIVES!!!!!!!!\", 'label': 1, 'source': 'imdb'}\n",
      "{'id': 13700, 'text': \"I like the good and evil battle. I liked Eddie in this movie better than any movie he has ever done. He wasn't The smart, cocky, know it all he usually plays. He shows heart and a more humble humor. The fact that it shows there are stranger things in Heaven and on earth than we can think of gives me hope.\", 'label': 1, 'source': 'imdb'}\n"
     ]
    }
   ],
   "source": [
    "\n",
    "# Show a few joined results\n",
    "for row in joined.take(5):\n",
    "    print(row)"
   ]
  }
 ],
 "metadata": {
  "kernelspec": {
   "display_name": "Python 3 (ipykernel)",
   "language": "python",
   "name": "python3"
  },
  "language_info": {
   "codemirror_mode": {
    "name": "ipython",
    "version": 3
   },
   "file_extension": ".py",
   "mimetype": "text/x-python",
   "name": "python",
   "nbconvert_exporter": "python",
   "pygments_lexer": "ipython3",
   "version": "3.11.6"
  }
 },
 "nbformat": 4,
 "nbformat_minor": 4
}