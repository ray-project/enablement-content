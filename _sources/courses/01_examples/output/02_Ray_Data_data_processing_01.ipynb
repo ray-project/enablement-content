{
 "cells": [
  {
   "cell_type": "markdown",
   "metadata": {},
   "source": [
    "# Data Processing with Ray Data\n",
    "\u00a9 2025, Anyscale. All Rights Reserved"
   ]
  },
  {
   "cell_type": "markdown",
   "metadata": {},
   "source": [
    "\ud83d\udcbb **Launch Locally**: You can run this notebook locally.\n",
    "\n",
    "\ud83d\ude80 **Launch on Cloud**: Think about running this notebook on a Ray Cluster (Click [here](http://console.anyscale.com/register) to easily start a Ray cluster on Anyscale)"
   ]
  },
  {
   "cell_type": "markdown",
   "metadata": {},
   "source": [
    "\n",
    "Data preprocessing is a crucial step in any machine learning workflow, and Ray Data provides a scalable and flexible way to handle this process on large datasets. With Ray Data, you can efficiently load, transform, filter, and join datasets using a distributed framework that leverages the power of multiple CPUs or nodes. This makes it possible to preprocess data that would be too large to fit into memory on a single machine, enabling seamless scaling from your laptop to a cluster.\n",
    "\n",
    "Ray Data supports a variety of preprocessing operations, such as filtering rows based on conditions, joining multiple datasets, and applying custom transformations like tokenization or label encoding. For example, you can load a large public dataset like IMDB reviews, filter for only positive reviews, join with metadata, and tokenize the text\u2014all in a distributed and parallelized manner. This approach not only speeds up data preparation but also integrates smoothly with downstream machine learning tasks, making Ray Data a powerful tool for modern data pipelines."
   ]
  },
  {
   "cell_type": "markdown",
   "metadata": {},
   "source": [
    "### Outline of the notebook\n",
    "This notebook shows a few examples on how to preprocess data with Ray Data.\n",
    "\n",
    "<div class=\"alert alert-block alert-info\">\n",
    "<ul>\n",
    "    <li>Library Imports\n",
    "    <li>Initialize Ray and Load a Large Public Dataset\n",
    "    <li>Convert to Ray Dataset\n",
    "    <li>Create a Second Dataset\n",
    "    <li>Filtering Data\n",
    "    <li>Joining Datasets\n",
    "    <li>Tokenization and Preprocessing\n",
    "    <li>Converting to Pandas DataFrame\n",
    "    <li>Shutting Down Ray\n",
    "    <li>Conclusion\n",
    "</ul>\n",
    "</div>"
   ]
  }
 ],
 "metadata": {
  "kernelspec": {
   "display_name": "Python 3 (ipykernel)",
   "language": "python",
   "name": "python3"
  },
  "language_info": {
   "codemirror_mode": {
    "name": "ipython",
    "version": 3
   },
   "file_extension": ".py",
   "mimetype": "text/x-python",
   "name": "python",
   "nbconvert_exporter": "python",
   "pygments_lexer": "ipython3",
   "version": "3.11.6"
  }
 },
 "nbformat": 4,
 "nbformat_minor": 4
}