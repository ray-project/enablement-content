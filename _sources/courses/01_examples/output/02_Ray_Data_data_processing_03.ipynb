{
 "cells": [
  {
   "cell_type": "markdown",
   "metadata": {},
   "source": [
    "## Convert to Ray Dataset\n",
    "Add unique IDs to each row and create a Ray Dataset. Ray Dataset is distributed across the nodes and enables parallel computations."
   ]
  },
  {
   "cell_type": "code",
   "execution_count": 8,
   "metadata": {},
   "outputs": [],
   "source": [
    "# Add id and convert to Ray Dataset\n",
    "ds_reviews = ray.data.from_items([\n",
    "    {\"id\": i, \"text\": row[\"text\"], \"label\": row[\"label\"]}\n",
    "        for i, row in enumerate(imdb)\n",
    "]) # add id to each row\n"
   ]
  },
  {
   "cell_type": "code",
   "execution_count": 9,
   "metadata": {},
   "outputs": [
    {
     "name": "stdout",
     "output_type": "stream",
     "text": [
      "MaterializedDataset(\n",
      "   num_blocks=200,\n",
      "   num_rows=25000,\n",
      "   schema={id: int64, text: string, label: int64}\n",
      ")\n"
     ]
    }
   ],
   "source": [
    "print(ds_reviews)"
   ]
  },
  {
   "cell_type": "markdown",
   "metadata": {},
   "source": [
    "### Create a Second Dataset\n",
    "Here we create a second dataset (fake metadata) with some rows with common IDs as in ds_reviews data. In practice, you would have a real metadata or another dataset. This used to show join operation between two Ray datasets."
   ]
  },
  {
   "cell_type": "code",
   "execution_count": 10,
   "metadata": {},
   "outputs": [],
   "source": [
    "\n",
    "# Create a second dataset: pretend we have metadata (source column) for every 100th row.\n",
    "# This is just for demonstration purposes; in practice, you would have a real metadata source.\n",
    "ds_meta = ray.data.from_items([\n",
    "    {\"id\": i, \"source\": \"imdb\"} for i in range(0, len(imdb), 100)\n",
    "])\n"
   ]
  },
  {
   "cell_type": "code",
   "execution_count": 11,
   "metadata": {},
   "outputs": [
    {
     "name": "stdout",
     "output_type": "stream",
     "text": [
      "MaterializedDataset(\n",
      "   num_blocks=200,\n",
      "   num_rows=250,\n",
      "   schema={id: int64, source: string}\n",
      ")\n"
     ]
    }
   ],
   "source": [
    "print(ds_meta)"
   ]
  }
 ],
 "metadata": {
  "kernelspec": {
   "display_name": "Python 3 (ipykernel)",
   "language": "python",
   "name": "python3"
  },
  "language_info": {
   "codemirror_mode": {
    "name": "ipython",
    "version": 3
   },
   "file_extension": ".py",
   "mimetype": "text/x-python",
   "name": "python",
   "nbconvert_exporter": "python",
   "pygments_lexer": "ipython3",
   "version": "3.11.6"
  }
 },
 "nbformat": 4,
 "nbformat_minor": 4
}