{
 "cells": [
  {
   "cell_type": "markdown",
   "metadata": {},
   "source": [
    "## Batch Inference Class\n",
    "Many machine learning models are optimized for processing a batch of inputs at once. When working with a large dataset, there could be many batches of data. Instead of loading machine learning models repeatedly to run each batch of data, you want to spin up a number of actor processes that are **initialized once** with your model **and reused** to process multiple batches. \n",
    "\n",
    "To implement this, you can use the `map_batches` API with a \"Callable\" class method that implements:\n",
    "\n",
    "- `__init__`: Initialize any expensive state.\n",
    "- `__call__`: Perform the stateful transformation.\n",
    "\n",
    "In this example, a lightweight sentence transformer model, **all-MiniLM-L6-v2** is used to generate embeddings of text data."
   ]
  },
  {
   "cell_type": "code",
   "execution_count": 6,
   "metadata": {},
   "outputs": [],
   "source": [
    "# Create an Ray actor class to embed text using the SentenceTransformer model\n",
    "class TextEmbedder:\n",
    "    def __init__(self):\n",
    "        # load a pretrained sentence transformer model\n",
    "        model_name = \"all-MiniLM-L6-v2\"  # A popular, lightweight sentence transformer model\n",
    "        self.model = SentenceTransformer(model_name) # automatically detects cuda, mps, cpu\n",
    "\n",
    "    def __call__(self, batch: Dict[str, np.ndarray]) -> Dict[str, np.ndarray]:\n",
    "        sentences = batch[\"text\"] # use the \"text\" column\n",
    "        batch['embedding'] = self.model.encode(sentences) # create embedding\n",
    "        return batch\n"
   ]
  }
 ],
 "metadata": {
  "kernelspec": {
   "display_name": "Python 3 (ipykernel)",
   "language": "python",
   "name": "python3"
  },
  "language_info": {
   "codemirror_mode": {
    "name": "ipython",
    "version": 3
   },
   "file_extension": ".py",
   "mimetype": "text/x-python",
   "name": "python",
   "nbconvert_exporter": "python",
   "pygments_lexer": "ipython3",
   "version": "3.11.6"
  }
 },
 "nbformat": 4,
 "nbformat_minor": 4
}