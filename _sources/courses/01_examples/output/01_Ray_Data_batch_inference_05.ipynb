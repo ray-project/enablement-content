{
 "cells": [
  {
   "cell_type": "markdown",
   "metadata": {},
   "source": [
    "## Create a batch data and call the model\n",
    "Define a Ray Data map_batches function to embed text using the SentenceTransformer model. This function will be applied to each batch of data in the Ray Data dataset. It will take a batch of sentences, encode them into embeddings, and return the batch with the embeddings added.\n",
    "\n",
    "Showcasing two options of to do batch inference based on if the ray cluster has have GPU nodes or if it has just CPU nodes. The second option also works on a local ray cluster on an Apple Silicon Mac with MPS."
   ]
  },
  {
   "cell_type": "code",
   "execution_count": 7,
   "metadata": {},
   "outputs": [],
   "source": [
    "# setting manually so that code works on ray clusters with both CPU or GPU workers, or on a local mac with MPS\n",
    "worker_device = \"cpu\" # or \"cuda\" if you have a nvidia gpu on worker nodes\n",
    "# batch_size should be set based on VRAM \n",
    "if worker_device == \"cuda\": # if you have a nvidia gpu on worker nodes\n",
    "    # adjust batch_size based on the VRAM available on the GPU\n",
    "    ds = ds.map_batches(TextEmbedder, num_gpus=1, concurrency=2, batch_size=64) # 2 nodes with 1 GPU each\n",
    "else:\n",
    "    ds = ds.map_batches(TextEmbedder, concurrency=2, batch_size=64) # either cpu or mps (on a mac)"
   ]
  },
  {
   "cell_type": "markdown",
   "metadata": {},
   "source": [
    "### Deploying at scale\n",
    "- The batch size for encoding can be adjusted based on the available memory and performance requirements.\n",
    "- The `device` parameter ensures that the model runs on the correct device (CPU, GPU, or MPS).\n",
    "- The `concurrency` parameter controls how many batches are processed in parallel. If there are 2 nodes with 1 GPU each or 1 node with 2 GPUs, then set concurrency = 2 and num_gpus=1.\n",
    "- map_batches() is a lazy function and not executed until needed (example, using take or show)."
   ]
  },
  {
   "cell_type": "markdown",
   "metadata": {},
   "source": [
    "Run inference on a batch of 128 rows. This will return a batch of 128 rows with the embeddings added to the caller's machine."
   ]
  },
  {
   "cell_type": "code",
   "execution_count": 8,
   "metadata": {},
   "outputs": [
    {
     "name": "stderr",
     "output_type": "stream",
     "text": [
      "2025-07-11 07:00:56,090\tINFO logging.py:295 -- Registered dataset logger for dataset dataset_4_0\n",
      "2025-07-11 07:00:56,094\tINFO streaming_executor.py:117 -- Starting execution of Dataset dataset_4_0. Full logs are in /tmp/ray/session_2025-07-11_06-47-50_390429_98374/logs/ray-data\n",
      "2025-07-11 07:00:56,095\tINFO streaming_executor.py:118 -- Execution plan of Dataset dataset_4_0: InputDataBuffer[Input] -> AllToAllOperator[Repartition] -> ActorPoolMapOperator[MapBatches(TextEmbedder)] -> LimitOperator[limit=128]\n"
     ]
    },
    {
     "data": {
      "application/vnd.jupyter.widget-view+json": {
       "model_id": "6b7b173fb7dd49bf9afe2295437c1b86",
       "version_major": 2,
       "version_minor": 0
      },
      "text/plain": [
       "Running 0: 0.00 row [00:00, ? row/s]"
      ]
     },
     "metadata": {},
     "output_type": "display_data"
    },
    {
     "name": "stderr",
     "output_type": "stream",
     "text": [
      "2025-07-11 07:00:56,105\tINFO actor_pool_map_operator.py:633 -- Scaling up actor pool by 2 (reason=scaling to min size, running=0, restarting=0, pending=0)\n"
     ]
    },
    {
     "data": {
      "application/vnd.jupyter.widget-view+json": {
       "model_id": "d2b2f0ab1e284a219bd6e0c1503c46b5",
       "version_major": 2,
       "version_minor": 0
      },
      "text/plain": [
       "- Repartition 1: 0.00 row [00:00, ? row/s]"
      ]
     },
     "metadata": {},
     "output_type": "display_data"
    },
    {
     "data": {
      "application/vnd.jupyter.widget-view+json": {
       "model_id": "786e104a4043482ea8d3154eeb55f061",
       "version_major": 2,
       "version_minor": 0
      },
      "text/plain": [
       "Split Repartition 2:   0%|                                                                                    \u2026"
      ]
     },
     "metadata": {},
     "output_type": "display_data"
    },
    {
     "data": {
      "application/vnd.jupyter.widget-view+json": {
       "model_id": "fc842736d27e41e9837238b546b56a3e",
       "version_major": 2,
       "version_minor": 0
      },
      "text/plain": [
       "- MapBatches(TextEmbedder) 3: 0.00 row [00:00, ? row/s]"
      ]
     },
     "metadata": {},
     "output_type": "display_data"
    },
    {
     "data": {
      "application/vnd.jupyter.widget-view+json": {
       "model_id": "cafc1111d0124878ad187602bcec6ff4",
       "version_major": 2,
       "version_minor": 0
      },
      "text/plain": [
       "- limit=128 4: 0.00 row [00:00, ? row/s]"
      ]
     },
     "metadata": {},
     "output_type": "display_data"
    },
    {
     "name": "stderr",
     "output_type": "stream",
     "text": [
      "2025-07-11 07:01:12,263\tINFO actor_pool_map_operator.py:661 -- Scaled down actor pool by 1 (reason=consumed all inputs; running=1, restarting=0, pending=0)\n",
      "2025-07-11 07:01:12,377\tINFO streaming_executor.py:227 -- \u2714\ufe0f  Dataset dataset_4_0 execution finished in 16.28 seconds\n"
     ]
    },
    {
     "data": {
      "text/plain": [
       "{'text': array(['\"QT @user In the original draft of the 7th book, Remus Lupin survived the Battle of Hogwarts. #HappyBirthdayRemusLupin\"',\n",
       "        '\"Ben Smith / Smith (concussion) remains out of the lineup Thursday, Curtis #NHL #SJ\"',\n",
       "        'Sorry bout the stream last night I crashed out but will be on tonight for sure. Then back to Minecraft in pc tomorrow night.',\n",
       "        \"Chase Headley's RBI double in the 8th inning off David Price snapped a Yankees streak of 33 consecutive scoreless innings against Blue Jays\",\n",
       "        '@user Alciato: Bee will invest 150 million in January, another 200 in the Summer and plans to bring Messi by 2017\"',\n",
       "        \"@user LIT MY MUM 'Kerry the louboutins I wonder how many Willam owns!!! Look Kerry Warner Wednesday!'\",\n",
       "        '\"\\\\\"\"\"\" SOUL TRAIN\\\\\"\"\"\" OCT 27 HALLOWEEN SPECIAL ft T.dot FINEST rocking the mic...CRAZY CACTUS NIGHT CLUB ..ADV ticket $10 wt out costume $15...\"',\n",
       "        'So disappointed in wwe summerslam! I want to see john cena wins his 16th title',\n",
       "        '\"This is the last Sunday w/o football .....,NFL is back baby\"',\n",
       "        \"@user @user CENA & AJ sitting in a tree K-I-S-S-I-N-G 1st goes AJ's  job then John's cred then goes Vicki with the GM position.\",\n",
       "        '@user Well said on HMW. Can you now address why Texans fans file out of the stadium midway through the 4th qtr of every game?',\n",
       "        \"Just said hello to Dennis Kucinich as he walked casually through campus with his #hotwife. He's on 22nd st!\",\n",
       "        'Super excited for homecoming Saturday with Monroe! :D my new nephew is here but I can\\\\u2019t see him :(',\n",
       "        'That sucks if you have to take the SATs tomorrow',\n",
       "        '@user  6 tickets for Sam smith concert  Sept 30 cheap! Flew our family of 6 here fir the concert! BEYOND UPSET!',\n",
       "        '\"Fiorentina have reportedly opened talks with Chelsea over taking the 20yr old Kurt Zuoma on loan in January.\"',\n",
       "        'Creighton Volleyball leads 8-5 early in 2nd set. Match becomes even bigger with both Wichita St. & Missouri State down 0-1 at home tonight.',\n",
       "        \"This time tomorrow...we'll have the Iron on. Iron Maiden pieces Drops tomorrow nights.\",\n",
       "        \"Amy Schumer sat down with The Hollywood Reporter and opened up about the sexist remarks and unnecessary criticism she's faced since\",\n",
       "        \"What is Jamie Foxx doing sitting next to Niall like you could've sat in a better spot just saying lol\",\n",
       "        '@user @user 1st uneasyness was when he got v defensive about the Charlie Hebdo stuff, even tho he had pals patiently explaining\"',\n",
       "        'Reminder: Samsung Unveils the Galaxy Note 5 and S6 Edge+ Tomorrow Morning! - - #tech #news...',\n",
       "        '\"Gonna do a movie marathon with my friend today and tomorrow. Twilight, New Moon, Eclipse, BD1, The Runaways, Adventureland, (c)\"',\n",
       "        'Oscars Well makes his debut over fences at Punchestown tomorrow. It looks as though he\\\\u2019ll have Plan A and Darwins Fox to overcome.',\n",
       "        'Q2 10:30. Philip Rivers pass to Eddie Royal to the San Diego 19 for 7 yards. 3rd & 1.',\n",
       "        '@user Work colleague of mine on Thursday night: \"\"oh, look, they\\'re showing the Bee Gees on video.\"\" 23-yr old colleague: \"\"who?\"\"\"',\n",
       "        \"Who's going to get them Gucci foams tomorrow\",\n",
       "        'Yes glass of red\\\\u002c Rammstein and day off tomorrow (thank you @user just what I needed.',\n",
       "        'Vampettes we are back on the 21st place keep tweeting with the hashtag #MTVStars The Vamps #MTVStarsOf2015',\n",
       "        'Ryan Braun returned to the lineup on Wednesday after missing two games with lower back tightness.',\n",
       "        '\"#Ichiro has nothing. If you want to see hustle: Kenny Lofton, 17 October 1995, scores from second base on a past ball. #GoTribe #ALDS\"',\n",
       "        'Looking forward to going to Carrow Rd tonight. Last time we were there\\\\u002c Bale scored 2 and we were 3rd. Do not want extra time though',\n",
       "        'Gonna go to the north game tomorrow night. I better see some of you north kiddos',\n",
       "        'Right guys\\\\u002c last competition of the night... Like this status for a chance to win a copy of Judas Priest\\\\u2019s 30th...',\n",
       "        'We\\\\u2019re in the studio working on the new album and it sounds EPIC. We may as well pick up our Brit Award now\\\\u002c tbh.',\n",
       "        '\"last day of august, waiting for frank ocean to pull a beyonce.',\n",
       "        '#INFO --> Grand opening sharetea bubble tea with @user 2 nov 2012 mall taman anggrek 11:00 - 14:00 * Jadwal ke-1 besok !',\n",
       "        'Sunday (tomorrow) is National Ice Cream Day and have we got a gift for you!   Join us for an ice cream sundae and...',\n",
       "        'Gucci pants himself store january lay open the span thine atomic irruptive concomitant so that cons comburent:...',\n",
       "        'still not over how Nicki snapped like a 12th grader on their last day of high school',\n",
       "        'I may or may not buy myself the illustrated version of Harry potter for my birthday',\n",
       "        'I wanna see STUDIO FOOTAGE SO BAD. We are about to hear some unreleased STUFF! Likeeeeeeeeee I can\\\\u2019t wait until Sunday.',\n",
       "        '@user how the hell does every one else get to keep their religious and 1st amnt rights, except Christians!!! This is just wrong!!!\"',\n",
       "        'A @user rule change should allow Carly Fiorina to earn a spot on the main stage for the 2nd Republican debate.',\n",
       "        '\"TFI Friday doesn\\'t look like it\\'s coming back, as Chris Evans focuses on new-look Top Gear',\n",
       "        '#np The Way You Make Me Feel - 2012 Remaster by Michael Jackson from the album Bad 25th Anniversary.',\n",
       "        '\"I\\'m going to see Paper Towns. Saturday, 22 August 2015 at 17:40 in Leigh #Cineworld\"',\n",
       "        '@user Yepo I came in Milan it was my 1st concert and it was so good you guys did an amazing job! You are flawless live like PERFECT!',\n",
       "        '#days #dool Tuesday Hope has to pick up Ciara. Rafe wants a real case not just publicity like Justin',\n",
       "        'Seth Rollins talks &amp; talks every Monday on RAW for about 45 minutes',\n",
       "        'Thanks manager for putting me on the schedule for Sunday\"',\n",
       "        \"I'm sat at work just laughing at all these Hulk Hogan tweets. Hahha ffs\",\n",
       "        \"@user #MLBCentral David Wright crushing a dinger on his first swing since April 14th. I didn't think he would pull a Wilmer Flores!\",\n",
       "        'I feel like the new Janet Jackson single is bringing back 90s R&amp;B. via @user',\n",
       "        'Anyone want to see Sam smith with me on October 6th?',\n",
       "        'This Friday OUTHOUSE is playing at Still Partners in Sea Cliff ! Hop on the Expressway to Nirvana!',\n",
       "        '\"You can\\'t shit talk Kpop. Every group is so in sync and vocally on point. It may not be your thing, but it\\'s talent.\"',\n",
       "        'I hope Milan mom say that she can come over on the 28th',\n",
       "        'Don\\\\u2019t forget Mitch Daniels is going to be on Steven Colbert\\\\u2019s show Thursday.  Think this will come up as a topic?',\n",
       "        \"Amazon prime is literally a lie....I ordered a book LAST MONDAY &amp; it still isn't here. do better @user\",\n",
       "        'Who the hell moshes at Matt and Kim?? Next time watch out for my face\\\\u002c mofos! My cheekbones better not be purple tomorrow. @user',\n",
       "        '\"What a difference not having Sterling on the pitch makes! Welbeck dragged wide 1st half, the Ox replaces Sterling, Welbeck down middle, goal\"',\n",
       "        '\"Dear lovely Christians, I wish to inform you, tomorrow we got one Mass @ 10am as we\\'ll be submitting our parish family day collection!\"',\n",
       "        '\"To Kpop fans, we song along to vocals, 2nd voices, raps, fanchants, do the instruments &amp; even perform its own choreo',\n",
       "        'Cherie Blair is sat on our coach going to the games! #Olympics2012',\n",
       "        'continued : Emmanuel Adebayor has not travelled with the squad for our Europa League away tie in Greece tomorrow evening.',\n",
       "        \"Mario Williams is catching hell! He will be Exposed on Sunday... Not like Buffalo don't see him 4 who he is Already!\",\n",
       "        '\"Kris Bryant hurt, Joe Maddon ejected in today\\'s Cubs game, and it\\'s only the 6th inning.',\n",
       "        '@user Last Wednesday, when I saw you dressed as Robin, all I can think about is \"Who\\'s Batman? Where\\'s the Teen Titans?\"',\n",
       "        '@user Brock lesnar live from madison square garden sounds like it could just be a live feed of him sat on a chair for 3 hours',\n",
       "        '@user Frank ocean releasing his second album december 31st 2015 on new years eve. heres the interview...',\n",
       "        '@user @user at da end of da night no girl that roll with me is on da MTA! They are above that as long as I can afford that!',\n",
       "        '@user SCOTUS based their argument on the 14th. No matter how you stretch it race was not involved.',\n",
       "        \"My mom's over here tryna tell me that we're taking the CAHSEE tomorrow ._. Nigga it's only the second month of school.. #SlowYourRoll\",\n",
       "        '\"Rahul Gandhi held Indian citizenship from day one: Congress: New Delhi, Nov 18: Dismissing BJP leader Subraman...',\n",
       "        '\"I\\'m going to Paramore at Rock Im Park in Nuremburg, Germany - Jun 8',\n",
       "        'Happy Birthday Nick J  May you live long and Happy :)',\n",
       "        'ECHO: Sex offender is warned he may face jail over offences #Dorset',\n",
       "        'I hope Bernie Sanders is a sun and the other two are shooting stars or black holes.',\n",
       "        '\"Shows how much you can trust drivers answering these questions. Alonso was still saying on Monday that Ferrari split is \"\"\"\"just a rumor.\"\"\"\" #F1\"',\n",
       "        'Who else is going to the Chris brown tour this Thursday #ChrisBrown#onehellofanighttour',\n",
       "        'Your inspirational quotes on twitter/Feb never really got to me. But oh damn ur pics of them on IG have truly inspired me. #idiots\"',\n",
       "        'Another beauty of a day in Athens\\\\u002c Greece. I trust you\\\\u2019ll have an exceptional Friday wherever in the world you are. Much love.',\n",
       "        '\"Another great night in Split, off to Hvar on the 8:30 ferry tomorrow morning... dreading the packing but excited to get there!\"',\n",
       "        \"@user and im seeing Ed live this Saturday at b'ham NIA! It would be amazing to get the book signed. Thanks for putting it together\",\n",
       "        '\"Church tonight, who will you bring????\"',\n",
       "        'Q_Q Today was the day that Naruto shippuden: UNS4 was suppose to come out. WHYYYYYYY DID THEY PUSH IT ALL THE WAY TO JAN???? HELLO',\n",
       "        'Pics of the March Fourth Marching Band at the Oregon Country Fair closing out the show Sunday night. Their...',\n",
       "        'The audio booth is ready to blow the roof off the Comcast Center tomorrow! Are you? #MDMadness',\n",
       "        'welllll who wants to see Ed Sheeran with me on the 17th????',\n",
       "        'GOALdotCOM: Premier League Team of the Week: Van Persie & Aguero both star after City & Arsenal wins',\n",
       "        \"The Hitchhiker's Guide to the Galaxy Game - 30th Anniversary Edition Need to sign up with the BBC online.\",\n",
       "        \"I'm seeing Ed Sheeran on Wednesday in Miami so if you wanna meet up or say hi hmu!\",\n",
       "        '\"Chuck Close shares his best-kept secrets with @user on the eve of his new show, opening Thursday @user',\n",
       "        'Vermaelen the hero for Barca: Thomas Vermaelen was the unlikely hero as Barcelona laboured to a 1-0 home win over Malaga on Saturday ...',\n",
       "        '@user I\\\\u2019m sick with something ill be at school on Monday though',\n",
       "        '\"There\\'s something about Friday Night Lights, you just get chills thinking about it .\"',\n",
       "        'Googled the snake I stepped over on the trail Sunday. Baby timber rattler. So time to Google \"snake-proof hiking boots.\"',\n",
       "        '@user Also, his anger against Hindus are justified but couldn\\'t get why he was so anti Islam..may be he was just fed up of religions\"',\n",
       "        'Ricky Ponting and I now have something in common. Today he passed 23\\\\u002c000 1st class runs. Last night at training\\\\u002c i was hit for 23\\\\u002c000 runs.',\n",
       "        'Ted Nugent talks to us about #hunting and other stuff he\\\\u2019s got on his mind @user this Saturday at 7am on the Great Outdoors\\\\u002c #nuge',\n",
       "        'Check out Newsha Tavakolian at the Saatchi Gallery in London. Her photos of Iran may interest some of you!',\n",
       "        \"Mansbridge destroyed Justin tonite the polls for the lib's should tank tomorrow! Wake up people he is NOT ready!!\",\n",
       "        'For the ones tomorrow sunday in Milan (Italy): Aperitif and evening at Fiat Open Lounge:',\n",
       "        '\"J\\'regarde des infos sur Ragnarok (le film) &amp;bon: \"\"Thor will make it out of the third movie[..]Loki, on the other hand may not be so Lucky.\"\"\"',\n",
       "        '@user Donald trump said the same thing about the tax rate.  Fact check said he was a liar \"pant of fire\"',\n",
       "        '\"If you\\\\u2019re calling this little thing right here a \\\\\"\"\"\"party\\\\\"\"\"\" then Friday night\\\\u2019s gonna be Project X\\\\u002c Y\\\\u002c & Z.\"',\n",
       "        '\"Love this vid!! 1st time I\\\\u2019ve seen it!--- jules explains it all - David Archuleta sings \\\\\"\"\"\"Nandito Ako.\\\\\"\"\"\" via @user',\n",
       "        '@user @user Not just Christians, you are in the prayers of \"\"all of us\"\" humans.May you stay safe and be free soon!God bless.\"',\n",
       "        'Happy birthday @user ! National Bieber Day . Now he\\\\u2019s 18th years\\\\u002c but he\\\\u2019s #stillkidrauhl #IndonesiaSaysHBDforJustinBieber',\n",
       "        '\"If you put one over the plate he\\'s gonna fuck you up  Called it, Kris Bryant with his 21st\"',\n",
       "        'Good luck to Girls Tennis as the take on South Torrance today on 1st round CIF! #GoLions2012',\n",
       "        '\"\\\\\"\"Hey\\\\u002c you\\\\u2019re missing Beauty and the Beast\\\\u002c Vampire Diaries & Grey\\\\u2019s Anatomy right now on TV. Saturday is Merlin\\\\\"\" - @user #sisterlife\"',\n",
       "        'Decided to watch Rick and Morty will probably watch Naruto tomorrow such a good movie hits ya right in the feels',\n",
       "        \"first Hasek now Modano want to come back...who's next Mario Lemieux for the 4th time!\",\n",
       "        '@user isn\\\\u2019t it just!  staying in and watching the lovely James Martin on Saturday kitchen. Great pumpkin soup recipe to warm u up',\n",
       "        '@user how was your day today? Did you enjoy watching softball. We missed you on tiger woods',\n",
       "        'And to think I wrote this Dustin Johnson Tweet after the second round of the British Open',\n",
       "        \"Just Turned the corner into Ghetto n #Roma 1st thing I saw a group of Muslims! Now that's tourism for ya. It's a sm world after all #peace\",\n",
       "        \"Be sure to look for Nash's new video with Skylynn tomorrow #NashNewVideo love you @user\",\n",
       "        'Who wants to be my date to the White Sox vs Red Sox game Tuesday',\n",
       "        \"At long last, Lexus has developed a hoverboard, the 'Slide,' to be tested in public for the first time on Wed.\",\n",
       "        'I noticed all the Huddlestone haters were conspicuous by their absence yesterday\\\\u002c particularly when he assisted Bale for the 1st goal #THFC',\n",
       "        'Unexpected development-- saw Ant-Man on Saturday night in London. It was surprisingly charming. I actually quite enjoyed it.',\n",
       "        '\"Tomorrow is Star Wars day! New movie! And is @user and @user birthday! Great, isn\\'t? @user',\n",
       "        'Sun is shining... Bob Marley on the radio... hiya Monday!',\n",
       "        '\"Hope, Love &amp; Laughter; Warmth, Prosperity &amp; Joy; A fragrant bouquet filled with life; You may Enjoy! A very happy Eid -\"',\n",
       "        \"'Frank Ocean' appeared on Sunday 16 at the 11th place in the Top20 of Dallas-Ft. Worth's Trends: #trndnl\"],\n",
       "       dtype=object),\n",
       " 'label': array([2, 1, 1, 1, 2, 2, 2, 0, 2, 1, 1, 1, 2, 0, 1, 1, 2, 2, 0, 1, 1, 2,\n",
       "        1, 1, 1, 1, 1, 2, 2, 1, 1, 2, 1, 2, 2, 1, 1, 2, 1, 1, 2, 2, 0, 2,\n",
       "        1, 1, 2, 2, 1, 1, 0, 2, 1, 2, 1, 2, 1, 1, 1, 0, 0, 2, 2, 2, 1, 1,\n",
       "        0, 0, 1, 1, 1, 2, 1, 0, 1, 1, 2, 0, 2, 1, 2, 0, 2, 2, 2, 1, 0, 1,\n",
       "        2, 2, 2, 1, 2, 1, 2, 0, 2, 1, 0, 1, 1, 1, 1, 1, 1, 1, 1, 2, 2, 2,\n",
       "        0, 2, 0, 2, 1, 2, 1, 1, 1, 2, 1, 2, 0, 2, 2, 2, 2, 1]),\n",
       " 'embedding': array([[-0.11721872,  0.07510021,  0.00844238, ...,  0.05286286,\n",
       "          0.06096685,  0.08142687],\n",
       "        [-0.02556132, -0.01222771, -0.07829855, ...,  0.06099542,\n",
       "         -0.01231135,  0.00749106],\n",
       "        [-0.0092816 , -0.04148921,  0.01455652, ...,  0.07176238,\n",
       "         -0.06872221, -0.01504247],\n",
       "        ...,\n",
       "        [-0.01190887,  0.04831458,  0.03302041, ..., -0.00753223,\n",
       "         -0.08080895, -0.05962829],\n",
       "        [-0.06194988,  0.15394783,  0.050227  , ...,  0.08113792,\n",
       "          0.02496293, -0.06251295],\n",
       "        [-0.02202111, -0.02095584, -0.02791084, ..., -0.10536157,\n",
       "          0.03924675,  0.03357503]], shape=(128, 384), dtype=float32)}"
      ]
     },
     "execution_count": 8,
     "metadata": {},
     "output_type": "execute_result"
    }
   ],
   "source": [
    "# Run inference on a batch of 128 rows for testing.\n",
    "ds.take_batch(128)"
   ]
  }
 ],
 "metadata": {
  "kernelspec": {
   "display_name": "Python 3 (ipykernel)",
   "language": "python",
   "name": "python3"
  },
  "language_info": {
   "codemirror_mode": {
    "name": "ipython",
    "version": 3
   },
   "file_extension": ".py",
   "mimetype": "text/x-python",
   "name": "python",
   "nbconvert_exporter": "python",
   "pygments_lexer": "ipython3",
   "version": "3.11.6"
  }
 },
 "nbformat": 4,
 "nbformat_minor": 4
}