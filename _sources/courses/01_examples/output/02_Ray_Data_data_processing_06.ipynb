{
 "cells": [
  {
   "cell_type": "markdown",
   "metadata": {},
   "source": [
    "## Preprocessing with a Tokenizer\n",
    "This showcases a preprocessing method that tokenizes the text column using custom tokenization function. Such preprocessing methods are useful in preparing the data for training a model."
   ]
  },
  {
   "cell_type": "code",
   "execution_count": 22,
   "metadata": {},
   "outputs": [],
   "source": [
    "import string\n",
    "# Define a tokenizer for the text column\n",
    "def tokenization_fn(s):\n",
    "    for character in string.punctuation:\n",
    "        s = s.replace(character, \"\")\n",
    "    return s.split()\n",
    "# tokenizer = Tokenizer(columns=[\"text\"], tokenization_fn=tokenization_fn)\n",
    "tokenizer = Tokenizer(columns=[\"text\"], output_columns=[\"text_tokenized\"],\n",
    "                      tokenization_fn=tokenization_fn)"
   ]
  },
  {
   "cell_type": "code",
   "execution_count": 23,
   "metadata": {},
   "outputs": [
    {
     "name": "stderr",
     "output_type": "stream",
     "text": [
      "2025-07-11 08:47:48,646\tINFO logging.py:295 -- Registered dataset logger for dataset dataset_9_0\n",
      "2025-07-11 08:47:48,650\tINFO streaming_executor.py:117 -- Starting execution of Dataset dataset_9_0. Full logs are in /tmp/ray/session_2025-07-11_08-03-28_326524_18345/logs/ray-data\n",
      "2025-07-11 08:47:48,651\tINFO streaming_executor.py:118 -- Execution plan of Dataset dataset_9_0: InputDataBuffer[Input] -> TaskPoolMapOperator[Filter(<lambda>)->Tokenizer] -> LimitOperator[limit=5]\n"
     ]
    },
    {
     "data": {
      "application/vnd.jupyter.widget-view+json": {
       "model_id": "cb40f1aa8df74795b10bd834ef66cb43",
       "version_major": 2,
       "version_minor": 0
      },
      "text/plain": [
       "Running 0: 0.00 row [00:00, ? row/s]"
      ]
     },
     "metadata": {},
     "output_type": "display_data"
    },
    {
     "data": {
      "application/vnd.jupyter.widget-view+json": {
       "model_id": "5578efcf44834e9081aa0a5def20f589",
       "version_major": 2,
       "version_minor": 0
      },
      "text/plain": [
       "- Filter(<lambda>)->Tokenizer 1: 0.00 row [00:00, ? row/s]"
      ]
     },
     "metadata": {},
     "output_type": "display_data"
    },
    {
     "data": {
      "application/vnd.jupyter.widget-view+json": {
       "model_id": "220cffeb3b6244a78fc3f1fd48bd34ad",
       "version_major": 2,
       "version_minor": 0
      },
      "text/plain": [
       "- limit=5 2: 0.00 row [00:00, ? row/s]"
      ]
     },
     "metadata": {},
     "output_type": "display_data"
    },
    {
     "name": "stderr",
     "output_type": "stream",
     "text": [
      "2025-07-11 08:47:48,837\tINFO streaming_executor.py:227 -- \u2714\ufe0f  Dataset dataset_9_0 execution finished in 0.19 seconds\n"
     ]
    },
    {
     "name": "stdout",
     "output_type": "stream",
     "text": [
      "{'id': 12500, 'text': 'Zentropa has much in common with The Third Man, another noir-like film set among the rubble of postwar Europe. Like TTM, there is much inventive camera work. There is an innocent American who gets emotionally involved with a woman he doesn\\'t really understand, and whose naivety is all the more striking in contrast with the natives.<br /><br />But I\\'d have to say that The Third Man has a more well-crafted storyline. Zentropa is a bit disjointed in this respect. Perhaps this is intentional: it is presented as a dream/nightmare, and making it too coherent would spoil the effect. <br /><br />This movie is unrelentingly grim--\"noir\" in more than one sense; one never sees the sun shine. Grim, but intriguing, and frightening.', 'label': 1, 'text_tokenized': ['Zentropa', 'has', 'much', 'in', 'common', 'with', 'The', 'Third', 'Man', 'another', 'noirlike', 'film', 'set', 'among', 'the', 'rubble', 'of', 'postwar', 'Europe', 'Like', 'TTM', 'there', 'is', 'much', 'inventive', 'camera', 'work', 'There', 'is', 'an', 'innocent', 'American', 'who', 'gets', 'emotionally', 'involved', 'with', 'a', 'woman', 'he', 'doesnt', 'really', 'understand', 'and', 'whose', 'naivety', 'is', 'all', 'the', 'more', 'striking', 'in', 'contrast', 'with', 'the', 'nativesbr', 'br', 'But', 'Id', 'have', 'to', 'say', 'that', 'The', 'Third', 'Man', 'has', 'a', 'more', 'wellcrafted', 'storyline', 'Zentropa', 'is', 'a', 'bit', 'disjointed', 'in', 'this', 'respect', 'Perhaps', 'this', 'is', 'intentional', 'it', 'is', 'presented', 'as', 'a', 'dreamnightmare', 'and', 'making', 'it', 'too', 'coherent', 'would', 'spoil', 'the', 'effect', 'br', 'br', 'This', 'movie', 'is', 'unrelentingly', 'grimnoir', 'in', 'more', 'than', 'one', 'sense', 'one', 'never', 'sees', 'the', 'sun', 'shine', 'Grim', 'but', 'intriguing', 'and', 'frightening']}\n",
      "{'id': 12501, 'text': \"Zentropa is the most original movie I've seen in years. If you like unique thrillers that are influenced by film noir, then this is just the right cure for all of those Hollywood summer blockbusters clogging the theaters these days. Von Trier's follow-ups like Breaking the Waves have gotten more acclaim, but this is really his best work. It is flashy without being distracting and offers the perfect combination of suspense and dark humor. It's too bad he decided handheld cameras were the wave of the future. It's hard to say who talked him away from the style he exhibits here, but it's everyone's loss that he went into his heavily theoretical dogma direction instead.\", 'label': 1, 'text_tokenized': ['Zentropa', 'is', 'the', 'most', 'original', 'movie', 'Ive', 'seen', 'in', 'years', 'If', 'you', 'like', 'unique', 'thrillers', 'that', 'are', 'influenced', 'by', 'film', 'noir', 'then', 'this', 'is', 'just', 'the', 'right', 'cure', 'for', 'all', 'of', 'those', 'Hollywood', 'summer', 'blockbusters', 'clogging', 'the', 'theaters', 'these', 'days', 'Von', 'Triers', 'followups', 'like', 'Breaking', 'the', 'Waves', 'have', 'gotten', 'more', 'acclaim', 'but', 'this', 'is', 'really', 'his', 'best', 'work', 'It', 'is', 'flashy', 'without', 'being', 'distracting', 'and', 'offers', 'the', 'perfect', 'combination', 'of', 'suspense', 'and', 'dark', 'humor', 'Its', 'too', 'bad', 'he', 'decided', 'handheld', 'cameras', 'were', 'the', 'wave', 'of', 'the', 'future', 'Its', 'hard', 'to', 'say', 'who', 'talked', 'him', 'away', 'from', 'the', 'style', 'he', 'exhibits', 'here', 'but', 'its', 'everyones', 'loss', 'that', 'he', 'went', 'into', 'his', 'heavily', 'theoretical', 'dogma', 'direction', 'instead']}\n",
      "{'id': 12502, 'text': \"Lars Von Trier is never backward in trying out new techniques. Some of them are very original while others are best forgotten.<br /><br />He depicts postwar Germany as a nightmarish train journey. With so many cities lying in ruins, Leo Kessler a young American of German descent feels obliged to help in their restoration. It is not a simple task as he quickly finds out.<br /><br />His uncle finds him a job as a night conductor on the Zentropa Railway Line. His job is to attend to the needs of the passengers. When the shoes are polished a chalk mark is made on the soles. A terrible argument ensues when a passenger's shoes are not chalked despite the fact they have been polished. There are many allusions to the German fanaticism of adherence to such stupid details.<br /><br />The railway journey is like an allegory representing man's procession through life with all its trials and tribulations. In one sequence Leo dashes through the back carriages to discover them filled with half-starved bodies appearing to have just escaped from Auschwitz . These images, horrible as they are, are fleeting as in a dream, each with its own terrible impact yet unconnected.<br /><br />At a station called Urmitz Leo jumps from the train with a parceled bomb. In view of many by-standers he connects the bomb to the underside of a carriage. He returns to his cabin and makes a connection to a time clock. Later he jumps from the train (at high speed) and lies in the cool grass on a river bank. Looking at the stars above he decides that his job is to build and not destroy. Subsequently as he sees the train approaching a giant bridge he runs at breakneck speed to board the train and stop the clock. If you care to analyse the situation it is a completely impossible task. Quite ridiculous in fact. It could only happen in a dream.<br /><br />It's strange how one remembers little details such as a row of cups hanging on hooks and rattling away with the swaying of the train.<br /><br />Despite the fact that this film is widely acclaimed, I prefer Lars Von Trier's later films (Breaking the Waves and The Idiots). The bomb scene described above really put me off. Perhaps I'm a realist.\", 'label': 1, 'text_tokenized': ['Lars', 'Von', 'Trier', 'is', 'never', 'backward', 'in', 'trying', 'out', 'new', 'techniques', 'Some', 'of', 'them', 'are', 'very', 'original', 'while', 'others', 'are', 'best', 'forgottenbr', 'br', 'He', 'depicts', 'postwar', 'Germany', 'as', 'a', 'nightmarish', 'train', 'journey', 'With', 'so', 'many', 'cities', 'lying', 'in', 'ruins', 'Leo', 'Kessler', 'a', 'young', 'American', 'of', 'German', 'descent', 'feels', 'obliged', 'to', 'help', 'in', 'their', 'restoration', 'It', 'is', 'not', 'a', 'simple', 'task', 'as', 'he', 'quickly', 'finds', 'outbr', 'br', 'His', 'uncle', 'finds', 'him', 'a', 'job', 'as', 'a', 'night', 'conductor', 'on', 'the', 'Zentropa', 'Railway', 'Line', 'His', 'job', 'is', 'to', 'attend', 'to', 'the', 'needs', 'of', 'the', 'passengers', 'When', 'the', 'shoes', 'are', 'polished', 'a', 'chalk', 'mark', 'is', 'made', 'on', 'the', 'soles', 'A', 'terrible', 'argument', 'ensues', 'when', 'a', 'passengers', 'shoes', 'are', 'not', 'chalked', 'despite', 'the', 'fact', 'they', 'have', 'been', 'polished', 'There', 'are', 'many', 'allusions', 'to', 'the', 'German', 'fanaticism', 'of', 'adherence', 'to', 'such', 'stupid', 'detailsbr', 'br', 'The', 'railway', 'journey', 'is', 'like', 'an', 'allegory', 'representing', 'mans', 'procession', 'through', 'life', 'with', 'all', 'its', 'trials', 'and', 'tribulations', 'In', 'one', 'sequence', 'Leo', 'dashes', 'through', 'the', 'back', 'carriages', 'to', 'discover', 'them', 'filled', 'with', 'halfstarved', 'bodies', 'appearing', 'to', 'have', 'just', 'escaped', 'from', 'Auschwitz', 'These', 'images', 'horrible', 'as', 'they', 'are', 'are', 'fleeting', 'as', 'in', 'a', 'dream', 'each', 'with', 'its', 'own', 'terrible', 'impact', 'yet', 'unconnectedbr', 'br', 'At', 'a', 'station', 'called', 'Urmitz', 'Leo', 'jumps', 'from', 'the', 'train', 'with', 'a', 'parceled', 'bomb', 'In', 'view', 'of', 'many', 'bystanders', 'he', 'connects', 'the', 'bomb', 'to', 'the', 'underside', 'of', 'a', 'carriage', 'He', 'returns', 'to', 'his', 'cabin', 'and', 'makes', 'a', 'connection', 'to', 'a', 'time', 'clock', 'Later', 'he', 'jumps', 'from', 'the', 'train', 'at', 'high', 'speed', 'and', 'lies', 'in', 'the', 'cool', 'grass', 'on', 'a', 'river', 'bank', 'Looking', 'at', 'the', 'stars', 'above', 'he', 'decides', 'that', 'his', 'job', 'is', 'to', 'build', 'and', 'not', 'destroy', 'Subsequently', 'as', 'he', 'sees', 'the', 'train', 'approaching', 'a', 'giant', 'bridge', 'he', 'runs', 'at', 'breakneck', 'speed', 'to', 'board', 'the', 'train', 'and', 'stop', 'the', 'clock', 'If', 'you', 'care', 'to', 'analyse', 'the', 'situation', 'it', 'is', 'a', 'completely', 'impossible', 'task', 'Quite', 'ridiculous', 'in', 'fact', 'It', 'could', 'only', 'happen', 'in', 'a', 'dreambr', 'br', 'Its', 'strange', 'how', 'one', 'remembers', 'little', 'details', 'such', 'as', 'a', 'row', 'of', 'cups', 'hanging', 'on', 'hooks', 'and', 'rattling', 'away', 'with', 'the', 'swaying', 'of', 'the', 'trainbr', 'br', 'Despite', 'the', 'fact', 'that', 'this', 'film', 'is', 'widely', 'acclaimed', 'I', 'prefer', 'Lars', 'Von', 'Triers', 'later', 'films', 'Breaking', 'the', 'Waves', 'and', 'The', 'Idiots', 'The', 'bomb', 'scene', 'described', 'above', 'really', 'put', 'me', 'off', 'Perhaps', 'Im', 'a', 'realist']}\n",
      "{'id': 12503, 'text': '*Contains spoilers due to me having to describe some film techniques, so read at your own risk!*<br /><br />I loved this film. The use of tinting in some of the scenes makes it seem like an old photograph come to life. I also enjoyed the projection of people on a back screen. For instance, in one scene, Leopold calls his wife and she is projected behind him rather than in a typical split screen. Her face is huge in the back and Leo\\'s is in the foreground.<br /><br />One of the best uses of this is when the young boys kill the Ravensteins on the train, a scene shot in an almost political poster style, with facial close ups. It reminded me of Battleship Potemkin, that intense constant style coupled with the spray of red to convey tons of horror without much gore. Same with the scene when Katharina finds her father dead in the bathtub...you can only see the red water on the side. It is one of the things I love about Von Trier, his understatement of horror, which ends up making it all the more creepy.<br /><br />The use of text in the film was unique, like when Leo\\'s character is pushed by the word, \"Werewolf.\" I have never seen anything like that in a film.<br /><br />The use of black comedy in this film was well done. Ernst-Hugo J\u00e4reg\u00e5rd is great as Leo\\'s uncle. It brings up the snickers I got from his role in the Kingdom (Riget.) This humor makes the plotline of absurd anal retentiveness of train conductors against the terrible backdrop of WW2 and all the chaos, easier to take. It reminds me of Riget in the way the hospital administrator is trying to maintain a normalcy at the end of part one when everything is going crazy. It shows that some people are truly oblivious to the awful things happening around them. Yet some people, like Leo, are tuned in, but do nothing positive about it.<br /><br />The voice over, done expertly well by Max von Sydow, is amusing too. It draws you into the story and makes you jump into Leo\\'s head, which at times is a scary place to be.<br /><br />The movie brings up the point that one is a coward if they don\\'t choose a side. I see the same idea used in Dancer in the Dark, where Bjork\\'s character doesn\\'t speak up for herself and ends up being her own destruction. Actually, at one time, Von Trier seemed anti-woman to me, by making Breaking the Waves and Dancer, but now I know his male characters don\\'t fare well either! I found myself at the same place during the end of Dancer, when you seriously want the main character to rethink their actions, but of course, they never do!', 'label': 1, 'text_tokenized': ['Contains', 'spoilers', 'due', 'to', 'me', 'having', 'to', 'describe', 'some', 'film', 'techniques', 'so', 'read', 'at', 'your', 'own', 'riskbr', 'br', 'I', 'loved', 'this', 'film', 'The', 'use', 'of', 'tinting', 'in', 'some', 'of', 'the', 'scenes', 'makes', 'it', 'seem', 'like', 'an', 'old', 'photograph', 'come', 'to', 'life', 'I', 'also', 'enjoyed', 'the', 'projection', 'of', 'people', 'on', 'a', 'back', 'screen', 'For', 'instance', 'in', 'one', 'scene', 'Leopold', 'calls', 'his', 'wife', 'and', 'she', 'is', 'projected', 'behind', 'him', 'rather', 'than', 'in', 'a', 'typical', 'split', 'screen', 'Her', 'face', 'is', 'huge', 'in', 'the', 'back', 'and', 'Leos', 'is', 'in', 'the', 'foregroundbr', 'br', 'One', 'of', 'the', 'best', 'uses', 'of', 'this', 'is', 'when', 'the', 'young', 'boys', 'kill', 'the', 'Ravensteins', 'on', 'the', 'train', 'a', 'scene', 'shot', 'in', 'an', 'almost', 'political', 'poster', 'style', 'with', 'facial', 'close', 'ups', 'It', 'reminded', 'me', 'of', 'Battleship', 'Potemkin', 'that', 'intense', 'constant', 'style', 'coupled', 'with', 'the', 'spray', 'of', 'red', 'to', 'convey', 'tons', 'of', 'horror', 'without', 'much', 'gore', 'Same', 'with', 'the', 'scene', 'when', 'Katharina', 'finds', 'her', 'father', 'dead', 'in', 'the', 'bathtubyou', 'can', 'only', 'see', 'the', 'red', 'water', 'on', 'the', 'side', 'It', 'is', 'one', 'of', 'the', 'things', 'I', 'love', 'about', 'Von', 'Trier', 'his', 'understatement', 'of', 'horror', 'which', 'ends', 'up', 'making', 'it', 'all', 'the', 'more', 'creepybr', 'br', 'The', 'use', 'of', 'text', 'in', 'the', 'film', 'was', 'unique', 'like', 'when', 'Leos', 'character', 'is', 'pushed', 'by', 'the', 'word', 'Werewolf', 'I', 'have', 'never', 'seen', 'anything', 'like', 'that', 'in', 'a', 'filmbr', 'br', 'The', 'use', 'of', 'black', 'comedy', 'in', 'this', 'film', 'was', 'well', 'done', 'ErnstHugo', 'J\u00e4reg\u00e5rd', 'is', 'great', 'as', 'Leos', 'uncle', 'It', 'brings', 'up', 'the', 'snickers', 'I', 'got', 'from', 'his', 'role', 'in', 'the', 'Kingdom', 'Riget', 'This', 'humor', 'makes', 'the', 'plotline', 'of', 'absurd', 'anal', 'retentiveness', 'of', 'train', 'conductors', 'against', 'the', 'terrible', 'backdrop', 'of', 'WW2', 'and', 'all', 'the', 'chaos', 'easier', 'to', 'take', 'It', 'reminds', 'me', 'of', 'Riget', 'in', 'the', 'way', 'the', 'hospital', 'administrator', 'is', 'trying', 'to', 'maintain', 'a', 'normalcy', 'at', 'the', 'end', 'of', 'part', 'one', 'when', 'everything', 'is', 'going', 'crazy', 'It', 'shows', 'that', 'some', 'people', 'are', 'truly', 'oblivious', 'to', 'the', 'awful', 'things', 'happening', 'around', 'them', 'Yet', 'some', 'people', 'like', 'Leo', 'are', 'tuned', 'in', 'but', 'do', 'nothing', 'positive', 'about', 'itbr', 'br', 'The', 'voice', 'over', 'done', 'expertly', 'well', 'by', 'Max', 'von', 'Sydow', 'is', 'amusing', 'too', 'It', 'draws', 'you', 'into', 'the', 'story', 'and', 'makes', 'you', 'jump', 'into', 'Leos', 'head', 'which', 'at', 'times', 'is', 'a', 'scary', 'place', 'to', 'bebr', 'br', 'The', 'movie', 'brings', 'up', 'the', 'point', 'that', 'one', 'is', 'a', 'coward', 'if', 'they', 'dont', 'choose', 'a', 'side', 'I', 'see', 'the', 'same', 'idea', 'used', 'in', 'Dancer', 'in', 'the', 'Dark', 'where', 'Bjorks', 'character', 'doesnt', 'speak', 'up', 'for', 'herself', 'and', 'ends', 'up', 'being', 'her', 'own', 'destruction', 'Actually', 'at', 'one', 'time', 'Von', 'Trier', 'seemed', 'antiwoman', 'to', 'me', 'by', 'making', 'Breaking', 'the', 'Waves', 'and', 'Dancer', 'but', 'now', 'I', 'know', 'his', 'male', 'characters', 'dont', 'fare', 'well', 'either', 'I', 'found', 'myself', 'at', 'the', 'same', 'place', 'during', 'the', 'end', 'of', 'Dancer', 'when', 'you', 'seriously', 'want', 'the', 'main', 'character', 'to', 'rethink', 'their', 'actions', 'but', 'of', 'course', 'they', 'never', 'do']}\n",
      "{'id': 12504, 'text': \"That was the first thing that sprang to mind as I watched the closing credits to Europa make there was across the screen, never in my entire life have I seen a film of such technical genius, the visuals of Europa are so impressive that any film I watch in it's wake will only pale in comparison, forget your Michael Bay, Ridley Scott slick Hollywood cinematography, Europa has more ethereal beauty than anything those two could conjure up in a million years. Now I'd be the first to hail Lars von Trier a genius just off the back of his films Breaking the Waves and Dancer in the Dark, but this is stupid, the fact that Europa has gone un-noticed by film experts for so long is a crime against cinema, whilst overrated rubbish like Crouching Tiger, Hidden Dragon and Life is Beautiful clean up at the academy awards (but what do the know) Europa has been hidden away, absent form video stores and (until recently) any British TV channels. <br /><br />The visuals in Europa are not MTV gloss; it's not a case of style over substance, its more a case of substance dictating style. Much like his first film The Element of Crime, von Trier uses the perspective of the main character to draw us into his world, and much like Element, the film begins with the main character (or in the case of Europa, we the audience) being hypnotized. As we move down the tracks, the voice of the Narrator (Max von Sydow) counts us down into a deep sleep, until we awake in Europa. This allows von Trier and his three cinematographers to pay with the conventions of time and imagery, there are many scenes in Europa when a character in the background, who is in black and white, will interact with a person in the foreground who will be colour, von Trier is trying to show us how much precedence the coloured item or person has over the plot, for instance, it's no surprise that the first shot of Leopold Kessler (Jean-marc Barr) is in colour, since he is the only character who's actions have superiority over the film. <br /><br />The performances are good, they may not be on par with performances in later von Trier films, but that's just because the images are sometimes so distracting that you don't really pick up on them the first time round. But I would like to point out the fantastic performance of Jean-Marc Barr in the lead role, whose blind idealism is slowly warn down by the two opposing sides, until he erupts in the films final act. Again, muck like The Element of Crime, the film ends with our hero unable to wake up from his nightmare state, left in this terrible place, with only the continuing narration of von Sydow to seal his fate. Europa is a tremendous film, and I cant help thinking what a shame that von Trier has abandoned this way of filming, since he was clearly one of the most talented visual directors working at that time, Europa, much like the rest of his cinematic cannon is filled with a wealth of iconic scenes. His dedication to composition and mise-en-scene is unrivalled, not to mention his use of sound and production design. But since his no-frills melodramas turned out to be Breaking the Waves and Dancer in the Dark then who can argue, but it does seems like a waste of an imaginative talent. 10/10\", 'label': 1, 'text_tokenized': ['That', 'was', 'the', 'first', 'thing', 'that', 'sprang', 'to', 'mind', 'as', 'I', 'watched', 'the', 'closing', 'credits', 'to', 'Europa', 'make', 'there', 'was', 'across', 'the', 'screen', 'never', 'in', 'my', 'entire', 'life', 'have', 'I', 'seen', 'a', 'film', 'of', 'such', 'technical', 'genius', 'the', 'visuals', 'of', 'Europa', 'are', 'so', 'impressive', 'that', 'any', 'film', 'I', 'watch', 'in', 'its', 'wake', 'will', 'only', 'pale', 'in', 'comparison', 'forget', 'your', 'Michael', 'Bay', 'Ridley', 'Scott', 'slick', 'Hollywood', 'cinematography', 'Europa', 'has', 'more', 'ethereal', 'beauty', 'than', 'anything', 'those', 'two', 'could', 'conjure', 'up', 'in', 'a', 'million', 'years', 'Now', 'Id', 'be', 'the', 'first', 'to', 'hail', 'Lars', 'von', 'Trier', 'a', 'genius', 'just', 'off', 'the', 'back', 'of', 'his', 'films', 'Breaking', 'the', 'Waves', 'and', 'Dancer', 'in', 'the', 'Dark', 'but', 'this', 'is', 'stupid', 'the', 'fact', 'that', 'Europa', 'has', 'gone', 'unnoticed', 'by', 'film', 'experts', 'for', 'so', 'long', 'is', 'a', 'crime', 'against', 'cinema', 'whilst', 'overrated', 'rubbish', 'like', 'Crouching', 'Tiger', 'Hidden', 'Dragon', 'and', 'Life', 'is', 'Beautiful', 'clean', 'up', 'at', 'the', 'academy', 'awards', 'but', 'what', 'do', 'the', 'know', 'Europa', 'has', 'been', 'hidden', 'away', 'absent', 'form', 'video', 'stores', 'and', 'until', 'recently', 'any', 'British', 'TV', 'channels', 'br', 'br', 'The', 'visuals', 'in', 'Europa', 'are', 'not', 'MTV', 'gloss', 'its', 'not', 'a', 'case', 'of', 'style', 'over', 'substance', 'its', 'more', 'a', 'case', 'of', 'substance', 'dictating', 'style', 'Much', 'like', 'his', 'first', 'film', 'The', 'Element', 'of', 'Crime', 'von', 'Trier', 'uses', 'the', 'perspective', 'of', 'the', 'main', 'character', 'to', 'draw', 'us', 'into', 'his', 'world', 'and', 'much', 'like', 'Element', 'the', 'film', 'begins', 'with', 'the', 'main', 'character', 'or', 'in', 'the', 'case', 'of', 'Europa', 'we', 'the', 'audience', 'being', 'hypnotized', 'As', 'we', 'move', 'down', 'the', 'tracks', 'the', 'voice', 'of', 'the', 'Narrator', 'Max', 'von', 'Sydow', 'counts', 'us', 'down', 'into', 'a', 'deep', 'sleep', 'until', 'we', 'awake', 'in', 'Europa', 'This', 'allows', 'von', 'Trier', 'and', 'his', 'three', 'cinematographers', 'to', 'pay', 'with', 'the', 'conventions', 'of', 'time', 'and', 'imagery', 'there', 'are', 'many', 'scenes', 'in', 'Europa', 'when', 'a', 'character', 'in', 'the', 'background', 'who', 'is', 'in', 'black', 'and', 'white', 'will', 'interact', 'with', 'a', 'person', 'in', 'the', 'foreground', 'who', 'will', 'be', 'colour', 'von', 'Trier', 'is', 'trying', 'to', 'show', 'us', 'how', 'much', 'precedence', 'the', 'coloured', 'item', 'or', 'person', 'has', 'over', 'the', 'plot', 'for', 'instance', 'its', 'no', 'surprise', 'that', 'the', 'first', 'shot', 'of', 'Leopold', 'Kessler', 'Jeanmarc', 'Barr', 'is', 'in', 'colour', 'since', 'he', 'is', 'the', 'only', 'character', 'whos', 'actions', 'have', 'superiority', 'over', 'the', 'film', 'br', 'br', 'The', 'performances', 'are', 'good', 'they', 'may', 'not', 'be', 'on', 'par', 'with', 'performances', 'in', 'later', 'von', 'Trier', 'films', 'but', 'thats', 'just', 'because', 'the', 'images', 'are', 'sometimes', 'so', 'distracting', 'that', 'you', 'dont', 'really', 'pick', 'up', 'on', 'them', 'the', 'first', 'time', 'round', 'But', 'I', 'would', 'like', 'to', 'point', 'out', 'the', 'fantastic', 'performance', 'of', 'JeanMarc', 'Barr', 'in', 'the', 'lead', 'role', 'whose', 'blind', 'idealism', 'is', 'slowly', 'warn', 'down', 'by', 'the', 'two', 'opposing', 'sides', 'until', 'he', 'erupts', 'in', 'the', 'films', 'final', 'act', 'Again', 'muck', 'like', 'The', 'Element', 'of', 'Crime', 'the', 'film', 'ends', 'with', 'our', 'hero', 'unable', 'to', 'wake', 'up', 'from', 'his', 'nightmare', 'state', 'left', 'in', 'this', 'terrible', 'place', 'with', 'only', 'the', 'continuing', 'narration', 'of', 'von', 'Sydow', 'to', 'seal', 'his', 'fate', 'Europa', 'is', 'a', 'tremendous', 'film', 'and', 'I', 'cant', 'help', 'thinking', 'what', 'a', 'shame', 'that', 'von', 'Trier', 'has', 'abandoned', 'this', 'way', 'of', 'filming', 'since', 'he', 'was', 'clearly', 'one', 'of', 'the', 'most', 'talented', 'visual', 'directors', 'working', 'at', 'that', 'time', 'Europa', 'much', 'like', 'the', 'rest', 'of', 'his', 'cinematic', 'cannon', 'is', 'filled', 'with', 'a', 'wealth', 'of', 'iconic', 'scenes', 'His', 'dedication', 'to', 'composition', 'and', 'miseenscene', 'is', 'unrivalled', 'not', 'to', 'mention', 'his', 'use', 'of', 'sound', 'and', 'production', 'design', 'But', 'since', 'his', 'nofrills', 'melodramas', 'turned', 'out', 'to', 'be', 'Breaking', 'the', 'Waves', 'and', 'Dancer', 'in', 'the', 'Dark', 'then', 'who', 'can', 'argue', 'but', 'it', 'does', 'seems', 'like', 'a', 'waste', 'of', 'an', 'imaginative', 'talent', '1010']}\n"
     ]
    }
   ],
   "source": [
    "\n",
    "# print tokenizer sample\n",
    "for row in tokenizer.transform(filtered).take(5):\n",
    "    print(row)\n"
   ]
  },
  {
   "cell_type": "markdown",
   "metadata": {},
   "source": [
    "### Convert to Pandas DataFrame\n",
    "Converting the processed Ray Dataset to a Pandas DataFrame for further analysis."
   ]
  },
  {
   "cell_type": "code",
   "execution_count": 24,
   "metadata": {},
   "outputs": [
    {
     "name": "stderr",
     "output_type": "stream",
     "text": [
      "2025-07-11 08:48:51,767\tINFO logging.py:295 -- Registered dataset logger for dataset dataset_10_0\n",
      "2025-07-11 08:48:51,771\tINFO streaming_executor.py:117 -- Starting execution of Dataset dataset_10_0. Full logs are in /tmp/ray/session_2025-07-11_08-03-28_326524_18345/logs/ray-data\n",
      "2025-07-11 08:48:51,771\tINFO streaming_executor.py:118 -- Execution plan of Dataset dataset_10_0: InputDataBuffer[Input] -> TaskPoolMapOperator[Filter(<lambda>)], InputDataBuffer[Input] -> JoinOperator[Join(num_partitions=2)] -> TaskPoolMapOperator[Tokenizer]\n"
     ]
    },
    {
     "data": {
      "application/vnd.jupyter.widget-view+json": {
       "model_id": "e49e64975f844f35a83c00c4504ecbf7",
       "version_major": 2,
       "version_minor": 0
      },
      "text/plain": [
       "Running 0: 0.00 row [00:00, ? row/s]"
      ]
     },
     "metadata": {},
     "output_type": "display_data"
    },
    {
     "data": {
      "application/vnd.jupyter.widget-view+json": {
       "model_id": "3a91fb451c66436eac7fa15ab676b30f",
       "version_major": 2,
       "version_minor": 0
      },
      "text/plain": [
       "- Filter(<lambda>) 1: 0.00 row [00:00, ? row/s]"
      ]
     },
     "metadata": {},
     "output_type": "display_data"
    },
    {
     "data": {
      "application/vnd.jupyter.widget-view+json": {
       "model_id": "186e973505114de496a096dc906ade0d",
       "version_major": 2,
       "version_minor": 0
      },
      "text/plain": [
       "- Join(num_partitions=2) 2: 0.00 row [00:00, ? row/s]"
      ]
     },
     "metadata": {},
     "output_type": "display_data"
    },
    {
     "data": {
      "application/vnd.jupyter.widget-view+json": {
       "model_id": "a807095d9505438fa60146b2c71c206c",
       "version_major": 2,
       "version_minor": 0
      },
      "text/plain": [
       "- Tokenizer 3: 0.00 row [00:00, ? row/s]"
      ]
     },
     "metadata": {},
     "output_type": "display_data"
    },
    {
     "name": "stderr",
     "output_type": "stream",
     "text": [
      "2025-07-11 08:48:52,845\tINFO streaming_executor.py:227 -- \u2714\ufe0f  Dataset dataset_10_0 execution finished in 1.07 seconds\n"
     ]
    }
   ],
   "source": [
    "# Get a tokenized Pandas DataFrame from the 'joined' Ray Dataset\n",
    "# Note: This will convert the Ray Dataset to a Pandas DataFrame, which may not\n",
    "# be suitable for very large datasets due to memory constraints.\n",
    "preprocessed_df = tokenizer.transform(joined).to_pandas()\n"
   ]
  },
  {
   "cell_type": "code",
   "execution_count": 25,
   "metadata": {},
   "outputs": [
    {
     "data": {
      "text/html": [
       "<div>\n",
       "<style scoped>\n",
       "    .dataframe tbody tr th:only-of-type {\n",
       "        vertical-align: middle;\n",
       "    }\n",
       "\n",
       "    .dataframe tbody tr th {\n",
       "        vertical-align: top;\n",
       "    }\n",
       "\n",
       "    .dataframe thead th {\n",
       "        text-align: right;\n",
       "    }\n",
       "</style>\n",
       "<table border=\"1\" class=\"dataframe\">\n",
       "  <thead>\n",
       "    <tr style=\"text-align: right;\">\n",
       "      <th></th>\n",
       "      <th>id</th>\n",
       "      <th>text</th>\n",
       "      <th>label</th>\n",
       "      <th>source</th>\n",
       "      <th>text_tokenized</th>\n",
       "    </tr>\n",
       "  </thead>\n",
       "  <tbody>\n",
       "    <tr>\n",
       "      <th>0</th>\n",
       "      <td>12500</td>\n",
       "      <td>Zentropa has much in common with The Third Man...</td>\n",
       "      <td>1</td>\n",
       "      <td>imdb</td>\n",
       "      <td>[Zentropa, has, much, in, common, with, The, T...</td>\n",
       "    </tr>\n",
       "    <tr>\n",
       "      <th>1</th>\n",
       "      <td>13000</td>\n",
       "      <td>Visually stunning and full of Eastern Philosop...</td>\n",
       "      <td>1</td>\n",
       "      <td>imdb</td>\n",
       "      <td>[Visually, stunning, and, full, of, Eastern, P...</td>\n",
       "    </tr>\n",
       "    <tr>\n",
       "      <th>2</th>\n",
       "      <td>13100</td>\n",
       "      <td>The fourth of five westerns Anthony Mann did w...</td>\n",
       "      <td>1</td>\n",
       "      <td>imdb</td>\n",
       "      <td>[The, fourth, of, five, westerns, Anthony, Man...</td>\n",
       "    </tr>\n",
       "    <tr>\n",
       "      <th>3</th>\n",
       "      <td>13600</td>\n",
       "      <td>I miss Dark Angel!..&lt;br /&gt;&lt;br /&gt;I understand n...</td>\n",
       "      <td>1</td>\n",
       "      <td>imdb</td>\n",
       "      <td>[I, miss, Dark, Angelbr, br, I, understand, no...</td>\n",
       "    </tr>\n",
       "    <tr>\n",
       "      <th>4</th>\n",
       "      <td>13700</td>\n",
       "      <td>I like the good and evil battle. I liked Eddie...</td>\n",
       "      <td>1</td>\n",
       "      <td>imdb</td>\n",
       "      <td>[I, like, the, good, and, evil, battle, I, lik...</td>\n",
       "    </tr>\n",
       "  </tbody>\n",
       "</table>\n",
       "</div>"
      ],
      "text/plain": [
       "      id                                               text  label source  \\\n",
       "0  12500  Zentropa has much in common with The Third Man...      1   imdb   \n",
       "1  13000  Visually stunning and full of Eastern Philosop...      1   imdb   \n",
       "2  13100  The fourth of five westerns Anthony Mann did w...      1   imdb   \n",
       "3  13600  I miss Dark Angel!..<br /><br />I understand n...      1   imdb   \n",
       "4  13700  I like the good and evil battle. I liked Eddie...      1   imdb   \n",
       "\n",
       "                                      text_tokenized  \n",
       "0  [Zentropa, has, much, in, common, with, The, T...  \n",
       "1  [Visually, stunning, and, full, of, Eastern, P...  \n",
       "2  [The, fourth, of, five, westerns, Anthony, Man...  \n",
       "3  [I, miss, Dark, Angelbr, br, I, understand, no...  \n",
       "4  [I, like, the, good, and, evil, battle, I, lik...  "
      ]
     },
     "execution_count": 25,
     "metadata": {},
     "output_type": "execute_result"
    }
   ],
   "source": [
    "# Display the first few rows of the preprocessed DataFrame\n",
    "preprocessed_df.head()"
   ]
  },
  {
   "cell_type": "markdown",
   "metadata": {},
   "source": [
    "### Shutdown Ray"
   ]
  },
  {
   "cell_type": "code",
   "execution_count": 26,
   "metadata": {},
   "outputs": [],
   "source": [
    "# Shutdown Ray\n",
    "ray.shutdown()"
   ]
  },
  {
   "cell_type": "markdown",
   "metadata": {},
   "source": [
    "### Summary"
   ]
  },
  {
   "cell_type": "markdown",
   "metadata": {},
   "source": [
    "This notebook demonstrates how to preprocess large datasets using Ray Data in a distributed and scalable way. It covers loading a public dataset (IMDB reviews), converting it to a Ray Dataset, filtering and joining data, applying tokenization, and converting the results to a Pandas DataFrame for further analysis. The workflow highlights how Ray Data enables efficient data processing for machine learning pipelines, even with datasets that are too large for a single machine."
   ]
  }
 ],
 "metadata": {
  "kernelspec": {
   "display_name": "Python 3 (ipykernel)",
   "language": "python",
   "name": "python3"
  },
  "language_info": {
   "codemirror_mode": {
    "name": "ipython",
    "version": 3
   },
   "file_extension": ".py",
   "mimetype": "text/x-python",
   "name": "python",
   "nbconvert_exporter": "python",
   "pygments_lexer": "ipython3",
   "version": "3.11.6"
  }
 },
 "nbformat": 4,
 "nbformat_minor": 4
}