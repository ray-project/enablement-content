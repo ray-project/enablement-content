{
 "cells": [
  {
   "cell_type": "markdown",
   "metadata": {},
   "source": [
    "## 14 \u00b7 Create the `TorchTrainer`  \n",
    "\n",
    "Now we bring everything together with a [`TorchTrainer`](https://docs.ray.io/en/latest/train/api/doc/ray.train.torch.TorchTrainer.html).  \n",
    "\n",
    "The `TorchTrainer` is the high-level Ray Train class that:  \n",
    "- Launches the per-worker training loop (`train_loop_ray_train`) across the cluster.  \n",
    "- Applies the scaling setup from `scaling_config` (number of workers, GPUs/CPUs).  \n",
    "- Uses `run_config` to decide where results and checkpoints are stored.  \n",
    "- Passes `train_loop_config` (hyperparameters like `num_epochs` and `global_batch_size`) into the training loop.  \n",
    "\n",
    "This object encapsulates the **distributed orchestration**, so you can start training with a simple call to `trainer.fit()`.  "
   ]
  },
  {
   "cell_type": "code",
   "execution_count": null,
   "metadata": {},
   "outputs": [],
   "source": [
    "# 14. Set up the TorchTrainer\n",
    "\n",
    "trainer = TorchTrainer(\n",
    "    train_loop_ray_train,          # training loop to run on each worker\n",
    "    scaling_config=scaling_config, # number of workers and resource config\n",
    "    run_config=run_config,         # storage path + run name for artifacts\n",
    "    train_loop_config=train_loop_config,  # hyperparameters passed to the loop\n",
    ")"
   ]
  },
  {
   "cell_type": "markdown",
   "metadata": {},
   "source": [
    "### 15 \u00b7 Launch Training with `trainer.fit()`  \n",
    "\n",
    "Calling `trainer.fit()` starts the distributed training job and blocks until it completes.  \n",
    "\n",
    "When the job launches, you\u2019ll see logs that confirm:  \n",
    "- **Process group setup** \u2192 Ray initializes a distributed worker group and assigns ranks (e.g., `world_rank=0` and `world_rank=1`).  \n",
    "- **Worker placement** \u2192 Each worker is launched on a specific node and device. The logs show IP addresses, process IDs, and rank assignments.  \n",
    "- **Model preparation** \u2192 Each worker moves the model to its GPU (`cuda:0`) and wraps it in **DistributedDataParallel (DDP)**.  \n",
    "\n",
    "These logs are a quick sanity check that Ray Train is correctly orchestrating multi-GPU training across your cluster.  "
   ]
  },
  {
   "cell_type": "markdown",
   "metadata": {},
   "source": [
    "|<img src=\"https://assets-training.s3.us-west-2.amazonaws.com/ray-intro/ray-train-intro-logs.png\" width=\"80%\" loading=\"lazy\">|\n",
    "|:--|\n",
    "||"
   ]
  },
  {
   "cell_type": "code",
   "execution_count": null,
   "metadata": {},
   "outputs": [],
   "source": [
    "# 15. Launch distributed training\n",
    "\n",
    "# trainer.fit() starts the training job:\n",
    "# - Spawns workers according to scaling_config\n",
    "# - Runs train_loop_ray_train() on each worker\n",
    "# - Collects metrics and checkpoints into result\n",
    "result = trainer.fit()"
   ]
  }
 ],
 "metadata": {
  "kernelspec": {
   "display_name": "base",
   "language": "python",
   "name": "python3"
  },
  "language_info": {
   "codemirror_mode": {
    "name": "ipython",
    "version": 3
   },
   "file_extension": ".py",
   "mimetype": "text/x-python",
   "name": "python",
   "nbconvert_exporter": "python",
   "pygments_lexer": "ipython3",
   "version": "3.12.9"
  },
  "orphan": true,
  "toc-autonumbering": false
 },
 "nbformat": 4,
 "nbformat_minor": 4
}