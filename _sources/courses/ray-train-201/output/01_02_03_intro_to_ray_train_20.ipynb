{
 "cells": [
  {
   "cell_type": "markdown",
   "metadata": {},
   "source": [
    "## \ud83d\udee1\ufe0f 03 \u00b7 Fault Tolerance in Ray Train  \n",
    "In this module you\u2019ll learn how **Ray Train** handles failures and how to make your training jobs **resilient** with checkpointing and recovery. You\u2019ll see both **automatic retries** and **manual restoration**, and how to modify the training loop so it can safely resume from the latest checkpoint.  \n",
    "\n",
    "### What you\u2019ll learn & take away  \n",
    "* How Ray Train uses **automatic retries** to restart failed workers without losing progress  \n",
    "* How to modify the training loop with **`get_checkpoint()`** to enable checkpoint loading  \n",
    "* How to save additional state (e.g., optimizer and epoch) alongside the model for full recovery  \n",
    "* How to configure **`FailureConfig`** to set retry behavior  \n",
    "* How to perform a **manual restoration** if retries are exhausted, resuming training from the last checkpoint  \n",
    "* Why checkpointing to **persistent storage** is essential for reliable recovery  \n",
    "\n",
    "> With fault tolerance enabled, you can run long, large-scale training jobs confidently \u2014 knowing they can recover from failures without starting over.  \n",
    "\n",
    "<img src=\"https://anyscale-public-materials.s3.us-west-2.amazonaws.com/ray-summit/stable-diffusion/diagrams/fault_tolerant_cropped_v2.png\" width=800>\n"
   ]
  }
 ],
 "metadata": {
  "kernelspec": {
   "display_name": "base",
   "language": "python",
   "name": "python3"
  },
  "language_info": {
   "codemirror_mode": {
    "name": "ipython",
    "version": 3
   },
   "file_extension": ".py",
   "mimetype": "text/x-python",
   "name": "python",
   "nbconvert_exporter": "python",
   "pygments_lexer": "ipython3",
   "version": "3.12.9"
  },
  "orphan": true,
  "toc-autonumbering": false
 },
 "nbformat": 4,
 "nbformat_minor": 4
}