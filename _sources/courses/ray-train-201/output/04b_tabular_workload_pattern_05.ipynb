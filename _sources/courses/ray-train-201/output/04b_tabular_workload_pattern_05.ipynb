{
 "cells": [
  {
   "cell_type": "markdown",
   "metadata": {},
   "source": [
    "## 16 \u00b7 Continue training from the latest checkpoint  \n",
    "Because `train_func` always checks for `get_checkpoint()`, re-invoking `trainer.fit()` automatically resumes boosting from where you left off. Simply call `fit()` a second time and print the new best validation log-loss."
   ]
  },
  {
   "cell_type": "code",
   "execution_count": null,
   "metadata": {},
   "outputs": [],
   "source": [
    "# 16. Run 50 more training iterations from the last saved checkpoint\n",
    "result = trainer.fit()\n",
    "best_ckpt = result.checkpoint            # saved automatically by Trainer "
   ]
  },
  {
   "cell_type": "markdown",
   "metadata": {},
   "source": [
    "### 17 \u00b7 Verify post-training inference \n",
    "Rerun the same batch-inference helper to confirm that extra boosting rounds improved accuracy."
   ]
  },
  {
   "cell_type": "code",
   "execution_count": null,
   "metadata": {},
   "outputs": [],
   "source": [
    "# 17. Rerun example batch inference from before to verify improved accuracy:\n",
    "\n",
    "# Take a random sample of 1024 rows from the validation set to use as input.\n",
    "sample_batch = val_pd.sample(1024, random_state=0)\n",
    "\n",
    "# Submit the batch inference task to a Ray worker and block until it finishes.\n",
    "preds = ray.get(predict_batch.remote(best_ckpt, sample_batch))\n",
    "\n",
    "# Compute and print classification accuracy by comparing predictions to true labels.\n",
    "print(\"Sample batch accuracy:\", accuracy_score(sample_batch.label, preds))"
   ]
  },
  {
   "cell_type": "markdown",
   "metadata": {},
   "source": [
    "### 18 \u00b7 Cleanup  \n",
    "Finally, tidy up by deleting temporary checkpoint folders, the metrics CSV, and any intermediate result directories. Clearing out old artefacts frees disk space and leaves your workspace clean for whatever comes next."
   ]
  },
  {
   "cell_type": "code",
   "execution_count": null,
   "metadata": {},
   "outputs": [],
   "source": [
    "# 18. Optional clean\u2011up to free space\n",
    "ARTIFACT_DIR = \"/mnt/cluster_storage/covtype\"\n",
    "if os.path.exists(ARTIFACT_DIR):\n",
    "    shutil.rmtree(ARTIFACT_DIR)\n",
    "    print(f\"Deleted {ARTIFACT_DIR}\")"
   ]
  }
 ],
 "metadata": {
  "kernelspec": {
   "display_name": "base",
   "language": "python",
   "name": "python3"
  },
  "language_info": {
   "codemirror_mode": {
    "name": "ipython",
    "version": 3
   },
   "file_extension": ".py",
   "mimetype": "text/x-python",
   "name": "python",
   "nbconvert_exporter": "python",
   "pygments_lexer": "ipython3",
   "version": "3.12.9"
  }
 },
 "nbformat": 4,
 "nbformat_minor": 2
}