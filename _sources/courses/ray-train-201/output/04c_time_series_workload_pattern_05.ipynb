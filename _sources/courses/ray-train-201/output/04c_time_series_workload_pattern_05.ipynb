{
 "cells": [
  {
   "cell_type": "markdown",
   "metadata": {},
   "source": [
    "## 13 \u00b7 Resume training from checkpoint  \n",
    "Ray automatically resumes from the latest checkpoint if one is available. This makes fault tolerance seamless\u2014if the system interrupts a node or it fails, training can pick up where it left off with no manual intervention."
   ]
  },
  {
   "cell_type": "code",
   "execution_count": null,
   "metadata": {},
   "outputs": [],
   "source": [
    "# 13. Demonstrate fault-tolerant resume\n",
    "result = trainer.fit()\n",
    "print(\"Metrics after resume run:\", result.metrics)"
   ]
  },
  {
   "cell_type": "markdown",
   "metadata": {},
   "source": [
    "### 14 \u00b7 Inference helper \u2014 remote GPU forecast  \n",
    "Define a Ray remote function that loads a model checkpoint on a spare GPU and generates a forecast given a recent input window. Ray distributes this function to any available resource and runs independently of the training workers, making it great for batch inference or serving."
   ]
  },
  {
   "cell_type": "code",
   "execution_count": null,
   "metadata": {},
   "outputs": [],
   "source": [
    "# 14. Inference helper \u2013 forecast next 12 h from best checkpoint\n",
    "\n",
    "@ray.remote(num_gpus=1)\n",
    "def forecast_from_checkpoint(ckpt_path, past_array):\n",
    "    ck = Checkpoint.from_directory(ckpt_path)\n",
    "    model = TimeSeriesTransformer(INPUT_WINDOW, HORIZON, d_model=128, nhead=4, num_layers=3)\n",
    "    with ck.as_directory() as d:\n",
    "        sd = torch.load(os.path.join(d, \"model.pt\"), map_location=\"cuda\")\n",
    "        sd = {k.replace(\"module.\", \"\", 1): v for k,v in sd.items()}\n",
    "        model.load_state_dict(sd)\n",
    "    model.eval().cuda()\n",
    "\n",
    "    past = torch.tensor(past_array, dtype=torch.float32).unsqueeze(0).unsqueeze(-1).cuda()\n",
    "    with torch.no_grad():\n",
    "        pred_norm = model(past).cpu().squeeze().numpy()\n",
    "    return pred_norm"
   ]
  }
 ],
 "metadata": {
  "kernelspec": {
   "display_name": "base",
   "language": "python",
   "name": "python3"
  },
  "language_info": {
   "codemirror_mode": {
    "name": "ipython",
    "version": 3
   },
   "file_extension": ".py",
   "mimetype": "text/x-python",
   "name": "python",
   "nbconvert_exporter": "python",
   "pygments_lexer": "ipython3",
   "version": "3.12.9"
  }
 },
 "nbformat": 4,
 "nbformat_minor": 2
}