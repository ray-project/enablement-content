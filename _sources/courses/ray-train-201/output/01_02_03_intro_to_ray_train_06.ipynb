{
 "cells": [
  {
   "cell_type": "markdown",
   "metadata": {},
   "source": [
    "## 07 \u00b7 Configure Scaling with `ScalingConfig`  \n",
    "\n",
    "The `ScalingConfig` tells Ray Train **how many workers to launch** and **what resources each worker should use**.  \n",
    "\n",
    "- **`num_workers=8`** \u2192 Run the training loop on 8 parallel workers. Each worker runs the same code on a different shard of the data.  \n",
    "- **`use_gpu=True`** \u2192 Assign one GPU per worker. If you set this to `False`, each worker would train on CPU instead.  \n",
    "\n",
    "This declarative config is what allows Ray to handle cluster orchestration for you \u2014 you don\u2019t need to manually start processes or set CUDA devices.  \n",
    "\n",
    "Later, we\u2019ll pass this `scaling_config` into the `TorchTrainer` to launch distributed training.  "
   ]
  },
  {
   "cell_type": "code",
   "execution_count": null,
   "metadata": {},
   "outputs": [],
   "source": [
    "# 07. Configure the scaling of the training job\n",
    "\n",
    "# ScalingConfig defines how many parallel training workers Ray should launch\n",
    "# and whether each worker should be assigned a GPU or CPU.\n",
    "# \u2192 Each worker runs train_loop_ray_train(config) independently,\n",
    "#    with Ray handling synchronization via DDP under the hood.\n",
    "\n",
    "scaling_config = ScalingConfig(\n",
    "    num_workers=8,   # Launch 8 training workers (1 process per worker)\n",
    "    use_gpu=True     # Allocate 1 GPU to each worker\n",
    ")"
   ]
  },
  {
   "cell_type": "markdown",
   "metadata": {},
   "source": [
    "<div class=\"alert alert-block alert-info\">\n",
    "\n",
    "Docs on <a href=\"https://docs.ray.io/en/latest/train/api/doc/ray.train.ScalingConfig.html#ray-train-scalingconfig\" target=\"_blank\">ScalingConfig</a> can be found with the link in this sentence.\n",
    "\n",
    "See docs on configuring <a href=\"https://docs.ray.io/en/latest/train/user-guides/using-gpus.html\" target=\"_blank\">scale and GPUs</a> for more details.\n",
    "</div>"
   ]
  }
 ],
 "metadata": {
  "kernelspec": {
   "display_name": "base",
   "language": "python",
   "name": "python3"
  },
  "language_info": {
   "codemirror_mode": {
    "name": "ipython",
    "version": 3
   },
   "file_extension": ".py",
   "mimetype": "text/x-python",
   "name": "python",
   "nbconvert_exporter": "python",
   "pygments_lexer": "ipython3",
   "version": "3.12.9"
  },
  "orphan": true,
  "toc-autonumbering": false
 },
 "nbformat": 4,
 "nbformat_minor": 4
}