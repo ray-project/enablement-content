{
 "cells": [
  {
   "cell_type": "markdown",
   "metadata": {},
   "source": [
    "## 10 \u00b7 Helper: Ray-Prepared DataLoaders  \n",
    "Wrap the DataLoader with `prepare_data_loader`. Ray injects a `DistributedSampler`, pins the loader to the correct GPU, and handles worker-rank bookkeeping. Thanks to this helper, your training loop can stay blissfully unaware of distributed details."
   ]
  },
  {
   "cell_type": "code",
   "execution_count": null,
   "metadata": {},
   "outputs": [],
   "source": [
    "# 10. Define helper to create prepared DataLoader\n",
    "from torch.utils.data.distributed import DistributedSampler\n",
    "\n",
    "def build_dataloader(parquet_path: str, batch_size: int, shuffle=True):\n",
    "    dataset = Food101Dataset(parquet_path, transform=transform)\n",
    "\n",
    "    # Add a DistributedSampler to shard data across workers\n",
    "    sampler = DistributedSampler(\n",
    "        dataset,\n",
    "        num_replicas=train.get_context().get_world_size(),\n",
    "        rank=train.get_context().get_world_rank(),\n",
    "        shuffle=shuffle,\n",
    "        drop_last=shuffle,\n",
    "    )\n",
    "\n",
    "    loader = DataLoader(\n",
    "        dataset,\n",
    "        batch_size=batch_size,\n",
    "        sampler=sampler,\n",
    "        num_workers=2,\n",
    "    )\n",
    "    return prepare_data_loader(loader)"
   ]
  }
 ],
 "metadata": {
  "kernelspec": {
   "display_name": "base",
   "language": "python",
   "name": "python3"
  },
  "language_info": {
   "codemirror_mode": {
    "name": "ipython",
    "version": 3
   },
   "file_extension": ".py",
   "mimetype": "text/x-python",
   "name": "python",
   "nbconvert_exporter": "python",
   "pygments_lexer": "ipython3",
   "version": "3.12.9"
  }
 },
 "nbformat": 4,
 "nbformat_minor": 2
}