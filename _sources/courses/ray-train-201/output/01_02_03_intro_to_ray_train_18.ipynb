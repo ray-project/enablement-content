{
 "cells": [
  {
   "cell_type": "markdown",
   "metadata": {},
   "source": [
    "## 05 \u00b7 Define Image Transformation  \n",
    "\n",
    "To make the dataset usable by PyTorch, we need to preprocess the raw image arrays with the same steps that pytorch data loader does.  \n",
    "\n",
    "- Define a function `transform_images(row)` that:  \n",
    "  * Converts the `\"image\"` array from `numpy` into a PIL image.  \n",
    "  * Applies the standard PyTorch transforms:  \n",
    "    - `ToTensor()` \u2192 converts the image to a tensor.  \n",
    "    - `Normalize((0.5,), (0.5,))` \u2192 scales pixel values to the range [-1, 1].  \n",
    "  * Replaces the `\"image\"` entry in the row with the transformed tensor.  \n",
    "\n",
    "This function will later be applied in parallel across the Ray Dataset.  \n"
   ]
  },
  {
   "cell_type": "code",
   "execution_count": null,
   "metadata": {},
   "outputs": [],
   "source": [
    "# 05. Define preprocessing transform for Ray Data\n",
    "\n",
    "def transform_images(row: dict):\n",
    "    # Convert numpy array to a PIL image, then apply TorchVision transforms\n",
    "    transform = Compose([\n",
    "        ToTensor(),              # convert to tensor\n",
    "        Normalize((0.5,), (0.5,)) # normalize to [-1, 1]\n",
    "    ])\n",
    "\n",
    "    # Ensure image is in uint8 before conversion\n",
    "    image_arr = np.array(row[\"image\"], dtype=np.uint8)\n",
    "\n",
    "    # Apply transforms and replace the \"image\" field with tensor\n",
    "    row[\"image\"] = transform(Image.fromarray(image_arr))\n",
    "    return row"
   ]
  },
  {
   "cell_type": "markdown",
   "metadata": {},
   "source": [
    "<div class=\"alert alert-block alert-info\">\n",
    "\n",
    "**Note**: Unlike the PyTorch DataLoader, the preprocessing can now occur on any node in the cluster.\n",
    "\n",
    "The data will be passed to training workers via the ray object store (a distributed in-memory object store).\n",
    "\n",
    "<div>"
   ]
  },
  {
   "cell_type": "markdown",
   "metadata": {},
   "source": [
    "### 06 \u00b7 Apply Transformations with Ray Data  \n",
    "\n",
    "Now we apply the preprocessing function to the dataset using `map()`:  \n",
    "\n",
    "- `train_ds.map(transform_images)` \u2192 runs the `transform_images` function on every row of the dataset.  \n",
    "- Transformations are executed **in parallel across the cluster**, so preprocessing can scale independently of training.  \n",
    "- The transformed dataset now has:  \n",
    "  * `\"image\"` \u2192 normalized PyTorch tensors  \n",
    "  * `\"label\"` \u2192 unchanged integer labels  \n",
    "\n",
    "This makes the dataset ready to be streamed into the training loop.  "
   ]
  },
  {
   "cell_type": "code",
   "execution_count": null,
   "metadata": {},
   "outputs": [],
   "source": [
    "# 06. Apply the preprocessing transform across the Ray Dataset\n",
    "\n",
    "# Run transform_images() on each row (parallelized across cluster workers)\n",
    "train_ds = train_ds.map(transform_images)"
   ]
  }
 ],
 "metadata": {
  "kernelspec": {
   "display_name": "base",
   "language": "python",
   "name": "python3"
  },
  "language_info": {
   "codemirror_mode": {
    "name": "ipython",
    "version": 3
   },
   "file_extension": ".py",
   "mimetype": "text/x-python",
   "name": "python",
   "nbconvert_exporter": "python",
   "pygments_lexer": "ipython3",
   "version": "3.12.9"
  },
  "orphan": true,
  "toc-autonumbering": false
 },
 "nbformat": 4,
 "nbformat_minor": 4
}