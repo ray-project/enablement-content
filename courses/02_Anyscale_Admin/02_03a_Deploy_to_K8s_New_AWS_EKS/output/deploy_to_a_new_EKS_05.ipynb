{
 "cells": [
  {
   "cell_type": "markdown",
   "metadata": {
    "vscode": {
     "languageId": "raw"
    }
   },
   "source": [
    "## 4. Install the Anyscale Operator"
   ]
  },
  {
   "cell_type": "code",
   "execution_count": null,
   "metadata": {},
   "outputs": [],
   "source": [
    "# Set the cloud deployment ID from the previous step\n",
    "CLOUD_DEPLOYMENT_ID = \"cldrsrc_12345abcdefgh67890ijklmnop\"  # Replace with your actual cloud deployment ID\n",
    "\n",
    "!helm repo add anyscale https://anyscale.github.io/helm-charts\n",
    "!helm upgrade anyscale-operator anyscale/anyscale-operator \\\n",
    "  --set-string cloudDeploymentId={CLOUD_DEPLOYMENT_ID} \\\n",
    "  --set-string cloudProvider=aws \\\n",
    "  --set-string region={AWS_REGION} \\\n",
    "  --set-string workloadServiceAccountName=anyscale-operator \\\n",
    "  --namespace anyscale-operator \\\n",
    "  --create-namespace \\\n",
    "  --install\n"
   ]
  }
 ],
 "metadata": {
  "kernelspec": {
   "display_name": "Xing-ray-jupyter-3.11",
   "language": "python",
   "name": "xing-ray-jupyter"
  },
  "language_info": {
   "codemirror_mode": {
    "name": "ipython",
    "version": 3
   },
   "file_extension": ".py",
   "mimetype": "text/x-python",
   "name": "python",
   "nbconvert_exporter": "python",
   "pygments_lexer": "ipython3",
   "version": "3.11.13"
  }
 },
 "nbformat": 4,
 "nbformat_minor": 2
}