{
 "cells": [
  {
   "cell_type": "markdown",
   "metadata": {
    "vscode": {
     "languageId": "raw"
    }
   },
   "source": [
    "## 5. Verify the Installation"
   ]
  },
  {
   "cell_type": "code",
   "execution_count": null,
   "metadata": {},
   "outputs": [],
   "source": [
    "\n",
    "# Check if Anyscale operator pods are running\n",
    "!kubectl get pods --all-namespaces | grep -E \"(anyscale|ray)\" | grep -v \"cluster-autoscaler\"\n",
    "\n",
    "\n",
    "# Check if the Anyscale cloud is registered\n",
    "!anyscale cloud list\n",
    "\n",
    "# Check if Anyscale operator pods are running\n",
    "!kubectl get pods --all-namespaces | grep -E \"(anyscale|ray)\" | grep -v \"cluster-autoscaler\"\n",
    "\n",
    "# Check if ray cluster is running\n",
    "!kubectl get pods --all-namespaces | grep ray\n",
    "\n",
    "# Check if the Anyscale cloud is registered\n",
    "!anyscale cloud list"
   ]
  }
 ],
 "metadata": {
  "kernelspec": {
   "display_name": "Xing-ray-jupyter-3.11",
   "language": "python",
   "name": "xing-ray-jupyter"
  },
  "language_info": {
   "codemirror_mode": {
    "name": "ipython",
    "version": 3
   },
   "file_extension": ".py",
   "mimetype": "text/x-python",
   "name": "python",
   "nbconvert_exporter": "python",
   "pygments_lexer": "ipython3",
   "version": "3.11.13"
  }
 },
 "nbformat": 4,
 "nbformat_minor": 2
}