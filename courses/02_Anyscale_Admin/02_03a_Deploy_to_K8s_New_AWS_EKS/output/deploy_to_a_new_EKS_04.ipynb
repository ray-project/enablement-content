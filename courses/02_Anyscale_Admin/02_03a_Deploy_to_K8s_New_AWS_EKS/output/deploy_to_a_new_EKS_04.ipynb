{
 "cells": [
  {
   "cell_type": "markdown",
   "metadata": {
    "vscode": {
     "languageId": "raw"
    }
   },
   "source": [
    "## 3. Register the Anyscale Cloud\n",
    "\n",
    "First, ensure you're logged into Anyscale. if you cannot run it in console, please run it in your local terminal:"
   ]
  },
  {
   "cell_type": "code",
   "execution_count": null,
   "metadata": {},
   "outputs": [],
   "source": [
    "!anyscale login"
   ]
  },
  {
   "cell_type": "markdown",
   "metadata": {},
   "source": [
    "Then use the output of `terraform apply` to register Anyscale cloud. You only need to replace the `--name` parameter with your preferred `ANYSCALE_CLOUD_NAME`. The command looks like:\n",
    "\n",
    "```bash\n",
    "anyscale cloud register ...\n",
    "```\n",
    "\n",
    "You will get output like:\n",
    "\n",
    "```text\n",
    "Output\n",
    "(anyscale +17.9s) For registering this cloud's Kubernetes Manager, use cloud deployment ID 'cldrsrc_12345abcdefgh67890ijklmnop'.\n",
    "(anyscale +18.0s) Successfully created cloud anyscale-cloud-eks-private-xxxxx, and it's ready to use.\n",
    "```\n",
    "\n",
    "After running the command, note the Cloud Deployment ID from the output. It will look something like: \n",
    "```\n",
    "cldrsrc_12345abcdefgh67890ijklmnop\n",
    "```\n",
    "You'll need this for the next step\n"
   ]
  }
 ],
 "metadata": {
  "kernelspec": {
   "display_name": "Xing-ray-jupyter-3.11",
   "language": "python",
   "name": "xing-ray-jupyter"
  },
  "language_info": {
   "codemirror_mode": {
    "name": "ipython",
    "version": 3
   },
   "file_extension": ".py",
   "mimetype": "text/x-python",
   "name": "python",
   "nbconvert_exporter": "python",
   "pygments_lexer": "ipython3",
   "version": "3.11.13"
  }
 },
 "nbformat": 4,
 "nbformat_minor": 2
}