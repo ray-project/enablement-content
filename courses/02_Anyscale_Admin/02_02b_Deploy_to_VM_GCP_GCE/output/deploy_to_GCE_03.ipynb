{
 "cells": [
  {
   "cell_type": "markdown",
   "metadata": {
    "vscode": {
     "languageId": "raw"
    }
   },
   "source": [
    "## 1. Installation\n"
   ]
  },
  {
   "cell_type": "markdown",
   "metadata": {
    "vscode": {
     "languageId": "raw"
    }
   },
   "source": [
    "### 1.1 Configure Google Cloud Authentication\n",
    "\n",
    "First, set up authentication and configure your GCP project:\n"
   ]
  },
  {
   "cell_type": "code",
   "execution_count": null,
   "metadata": {},
   "outputs": [],
   "source": [
    "# Set up application default credentials\n",
    "# This will open a browser window for authentication\n",
    "!gcloud auth application-default login\n",
    "\n",
    "# Set your project (replace YOUR_PROJECT_ID with your actual project ID)\n",
    "# Example: !gcloud config set project my-anyscale-project-123456\n",
    "!gcloud config set project {GCP_PROJECT_ID}\n",
    "\n",
    "# Set your region like us-west2\n",
    "!gcloud config set compute/region {GCP_REGION}\n",
    "\n",
    "# Verify authentication and configuration\n",
    "!gcloud auth list\n",
    "!gcloud config list\n"
   ]
  },
  {
   "cell_type": "markdown",
   "metadata": {
    "vscode": {
     "languageId": "raw"
    }
   },
   "source": [
    "### 1.2 Enable Required APIs\n",
    "\n",
    "Enable all the necessary Google Cloud APIs for this deployment:\n"
   ]
  },
  {
   "cell_type": "code",
   "execution_count": null,
   "metadata": {},
   "outputs": [],
   "source": [
    "!gcloud services enable \\\n",
    "  compute.googleapis.com \\\n",
    "  storage.googleapis.com \\\n",
    "  file.googleapis.com \\\n",
    "  iam.googleapis.com \\\n",
    "  cloudresourcemanager.googleapis.com\n",
    "\n",
    "# Verify APIs are enabled\n",
    "!gcloud services list --enabled --filter=\"name:compute.googleapis.com OR name:storage.googleapis.com\"\n"
   ]
  }
 ],
 "metadata": {
  "language_info": {
   "name": "python"
  }
 },
 "nbformat": 4,
 "nbformat_minor": 2
}