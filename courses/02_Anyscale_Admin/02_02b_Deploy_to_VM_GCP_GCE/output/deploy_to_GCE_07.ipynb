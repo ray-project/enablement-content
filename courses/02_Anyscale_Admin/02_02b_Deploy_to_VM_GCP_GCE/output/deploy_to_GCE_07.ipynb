{
 "cells": [
  {
   "cell_type": "markdown",
   "metadata": {
    "vscode": {
     "languageId": "raw"
    }
   },
   "source": [
    "## 5. Cleanup\n",
    "\n",
    "When you're done, you can terminate the cluster and clean up resources:\n"
   ]
  },
  {
   "cell_type": "code",
   "execution_count": null,
   "metadata": {},
   "outputs": [],
   "source": [
    "# Step 1: Delete any running clusters\n",
    "!anyscale cluster terminate --name gcp-compute-ray-cluster-autoscaled\n",
    "\n",
    "# Step 2: Delete Anyscale Cloud Registration\n",
    "!anyscale cloud delete {ANYSCALE_CLOUD_NAME}\n",
    "\n",
    "# Step 3: Empty GCS bucket (if it has objects)\n",
    "# (Optional) If you want to delete the GCS bucket, you can run the following command:\n",
    "# Find your GCS bucket name from the output of the terraform apply command, then run the following command:\n",
    "!gsutil rm -r gs://{GCS_BUCKET_NAME}/*\n",
    "\n",
    "\n",
    "# Step 4: Destroy Terraform resources\n",
    "!terraform destroy -auto-approve\n",
    "\n",
    "# Optional: # You may need to delete firewall policy created by terraform manually."
   ]
  }
 ],
 "metadata": {
  "language_info": {
   "name": "python"
  }
 },
 "nbformat": 4,
 "nbformat_minor": 2
}