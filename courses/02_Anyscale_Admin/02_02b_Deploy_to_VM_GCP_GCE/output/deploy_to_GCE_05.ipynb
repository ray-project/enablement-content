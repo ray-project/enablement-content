{
 "cells": [
  {
   "cell_type": "markdown",
   "metadata": {
    "vscode": {
     "languageId": "raw"
    }
   },
   "source": [
    "## 3. Register the Anyscale Cloud\n",
    "\n",
    "First, ensure you're logged into Anyscale. if you cannot run it in console, please run it in your local terminal:\n"
   ]
  },
  {
   "cell_type": "code",
   "execution_count": null,
   "metadata": {},
   "outputs": [],
   "source": [
    "# First, ensure you're logged into Anyscale\n",
    "!anyscale login"
   ]
  },
  {
   "cell_type": "markdown",
   "metadata": {
    "vscode": {
     "languageId": "raw"
    }
   },
   "source": [
    "Then use the output of `terraform apply` to register Anyscale cloud. You only need to replace the `--name` parameter with your preferred `ANYSCALE_CLOUD_NAME`. The command looks like:\n",
    "\n",
    "```bash\n",
    "anyscale cloud register ...\n",
    "```\n",
    "\n",
    "You will get output like:\n",
    "\n",
    "```text\n",
    "Output\n",
    "(anyscale +18.0s) Successfully created cloud anyscale-cloud-gce-private-xxxxx, and it's ready to use.\n",
    "```"
   ]
  }
 ],
 "metadata": {
  "language_info": {
   "name": "python"
  }
 },
 "nbformat": 4,
 "nbformat_minor": 2
}