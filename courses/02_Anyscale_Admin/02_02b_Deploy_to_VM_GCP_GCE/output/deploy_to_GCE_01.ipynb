{
 "cells": [
  {
   "cell_type": "markdown",
   "metadata": {
    "vscode": {
     "languageId": "raw"
    }
   },
   "source": [
    "# Introduction: Deploy Anyscale Ray on GCP Compute Engine Instances (GCE)\n",
    "\n",
    "\u00a9 2025, Anyscale. All Rights Reserved\n",
    "\n",
    "This notebook shows how to create the infrastructure and Anyscale-specific resources needed for GCP Compute Engine (GCE) deployments using the custom **`anyscale cloud register`** method.\n",
    "\n",
    "Use it as a starting point and replace all placeholders (e.g.&nbsp;`{ANYSCALE_CLOUD_NAME}`) with values from your environment.\n",
    "\n",
    "**What this creates:**\n",
    "- VPC and subnet for Anyscale resources\n",
    "- IAM Service Account for Compute Engine nodes\n",
    "- GCS Storage Bucket for Anyscale logs and shared resources  \n",
    "- Filestore instance for shared storage (optional)\n",
    "\n",
    "**Prerequisites:**\n",
    "- Proper GCP permissions and authentication\n"
   ]
  }
 ],
 "metadata": {
  "language_info": {
   "name": "python"
  }
 },
 "nbformat": 4,
 "nbformat_minor": 2
}