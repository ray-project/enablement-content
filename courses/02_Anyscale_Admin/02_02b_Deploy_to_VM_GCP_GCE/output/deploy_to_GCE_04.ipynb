{
 "cells": [
  {
   "cell_type": "markdown",
   "metadata": {
    "vscode": {
     "languageId": "raw"
    }
   },
   "source": [
    "## 2. Create Anyscale Resources with Terraform\n",
    "\n",
    "Let's set up the necessary Terraform variables and apply the configuration:\n",
    "\n",
    "### Creating Anyscale Resources\n",
    "\n",
    "This deployment uses the official **Anyscale Terraform modules** from [terraform-google-anyscale-cloudfoundation-modules](https://github.com/anyscale/terraform-google-anyscale-cloudfoundation-modules). These modules provide:\n",
    "\n",
    "- **Pre-tested configurations** for GCP resources\n",
    "- **Security best practices** built-in\n",
    "- **Simplified resource management** with fewer variables to configure\n",
    "- **Automatic generation** of Anyscale registration commands\n",
    "\n",
    "Steps for deploying Anyscale resources via Terraform:\n",
    "\n",
    "* Review and modify [variables.tf](variables.tf) with your own configurations, and (optionally) create a `terraform.tfvars` file to override any of the defaults.\n",
    "* You can view [main.tf](main.tf) to see how the official Anyscale modules are used.\n"
   ]
  },
  {
   "cell_type": "markdown",
   "metadata": {
    "vscode": {
     "languageId": "raw"
    }
   },
   "source": [
    "### 2.1 Create terraform.tfvars\n",
    "\n",
    "Create a `terraform.tfvars` file with your specific configuration:\n"
   ]
  },
  {
   "cell_type": "markdown",
   "metadata": {},
   "source": [
    "Create terraform.tfvars file\n",
    "\n",
    "Required variables\n",
    "\n",
    "```\n",
    "google_project_id = {GCP_PROJECT_ID} # the name of your google project, not the project_number\n",
    "google_region = {GCP_REGION} # the region of your google project\n",
    "\n",
    "# Required variables\n",
    "anyscale_cloud_id = {ANYSCALE_CLOUD_NAME} # the anyscale cloud name you want to use\n",
    "common_prefix = {PREFIX_FOR_THE_RESOURCES_ADDED} # like: \"anyscale-compute-engine\"\n",
    "aws_role_name     = \"gcp_if_{YOUR_ANYSCALE_ORG_ID}\" # You can get it from your Anyscale account's \"Organization Settings\", it is a string like \"org_xxxxxxx\". Add this value with prefix \"gcp_if_\"\n",
    "\n",
    "# Optional variables\n",
    "# bucket_name = \"my-custom-bucket-name\"  # Uncomment to use custom bucket name\n",
    "# enable_filestore = true\n",
    "# filestore_capacity_gb = 1024\n",
    "# filestore_tier = \"STANDARD\"\n",
    "```\n",
    "\n",
    "Note: The VPC will be created automatically by Terraform using the configuration in `vpc.tf`."
   ]
  },
  {
   "cell_type": "markdown",
   "metadata": {
    "vscode": {
     "languageId": "raw"
    }
   },
   "source": [
    "### 2.2 Run Terraform Commands\n",
    "\n",
    "Now let's initialize and deploy the Terraform configuration:\n"
   ]
  },
  {
   "cell_type": "code",
   "execution_count": null,
   "metadata": {},
   "outputs": [],
   "source": [
    "# Initialize Terraform\n",
    "!terraform init\n",
    "\n",
    "# Preview the changes\n",
    "!terraform plan\n",
    "\n",
    "# Apply the changes (this may take 10-15 minutes)\n",
    "!terraform apply -auto-approve\n"
   ]
  },
  {
   "cell_type": "markdown",
   "metadata": {},
   "source": [
    "<div class=\"alert alert-block alert-info\">\n",
    "<b>Take a note to the output of terraform apply! </b>You will need it when you register the Anyscale cloud to your cloud provider.\n",
    "</div>\n",
    "\n",
    "<details>\n",
    "<summary>Sample output</summary>\n",
    "```\n",
    "Outputs:\n",
    "\n",
    "anyscale_registration_command = <<EOT\n",
    "anyscale cloud register \\\n",
    "    --name <anyscale_cloud_name> \\\n",
    "    --provider gcp \\\n",
    "    --region us-west2 \\\n",
    "    --compute-stack vm \\\n",
    "    --anyscale-operator-iam-identity anyscale-nodes-d3a9a7d0@xing-compute-engine-test.iam.gserviceaccount.com \\\n",
    "    --cloud-storage-bucket-name anyscale-compute-engine-bucket-xxx \\\n",
    "    --project-id xxx \\\n",
    "    --vpc-name xxx \\\n",
    "    --subnet-names anyscale-subnet \\\n",
    "    --anyscale-service-account-email anyscale-nodes-xxx@xxx.iam.gserviceaccount.com \\\n",
    "    --instance-service-account-email anyscale-nodes-xxx@xxx.iam.gserviceaccount.com \\\n",
    "    --provider-name projects/xxx/locations/global/workloadIdentityPools/xxxx/providers/anyscale-provider \\\n",
    "    --firewall-policy-names anyscale-firewall-policy-xxxx \\\n",
    "    --file-storage-id anyscale-filestore-xxxx \\\n",
    "    --filestore-location xxxxx-a\n",
    "EOT\n",
    "compute_nodes_service_account_email =\n",
    "filestore_instance_name = \n",
    "filestore_location = \n",
    "firewall_policy_name = \n",
    "gcs_bucket_name = \n",
    "workload_identity_pool_provider = \n",
    "```\n",
    "</details>"
   ]
  }
 ],
 "metadata": {
  "language_info": {
   "name": "python"
  }
 },
 "nbformat": 4,
 "nbformat_minor": 2
}