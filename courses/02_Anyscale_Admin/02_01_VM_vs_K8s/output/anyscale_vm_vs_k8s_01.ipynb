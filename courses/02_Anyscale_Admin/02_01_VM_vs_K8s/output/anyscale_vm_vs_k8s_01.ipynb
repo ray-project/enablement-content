{
 "cells": [
  {
   "cell_type": "markdown",
   "id": "8121caea",
   "metadata": {},
   "source": [
    "# Deployment Options: Virtual Machines vs. Kubernetes"
   ]
  },
  {
   "cell_type": "markdown",
   "id": "53ad8776",
   "metadata": {},
   "source": [
    "### 1. Deploy to Kubernetes with Anyscale Operator\n",
    "\n",
    "Anyscale offers a Kubernetes deployment option that enables you to run Ray workloads on your existing Kubernetes infrastructure. The **Anyscale Operator** is a Kubernetes-native controller that manages and orchestrates Ray clusters. \n",
    "\n",
    "This operator streamlines the entire lifecycle of Ray clusters by leveraging Kubernetes-native APIs and tools to handle:\n",
    "- **Deployment** - Automated Ray cluster provisioning\n",
    "- **Scaling** - Dynamic resource allocation based on workload demands  \n",
    "- **Management** - Ongoing cluster health monitoring and maintenance\n",
    "\n",
    "<img src=\"https://docs.anyscale.com/img/cloud-deployment/kubernetes.png\" alt=\"Alt text\" width=\"100%\"/>\n",
    "\n",
    "To install the Anyscale Operator, use Helm as you install other Kubernetes components. For detailed setup instructions and configuration options, see the [Anyscale Operator for Kubernetes documentation](https://docs.anyscale.com/administration/cloud-deployment/kubernetes#kubernetes-permissions).\n"
   ]
  }
 ],
 "metadata": {
  "language_info": {
   "name": "python"
  }
 },
 "nbformat": 4,
 "nbformat_minor": 5
}