{
 "cells": [
  {
   "cell_type": "markdown",
   "id": "5626fdfc",
   "metadata": {},
   "source": [
    "## 3. (Optional) More Kubernetes Deployments Components\n",
    "\n",
    "- **Kubernetes Cluster Autoscaler**: Automatically scales the number of nodes in Kubernetes cluster up or down based on resource demands.\n",
    "\n",
    "- **Load Balancer Controller: For external access to Ray applications from outside the cluster:**\n",
    "  - **EKS**: Install AWS Load Balancer Controller. This creates AWS Application Load Balancers (ALB) or Network Load Balancers (NLB) that provide external access to pods.\n",
    "  - **GKE**: GKE natively integrates with Google Cloud Load Balancers through built-in ingress controllers.\n",
    "\n",
    "- **Nginx Ingress Controller**: Provides advanced HTTP routing capabilities such as:\n",
    "  - Path-based routing (e.g., `/api/v1/*` to one service, `/dashboard/*` to another)\n",
    "  - Host-based routing (e.g., `api.company.com` vs `dashboard.company.com`)\n",
    "  - SSL/TLS termination, typically integrated with cert-manager for automatic certificate provisioning and renewal\n",
    "  - Rate limiting, authentication, and request/response transformation, configurable via annotations and custom NGINX templates\n",
    "  - Basic load balancing algorithms like round-robin or least connections\n",
    "  \n",
    "  **Note**: On EKS, Nginx Ingress Controller works behind the AWS Load Balancer Controller, which provisions an ALB or NLB to expose the ingress. \n",
    "  On GKE, it can be integrated with the Google Cloud Load Balancer by exposing the ingress via a LoadBalancer service or with GKE Ingress integration.\n",
    "\n",
    "- **(Optional)GPU Support** The Nvidia Device Plugin is needed if you plan to run Ray jobs that require access to GPUs in your Kubernetes cluster (EKS or GKE). In Kubernetes deployment, Anyscale does not control anything outside the container, and GPU drivers are in the kernel level (and thus outside the container), and Nvidia Device Plugin sets them up."
   ]
  },
  {
   "cell_type": "markdown",
   "id": "c1a8a1d4",
   "metadata": {},
   "source": [
    "### 4. Examples Outlook: Deploying to Your Infrastructure\n",
    "\n",
    "**Virtual Machines (VM) Deployment**\n",
    "\n",
    "- **[Deploy on AWS EC2](../02_02a_Deploy_to_VM_AWS_EC2/deploy_to_ec2.ipynb)**: Provisions EC2 VMs directly; Ray autoscaler manages scaling.\n",
    "- **[Deploy on GCP GCE](../02_02b_Deploy_to_VM_GCP_GCE/deploy_to_GCE.ipynb)**: Provisions Compute Engine VMs; similar to EC2, but with GCP-specific IAM and networking.\n",
    "\n",
    "**Kubernetes (K8s) Deployment**\n",
    "\n",
    "- **[Deploy on a New AWS EKS](../02_03a_Deploy_to_K8s_New_AWS_EKS/deploy_to_a_new_EKS.ipynb)**: Deploys to a new EKS cluster; requires creating new AWS resources and installing Kubernetes controllers (autoscaler, ingress, etc.).\n",
    "- **[Deploy on Existing AWS EKS](../02_03b_Deploy_to_K8s_Existing_AWS_EKS/deploy_to_an_existing_EKS.ipynb)**: Deploys to an exisitng EKS cluster; requires attaching IAM policies to node roles and installing Kubernetes controllers (autoscaler, ingress, etc.).\n",
    "- **[Deploy on a New GCP GKE](../02_03c_Deploy_to_K8s_New_GCP_GKE/deploy_to_new_GKE.ipynb)**: Similar to EKS deployment, but uses GCP-native resources and IAM; requires enabling GCP APIs and configuring workload identity.\n"
   ]
  }
 ],
 "metadata": {
  "language_info": {
   "name": "python"
  }
 },
 "nbformat": 4,
 "nbformat_minor": 5
}