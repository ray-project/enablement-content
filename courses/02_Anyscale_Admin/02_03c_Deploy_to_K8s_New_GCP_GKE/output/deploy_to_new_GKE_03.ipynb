{
 "cells": [
  {
   "cell_type": "markdown",
   "metadata": {},
   "source": [
    "## 1. Installation"
   ]
  },
  {
   "cell_type": "markdown",
   "metadata": {
    "vscode": {
     "languageId": "raw"
    }
   },
   "source": [
    "### 1.1. Configure Google Cloud Authentication\n",
    "\n",
    "<details>\n",
    "<summary>Before starting, add gcloud command to your environment variables if you want to run your gcloud command globally:\n",
    "</summary>\n",
    "\n",
    "First, find your gcloud executable. On your system it might be under:\n",
    "\n",
    "```bash\n",
    " /Users/{USER_NAME}/Downloads/google-cloud-sdk/bin/gcloud\n",
    " ```\n",
    " \n",
    "Second, run:\n",
    "\n",
    "```bash\n",
    "echo $SHELL\n",
    "```\n",
    "\n",
    "The output might be:\n",
    "\n",
    "```bash\n",
    "/bin/zsh\n",
    "```\n",
    "Export the gcloud path. For example:\n",
    "\n",
    "```bash\n",
    "echo 'export PATH=\"/Users/{USER_NAME}/Downloads/google_cloud/sdk/bin:$PATH\"' >> ~/.zshrc'\n",
    "```\n",
    "\n",
    "Finally, run:\n",
    "```bash\n",
    "source ~/.zshrc\n",
    "```\n",
    "in your current terminal to start using gcloud command.\n",
    "</detail>\n"
   ]
  },
  {
   "cell_type": "markdown",
   "metadata": {},
   "source": [
    "Define the global variables and configure Google Cloud Authentication:"
   ]
  },
  {
   "cell_type": "code",
   "execution_count": null,
   "metadata": {},
   "outputs": [],
   "source": [
    "GCP_PROJECT_ID = \"anyscale-enablement-june-2025\" # Replace with your actual Google project ID\n",
    "GCP_REGION = \"us-west2\" # Replace with your actual GCP region\n",
    "ANYSCALE_CLOUD_NAME = \"anyscale-cloud-gke-private-xxx\" # Replace with your actual Anyscale cloud name"
   ]
  },
  {
   "cell_type": "code",
   "execution_count": null,
   "metadata": {},
   "outputs": [],
   "source": [
    "# Set up application default credentials\n",
    "!gcloud auth application-default login\n",
    "\n",
    "# Set your project (replace with your actual project ID)\n",
    "!gcloud config set project {GCP_PROJECT_ID}\n",
    "\n",
    "# Set your region\n",
    "!gcloud config set compute/region {GCP_REGION}\n",
    "\n",
    "# Verify configuration\n",
    "!gcloud config list\n"
   ]
  },
  {
   "cell_type": "markdown",
   "metadata": {
    "vscode": {
     "languageId": "raw"
    }
   },
   "source": [
    "### 1.2: Enable Required APIs\n",
    "\n",
    "Enable all the necessary Google Cloud APIs for this deployment:\n"
   ]
  },
  {
   "cell_type": "code",
   "execution_count": null,
   "metadata": {},
   "outputs": [],
   "source": [
    "!gcloud services enable \\\n",
    "  container.googleapis.com \\\n",
    "  compute.googleapis.com \\\n",
    "  storage.googleapis.com \\\n",
    "  file.googleapis.com \\\n",
    "  iam.googleapis.com \\\n",
    "  cloudresourcemanager.googleapis.com\n",
    "\n",
    "# Verify APIs are enabled\n",
    "!gcloud services list --enabled --filter=\"name:container.googleapis.com OR name:compute.googleapis.com\"\n"
   ]
  },
  {
   "cell_type": "markdown",
   "metadata": {},
   "source": [
    "You will see:\n",
    "```bash\n",
    "NAME                      TITLE\n",
    "compute.googleapis.com    Compute Engine API\n",
    "container.googleapis.com  Kubernetes Engine API\n",
    "```\n",
    "which means k8s and GCE APIs are enabled."
   ]
  }
 ],
 "metadata": {
  "kernelspec": {
   "display_name": "Xing-ray-jupyter-3.11",
   "language": "python",
   "name": "xing-ray-jupyter"
  },
  "language_info": {
   "codemirror_mode": {
    "name": "ipython",
    "version": 3
   },
   "file_extension": ".py",
   "mimetype": "text/x-python",
   "name": "python",
   "nbconvert_exporter": "python",
   "pygments_lexer": "ipython3",
   "version": "3.11.13"
  }
 },
 "nbformat": 4,
 "nbformat_minor": 2
}