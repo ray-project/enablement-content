{
 "cells": [
  {
   "cell_type": "markdown",
   "metadata": {
    "vscode": {
     "languageId": "raw"
    }
   },
   "source": [
    "## 3. Troubleshooting GPU Availability\n",
    "\n",
    "<div class=\"alert alert-block alert-warning\">\n",
    "<b>Common Issue:</b> T4 GPUs may not be available in all zones. If you encounter GPU availability errors, follow these steps:\n",
    "</div>\n"
   ]
  },
  {
   "cell_type": "code",
   "execution_count": null,
   "metadata": {},
   "outputs": [],
   "source": [
    "# Check GPU availability by your zone, for example, us-west2\n",
    "!gcloud compute accelerator-types list --filter=\"zone:{GCP_REGION}\"\n",
    "\n",
    "# If T4 GPUs are not available in us-west2-a, you may need to modify the Terraform configuration\n",
    "# to use different zones where T4 GPUs are available\n"
   ]
  }
 ],
 "metadata": {
  "kernelspec": {
   "display_name": "Xing-ray-jupyter-3.11",
   "language": "python",
   "name": "xing-ray-jupyter"
  },
  "language_info": {
   "codemirror_mode": {
    "name": "ipython",
    "version": 3
   },
   "file_extension": ".py",
   "mimetype": "text/x-python",
   "name": "python",
   "nbconvert_exporter": "python",
   "pygments_lexer": "ipython3",
   "version": "3.11.13"
  }
 },
 "nbformat": 4,
 "nbformat_minor": 2
}