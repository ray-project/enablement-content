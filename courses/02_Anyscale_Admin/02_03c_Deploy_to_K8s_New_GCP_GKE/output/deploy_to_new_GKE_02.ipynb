{
 "cells": [
  {
   "cell_type": "markdown",
   "metadata": {
    "vscode": {
     "languageId": "raw"
    }
   },
   "source": [
    "## Prerequisites\n",
    "\n",
    "Before you begin, ensure you have the following tools installed:\n",
    "\n",
    "```bash\n",
    "# Create Google Cloud Project\n",
    "# https://cloud.google.com/resource-manager/docs/creating-managing-projects\n",
    "\n",
    "# Install Google Cloud SDK/CLI\n",
    "# https://cloud.google.com/sdk/docs/install\n",
    "\n",
    "# Configure Google Cloud CLI Authentication\n",
    "# https://cloud.google.com/docs/authentication/gcloud\n",
    "\n",
    "# Install kubectl (version 1.25+)\n",
    "# https://kubernetes.io/docs/tasks/tools/\n",
    "\n",
    "# Install helm (version 3.10+)\n",
    "# https://helm.sh/docs/intro/install/\n",
    "\n",
    "# Install Anyscale CLI (version 0.5.86+)\n",
    "# https://docs.anyscale.com/reference/quickstart-cli/\n",
    "\n",
    "# Install Terraform (version 1.9+)\n",
    "# https://developer.hashicorp.com/terraform/install\n",
    "```\n",
    "\n",
    "You also need:\n",
    "- GCP Project Owner or Editor role\n",
    "- Billing account enabled\n",
    "- Required APIs enabled (we'll do this in the next step)\n"
   ]
  },
  {
   "cell_type": "markdown",
   "metadata": {},
   "source": [
    "<div class=\"alert alert-block alert-info\">\n",
    "<b>Alternative Terraform Installation:</b> If you are not able to install <b>Terraform 1.9+</b> with homebrew, you can try to install it with <code>tfenv</code>.\n",
    "\n",
    "<details>\n",
    "<summary>Click to expand installation steps</summary>\n",
    "\n",
    "```bash\n",
    "brew install tfenv\n",
    "tfenv install 1.9.0\n",
    "tfenv use 1.9.0\n",
    "terraform version\n",
    "```\n",
    "\n",
    "</details>\n",
    "</div>"
   ]
  }
 ],
 "metadata": {
  "kernelspec": {
   "display_name": "Xing-ray-jupyter-3.11",
   "language": "python",
   "name": "xing-ray-jupyter"
  },
  "language_info": {
   "codemirror_mode": {
    "name": "ipython",
    "version": 3
   },
   "file_extension": ".py",
   "mimetype": "text/x-python",
   "name": "python",
   "nbconvert_exporter": "python",
   "pygments_lexer": "ipython3",
   "version": "3.11.13"
  }
 },
 "nbformat": 4,
 "nbformat_minor": 2
}