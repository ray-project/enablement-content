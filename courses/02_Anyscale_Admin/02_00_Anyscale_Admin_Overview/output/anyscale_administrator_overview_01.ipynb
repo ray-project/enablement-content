{
 "cells": [
  {
   "cell_type": "markdown",
   "id": "8121caea",
   "metadata": {},
   "source": [
    "# Anyscale Administrator Overview"
   ]
  },
  {
   "cell_type": "markdown",
   "id": "f3483cf9",
   "metadata": {},
   "source": [
    "### 0. Overview\n",
    "\n",
    "- For admins, to set up Anyscale in your infrastructure\n",
    "- Overview of Anyscale Clouds\n",
    "- Cloud Deployment types\n",
    "- What you need to set up an Anyscale Cloud (resources etc.) with the Anyscale CLI\n",
    "- Example: Understanding an Anyscale deployment on EC2\n",
    "- Not fully executable, but you'll understand how\n",
    "\n",
    "\n",
    "### Outlook\n",
    "\n",
    "- Difference between VM and K8s deployments\n",
    "- Concrete code examples for:\n",
    "    - AWS EC2 + GCP GCE\n",
    "    - AWS EKS + GCP GKE\n",
    "- You choose your setup"
   ]
  }
 ],
 "metadata": {
  "language_info": {
   "name": "python"
  }
 },
 "nbformat": 4,
 "nbformat_minor": 5
}