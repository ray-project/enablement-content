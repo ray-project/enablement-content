{
 "cells": [
  {
   "cell_type": "markdown",
   "metadata": {
    "vscode": {
     "languageId": "raw"
    }
   },
   "source": [
    "## 8. Troubleshooting\n",
    "\n",
    "Here are some common issues and how to resolve them:"
   ]
  },
  {
   "cell_type": "markdown",
   "metadata": {},
   "source": [
    "<div class=\"alert alert-block alert-info\">\n",
    "<b>Troubleshooting</b> \n",
    "\n",
    "<details>\n",
    "<summary>Click to expand</summary>\n",
    "\n",
    "\n",
    "1. **IAM Permissions**: Ensure that the Node IAM role has the necessary policies attached:\n",
    "   - AmazonElasticFileSystemClientReadWriteAccess\n",
    "   - The Anyscale IAM S3 policy\n",
    "\n",
    "2. **Networking Issues**: Verify that the security groups allow the necessary traffic between nodes and for external access.\n",
    "\n",
    "3. **Cluster Autoscaler**: If nodes aren't scaling, check the cluster autoscaler logs:\n",
    "\n",
    "\n",
    "kubectl logs -n kube-system -l app=cluster-autoscaler\n",
    "\n",
    "4. **Anyscale Operator**: If the Anyscale operator isn't functioning correctly, check its logs:\n",
    "\n",
    "kubectl logs -n anyscale-operator -l app=anyscale-operator\n",
    "\n",
    "</details>\n",
    "</div>\n",
    "\n"
   ]
  },
  {
   "cell_type": "markdown",
   "metadata": {},
   "source": [
    "**View job logs from Anyscale Console**:\n",
    "\n",
    "<details>\n",
    "<summary> You may find you are not able to see full logs of a job, which is because you need to add Cross-origin permission to the S3 bucket you use for the deployment.\n",
    "</summary>\n",
    "   You can:\n",
    "\n",
    "   1. Log in to your AWS console, choose S3 service, and find the bucket you are using for this deployment\n",
    "   2. Click \"Permissions\", and scroll down to \"Cross-origin resource sharing (CORS)\"\n",
    "   3. Add the following:\n",
    "   ```\n",
    "   [\n",
    "      {\n",
    "        \"AllowedHeaders\": [\n",
    "            \"*\"\n",
    "        ],\n",
    "        \"AllowedMethods\": [\n",
    "            \"GET\"\n",
    "        ],\n",
    "        \"AllowedOrigins\": [\n",
    "            \"https://console.anyscale.com\"\n",
    "        ],\n",
    "        \"ExposeHeaders\": []\n",
    "      }\n",
    "   ]\n",
    "   ```\n",
    "   Save this change and you should be able to view full job logs now.\n",
    "   </details>"
   ]
  }
 ],
 "metadata": {
  "kernelspec": {
   "display_name": "Xing-ray-jupyter-3.11",
   "language": "python",
   "name": "xing-ray-jupyter"
  },
  "language_info": {
   "name": "python",
   "version": "3.11.13"
  }
 },
 "nbformat": 4,
 "nbformat_minor": 2
}