{
 "cells": [
  {
   "cell_type": "markdown",
   "metadata": {},
   "source": [
    "## 2. Attach Required IAM Policies to Your existing EKS's Node Role\n",
    "\n",
    "After running Terraform to create the resources, you need to attach the IAM policies to your EKS node role."
   ]
  },
  {
   "cell_type": "markdown",
   "metadata": {},
   "source": [
    "First, run:"
   ]
  },
  {
   "cell_type": "code",
   "execution_count": null,
   "metadata": {},
   "outputs": [],
   "source": [
    "!aws eks list-nodegroups --cluster-name {EKS_CLUSTER_NAME}"
   ]
  },
  {
   "cell_type": "markdown",
   "metadata": {},
   "source": [
    "to get a list of node groups in your cluster. Pick the **Anyscale related node group name** you are looking for."
   ]
  },
  {
   "cell_type": "markdown",
   "metadata": {},
   "source": [
    "Second, find your node role name by running:"
   ]
  },
  {
   "cell_type": "code",
   "execution_count": null,
   "metadata": {},
   "outputs": [],
   "source": [
    "!aws eks describe-nodegroup --cluster-name {EKS_CLUSTER_NAME} --nodegroup-name {Anyscale related node group name} --query 'nodegroup.nodeRole' --output text"
   ]
  },
  {
   "cell_type": "markdown",
   "metadata": {},
   "source": [
    "This will give you the ARN of the role, from which you can extract the **Node Role Name** (the part after the last \"/\")."
   ]
  },
  {
   "cell_type": "markdown",
   "metadata": {},
   "source": [
    "Third, to get the S3 policy ARN from Terraform output:\n"
   ]
  },
  {
   "cell_type": "code",
   "execution_count": null,
   "metadata": {},
   "outputs": [],
   "source": [
    "!terraform output -raw module.anyscale_iam_roles.anyscale_iam_s3_policy_arn"
   ]
  },
  {
   "cell_type": "markdown",
   "metadata": {},
   "source": [
    "Then you will attach both policies to your node role (replace **{Node Role Name}** with your existing EKS node role name):"
   ]
  },
  {
   "cell_type": "code",
   "execution_count": null,
   "metadata": {},
   "outputs": [],
   "source": [
    "# Attach the S3 policy\n",
    "!aws iam attach-role-policy \\\n",
    "  --role-name {NODE ROLE NAME} \\\n",
    "  --policy-arn $(terraform output -raw module.anyscale_iam_roles.anyscale_iam_s3_policy_arn)"
   ]
  },
  {
   "cell_type": "code",
   "execution_count": null,
   "metadata": {},
   "outputs": [],
   "source": [
    "# Attach the EFS policy\n",
    "!aws iam attach-role-policy \\\n",
    "  --role-name {NODE ROLE NAM} \\\n",
    "  --policy-arn arn:aws:iam::aws:policy/AmazonElasticFileSystemClientReadWriteAccess"
   ]
  }
 ],
 "metadata": {
  "kernelspec": {
   "display_name": "Xing-ray-jupyter-3.11",
   "language": "python",
   "name": "xing-ray-jupyter"
  },
  "language_info": {
   "name": "python",
   "version": "3.11.13"
  }
 },
 "nbformat": 4,
 "nbformat_minor": 2
}