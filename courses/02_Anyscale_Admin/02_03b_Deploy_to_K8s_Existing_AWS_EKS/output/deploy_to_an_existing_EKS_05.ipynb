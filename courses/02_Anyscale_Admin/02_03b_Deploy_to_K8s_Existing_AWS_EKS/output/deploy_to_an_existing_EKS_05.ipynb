{
 "cells": [
  {
   "cell_type": "markdown",
   "metadata": {
    "vscode": {
     "languageId": "raw"
    }
   },
   "source": [
    "## 3. Install Kubernetes Components\n",
    "\n",
    "The Anyscale Operator requires the following components:\n",
    "- Cluster autoscaler\n",
    "- AWS Load Balancer Controller (LBC)\n",
    "- Nginx Ingress Controller\n",
    "- (Optional) Nvidia device plugin (for GPU nodes)\n",
    "\n",
    "Let's set up each of these components:\n"
   ]
  },
  {
   "cell_type": "markdown",
   "metadata": {},
   "source": [
    "### 3.1 Install the Cluster Autoscaler\n"
   ]
  },
  {
   "cell_type": "code",
   "execution_count": null,
   "metadata": {},
   "outputs": [],
   "source": [
    "# Set your EKS cluster name and AWS region\n",
    "\n",
    "# Update kubectl to connect to your new EKS cluster\n",
    "!aws eks update-kubeconfig --region {AWS_REGION} --name {EKS_CLUSTER_NAME}\n",
    "\n",
    "!helm repo add autoscaler https://kubernetes.github.io/autoscaler\n",
    "!helm upgrade cluster-autoscaler autoscaler/cluster-autoscaler \\\n",
    "  --version 9.46.0 \\\n",
    "  --namespace kube-system \\\n",
    "  --set awsRegion={AWS_REGION} \\\n",
    "  --set 'autoDiscovery.clusterName'={EKS_CLUSTER_NAME} \\\n",
    "  --install"
   ]
  },
  {
   "cell_type": "markdown",
   "metadata": {
    "vscode": {
     "languageId": "raw"
    }
   },
   "source": [
    "### 3.2 Install the AWS Load Balancer Controller\n"
   ]
  },
  {
   "cell_type": "code",
   "execution_count": null,
   "metadata": {},
   "outputs": [],
   "source": [
    "!helm repo add eks https://aws.github.io/eks-charts\n",
    "!helm upgrade aws-load-balancer-controller eks/aws-load-balancer-controller \\\n",
    "  --version 1.13.2 \\\n",
    "  --namespace kube-system \\\n",
    "  --set clusterName={EKS_CLUSTER_NAME} \\\n",
    "  --install"
   ]
  },
  {
   "cell_type": "markdown",
   "metadata": {
    "vscode": {
     "languageId": "raw"
    }
   },
   "source": [
    "### 3.3 Install the Nginx Ingress Controller"
   ]
  },
  {
   "cell_type": "code",
   "execution_count": null,
   "metadata": {},
   "outputs": [],
   "source": [
    "# We already have a sample-values_nginx.yaml file in the current directory\n",
    "!helm repo add nginx https://kubernetes.github.io/ingress-nginx\n",
    "!helm upgrade ingress-nginx nginx/ingress-nginx \\\n",
    "  --version 4.12.1 \\\n",
    "  --namespace ingress-nginx \\\n",
    "  --values sample-values_nginx.yaml \\\n",
    "  --create-namespace \\\n",
    "  --install"
   ]
  },
  {
   "cell_type": "markdown",
   "metadata": {
    "vscode": {
     "languageId": "raw"
    }
   },
   "source": [
    "### 3.4 (Optional) Install the Nvidia Device Plugin\n"
   ]
  },
  {
   "cell_type": "code",
   "execution_count": null,
   "metadata": {},
   "outputs": [],
   "source": [
    "# We already have a sample-values_nvdp.yaml file in the current directory\n",
    "\n",
    "# Uncomment and run these commands when you're ready\n",
    "!helm repo add nvdp https://nvidia.github.io/k8s-device-plugin\n",
    "!helm upgrade nvdp nvdp/nvidia-device-plugin \\\n",
    "  --namespace nvidia-device-plugin \\\n",
    "  --version 0.17.1 \\\n",
    "  --values sample-values_nvdp.yaml \\\n",
    "  --create-namespace \\\n",
    "  --install"
   ]
  }
 ],
 "metadata": {
  "kernelspec": {
   "display_name": "Xing-ray-jupyter-3.11",
   "language": "python",
   "name": "xing-ray-jupyter"
  },
  "language_info": {
   "name": "python",
   "version": "3.11.13"
  }
 },
 "nbformat": 4,
 "nbformat_minor": 2
}