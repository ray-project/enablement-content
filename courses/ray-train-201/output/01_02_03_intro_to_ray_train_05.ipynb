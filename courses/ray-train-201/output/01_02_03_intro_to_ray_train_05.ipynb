{
 "cells": [
  {
   "cell_type": "markdown",
   "metadata": {},
   "source": [
    "## 06 \u00b7 Define `train_loop_config`  \n",
    "\n",
    "The `train_loop_config` is a simple **dictionary of hyperparameters** that Ray passes into your training loop (`train_loop_ray_train`).  \n",
    "\n",
    "- It acts as the **bridge between the `TorchTrainer` and your per-worker training code**.  \n",
    "- Anything defined here becomes available inside the `config` argument of `train_loop_ray_train`.  \n",
    "\n",
    "In this example we define:  \n",
    "- **`num_epochs`** \u2192 how many full passes through the dataset to run.  \n",
    "- **`global_batch_size`** \u2192 the total batch size across all workers (Ray will split this evenly across GPUs).  \n",
    "\n",
    "You can add other parameters here (like `learning_rate`, `embedding_dim`, etc.) and they\u2019ll automatically be accessible in your training loop via `config[\"param_name\"]`.  \n"
   ]
  },
  {
   "cell_type": "code",
   "execution_count": null,
   "metadata": {},
   "outputs": [],
   "source": [
    "# 06. Define the configuration dictionary passed into the training loop\n",
    "\n",
    "# train_loop_config is provided to TorchTrainer and injected into\n",
    "# train_loop_ray_train(config) as the \"config\" argument.\n",
    "# \u2192 Any values defined here are accessible inside the training loop.\n",
    "\n",
    "train_loop_config = {\n",
    "    \"num_epochs\": 2,           # Number of full passes through the dataset\n",
    "    \"global_batch_size\": 128   # Effective batch size across ALL workers\n",
    "                               # (Ray will split this evenly per worker, e.g.\n",
    "                               # with 8 workers \u2192 16 samples/worker/step)\n",
    "}\n"
   ]
  }
 ],
 "metadata": {
  "kernelspec": {
   "display_name": "base",
   "language": "python",
   "name": "python3"
  },
  "language_info": {
   "codemirror_mode": {
    "name": "ipython",
    "version": 3
   },
   "file_extension": ".py",
   "mimetype": "text/x-python",
   "name": "python",
   "nbconvert_exporter": "python",
   "pygments_lexer": "ipython3",
   "version": "3.12.9"
  },
  "orphan": true,
  "toc-autonumbering": false
 },
 "nbformat": 4,
 "nbformat_minor": 4
}