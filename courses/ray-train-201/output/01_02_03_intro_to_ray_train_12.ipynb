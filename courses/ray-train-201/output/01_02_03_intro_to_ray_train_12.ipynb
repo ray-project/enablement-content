{
 "cells": [
  {
   "cell_type": "markdown",
   "metadata": {},
   "source": [
    "## 16 \u00b7 Inspect the Training Results  \n",
    "\n",
    "When `trainer.fit()` finishes, it returns a [`Result`](https://docs.ray.io/en/latest/train/api/doc/ray.train.Result.html) object.  \n",
    "\n",
    "This object contains:  \n",
    "- **Final metrics** \u2192 the most recent values reported from the training loop (e.g., loss at the last epoch).  \n",
    "- **Checkpoint** \u2192 a reference to the latest saved checkpoint, including its path in cluster storage.  \n",
    "- **Metrics dataframe** \u2192 a history of all reported metrics across epochs (accessible with `result.metrics_dataframe`).  \n",
    "- **Best checkpoints** \u2192 Ray automatically tracks checkpoints associated with their reported metrics.  \n",
    "\n",
    "In the output above, you can see:  \n",
    "- The final reported loss at epoch 1.  \n",
    "- The location where checkpoints are stored (`/mnt/cluster_storage/training/distributed-mnist-resnet18/...`).  \n",
    "- A list of best checkpoints with their corresponding metrics.  \n",
    "\n",
    "This makes it easy to both **analyze training performance** and **restore the trained model** later for inference.  "
   ]
  },
  {
   "cell_type": "code",
   "execution_count": null,
   "metadata": {},
   "outputs": [],
   "source": [
    "# 16. Show the training results  \n",
    "\n",
    "result  # contains metrics, checkpoints, and run history"
   ]
  },
  {
   "cell_type": "markdown",
   "metadata": {},
   "source": [
    "### 17 \u00b7 View Metrics as a DataFrame  \n",
    "\n",
    "The `Result` object also includes a `metrics_dataframe`, which stores the full history of metrics reported during training.  \n",
    "\n",
    "- Each row corresponds to one reporting step (here, each epoch).  \n",
    "- The columns show the metrics you logged in the training loop (e.g., `loss`, `epoch`).  \n",
    "- This makes it easy to plot learning curves or further analyze training progress.  \n",
    "\n",
    "In the example below, you can see the training loss steadily decreasing across two epochs.  "
   ]
  },
  {
   "cell_type": "code",
   "execution_count": null,
   "metadata": {},
   "outputs": [],
   "source": [
    "# 17. Display the full metrics history as a pandas DataFrame\n",
    "\n",
    "result.metrics_dataframe"
   ]
  },
  {
   "cell_type": "markdown",
   "metadata": {},
   "source": [
    "<div class=\"alert alert-block alert-info\">\n",
    "  <p>\n",
    "    To learn more about the training results, see this \n",
    "    <a href=\"https://docs.ray.io/en/latest/train/user-guides/results.html\" target=\"_blank\">\n",
    "      docs\n",
    "    </a> on inspecting the training results.\n",
    "  </p>\n",
    "</div>"
   ]
  }
 ],
 "metadata": {
  "kernelspec": {
   "display_name": "base",
   "language": "python",
   "name": "python3"
  },
  "language_info": {
   "codemirror_mode": {
    "name": "ipython",
    "version": 3
   },
   "file_extension": ".py",
   "mimetype": "text/x-python",
   "name": "python",
   "nbconvert_exporter": "python",
   "pygments_lexer": "ipython3",
   "version": "3.12.9"
  },
  "orphan": true,
  "toc-autonumbering": false
 },
 "nbformat": 4,
 "nbformat_minor": 4
}