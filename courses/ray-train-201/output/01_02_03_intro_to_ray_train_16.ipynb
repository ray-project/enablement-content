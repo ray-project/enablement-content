{
 "cells": [
  {
   "cell_type": "markdown",
   "metadata": {},
   "source": [
    "## 02 \u00b7 Build DataLoader from Ray Data  \n",
    "\n",
    "Instead of using PyTorch\u2019s `DataLoader`, we now build a loader from a **Ray Dataset shard**.  \n",
    "\n",
    "- `ray.train.get_dataset_shard(\"train\")` \u2192 retrieves the shard of the training dataset assigned to the current worker.  \n",
    "- `.iter_torch_batches()` \u2192 streams the shard as PyTorch-compatible batches.  \n",
    "  * Each batch is a **dictionary** (e.g., `{\"image\": tensor, \"label\": tensor}`).  \n",
    "  * Supports options like `batch_size` and `prefetch_batches` for performance tuning.  \n",
    "\n",
    "This integration ensures that data is **sharded, shuffled, and moved to the right device automatically**, while still looking and feeling like a familiar PyTorch data loader.  \n",
    "\n",
    "**Note:** Use [`iter_torch_batches`](https://docs.ray.io/en/latest/data/api/doc/ray.data.Dataset.iter_torch_batches.html) to build a PyTorch-compatible data loader from a Ray Dataset. "
   ]
  },
  {
   "cell_type": "code",
   "execution_count": null,
   "metadata": {},
   "outputs": [],
   "source": [
    "# 02. Build a Ray Data\u2013backed data loader\n",
    "\n",
    "def build_data_loader_ray_train_ray_data(batch_size: int, prefetch_batches: int = 2):\n",
    "\n",
    "    # Different: instead of creating a PyTorch DataLoader,\n",
    "    # fetch the training dataset shard for this worker\n",
    "    dataset_iterator = ray.train.get_dataset_shard(\"train\")\n",
    "\n",
    "    # Convert the shard into a PyTorch-style iterator\n",
    "    # - Returns dict batches: {\"image\": ..., \"label\": ...}\n",
    "    # - prefetch_batches controls pipeline buffering\n",
    "    data_loader = dataset_iterator.iter_torch_batches(\n",
    "        batch_size=batch_size, prefetch_batches=prefetch_batches\n",
    "    )\n",
    "    \n",
    "    return data_loader"
   ]
  }
 ],
 "metadata": {
  "kernelspec": {
   "display_name": "base",
   "language": "python",
   "name": "python3"
  },
  "language_info": {
   "codemirror_mode": {
    "name": "ipython",
    "version": 3
   },
   "file_extension": ".py",
   "mimetype": "text/x-python",
   "name": "python",
   "nbconvert_exporter": "python",
   "pygments_lexer": "ipython3",
   "version": "3.12.9"
  },
  "orphan": true,
  "toc-autonumbering": false
 },
 "nbformat": 4,
 "nbformat_minor": 4
}