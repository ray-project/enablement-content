{
 "cells": [
  {
   "cell_type": "markdown",
   "metadata": {},
   "source": [
    "## 08 \u00b7 Wrap the Model with `prepare_model()`  \n",
    "\n",
    "Next, we define a helper function to build and prepare the model for Ray Train.  \n",
    "\n",
    "- Start by constructing the **ResNet-18** model adapted for MNIST using `build_resnet18()`.  \n",
    "- Instead of manually calling `model.to(\"cuda\")` and wrapping it in **DistributedDataParallel (DDP)**, we use **`ray.train.torch.prepare_model()`**.  \n",
    "  * This automatically:  \n",
    "    - Moves the model to the correct device (GPU or CPU).  \n",
    "    - Wraps it in DDP or FSDP.  \n",
    "    - Ensures gradients are synchronized across workers.  \n",
    "\n",
    "This means the same code works whether you\u2019re training on **1 GPU or 100 GPUs** \u2014 no manual device placement or DDP boilerplate required.  \n"
   ]
  },
  {
   "cell_type": "code",
   "execution_count": null,
   "metadata": {},
   "outputs": [],
   "source": [
    "# 08. Build and prepare the model for Ray Train\n",
    "\n",
    "def load_model_ray_train() -> torch.nn.Module:\n",
    "    model = build_resnet18()\n",
    "    # prepare_model() \u2192 move to correct device + wrap in DDP automatically\n",
    "    model = ray.train.torch.prepare_model(model)\n",
    "    return model\n"
   ]
  },
  {
   "cell_type": "markdown",
   "metadata": {},
   "source": [
    "<div class=\"alert alert-block alert-info\">\n",
    "  <a href=\"https://docs.ray.io/en/latest/train/api/doc/ray.train.torch.prepare_model.html#ray-train-torch-prepare-model\" target=\"_blank\">\n",
    "    prepare_model()\n",
    "  </a> allows users to specify additional parameters:\n",
    "  <ul>\n",
    "    <li><code>parallel_strategy</code>: \"ddp\", \"fsdp\" \u2013 wrap models in <code>DistributedDataParallel</code> or <code>FullyShardedDataParallel</code></li>\n",
    "    <li><code>parallel_strategy_kwargs</code>: pass additional arguments to \"ddp\" or \"fsdp\"</li>\n",
    "  </ul>\n",
    "  \n",
    "</div>"
   ]
  }
 ],
 "metadata": {
  "kernelspec": {
   "display_name": "base",
   "language": "python",
   "name": "python3"
  },
  "language_info": {
   "codemirror_mode": {
    "name": "ipython",
    "version": 3
   },
   "file_extension": ".py",
   "mimetype": "text/x-python",
   "name": "python",
   "nbconvert_exporter": "python",
   "pygments_lexer": "ipython3",
   "version": "3.12.9"
  },
  "orphan": true,
  "toc-autonumbering": false
 },
 "nbformat": 4,
 "nbformat_minor": 4
}