{
 "cells": [
  {
   "cell_type": "markdown",
   "metadata": {},
   "source": [
    "## 07 \u00b7 Clean Up Cluster Storage  \n",
    "\n",
    "Finally, remove any tutorial artifacts from **persistent cluster storage**:  \n",
    "\n",
    "- Deletes the **downloaded MNIST dataset** (`/mnt/cluster_storage/MNIST`).  \n",
    "- Deletes the **training outputs** (`/mnt/cluster_storage/training`).  \n",
    "- Deletes the **Parquet dataset** used for Ray Data (`/mnt/cluster_storage/cifar10.parquet`).  \n",
    "\n",
    "This keeps your shared storage clean and avoids leftover data or files from occupying space.  \n",
    "Run this only when you\u2019re sure you no longer need the data, checkpoints, or Parquet files.  "
   ]
  },
  {
   "cell_type": "code",
   "execution_count": null,
   "metadata": {},
   "outputs": [],
   "source": [
    "# 07. Cleanup Cluster Storage\n",
    "\n",
    "# Paths to remove \u2192 include MNIST data, training outputs, and cifar10.parquet\n",
    "paths_to_delete = [\n",
    "    \"/mnt/cluster_storage/MNIST\",\n",
    "    \"/mnt/cluster_storage/training\",\n",
    "    \"/mnt/cluster_storage/cifar10.parquet\",\n",
    "]\n",
    "\n",
    "for path in paths_to_delete:\n",
    "    if os.path.exists(path):\n",
    "        # Handle directories vs. files\n",
    "        if os.path.isdir(path):\n",
    "            shutil.rmtree(path)       # recursively delete directory\n",
    "        else:\n",
    "            os.remove(path)           # delete single file\n",
    "        print(f\"Deleted: {path}\")\n",
    "    else:\n",
    "        print(f\"Not found: {path}\")"
   ]
  }
 ],
 "metadata": {
  "kernelspec": {
   "display_name": "base",
   "language": "python",
   "name": "python3"
  },
  "language_info": {
   "codemirror_mode": {
    "name": "ipython",
    "version": 3
   },
   "file_extension": ".py",
   "mimetype": "text/x-python",
   "name": "python",
   "nbconvert_exporter": "python",
   "pygments_lexer": "ipython3",
   "version": "3.12.9"
  },
  "orphan": true,
  "toc-autonumbering": false
 },
 "nbformat": 4,
 "nbformat_minor": 4
}