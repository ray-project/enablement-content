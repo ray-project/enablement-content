{
 "cells": [
  {
   "cell_type": "markdown",
   "metadata": {},
   "source": [
    "## 04 \u00b7 Launch Fault-Tolerant Training  \n",
    "\n",
    "Finally, call `trainer.fit()` to start the training job.  \n",
    "\n",
    "With the **fault-tolerant loop** and **`FailureConfig`** in place, Ray Train will:  \n",
    "- Run the training loop on all workers.  \n",
    "- If a failure occurs (e.g., worker crash, node preemption), automatically restart workers.  \n",
    "- Reload the latest checkpoint and continue training without losing progress.  \n",
    "\n",
    "This makes your training job robust against transient infrastructure failures.  "
   ]
  },
  {
   "cell_type": "code",
   "execution_count": null,
   "metadata": {},
   "outputs": [],
   "source": [
    "# 04. Start the fault-tolerant training job\n",
    "\n",
    "# Launches training with checkpointing + automatic retries enabled\n",
    "# If workers fail, Ray will reload the latest checkpoint and resume\n",
    "trainer.fit()"
   ]
  }
 ],
 "metadata": {
  "kernelspec": {
   "display_name": "base",
   "language": "python",
   "name": "python3"
  },
  "language_info": {
   "codemirror_mode": {
    "name": "ipython",
    "version": 3
   },
   "file_extension": ".py",
   "mimetype": "text/x-python",
   "name": "python",
   "nbconvert_exporter": "python",
   "pygments_lexer": "ipython3",
   "version": "3.12.9"
  },
  "orphan": true,
  "toc-autonumbering": false
 },
 "nbformat": 4,
 "nbformat_minor": 4
}