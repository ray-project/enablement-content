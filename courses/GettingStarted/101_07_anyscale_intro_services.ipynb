{
 "cells": [
  {
   "cell_type": "markdown",
   "metadata": {},
   "source": [
    "\n",
    "# 101 --  Introduction to Anyscale Services\n",
    "\n",
    "**Anyscale Services** utilizes **Ray Serve** to provide a managed experience for deploying performant, scalable and reliable services. Each **Anyscale Service** runs on its own dedicated Ray cluster. Anyscale will also manage the infrastructure around a service, enabling autoscaling, high availability, observability, and zero-downtime upgrades.\n",
    "\n",
    "\n",
    "### Key characteristics of Anyscale Services\n",
    "\n",
    "- **Autoscaling:** Scale automatically based on demand\n",
    "- **High Availiability / Resilient:** Tolerate node or process failures gracefully\n",
    "- **Mature Deployment Strategies:** Roll out updates incrementally with traffic shifting\n",
    "- **Enterprise Ready:** Integrate easily with Grafana dashboards and alerting systems\n",
    "\n",
    "\n",
    "### This notebook covers the following:\n",
    "- Creating and modifying a simple **Ray Serve + FastAPI** application\n",
    "- Configuring and deploying the Anyscale Service using a `service.yaml` file\n",
    "- Validating deployment from the **Anyscale Console** and querying the endpoint"
   ]
  },
  {
   "cell_type": "markdown",
   "metadata": {},
   "source": [
    "### Part 1: Starting your first Anyscale Service\n",
    "\n",
    "Spin up a **Anyscale Workspace,** (or start an existing Anyscale Workspace) we will use this as the environment to develop and publish the Anyscale Service. Give this workspace a name, check the **Auto-Select Worker Nodes** and leave everything else as default.\n",
    "\n",
    "\n",
    "<img src=\"https://lz-public-demo.s3.us-east-1.amazonaws.com/anyscale101/service1.png\" width=\"500\"/>\n",
    "\n",
    "\n",
    "Download starter template. Clone a github repository containing the files needed to deploy a Anyscale Service. Head over to the VSCode Tab (**In Anyscale Workspace**) and enter the following command into the terminal.\n",
    "\n",
    "`git clone https://github.com/anyscale/examples.git`\n",
    "\n",
    "<img src=\"https://lz-public-demo.s3.us-east-1.amazonaws.com/anyscale101/service2.png\" width=\"500\"/>\n",
    "\n",
    "Next use the terminal and navigate to the downloaded services directory.\n",
    "\n",
    "`cd examples/02_service_hello_world/`\n",
    "\n",
    "Inspect the code for the Service Endpoint **(./examples/02_service_hello_world/main.py)**\n",
    "\n",
    "For this implementation, we will define a FastAPI application and deploy it using Ray Serve. Ray Serve wraps the FastAPI app (`FastAPIDeployment`) to manage this API (e.g. Autoscaling, Load Balancing).\n",
    "\n",
    "**Make the following modification to the last line of code,** this prepares the app for deployment instead of running it immediately."
   ]
  },
  {
   "cell_type": "code",
   "execution_count": null,
   "metadata": {},
   "outputs": [],
   "source": [
    "# File to Modify: ./examples/02_service_hello_world/main.py\n",
    "\n",
    "# ============================\n",
    "# Deployment Modification Guide\n",
    "# ============================\n",
    "\n",
    "# Step 1: COMMENT OUT the existing serve.run line below:\n",
    "# serve.run(FastAPIDeployment.bind(), route_prefix=\"/\")\n",
    "\n",
    "# Step 2: ADD the following line to deploy the deployment:\n",
    "deployment = FastAPIDeployment.bind()"
   ]
  },
  {
   "cell_type": "markdown",
   "metadata": {},
   "source": [
    "Checkout the **service.yaml** file. \n",
    "\n",
    "The `service.yaml` file defines how a Anyscale Service should be deployed, specifying [configuration parameters](https://docs.anyscale.com/reference/service-api#serviceconfig) such as the service name, container image and compute resources. \n",
    "\n",
    "In this example, we leave many of the fields empty so the service can inherit default values from the current **Anyscale Workspace**. Setting these fields explicitly overrides the defaults, this is useful when developing locally or deploying to a custom environment. \n",
    "\n",
    "- Feel free to change the name of the **Anyscale Service** in this YAML file.\n",
    "- **Important:** Under `applications`, update `import_path` to match your deployment object (e.g., `main:deployment`)."
   ]
  },
  {
   "cell_type": "raw",
   "metadata": {
    "vscode": {
     "languageId": "raw"
    }
   },
   "source": [
    "# Speciy the Ray Serve app to deploy.\n",
    "applications:\n",
    "- import_path: main:deployment # change from main:app"
   ]
  },
  {
   "cell_type": "markdown",
   "metadata": {},
   "source": [
    "Deploy the Anyscale Service by running the command below in the terminal and passing in the service configuration yaml file. \n",
    "\n",
    "`anyscale service deploy -f service.yaml`\n",
    "\n",
    "Monitor the status of the deloyment in the terminal, which includes a link to the deployment. You can also navigate to the Services Tab to Confirm. \n",
    "\n",
    "<img src=\"https://lz-public-demo.s3.us-east-1.amazonaws.com/anyscale101/service3.png\"  width=\"800\"/>\n",
    "\n",
    "\n",
    "\n",
    "Let's test the Service. Find your Service in Service Tab, confirm that the endpoint is healthy. Feel free to explore the logs and metrics to better understand how Anyscale initialized your deployment, autoscaled the cluster, and launched the replica.\n",
    "\n",
    "<img src=\"https://lz-public-demo.s3.us-east-1.amazonaws.com/anyscale101/service4.png\" width=\"800\"/>\n",
    "\n",
    "\n",
    "Let’s make a call to this service using Python. Click the query button and head over to the Python Tab, copy the base_url and token valus to your clipboard. Head back to the workspace and replace the values in the query.py file. \n",
    "\n",
    "\n",
    "<img src=\"https://lz-public-demo.s3.us-east-1.amazonaws.com/anyscale101/service5.png\"  width=\"500\"/>\n",
    "\n",
    "Run the script and check the output to see if your service is working as intended. \n",
    "\n",
    "<img src=\"https://lz-public-demo.s3.us-east-1.amazonaws.com/anyscale101/service6.png\"  width=\"800\"/>\n"
   ]
  },
  {
   "cell_type": "markdown",
   "metadata": {},
   "source": [
    "### Clean Up\n",
    "\n",
    "When you’re done, remember to terminate your **Anyscale Workspace AND Anyscale Service** to free up resources and avoid unnecessary costs.\n",
    "\n",
    "<img src=\"https://lz-public-demo.s3.us-east-1.amazonaws.com/anyscale101/development12.png\" width=\"700\"/>\n"
   ]
  }
 ],
 "metadata": {
  "language_info": {
   "name": "python"
  }
 },
 "nbformat": 4,
 "nbformat_minor": 2
}
