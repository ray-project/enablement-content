{
 "cells": [
  {
   "cell_type": "markdown",
   "metadata": {},
   "source": [
    "#### Content Used\n",
    "- https://workshops.anyscale.com/anyscale_101/5_anyscalejobs/index.html\n",
    "- https://github.com/anyscale/cop-training-may-2025/blob/main/01_Ray_AI_Libraries/2b_Intro_Jobs.ipynb\n",
    "- https://docs.anyscale.com/platform/jobs/"
   ]
  },
  {
   "cell_type": "markdown",
   "metadata": {},
   "source": [
    "# 101 Introduction to Anyscale Services\n",
    "\n",
    "By offering a reliable, scalable, and CI/CD-friendly execution environment, users can use **Anyscale Jobs** to productionize AI/ML batch and training workloads, including batch inference, bulk embedding generation, or model training / fine-tuning. \n",
    "\n",
    "\n",
    "Every Anyscale Job runs your Python application on a dedicated Ray cluster. Unless overriden, this cluster is automatically started with the same compute configuration as your development Anyscale Workspace. Anyscale manages the full cluster lifecycle, therefore, unlike standard Ray Jobs, Anyscale Jobs does **not** require an active cluster.\n",
    "\n",
    "The Lifecycle of an Anyscale Cluster Includes the Following: \n",
    "- Starting the cluster  \n",
    "- Executing your code  \n",
    "- Handling node failures  \n",
    "- Tearing down the cluster on completion\n",
    "\n",
    "\n",
    "### Key Features\n",
    "\n",
    "- Programmatic submission via API  \n",
    "- Automated failure handling and configurable retries  \n",
    "- Email alerting  \n",
    "- Persisted outputs, logs, and metrics  \n",
    "\n",
    "\n",
    "### The following instructions will walk you through running your first job.\n"
   ]
  },
  {
   "cell_type": "markdown",
   "metadata": {},
   "source": [
    "## Part 1. Creating and Submitting your first job\n",
    "\n",
    "#### After navigating to a specific Anyscale Workspace, you can submit your main python script as a Anyscale Job. \n",
    "\n",
    "#### 1. In the Anyscale Console, open (or create) a Workspace. \n",
    "\n",
    "<img src=\"./images/jobs1.png\" alt=\"Alt text\" width=\"500\"/>\n",
    "\n",
    "#### 2. Once in the workspace, navigate to the VS Code Editor\n",
    "\n",
    "#### 3. Next, create a new file. You can name it hello_world.py\n",
    "\n",
    "<img src=\"images/jobs2.png\" alt=\"Alt text\" width=\"500\"/>\n",
    "\n",
    "#### 4. Paste the basic Ray example below into the file. "
   ]
  },
  {
   "cell_type": "code",
   "execution_count": null,
   "metadata": {},
   "outputs": [],
   "source": [
    "import ray\n",
    "\n",
    "@ray.remote\n",
    "def hello_world():\n",
    "    return \"Hello World!\"\n",
    "\n",
    "result = ray.get(hello_world.remote())\n",
    "print(result)"
   ]
  },
  {
   "cell_type": "markdown",
   "metadata": {},
   "source": [
    "#### 5. Open the terminal and run the following command to submit the Ray workflow as an Anyscale Job.\n",
    "\n",
    "<img src=\"./images/jobs3.png\" alt=\"Alt text\" width=\"500\"/>\n",
    "\n",
    "\n",
    "`anyscale job submit -- python hello_world.py  `\n",
    "\n",
    "\n",
    "#### 6. Track the status of the job, head over to the Jobs tab and find the submitted Anyscale Job. The url is also displayed in the terminal. \n",
    "\n",
    "<img src=\"./images/jobs4.png\" alt=\"Alt text\" width=\"500\"/>\n",
    "\n",
    "\n",
    "#### 7. In the Anyscale Jobs console, we can check out the status of the submitted job. From the logs, we can verify that our job was successfully executed and Anyscale will now handle the cleanup. \n",
    "\n",
    "<img src=\"./images/jobs5.png\" alt=\"Alt text\" width=\"500\"/>\n"
   ]
  },
  {
   "cell_type": "markdown",
   "metadata": {},
   "source": [
    "## Part 2. Automation and Scheduling\n",
    "\n",
    "The Anyscale SDK and API provide a streamlined way to submit Anyscale Jobs programmatically. As with all Anyscale Jobs, Anyscale will manager the cluster lifecycle for job created through the API / SDK. You can submit Anyscale Jobs either from within the Anyscale Workspace or from another machine. \n",
    "\n",
    "There are two ways to submit a job:\n",
    "\n",
    "- Using the Anyscale CLI\n",
    "- Using the Anyscale Python SDK"
   ]
  },
  {
   "cell_type": "markdown",
   "metadata": {},
   "source": [
    "#### 1. Using the same workspace, create a notebook folder\n",
    "\n",
    "<img src=\"./images/jobs6.png\" alt=\"Alt text\" width=\"500\"/>\n",
    "\n",
    "\n",
    "#### 2. Use the Anyscale CLI to submit the Anyscale Job. For a full list of all available arguments, check out the [Anyscale Job CLI documentation](https://docs.anyscale.com/reference/job-api/#job-cli).\n",
    "\n",
    "Copy the following command and execute the cell (Shift + Enter). Check out the job status in the Anyscale Jobs console. \n",
    "\n",
    "`! anyscale job submit --name say-hello-world -- python main.py`\n",
    "\n",
    "#### 3. Submit the job again using the [Anyscale Python SDK](https://docs.anyscale.com/reference/job-api/#job-sdk)\n",
    "\n",
    "Copy and paste the code below to a new cell and run. "
   ]
  },
  {
   "cell_type": "code",
   "execution_count": null,
   "metadata": {},
   "outputs": [],
   "source": [
    "import anyscale\n",
    "\n",
    "# define the job configuration\n",
    "job_config = anyscale.job.JobConfig(\n",
    "    name=\"say-hello-world\",\n",
    "    working_dir=\".\",\n",
    "    entrypoint=\"python main.py\",\n",
    ")\n",
    "\n",
    "# submit the job\n",
    "job_id = anyscale.job.submit(job_config)"
   ]
  }
 ],
 "metadata": {
  "kernelspec": {
   "display_name": "lz_ray_env",
   "language": "python",
   "name": "python3"
  },
  "language_info": {
   "codemirror_mode": {
    "name": "ipython",
    "version": 3
   },
   "file_extension": ".py",
   "mimetype": "text/x-python",
   "name": "python",
   "nbconvert_exporter": "python",
   "pygments_lexer": "ipython3",
   "version": "3.11.11"
  }
 },
 "nbformat": 4,
 "nbformat_minor": 2
}
