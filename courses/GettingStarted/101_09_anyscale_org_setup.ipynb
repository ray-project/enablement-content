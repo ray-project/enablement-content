{
  "cells": [
    {
      "cell_type": "markdown",
      "metadata": {
        "vscode": {
          "languageId": "raw"
        }
      },
      "source": [
        "## 101 - Anyscale Organization and Cloud Setup\n",
        "\n",
        "This notebook explains how to correctly set up and structure an **Anyscale organization** for a company or team, using Anyscale-hosted or user-hosted cloud infrastructure. It also clarifies terminology and practices for managing clouds, projects, and user access.\n"
      ]
    },
    {
      "cell_type": "markdown",
      "metadata": {
        "vscode": {
          "languageId": "raw"
        }
      },
      "source": [
        "## 📌 Overview of Structure\n",
        "\n",
        "### Organization\n",
        "- Created by an **admin email**.\n",
        "- Manages users, projects, registered clouds, and billing.\n",
        "- One org can manage **multiple clouds**.\n",
        "\n",
        "### Projects\n",
        "- Scoped environments inside the org.\n",
        "- Used to group:\n",
        "  - Clouds\n",
        "  - Workspaces\n",
        "  - Jobs\n",
        "  - Services\n",
        "- Each project has its own **access control list (ACL)**.\n"
      ]
    },
    {
      "cell_type": "markdown",
      "metadata": {
        "vscode": {
          "languageId": "raw"
        }
      },
      "source": [
        "### Cloud\n",
        "- A **cloud** in Anyscale refers to a connected environment where compute resources can be provisioned.\n",
        "- Types:\n",
        "  - **Anyscale-managed cloud**: Fully hosted and managed by Anyscale (no AWS/GCP setup required).\n",
        "  - **Customer-managed cloud**: Your own cloud infrastructure (such as AWS or GCP) registered via Anyscale Operator. In this setup, Ray services are launched directly within your cloud environment, and all compute workloads are executed on your own infrastructure.\n",
        "- Each project only has access to one registered clouds.\n"
      ]
    },
    {
      "cell_type": "markdown",
      "metadata": {
        "vscode": {
          "languageId": "raw"
        }
      },
      "source": [
        "### Workloads\n",
        "- Most of the time, one workload runs on one cloud:\n",
        "  - **Workspaces** – interactive development sessions\n",
        "  - **Jobs** – batch jobs or Ray scripts\n",
        "  - **Services** – long-running APIs or microservices\n",
        "\n",
        "### Users and Roles\n",
        "- Users are invited to the **organization**.\n",
        "- Anyscale allows for both cloud roles and project roles. \n",
        "- Role-based access control (RBAC): Collaborator, Owner, and Read-Only.\n",
        "\n",
        "See the [docs](https://docs.anyscale.com/administration/organization/permissions/) for more details\n"
      ]
    },
    {
      "cell_type": "markdown",
      "metadata": {
        "vscode": {
          "languageId": "raw"
        }
      },
      "source": [
        "## 🧠 Summary\n",
        "\n",
        "Anyscale offers a flexible and scalable way to manage Ray workloads across clouds. With a well-structured org setup using **clouds, projects, and RBAC**, teams can securely collaborate and scale compute efficiently. The hierarchy flows from Organization → Clouds → Projects → Workloads, providing clear separation and management of resources.\n"
      ]
    }
  ],
  "metadata": {
    "language_info": {
      "name": "python"
    }
  },
  "nbformat": 4,
  "nbformat_minor": 2
}
