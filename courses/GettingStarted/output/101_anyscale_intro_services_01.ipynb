{
 "cells": [
  {
   "cell_type": "markdown",
   "metadata": {},
   "source": [
    "### Sources\n",
    "\n",
    "- https://github.com/anyscale/cop-training-may-2025/blob/main/01_Ray_AI_Libraries/3b_Intro_Services.ipynb\n",
    "- https://docs.anyscale.com/platform/services/\n",
    "- https://workshops.anyscale.com/anyscale_101/6_anyscaleservice/index.html\n",
    "\n",
    "# 101 Introduction to Anyscale Services\n",
    "\n",
    "**Goal:** Productionize your AI/ML online inference workload with scalable, fault-tolerant infrastructure.\n",
    "\n",
    "**Anyscale Services** utilizes **Ray Serve** to provide a managed experince for deploying performant, scalable and reliable services. Each **Anyscale Service** runs on its own dedicated Ray cluster. Anyscale will also manage the infrastructure around a service, enabling autoscaling, high availability, observability, and zero-downtime upgrades.\n",
    "\n",
    "\n",
    "### Benefits of using Anyscale Services\n",
    "\n",
    "- **Autoscaling:** Scale automatically based on demand\n",
    "- **High Availiability / Resilient:** Tolerate node or process failures gracefully\n",
    "- **Mature Deployment Strategies:** Roll out updates incrementally with traffic shifting\n",
    "- **Enterprise Ready:** Integrate easily with Grafana dashboards and alerting systems\n",
    "\n",
    "### Anyscale Service Lifecycle\n",
    "\n",
    "1. **User deploys Ray Serve application (e.g., `app/main.py`) with Anyscale Service**\n",
    "2. **Anyscale spins up a Ray cluster**\n",
    "3. **Anyscale creates a load balancer (one per Anyscale Cloud)**\n",
    "4. **User Configures Handling failures (e.g., head node HA)**\n",
    "5. **Rolling out new versions**\n",
    "    - New cluster is launched\n",
    "    - Traffic is gradually shifted after health checks\n",
    "    - Old cluster is safely terminated\n",
    "\n",
    "## This guide will walk you through deploying, updating, and managing Anyscale Services"
   ]
  }
 ],
 "metadata": {
  "language_info": {
   "name": "python"
  }
 },
 "nbformat": 4,
 "nbformat_minor": 2
}