{
 "cells": [
  {
   "cell_type": "markdown",
   "metadata": {},
   "source": [
    "## 101 -- Developing Application with Anyscale \n",
    "\n",
    "### Introduction\n",
    "\n",
    "As introduced in the previous section, the Anyscale Workspace provides a feature rich development environment without the overhead of managing infrastructure. In this section, we\u2019ll walk through a few different ways to develop applications within the Anyscale Workspace.\n",
    "\n",
    "- **Using the built-in VSCode Editor** to write and execute Ray applications directly in the browser  \n",
    "- **Running interactive notebooks in JupyterLab** for exploration and rapid prototyping  \n",
    "- **Connecting from a local IDE (e.g. VSCode, Cursor)** to develop locally while running code on remote Anyscale compute  \n",
    "- **Using the Anyscale CLI** to sync code, submit scripts, and automate tasks  \n"
   ]
  },
  {
   "cell_type": "markdown",
   "metadata": {},
   "source": [
    "### VSCode\n",
    "\n",
    "One of the fastest ways to begin developing with Anyscale is to use the hosted Visual Studio Code Editor that is already running on your Anyscale Workspace. Create or open an existing **Anyscale Workspace**.\n",
    "\n",
    "\n",
    "After your Anyscale Workspace is started, click on the VSCode icon. This will load a new web browser window and you can start developing right away.\n",
    "\n",
    "<img src=\"https://lz-public-demo.s3.us-east-1.amazonaws.com/anyscale101/development1.png\" width=\"600\"/>\n",
    "\n",
    "\n",
    "Create a new file:\u00a0`hello_world.py`\n",
    "\n",
    "<img src=\"https://lz-public-demo.s3.us-east-1.amazonaws.com/anyscale101/development2.png\" width=\"400\"/>\n",
    "\n",
    "\n",
    "Let\u2019s add a simple Ray example, copy and paste the code snippet below to `hello_world.py` "
   ]
  },
  {
   "cell_type": "code",
   "execution_count": null,
   "metadata": {},
   "outputs": [],
   "source": [
    "import ray\n",
    "\n",
    "@ray.remote\n",
    "def hello_world():\n",
    "    return \"Hello World!\"\n",
    "\n",
    "result = ray.get(hello_world.remote())\n",
    "print(result)"
   ]
  },
  {
   "cell_type": "markdown",
   "metadata": {},
   "source": [
    "To submit and run the Ray Application on the Anyscale Cluster, just click the Play icon in the upper-right corner of VSCode.\n",
    "\n",
    "<img src=\"https://lz-public-demo.s3.us-east-1.amazonaws.com/anyscale101/development3.png\" width=\"800\"/>\n",
    "\n",
    "\n",
    "The Anyscale Workspace includes built-in tools to help you monitor, debug, and troubleshoot your application after it\u2019s been submitted, including access to logs, metrics, and the Ray Dashboard. We\u2019ll cover this in a later tutorial."
   ]
  },
  {
   "cell_type": "markdown",
   "metadata": {},
   "source": [
    "### Notebook\n",
    "\n",
    "In addition to VS Code, the **Anyscale Workspace** also includes a built-in JupyterLab environment for interactive development and data exploration.\n",
    "\n",
    "In the VSCode Tab, click the dropdown and select JupyterLab.\n",
    "\n",
    "<img src=\"https://lz-public-demo.s3.us-east-1.amazonaws.com/anyscale101/development5.png\" width=\"600\"/>\n",
    "\n",
    "Once you have the JupyterLab notebook open, you can create a new file and start using Ray right away. Let\u2019s create a\u00a0`hello_world.ipynb`\u00a0file by clicking on the new notebook button.\n",
    "\n",
    "- A Python notebook is an interactive document that lets you write and run code in cells, making it ideal for experimenting.\n",
    "\n",
    "<img src=\"https://lz-public-demo.s3.us-east-1.amazonaws.com/anyscale101/development6.png\" width=\"600\"/>\n",
    "\n",
    "\n",
    "You can rename the file by right clicking on the filename\u00a0`untitled.ipynb`\u00a0in the left column of the screen.\n",
    "\n",
    "In a Notebook Cell, copy and Paste the code below. Run the Cell (Shift + Enter or Play Button)\n"
   ]
  },
  {
   "cell_type": "code",
   "execution_count": null,
   "metadata": {},
   "outputs": [],
   "source": [
    "import ray\n",
    "\n",
    "@ray.remote\n",
    "def hello_world():\n",
    "    return \"Hello World!\"\n",
    "\n",
    "result = ray.get(hello_world.remote())\n",
    "print(result)"
   ]
  },
  {
   "cell_type": "markdown",
   "metadata": {},
   "source": [
    "<img src=\"https://lz-public-demo.s3.us-east-1.amazonaws.com/anyscale101/development7.png\" width=\"800\"/>\n",
    "\n",
    "\n",
    "Now you can get instant feedback from your code, edit cells, re-run them, and quickly iterate as you experiment and explore."
   ]
  },
  {
   "cell_type": "markdown",
   "metadata": {},
   "source": [
    "### Local IDE (VSCode / Cursor)\n",
    "\n",
    "If you prefer to use an IDE other than VS Code or JupyterLab, you can still use Anyscale Workspaces as part of your local development workflow. Develop and test code locally in your preferred environment, then run it remotely. \n",
    "\n",
    "In this section, we\u2019ll make extensive use of the Anyscale Workspace CLI. For a complete list of available commands and their capabilities, refer to the [official documentation](https://docs.anyscale.com/reference/workspaces).\n",
    "\n",
    "Navigate to the IDE Dropdown and choose to open remotely on **VSCode Desktop (Local).** You will then be prompted to install the **Workspaces Extension.**\n",
    "\n",
    "<img src=\"https://lz-public-demo.s3.us-east-1.amazonaws.com/anyscale101/development8.png\" width=\"400\"/>\n",
    "<img src=\"https://lz-public-demo.s3.us-east-1.amazonaws.com/anyscale101/development9.png\" width=\"600\"/>\n",
    "\n",
    "\n",
    "Additional Pre-reqs:\n",
    "\n",
    "- You will want to make sure that you have the latest Anyscale CLI installed locally. This can be done via\u00a0`pip install anyscale --upgrade`\n",
    "- You will need to be [authenticated](https://docs.anyscale.com/administration/organization/user-auth/#platform-api-keys) to Anyscale from your terminal. This can be done by running\u00a0`anyscale login`\n",
    "- You will need your Workspace in a Running state. You can start a Workspace from the Anyscale Console, or by running the following [Anyscale CLI command](https://docs.anyscale.com/reference/workspaces/#anyscale-workspace_v2-start).\n",
    "\n",
    "`anyscale workspace_v2 start --name my-workspace`\n",
    "\n",
    "\n",
    "<img src=\"https://lz-public-demo.s3.us-east-1.amazonaws.com/anyscale101/development10.png\" width=\"800\"/>\n",
    "\n",
    "\n",
    "Replace my-workspace with the name of your Workspace. All the following commands will expect the Workspace to be Running.\n",
    "\n",
    "To begin developing locally, start by **pulling a Anyscale Workspace** to your machine. This command downloads the Workspace\u2019s working directory by creating new files and overwriting any existing ones in the specified local folder.\n",
    "\n",
    "\n",
    "Run in command line, replace my-workspace with the name of your Workspace\n",
    "\n",
    "`anyscale workspace_v2 pull --name my-workspace`\n",
    "\n",
    "- [Pull Command Documentation](https://docs.anyscale.com/reference/workspaces#anyscale-workspace_v2-pull)\n",
    "\n",
    "When you're ready to execute your Python file (like the `hello_world.py` script created earlier) on the Workspace cluster, use the following command. Replace the placeholder python filename and workspace name. \n",
    "\n",
    "`anyscale workspace_v2 run_command --name my-workspace \"python script.py\"`\n",
    "\n",
    "<img src=\"https://lz-public-demo.s3.us-east-1.amazonaws.com/anyscale101/development11.png\" width=\"800\"/>\n",
    "\n",
    "Now your Python script is running on the cluster associated with the specified Anyscale Workspace. It will automatically push the files prior to running so there is no need to push the files beforehand. You do not need to install any dependencies locally because the execution of the command runs remotely on the cluster container."
   ]
  }
 ],
 "metadata": {
  "language_info": {
   "name": "python"
  }
 },
 "nbformat": 4,
 "nbformat_minor": 2
}