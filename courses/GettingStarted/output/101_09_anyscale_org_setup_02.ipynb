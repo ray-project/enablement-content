{
 "cells": [
  {
   "cell_type": "markdown",
   "metadata": {
    "vscode": {
     "languageId": "raw"
    }
   },
   "source": [
    "## \ud83d\udccc Overview of Structure\n",
    "\n",
    "### Organization\n",
    "- Created by an **admin email**.\n",
    "- Manages users, projects, registered clouds, and billing.\n",
    "- One org can manage **multiple clouds**.\n",
    "\n",
    "### Projects\n",
    "- Scoped environments inside the org.\n",
    "- Used to group:\n",
    "  - Clouds\n",
    "  - Workspaces\n",
    "  - Jobs\n",
    "  - Services\n",
    "- Each project has its own **access control list (ACL)**.\n"
   ]
  },
  {
   "cell_type": "markdown",
   "metadata": {
    "vscode": {
     "languageId": "raw"
    }
   },
   "source": [
    "### Cloud\n",
    "- A **cloud** in Anyscale refers to a connected environment where compute resources can be provisioned.\n",
    "- Types:\n",
    "  - **Anyscale-managed cloud**: Fully hosted and managed by Anyscale (no AWS/GCP setup required).\n",
    "  - **Customer-managed cloud**: Your own cloud infrastructure (such as AWS or GCP) registered via Anyscale Operator. In this setup, Ray services are launched directly within your cloud environment, and all compute workloads are executed on your own infrastructure.\n",
    "- Each project only has access to one registered clouds.\n"
   ]
  },
  {
   "cell_type": "markdown",
   "metadata": {
    "vscode": {
     "languageId": "raw"
    }
   },
   "source": [
    "### Workloads\n",
    "- Most of the time, one workload runs on one cloud:\n",
    "  - **Workspaces** \u2013 interactive development sessions\n",
    "  - **Jobs** \u2013 batch jobs or Ray scripts\n",
    "  - **Services** \u2013 long-running APIs or microservices\n",
    "\n",
    "### Users and Roles\n",
    "- Users are invited to the **organization**.\n",
    "- Anyscale allows for both cloud roles and project roles. \n",
    "- Role-based access control (RBAC): Collaborator, Owner, and Read-Only.\n",
    "\n",
    "See the [docs](https://docs.anyscale.com/administration/organization/permissions/) for more details\n"
   ]
  }
 ],
 "metadata": {
  "language_info": {
   "name": "python"
  }
 },
 "nbformat": 4,
 "nbformat_minor": 2
}