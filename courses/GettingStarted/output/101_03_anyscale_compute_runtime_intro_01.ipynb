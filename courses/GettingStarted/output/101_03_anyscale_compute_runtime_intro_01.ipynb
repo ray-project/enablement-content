{
 "cells": [
  {
   "cell_type": "markdown",
   "metadata": {},
   "source": [
    "## 101 -- Compute Configs and Execution Environments in Anyscale\n",
    "\n",
    "### Introduction\n",
    "\n",
    "When you launch a Anyscale Workspace (or Jobs / Service), Anyscale deploys a Ray cluster using cloud resources according to your **cluster definition**. A **cluster definition** consists of the following two components:\n",
    "\n",
    "- A\u00a0[*container image*](https://docs.anyscale.com/configuration/configuration-overview#container-image)\u00a0specifies the compute environment deployed to each node. It includes package requirements, dependencies, and environmental variables.\n",
    "- A\u00a0[*compute config*](https://docs.anyscale.com/configuration/configuration-overview#compute-config)\u00a0specifies the number and type of Ray nodes to deploy, as well as instructions about scaling and various cloud-specific configuration options.\n",
    "\n",
    "Workspaces, jobs, and services each have additional options and parameters to further customize clusters for an application."
   ]
  },
  {
   "cell_type": "markdown",
   "metadata": {
    "vscode": {
     "languageId": "shellscript"
    }
   },
   "source": [
    "In this notebook, we will cover the following:\n",
    "\n",
    "- **Container Images** to standardize environments, manage dependencies, and configure runtime behavior  \n",
    "- **Compute Configs** to specify cloud instance types, scaling rules, and advanced options like spot instances  \n",
    "- **Updating a Anyscale Workspace** to use your custom compute configurations and container images  "
   ]
  },
  {
   "cell_type": "markdown",
   "metadata": {},
   "source": [
    "### Creating a Container Image\n",
    "\n",
    "Container images standardize the environment across all nodes in a cluster; bundling code, dependencies, and settings to ensure consistency across environments. On Anyscale, all created clusters (Workspaces, Jobs, or Services) run using a predefined container image.\n",
    "\n",
    "Under the Configuration Tab on the left, click **Container Images.** You can view and filter from all existing container images. Click **Build** to configure a new container image.\n",
    "\n",
    "<img src=\"https://lz-public-demo.s3.us-east-1.amazonaws.com/anyscale101/config1.png\" width=\"400\"/>"
   ]
  },
  {
   "cell_type": "markdown",
   "metadata": {},
   "source": [
    "In the configuration, give your Container Image a Name. Choose from the Anyscale Managed Images, copy the container image name and paste it in the config editor below. \n",
    "\n",
    "<img src=\"https://lz-public-demo.s3.us-east-1.amazonaws.com/anyscale101/config2.png\" width=\"500\"/>\n",
    "<img src=\"https://lz-public-demo.s3.us-east-1.amazonaws.com/anyscale101/config3.png\" width=\"500\"/>\n"
   ]
  },
  {
   "cell_type": "markdown",
   "metadata": {},
   "source": [
    "Anyscale Managed base images come in multiple flavors:\n",
    "\n",
    "1. **Slim images**: These images contain the minimum set of dependencies required to run on Anyscale, has the best performance\n",
    "2. **Ray images**: These are the official\u00a0[rayproject/ray](https://hub.docker.com/r/rayproject/ray)\u00a0images\n",
    "3. **Ray ML CPU images**\n",
    "4. **Ray ML GPU images**: These are the GPU flavor of the\u00a0[rayproject/ray-ml](https://hub.docker.com/r/rayproject/ray-ml)\u00a0pipeline\n",
    "\n",
    "After specifying your base image, you can pre-install packages and set environment variables by adding the following to your **config file, then click Build**"
   ]
  },
  {
   "cell_type": "code",
   "execution_count": null,
   "metadata": {
    "vscode": {
     "languageId": "shellscript"
    }
   },
   "outputs": [],
   "source": [
    "# Set default model name environment variable\n",
    "ENV MODEL_NAME=default-model\n",
    "\n",
    "# Install pyproj Python package without cache\n",
    "RUN pip install --no-cache-dir pyproj\n",
    "\n",
    "# Test pyproj installation\n",
    "RUN python -c \"import pyproj; print('pyproj is successfully installed')\""
   ]
  },
  {
   "cell_type": "markdown",
   "metadata": {},
   "source": [
    "Wait a few minutes while the container image is being built and registered.\n",
    "\n",
    "<img src=\"https://lz-public-demo.s3.us-east-1.amazonaws.com/anyscale101/config4.png\" width=\"800\"/>"
   ]
  },
  {
   "cell_type": "markdown",
   "metadata": {},
   "source": [
    "### Creating a Compute Config\n",
    "\n",
    "A compute configuration defines the virtual hardware used by a cluster. These resources shapes the cluster setup for running applications and workloads in a distributed computing environment.\n",
    "\n",
    "Head to the Configuration section again, click on the **Compute Config** tab this time. **Click Create**\n",
    "\n",
    "<img src=\"https://lz-public-demo.s3.us-east-1.amazonaws.com/anyscale101/config5.png\" width=\"400\"/>"
   ]
  },
  {
   "cell_type": "markdown",
   "metadata": {},
   "source": [
    "Give your Compute Config a name. \n",
    "\n",
    "<img src=\"https://lz-public-demo.s3.us-east-1.amazonaws.com/anyscale101/config6.png\" width=\"400\"/>\n",
    "\n",
    "Choose the Instance Type of the Head Node. \n",
    "\n",
    "The [Head node of a Ray cluster](https://docs.ray.io/en/latest/cluster/key-concepts.html#head-node)\u00a0runs control processes which are responsible for cluster management. Anyscale enforces the following configurations to keep your\u00a0head node healthy:\n",
    "\n",
    "- For multi-node clusters, Ray workloads cannot be run on the head node\n",
    "- For head-node only clusters, Ray workloads can be run on the head node. This is not recommended for production use cases\n",
    "\n",
    "You can leave it as default or choose a CPU based machine.\n",
    "\n",
    "<img src=\"https://lz-public-demo.s3.us-east-1.amazonaws.com/anyscale101/config7.png\" width=\"600\"/>"
   ]
  },
  {
   "cell_type": "markdown",
   "metadata": {},
   "source": [
    "#### Configure the Worker Node(s)\n",
    "\n",
    "In Ray, worker nodes are used to run the Ray workloads. \n",
    "\n",
    "1. For the **Worker Nodes**, choose a node instance type. These machines will run your Ray application, so choose the instance types and sizes (CPU or GPU) based on the needs of your workflow.\n",
    "2. **Autoscaling**: Most workflows experience periods of bursty or spiky demand, Anyscale has the ability to autoscale clusters of nodes. Set the minimum number of nodes to 0 and the maximum to 3 to allow the cluster to scale based on workload.\n",
    "3. **Spot Instances**: Under Advanced Config, you can enable Spot Instances to significantly reduce costs compared to on-demand machines, though they may be interrupted when cloud capacity is limited.\n",
    "4. You can create **multiple node types.** Add another node type for GPU instances (T4 is enough). \n",
    "    - This is especially useful for Ray workflows that use CPU resources for data preprocessing and GPU acceleration for training or inference, allowing each task to run on the most cost-efficient and performant hardware.\n",
    "\n",
    "\n",
    "<img src=\"https://lz-public-demo.s3.us-east-1.amazonaws.com/anyscale101/config8.png\" width=\"500\"/>\n",
    "\n",
    "Create the Compute Config. \n"
   ]
  },
  {
   "cell_type": "markdown",
   "metadata": {},
   "source": [
    "### Testing the Container Image and Compute Config with an Anyscale Workflow\n",
    "\n",
    "Open up your existing **Anyscale Workspace.** that was created earlier.\n",
    "\n",
    "Head over to node tab and edit the **Compute Configuration**. Update with your defined configuration and the cluster will restart. \n",
    "\n",
    "<img src=\"https://lz-public-demo.s3.us-east-1.amazonaws.com/anyscale101/config12.png\" width=\"800\"/>\n",
    "\n",
    "\n",
    "Next, let's swap out the container image. Head over to **Depedencies** and edit the container image. Update the container to the one that you have created, **Save and Restart**\n",
    "\n",
    "<img src=\"https://lz-public-demo.s3.us-east-1.amazonaws.com/anyscale101/config13.png\" width=\"800\"/>"
   ]
  },
  {
   "cell_type": "markdown",
   "metadata": {},
   "source": [
    "Once started, click on the node button again to verify the compute configuration you have defined earlier. \n",
    "\n",
    "<img src=\"https://lz-public-demo.s3.us-east-1.amazonaws.com/anyscale101/config10.png\" width=\"300\"/>\n",
    "\n",
    "\n",
    "Open a Jupyter Notebook in your Anyscale Workspace and run the following code in a cell. If it runs without errors, your container image, along with the environment variable and installed packages, has been successfully loaded. You can verify this in the **Depedencies** tab as well. \n",
    "\n",
    "<img src=\"https://lz-public-demo.s3.us-east-1.amazonaws.com/anyscale101/config11.png\" width=\"500\"/>"
   ]
  },
  {
   "cell_type": "code",
   "execution_count": null,
   "metadata": {},
   "outputs": [],
   "source": [
    "import pyproj\n",
    "import os\n",
    "\n",
    "model_name = os.getenv(\"MODEL_NAME\")\n",
    "print(f\"MODEL_NAME is: {model_name}\")"
   ]
  }
 ],
 "metadata": {
  "kernelspec": {
   "display_name": "lz_ray_env",
   "language": "python",
   "name": "python3"
  },
  "language_info": {
   "codemirror_mode": {
    "name": "ipython",
    "version": 3
   },
   "file_extension": ".py",
   "mimetype": "text/x-python",
   "name": "python",
   "nbconvert_exporter": "python",
   "pygments_lexer": "ipython3",
   "version": "3.11.11"
  }
 },
 "nbformat": 4,
 "nbformat_minor": 2
}