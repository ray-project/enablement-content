{
 "cells": [
  {
   "cell_type": "markdown",
   "metadata": {},
   "source": [
    "## Part 1. Creating and Submitting your first job\n\n#### After navigating to a specific Anyscale Workspace, you can submit your main python script as a Anyscale Job. \n\n#### 1. In the Anyscale Console, open (or create) a Workspace. \n\n<img src=\"https://raw.githubusercontent.com/ray-project/enablement-content/refs/heads/main/courses/GettingStarted/images/jobs1.png\" alt=\"Alt text\" width=\"500\"/>\n\n#### 2. Once in the workspace, navigate to the VS Code Editor\n\n#### 3. Next, create a new file. You can name it hello_world.py\n\n<img src=\"https://raw.githubusercontent.com/ray-project/enablement-content/refs/heads/main/courses/GettingStarted/images/jobs2.png\" alt=\"Alt text\" width=\"500\"/>\n\n#### 4. Paste the basic Ray example below into the file. "
   ]
  },
  {
   "cell_type": "code",
   "execution_count": null,
   "metadata": {},
   "outputs": [],
   "source": [
    "import ray\n",
    "\n",
    "@ray.remote\n",
    "def hello_world():\n",
    "    return \"Hello World!\"\n",
    "\n",
    "result = ray.get(hello_world.remote())\n",
    "print(result)"
   ]
  },
  {
   "cell_type": "markdown",
   "metadata": {},
   "source": [
    "#### 5. Open the terminal and run the following command to submit the Ray workflow as an Anyscale Job.\n\n<img src=\"https://raw.githubusercontent.com/ray-project/enablement-content/refs/heads/main/courses/GettingStarted/images/jobs3.png\" alt=\"Alt text\" width=\"500\"/>\n\n\n`anyscale job submit -- python hello_world.py  `\n\n\n#### 6. Track the status of the job, head over to the Jobs tab and find the submitted Anyscale Job. The url is also displayed in the terminal. \n\n<img src=\"https://raw.githubusercontent.com/ray-project/enablement-content/refs/heads/main/courses/GettingStarted/images/jobs4.png\" alt=\"Alt text\" width=\"500\"/>\n\n\n#### 7. In the Anyscale Jobs console, we can check out the status of the submitted job. From the logs, we can verify that our job was successfully executed and Anyscale will now handle the cleanup. \n\n<img src=\"https://raw.githubusercontent.com/ray-project/enablement-content/refs/heads/main/courses/GettingStarted/images/jobs5.png\" alt=\"Alt text\" width=\"500\"/>\n"
   ]
  }
 ],
 "metadata": {
  "kernelspec": {
   "display_name": "lz_ray_env",
   "language": "python",
   "name": "python3"
  },
  "language_info": {
   "codemirror_mode": {
    "name": "ipython",
    "version": 3
   },
   "file_extension": ".py",
   "mimetype": "text/x-python",
   "name": "python",
   "nbconvert_exporter": "python",
   "pygments_lexer": "ipython3",
   "version": "3.11.11"
  }
 },
 "nbformat": 4,
 "nbformat_minor": 2
}