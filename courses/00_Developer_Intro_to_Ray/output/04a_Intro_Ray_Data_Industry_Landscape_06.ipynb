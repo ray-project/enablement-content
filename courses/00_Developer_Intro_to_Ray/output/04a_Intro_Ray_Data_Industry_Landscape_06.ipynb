{
 "cells": [
  {
   "cell_type": "markdown",
   "id": "041490c5",
   "metadata": {},
   "source": [
    "## Ray Serve\n",
    "\n",
    "### What is Ray Serve ?\n",
    "\n",
    "Ray Serve is a framework for building distributed ML inference services.\n",
    "\n",
    "#### Data flow\n",
    "\n",
    "Here is a diagram of the request lifecycle in Ray Serve:\n",
    "\n",
    "<img src=\"https://anyscale-materials.s3.us-west-2.amazonaws.com/geotab/request_lifecycle.jpg\" width=\"800\">\n",
    "\n",
    "When an HTTP or gRPC request is sent to the corresponding HTTP or gRPC proxy, the following happens:\n",
    "\n",
    "1. The request is received and parsed.\n",
    "2. Ray Serve looks up the correct deployment associated with the HTTP URL path or application name metadata. Serve places the request in a queue.\n",
    "3. For each request in a deployment's queue, an available replica is looked up and the request is sent to it.\n",
    "4. If no replicas are available (that is, more than `max_ongoing_requests` requests are outstanding at each replica), the request is left in the queue until a replica becomes available. \n",
    "5. Each replica maintains a queue of requests and executes requests one at a time, possibly using asyncio to process them concurrently.\n",
    "\n",
    "### Why Ray Serve ?\n",
    "\n",
    "Ray Serve enables scaling services and is a good choice given it:\n",
    "* allows for an intuitive approach to autoscaling based on request load.\n",
    "* has integrations with tools like FastAPI to make it easier to develop and document APIs.\n",
    "* allows for easy composition of a complex DAG of models and data processing steps.\n",
    "* provides support for both grpc and http protocols.\n",
    "\n",
    "### Ray Serve vs Ray Data\n",
    "\n",
    "Rules of thumb:\n",
    "- When dealing with continuous/streaming applications where low-latency is critical, Ray Serve is a good choice.\n",
    "- Otherwise, if data can be batched, processed at longer time intervals, Ray Data is a good choice to maximize throughput.\n",
    "\n",
    "In terms of implementation:\n",
    "- Ray Data implements complex logic to handle object store backpressure and perform dynamic resource allocation\n",
    "- whereas Ray Serve relies on simple logic to batch and queue requests and statically allocates resources.\n",
    "\n"
   ]
  }
 ],
 "metadata": {
  "kernelspec": {
   "display_name": "Python 3 (ipykernel)",
   "language": "python",
   "name": "python3"
  },
  "language_info": {
   "codemirror_mode": {
    "name": "ipython",
    "version": 3
   },
   "file_extension": ".py",
   "mimetype": "text/x-python",
   "name": "python",
   "nbconvert_exporter": "python",
   "pygments_lexer": "ipython3",
   "version": "3.10.13"
  }
 },
 "nbformat": 4,
 "nbformat_minor": 5
}