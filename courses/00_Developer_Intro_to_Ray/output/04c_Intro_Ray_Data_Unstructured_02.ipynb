{
 "cells": [
  {
   "cell_type": "markdown",
   "metadata": {},
   "source": [
    "## 1. When to Consider Ray Data"
   ]
  },
  {
   "cell_type": "markdown",
   "metadata": {},
   "source": [
    "Consider using Ray Data for your project if it meets one or more of the following criteria:\n",
    "\n",
    "| **Challenge** | **Details** | **Ray Data Solution** |\n",
    "|---------------|-------------|------------------------|\n",
    "| **Operating on large datasets and/or models** | - Having to load and process massive datasets or models (e.g., >10\u202fTB) <br>- Having to perform inference with large models (e.g., LLMs) using inference engines | - Distributes data loading and processing across a Ray cluster <br>- Supports large model inference workloads via [ray.data.llm](https://docs.ray.io/en/latest/data/working-with-llms.html) |\n",
    "| **Efficient hardware utilization across CPUs and GPUs** | - Over-provisioning compute to naively partition data <br>- Performing static resource allocation <br>- Running execution in full across CPU and GPU stages <br>- Passing data between heteregenous stages by persisting intermediate results to disk  | - [Streams data](https://docs.ray.io/en/latest/data/data-internals.html#streaming-execution) to avoid full materialization in memory <br>- Enables resource multiplexing across pipeline stages <br>- Supports autoscaling for both CPU and GPU resources <br>- Enables pipeline parallelism across heterogeneous hardware with [configurable batch sizes](https://docs.ray.io/en/latest/data/api/doc/ray.data.Dataset.map_batches.html#ray-data-dataset-map-batches) |\n",
    "| **Building reliable pipelines** | - Needing to handle failures such as network errors, spot instance preemptions, and hardware faults | - Leverages [Ray Core\u2019s fault-tolerance mechanisms](https://docs.ray.io/en/latest/ray-core/fault-tolerance.html) to recover from failed tasks <br>- Supports [driver checkpointing](https://docs.anyscale.com/rayturbo/rayturbo-data/#job-level-checkpointing) (via RayTurbo) for comprehensive pipeline reliability |\n",
    "| **Handling unstructured data efficiently** | - Suboptimal resource allocation due to data skew in input data sizes (e.g. vary input video lengths)  | - Automatically [reshapes data into uniformly sized blocks](https://docs.ray.io/en/latest/data/data-internals.html) to improve processing efficiency |\n"
   ]
  },
  {
   "cell_type": "markdown",
   "metadata": {},
   "source": [
    "|<img src=\"https://docs.ray.io/en/releases-2.6.1/_images/stream-example.png\" width=\"70%\" loading=\"lazy\">|\n",
    "|:--|\n",
    "|Example batch inference pipeline with Ray Data over a large dataset using heterogeneous cluster of CPUs and GPUs.|"
   ]
  }
 ],
 "metadata": {
  "kernelspec": {
   "display_name": "ray-jupyter",
   "language": "python",
   "name": "python3"
  },
  "language_info": {
   "codemirror_mode": {
    "name": "ipython",
    "version": 3
   },
   "file_extension": ".py",
   "mimetype": "text/x-python",
   "name": "python",
   "nbconvert_exporter": "python",
   "pygments_lexer": "ipython3",
   "version": "3.11.13"
  }
 },
 "nbformat": 4,
 "nbformat_minor": 4
}