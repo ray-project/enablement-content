{
 "cells": [
  {
   "cell_type": "markdown",
   "id": "4efa520d",
   "metadata": {},
   "source": [
    "## 3. Task retries"
   ]
  },
  {
   "cell_type": "markdown",
   "id": "58bb3e4b-e142-4718-9bc5-fb68ca833fc8",
   "metadata": {},
   "source": [
    "Let's consider two types of exceptions:\n",
    "1. **system errors** (e.g., Python-level exceptions)\n",
    "2. **application-level errors** (e.g., a machine fails)\n",
    "\n",
    "Ray will automatically **retry a task up to 3 times**, if it fails due to a system error (e.g., a worker node dies)."
   ]
  },
  {
   "cell_type": "markdown",
   "id": "ec0c809f",
   "metadata": {},
   "source": [
    "Below task won't be retried by default because it's an application failure"
   ]
  },
  {
   "cell_type": "code",
   "execution_count": null,
   "id": "7a7cb77a",
   "metadata": {},
   "outputs": [],
   "source": [
    "@ray.remote\n",
    "def incorrect_square(x: int, prob: float) -> int:\n",
    "    # Simulate potential failures\n",
    "    if random.random() < prob:  # % chance of failure\n",
    "        raise ValueError(\"Random failure\")\n",
    "    return x**2"
   ]
  },
  {
   "cell_type": "code",
   "execution_count": null,
   "id": "da3941df",
   "metadata": {},
   "outputs": [],
   "source": [
    "try:\n",
    "    ray.get([incorrect_square.remote(x=4, prob=0.5) for _ in range(10)])\n",
    "except ray.exceptions.RayTaskError:\n",
    "    print(\"At least one of the tasks failed\", flush=True)"
   ]
  },
  {
   "cell_type": "markdown",
   "id": "83c88e98-6526-424c-9f92-341b369b1c23",
   "metadata": {},
   "source": [
    "Ray let's you specify how to handle retries when an exception is encountered.\n",
    "\n",
    "Let's retry on `ValueError`, like below:"
   ]
  },
  {
   "cell_type": "code",
   "execution_count": null,
   "id": "ae3bd41f",
   "metadata": {},
   "outputs": [],
   "source": [
    "@ray.remote(retry_exceptions=[ValueError])\n",
    "def correct_square(x: int, prob: float) -> int:\n",
    "    # Simulate potential failures\n",
    "    if random.random() < prob:  # % chance of failure\n",
    "        raise ValueError(\"Random failure\")\n",
    "\n",
    "    return x**2"
   ]
  },
  {
   "cell_type": "markdown",
   "id": "09269628",
   "metadata": {},
   "source": [
    "Note we did not have to re-define the remote function, instead we could have used `.options`"
   ]
  },
  {
   "cell_type": "code",
   "execution_count": null,
   "id": "4efdd26a",
   "metadata": {},
   "outputs": [],
   "source": [
    "correct_square_mod = correct_square.options(\n",
    "    retry_exceptions=[ValueError], max_retries=10,\n",
    ")"
   ]
  },
  {
   "cell_type": "markdown",
   "id": "4e9775c9",
   "metadata": {},
   "source": [
    "Let's try it out:"
   ]
  },
  {
   "cell_type": "code",
   "execution_count": null,
   "id": "7cc09a75",
   "metadata": {},
   "outputs": [],
   "source": [
    "try:\n",
    "    outputs = ray.get([correct_square_mod.remote(x=4, prob=0.5) for _ in range(10)])\n",
    "except ray.exceptions.RayTaskError:\n",
    "    print(\"At least one of the tasks failed\", flush=True)\n",
    "\n",
    "outputs"
   ]
  },
  {
   "cell_type": "markdown",
   "id": "858e11aa",
   "metadata": {},
   "source": [
    "<div class=\"alert alert-info\">\n",
    "Refer to the <strong><a href=\"https://docs.ray.io/en/latest/ray-core/tasks/retries.html\" target=\"_blank\">retries</a></strong> to learn more.\n",
    "</div>"
   ]
  }
 ],
 "metadata": {
  "kernelspec": {
   "display_name": "ray-jupyter",
   "language": "python",
   "name": "python3"
  },
  "language_info": {
   "codemirror_mode": {
    "name": "ipython",
    "version": 3
   },
   "file_extension": ".py",
   "mimetype": "text/x-python",
   "name": "python",
   "nbconvert_exporter": "python",
   "pygments_lexer": "ipython3",
   "version": "3.11.13"
  }
 },
 "nbformat": 4,
 "nbformat_minor": 5
}