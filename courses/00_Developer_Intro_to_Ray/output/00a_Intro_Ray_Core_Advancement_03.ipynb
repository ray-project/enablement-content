{
 "cells": [
  {
   "cell_type": "markdown",
   "id": "36e6e46c",
   "metadata": {},
   "source": [
    "## 2. Chaining Tasks and Passing Data"
   ]
  },
  {
   "cell_type": "markdown",
   "id": "28d38a95-a92a-466a-8d0f-e84de66ea2a8",
   "metadata": {},
   "source": [
    "Let's say we now want to execute a graph of two tasks:\n",
    "1. Square a value using `expensive_square`\n",
    "2. Add 1 to the `expensive_square` result, by using `remote_add`\n",
    "\n",
    "This can be achieved without fetching an intermediate result."
   ]
  },
  {
   "cell_type": "markdown",
   "id": "65a87c1f-0256-4c0b-afdf-5699e9f0f5dc",
   "metadata": {},
   "source": [
    "Anti-pattern:"
   ]
  },
  {
   "cell_type": "code",
   "execution_count": null,
   "id": "5ac8b9f7",
   "metadata": {},
   "outputs": [],
   "source": [
    "@ray.remote\n",
    "def remote_add(a, b):\n",
    "    return a + b\n",
    "\n",
    "@ray.remote\n",
    "def expensive_square(x):\n",
    "    time.sleep(5)\n",
    "    return x**2\n",
    "\n",
    "# 1st task\n",
    "square_ref = expensive_square.remote(2)\n",
    "square_value = ray.get(square_ref)\n",
    "\n",
    "# 2nd task\n",
    "sum_ref = remote_add.remote(1, square_value)\n",
    "sum_value = ray.get(sum_ref)"
   ]
  },
  {
   "cell_type": "markdown",
   "id": "4167a2bc",
   "metadata": {},
   "source": [
    "Chain the tasks by passing the `ObjectRef` directly to the second task:"
   ]
  },
  {
   "cell_type": "code",
   "execution_count": null,
   "id": "e7a5c8cf",
   "metadata": {},
   "outputs": [],
   "source": [
    "square_ref = expensive_square.remote(2)\n",
    "sum_ref = remote_add.remote(1, square_ref)\n",
    "sum_value = ray.get(sum_ref)"
   ]
  },
  {
   "cell_type": "markdown",
   "id": "4cc33472",
   "metadata": {},
   "source": [
    "In this way Ray doesn't fetch data to the \"driver\" process, *especially* if the returned object is large.\n",
    "\n",
    "The term \"driver\" refers to the process that initiated the connection to the cluster which in this case is the Python process running this notebook."
   ]
  },
  {
   "cell_type": "markdown",
   "id": "3b33b66a",
   "metadata": {},
   "source": [
    "Under the hood, Ray will still call `ray.get` on the first task\n",
    "\n",
    "i.e. effectively, Ray will do something like this to make the argument available to the second task:\n",
    "\n",
    "```python\n",
    "def expensive_square(x):\n",
    "    if isinstance(x, ObjectRef):\n",
    "        x = ray.get(x)\n",
    "    time.sleep(5)\n",
    "    return x**2\n",
    "```"
   ]
  },
  {
   "cell_type": "markdown",
   "id": "889efdaa-bd04-40df-8e54-4542bf4e5468",
   "metadata": {},
   "source": [
    "The benefit of this approach is that data at most needs to be transferred once between the first and second task. Instead of going through the driver process. To read more about this, see [Passing object arguments](https://docs.ray.io/en/latest/ray-core/objects.html#passing-object-arguments).\n",
    "\n",
    "Also note, you can bypass this behavior by wrapping/nesting the object ref in a container object (e.g., a tuple, list, or dict):"
   ]
  },
  {
   "cell_type": "code",
   "execution_count": null,
   "id": "ae47fea4",
   "metadata": {},
   "outputs": [],
   "source": [
    "ref = expensive_square.remote(1)\n",
    "out_ref = remote_add.remote([ref], [ref])\n",
    "ray.get(out_ref) "
   ]
  }
 ],
 "metadata": {
  "kernelspec": {
   "display_name": "ray-jupyter",
   "language": "python",
   "name": "python3"
  },
  "language_info": {
   "codemirror_mode": {
    "name": "ipython",
    "version": 3
   },
   "file_extension": ".py",
   "mimetype": "text/x-python",
   "name": "python",
   "nbconvert_exporter": "python",
   "pygments_lexer": "ipython3",
   "version": "3.11.13"
  }
 },
 "nbformat": 4,
 "nbformat_minor": 5
}