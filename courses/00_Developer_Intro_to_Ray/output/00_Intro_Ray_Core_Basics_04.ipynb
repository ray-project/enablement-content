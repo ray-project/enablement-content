{
 "cells": [
  {
   "cell_type": "markdown",
   "id": "a03627df",
   "metadata": {},
   "source": [
    "## 2. Executing Remote Functions"
   ]
  },
  {
   "cell_type": "markdown",
   "id": "b4479f92",
   "metadata": {},
   "source": [
    "Native python functions are invoked by calling them"
   ]
  },
  {
   "cell_type": "code",
   "execution_count": null,
   "id": "5d026c15",
   "metadata": {},
   "outputs": [],
   "source": [
    "add(1, 2)"
   ]
  },
  {
   "cell_type": "markdown",
   "id": "2dfd3ad7-0d0e-4313-82d7-4d36f2e9537b",
   "metadata": {},
   "source": [
    "Remote ray functions are executed as tasks by calling them with `.remote()` suffix"
   ]
  },
  {
   "cell_type": "code",
   "execution_count": null,
   "id": "c7f0c8a3-f456-4594-a994-0e5a528c3b78",
   "metadata": {
    "tags": []
   },
   "outputs": [],
   "source": [
    "remote_add.remote(1, 2)"
   ]
  },
  {
   "cell_type": "markdown",
   "id": "f8b79fec",
   "metadata": {},
   "source": [
    "Here is what happens when you call `{remote_function}.remote`:\n",
    "1. Ray schedules the function execution as a task in a separate process in the cluster\n",
    "2. Ray returns an `ObjectRef` (a reference to the future result) to you **immediately** \n",
    "3. The cluster executes the actual computation in the background\n"
   ]
  },
  {
   "cell_type": "code",
   "execution_count": null,
   "id": "3c939071-2454-4042-8136-75ffbbf6cce0",
   "metadata": {
    "tags": []
   },
   "outputs": [],
   "source": [
    "ref = remote_add.remote(1, 2)\n",
    "ref"
   ]
  }
 ],
 "metadata": {
  "kernelspec": {
   "display_name": "ray-jupyter",
   "language": "python",
   "name": "python3"
  },
  "language_info": {
   "codemirror_mode": {
    "name": "ipython",
    "version": 3
   },
   "file_extension": ".py",
   "mimetype": "text/x-python",
   "name": "python",
   "nbconvert_exporter": "python",
   "pygments_lexer": "ipython3",
   "version": "3.11.13"
  }
 },
 "nbformat": 4,
 "nbformat_minor": 5
}