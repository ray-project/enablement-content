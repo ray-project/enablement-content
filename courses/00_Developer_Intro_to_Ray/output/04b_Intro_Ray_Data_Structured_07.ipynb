{
 "cells": [
  {
   "cell_type": "markdown",
   "metadata": {},
   "source": [
    "## 6. When to use Ray Data\n",
    "\n",
    "Ray Data is especially performant when needing to:\n",
    "- run data processing in a **streaming fashion** \n",
    "- run across a **large dataset**\n",
    "- run inside a **heterogeneous cluster of CPUs and GPUs**.\n",
    "\n",
    "Here is one use case for Batch Inference with Ray Data over a large dataset:\n",
    "\n",
    "<img src='https://docs.ray.io/en/releases-2.6.1/_images/stream-example.png' width=60%/>\n",
    "\n",
    "\n",
    "Ray Data also integrates seamlessly with Ray Train, making it an optimal choice for **data preprocessing in machine learning training pipelines**. Especially when you need to:\n",
    "- **Independently scale out data loading and transformation** from model training.\n",
    "- **Enable fault tolerance** for model training.\n"
   ]
  },
  {
   "cell_type": "markdown",
   "metadata": {},
   "source": [
    "### 7. Ray Data in Production\n",
    "\n",
    "1. Runway AI is using Ray Data to scale its ML workloads. See [this interview with Runway AI](https://siliconangle.com/2024/10/02/runway-transforming-ai-driven-filmmaking-innovative-tools-techniques-raysummit/) to learn more.\n",
    "2. Netflix is using Ray Data for multi-modal batch inference pipelines. See [this talk at the Ray Summit 2024](https://raysummit.anyscale.com/flow/anyscale/raysummit2024/landing/page/sessioncatalog/session/1722028596844001bCg0) to learn more.\n",
    "3. Spotify uses Ray Data for large-scale data processing. See [this talk at the Ray Summit 2023](https://www.anyscale.com/blog/how-spotify-built-a-robust-ray-platform-with-a-frictionless-developer) to learn more."
   ]
  },
  {
   "cell_type": "markdown",
   "metadata": {},
   "source": [
    "### 8. Upcoming Features in Ray Data\n",
    "\n",
    "Here are some relevant upcoming features in Ray Data:\n",
    "\n",
    "For structured data:\n",
    "- improved `groupby` and `map_groups` performance\n",
    "- using parquet metadata for computing statistics like `count`\n",
    "- enabling predicate pushdown for parquet files when calling `filter`\n",
    "- supporting `join` and `merge` operations\n",
    "- optimizing performance of the `Preprocessor` API for distributed feature engineering\n",
    "- running spark on Ray more seamlessly\n",
    "\n",
    "\n",
    "For all data types:\n",
    "- data checkpointing for fault tolerance\n",
    "- optimizing data connectors\n",
    "- concurrent execution of multiple datasets"
   ]
  },
  {
   "cell_type": "code",
   "execution_count": null,
   "metadata": {},
   "outputs": [],
   "source": [
    "# Run this cell for file cleanup \n",
    "!rm {storage_folder}/adjusted_data.parquet\n",
    "!rm -rf {storage_folder}/adjusted_data_ray/"
   ]
  }
 ],
 "metadata": {
  "kernelspec": {
   "display_name": "ray-jupyter",
   "language": "python",
   "name": "python3"
  },
  "language_info": {
   "codemirror_mode": {
    "name": "ipython",
    "version": 3
   },
   "file_extension": ".py",
   "mimetype": "text/x-python",
   "name": "python",
   "nbconvert_exporter": "python",
   "pygments_lexer": "ipython3",
   "version": "3.11.13"
  }
 },
 "nbformat": 4,
 "nbformat_minor": 4
}