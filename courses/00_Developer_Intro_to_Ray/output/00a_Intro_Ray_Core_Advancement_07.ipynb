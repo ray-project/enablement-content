{
 "cells": [
  {
   "cell_type": "markdown",
   "id": "0f9fab1d-0f41-4175-a6cc-0161454d7718",
   "metadata": {},
   "source": [
    "## 6. Nested Tasks"
   ]
  },
  {
   "cell_type": "markdown",
   "id": "d131321a-7ac9-4a1e-8332-6c2808cde39b",
   "metadata": {},
   "source": [
    "Ray __does not__ require that all of your tasks and their dependencies be arranged from one \"driver\" process.\n",
    "\n",
    "For example, you can have a main task that schedules other tasks and then waits for them to complete."
   ]
  },
  {
   "cell_type": "code",
   "execution_count": null,
   "id": "39da2976-fccb-41bd-9ccc-2c2e2ff3106a",
   "metadata": {
    "tags": []
   },
   "outputs": [],
   "source": [
    "@ray.remote\n",
    "def main():\n",
    "    square_ref_1 = expensive_square.remote(1)\n",
    "    square_ref_2 = expensive_square.remote(2)\n",
    "    add_ref = remote_add.remote(square_ref_1, square_ref_2)\n",
    "    return ray.get(add_ref)"
   ]
  },
  {
   "cell_type": "code",
   "execution_count": null,
   "id": "f415fe45-c193-4fc0-8a2e-6bc8354d0145",
   "metadata": {
    "tags": []
   },
   "outputs": [],
   "source": [
    "ray.get(main.remote())"
   ]
  },
  {
   "cell_type": "markdown",
   "id": "2840697c-f5d9-437b-8e67-72cfa69dbdb4",
   "metadata": {},
   "source": [
    "In this example:\n",
    "1. Our local process requests Ray to schedule a `main` task in the cluster\n",
    "2. Ray executes the `main` task in a separate worker process\n",
    "3. Inside `main`, we invoke multiple `expensive_square` tasks, which Ray distributes across available worker processes\n",
    "4. Once all \"sub tasks\" complete, `main` returns the final value\n",
    "\n",
    "This ability for tasks to schedule other tasks using uniform semantics makes Ray particularly powerful and flexible."
   ]
  },
  {
   "cell_type": "markdown",
   "id": "1cac1a40",
   "metadata": {},
   "source": [
    "<div class=\"alert alert-info\">\n",
    "To avoid deadlocks, Ray yields CPU resources while blocked waiting for a task to complete. Read more about <strong><a href=\"https://docs.ray.io/en/latest/ray-core/tasks/nested-tasks.html#yielding-resources-while-blocked\" target=\"_blank\">yielding resources while blocked</a></strong>.\n",
    "</div>"
   ]
  }
 ],
 "metadata": {
  "kernelspec": {
   "display_name": "ray-jupyter",
   "language": "python",
   "name": "python3"
  },
  "language_info": {
   "codemirror_mode": {
    "name": "ipython",
    "version": 3
   },
   "file_extension": ".py",
   "mimetype": "text/x-python",
   "name": "python",
   "nbconvert_exporter": "python",
   "pygments_lexer": "ipython3",
   "version": "3.11.13"
  }
 },
 "nbformat": 4,
 "nbformat_minor": 5
}