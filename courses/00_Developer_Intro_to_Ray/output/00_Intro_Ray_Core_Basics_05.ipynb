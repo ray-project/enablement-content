{
 "cells": [
  {
   "cell_type": "markdown",
   "id": "d550f58a",
   "metadata": {},
   "source": [
    "## 4. Putting It All Together\n",
    "\n",
    "Here are the three steps:\n",
    "1. Create the remote function\n",
    "2. Execute it remotely\n",
    "3. Get the result when needed\n"
   ]
  },
  {
   "cell_type": "markdown",
   "id": "4da412f5-133a-441b-8734-b96f56389f05",
   "metadata": {},
   "source": [
    "<div class=\"alert alert-block alert-info\">\n",
    "    \n",
    "__Activity: define and invoke a Ray task__\n",
    "\n",
    "Define a remote function `sqrt_add` that accepts two arguments and performs the following steps:\n",
    "1. computes the square-root of the first\n",
    "2. adds the second\n",
    "3. returns the result\n",
    "\n",
    "Execute it with 2 different sets of parameters and collect the results\n",
    "\n",
    "```python\n",
    "# Hint: define the below as a remote function\n",
    "def sqrt_add(a, b):\n",
    "    ... \n",
    "\n",
    "# Hint: invoke it as a remote task and collect the results\n",
    "```\n",
    "\n",
    "\n",
    "</div>"
   ]
  },
  {
   "cell_type": "code",
   "execution_count": null,
   "id": "ace32382",
   "metadata": {},
   "outputs": [],
   "source": [
    "# Write your solution here"
   ]
  },
  {
   "cell_type": "markdown",
   "id": "34fe7b54",
   "metadata": {},
   "source": [
    "<div class=\"alert alert-block alert-info\">\n",
    "\n",
    "<details>\n",
    "\n",
    "<summary> Click to see solution </summary>\n",
    "\n",
    "```python\n",
    "import math\n",
    "\n",
    "@ray.remote\n",
    "def sqrt_add(a, b):\n",
    "    return math.sqrt(a) + b\n",
    "\n",
    "ray.get([sqrt_add.remote(2, 3), sqrt_add.remote(5, 4)])\n",
    "```\n",
    "\n",
    "</details>\n",
    "\n",
    "</div>\n"
   ]
  },
  {
   "cell_type": "markdown",
   "id": "1ae13f94-7307-4a43-ad55-bfa8df9c6cdb",
   "metadata": {},
   "source": [
    "### 4.1. Note about Ray ID Specification"
   ]
  },
  {
   "cell_type": "markdown",
   "id": "a6948957",
   "metadata": {},
   "source": [
    "IDs for tasks and objects are build according to the [ID specification in Ray](https://github.com/ray-project/ray/blob/master/src/ray/design_docs/id_specification.md)."
   ]
  },
  {
   "cell_type": "markdown",
   "id": "a84c4e70",
   "metadata": {},
   "source": [
    "### 4.2. Anti-pattern: Calling ray.get in a loop harms parallelism"
   ]
  },
  {
   "cell_type": "markdown",
   "id": "09dbf506-7cd4-4408-b4b6-91b1defeef9e",
   "metadata": {},
   "source": [
    "|<img src=\"https://assets-training.s3.us-west-2.amazonaws.com/ray-core/ray-core/ray-get-in-a-loop.png\" width=\"70%\" loading=\"lazy\">|\n",
    "|:--|\n",
    "|ray.get() is a blocking call. Avoid calling it on every item (left panel). Calling only on the final result improves performance (right panel).|"
   ]
  },
  {
   "cell_type": "markdown",
   "id": "daeed79b-fb6f-45c3-a3c1-2f501ff56241",
   "metadata": {},
   "source": [
    "When trying to collect results for multiple remote function invocations (tasks), don't block and wait for each one individually. Let's consider this remote function:"
   ]
  },
  {
   "cell_type": "code",
   "execution_count": null,
   "id": "4322b5b1",
   "metadata": {},
   "outputs": [],
   "source": [
    "@ray.remote\n",
    "def expensive_square(x):\n",
    "    time.sleep(5)\n",
    "    return x**2"
   ]
  },
  {
   "cell_type": "markdown",
   "id": "0405e415-06da-462f-8d5c-f8b6f0a460c2",
   "metadata": {},
   "source": [
    "This implementation will block for each item in the loop:"
   ]
  },
  {
   "cell_type": "code",
   "execution_count": null,
   "id": "907ed0b7",
   "metadata": {},
   "outputs": [],
   "source": [
    "results = []\n",
    "for item in range(4):\n",
    "    output = ray.get(expensive_square.remote(item))\n",
    "    results.append(output)\n",
    "results"
   ]
  },
  {
   "cell_type": "markdown",
   "id": "0abdcf63",
   "metadata": {},
   "source": [
    "Schedule all remote calls, which are then processed in parallel. After scheduling the work, we can then request all the results at once."
   ]
  },
  {
   "cell_type": "code",
   "execution_count": null,
   "id": "d7e498de",
   "metadata": {},
   "outputs": [],
   "source": [
    "refs = []\n",
    "for j in range(4):\n",
    "    refs.append(expensive_square.remote(j))\n",
    "results = ray.get(refs)\n",
    "results"
   ]
  },
  {
   "cell_type": "markdown",
   "id": "837090c0-cd19-4678-bca8-99270a9a20f7",
   "metadata": {},
   "source": [
    "<div class=\"alert alert-info\">\n",
    "Read more about this <strong><a href=\"https://docs.ray.io/en/latest/ray-core/patterns/ray-get-loop.html\" target=\"_blank\">anti-pattern</a></strong>.\n",
    "</div>"
   ]
  },
  {
   "cell_type": "markdown",
   "id": "642e3863",
   "metadata": {},
   "source": [
    "<!-- TODO: add Patterns/antipatterns based on above learnings-->\n"
   ]
  }
 ],
 "metadata": {
  "kernelspec": {
   "display_name": "ray-jupyter",
   "language": "python",
   "name": "python3"
  },
  "language_info": {
   "codemirror_mode": {
    "name": "ipython",
    "version": 3
   },
   "file_extension": ".py",
   "mimetype": "text/x-python",
   "name": "python",
   "nbconvert_exporter": "python",
   "pygments_lexer": "ipython3",
   "version": "3.11.13"
  }
 },
 "nbformat": 4,
 "nbformat_minor": 5
}