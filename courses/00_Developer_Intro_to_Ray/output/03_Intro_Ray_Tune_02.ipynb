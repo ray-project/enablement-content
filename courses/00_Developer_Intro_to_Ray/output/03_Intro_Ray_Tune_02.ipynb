{
 "cells": [
  {
   "cell_type": "markdown",
   "metadata": {},
   "source": [
    "## 1. Loading the data\n",
    "\n",
    "Our Dataset is the MNIST dataset\n",
    "\n",
    "The MNIST dataset consists of 28x28 pixel grayscale images of handwritten digits (0-9).\n",
    "\n",
    "**Dataset details:**\n",
    "- Training set: 60,000 images\n",
    "- Test set: 10,000 images\n",
    "- Image size: 28x28 pixels\n",
    "- Number of classes: 10 (digits 0-9)\n",
    "\n",
    "**Data format:**\n",
    "Each image is represented as a 2D array of pixel values, where each pixel is a grayscale intensity between 0 (black) and 255 (white).\n",
    "\n"
   ]
  },
  {
   "cell_type": "code",
   "execution_count": null,
   "metadata": {},
   "outputs": [],
   "source": [
    "def build_data_loader(batch_size: int) -> torch.utils.data.DataLoader:\n",
    "    transform = Compose([ToTensor(), Normalize((0.5,), (0.5,))])\n",
    "    train_data = MNIST(root=\"./data\", train=True, download=True, transform=transform)\n",
    "    data_loader = DataLoader(train_data, batch_size=batch_size, shuffle=True, drop_last=True)\n",
    "    return data_loader"
   ]
  },
  {
   "cell_type": "markdown",
   "metadata": {},
   "source": [
    "Let's visualize a batch"
   ]
  },
  {
   "cell_type": "code",
   "execution_count": null,
   "metadata": {},
   "outputs": [],
   "source": [
    "fig, axs = plt.subplots(1, 10, figsize=(20, 2))\n",
    "\n",
    "data_loader = build_data_loader(batch_size=10)\n",
    "\n",
    "for (images, labels) in data_loader:\n",
    "    \n",
    "    for i, (image, label) in enumerate(zip(images, labels)):\n",
    "        axs[i].imshow(image.squeeze(), cmap=\"gray\")\n",
    "        axs[i].set_title(label.item())\n",
    "        axs[i].axis(\"off\")\n",
    "    break"
   ]
  }
 ],
 "metadata": {
  "kernelspec": {
   "display_name": "ray-jupyter",
   "language": "python",
   "name": "python3"
  },
  "language_info": {
   "codemirror_mode": {
    "name": "ipython",
    "version": 3
   },
   "file_extension": ".py",
   "mimetype": "text/x-python",
   "name": "python",
   "nbconvert_exporter": "python",
   "pygments_lexer": "ipython3",
   "version": "3.11.13"
  }
 },
 "nbformat": 4,
 "nbformat_minor": 4
}