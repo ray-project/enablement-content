{
 "cells": [
  {
   "cell_type": "markdown",
   "id": "2ba453ac",
   "metadata": {},
   "source": [
    "## 5. Resource allocation and management"
   ]
  },
  {
   "cell_type": "markdown",
   "id": "84badf43-ef05-4de6-be07-0a654bb98b7a",
   "metadata": {},
   "source": [
    "By default, Ray will schedule a task as long as there is at least one CPU available."
   ]
  },
  {
   "cell_type": "markdown",
   "id": "a80cdf05-3386-44ee-9da1-c1dfaedb82ac",
   "metadata": {},
   "source": [
    "In code this can be specified in the `ray.remote`, like this:"
   ]
  },
  {
   "cell_type": "code",
   "execution_count": null,
   "id": "e52ea5aa",
   "metadata": {},
   "outputs": [],
   "source": [
    "@ray.remote(num_cpus=1)\n",
    "def remote_add(a, b):\n",
    "    return a + b"
   ]
  },
  {
   "cell_type": "markdown",
   "id": "569c8f47",
   "metadata": {},
   "source": [
    "However, these resource specifications are not enforced - i.e. they are entirely [logical and not physical](https://docs.ray.io/en/latest/ray-core/scheduling/resources.html#physical-resources-vs-logical-resources).\n",
    "\n",
    "This means that you can for instance perform multiprocessing or multithreading within a task and oversubscribe to resources."
   ]
  },
  {
   "cell_type": "code",
   "execution_count": null,
   "id": "936d7605",
   "metadata": {},
   "outputs": [],
   "source": [
    "@ray.remote(num_cpus=1)\n",
    "def mm(n: int = 4000):\n",
    "    A = np.random.rand(n, n)\n",
    "    B = np.random.rand(n, n)\n",
    "\n",
    "    # Time the dot product\n",
    "    start = time.time()\n",
    "    C = np.dot(A, B)\n",
    "    end = time.time()\n",
    "    print(f\"Took {end - start}s\")\n",
    "    \n",
    "ray.get(mm.options(runtime_env={\"env_vars\": {\"OMP_NUM_THREADS\": \"1\"}}).remote())\n",
    "ray.get(mm.options(runtime_env={\"env_vars\": {\"OMP_NUM_THREADS\": \"8\"}}).remote())"
   ]
  },
  {
   "cell_type": "markdown",
   "id": "1190416f",
   "metadata": {},
   "source": [
    "<div class=\"alert alert-info\">\n",
    "\n",
    "Note by default, Ray will set the `OMP_NUM_THREADS` environment variable to the number of CPUs in the cluster.\n",
    "\n",
    "Learn more about <strong><a href=\"https://docs.ray.io/en/latest/ray-core/scheduling/resources.html#physical-resources-and-logical-resources\" target=\"_blank\">physical resources and logical resources</a></strong>.\n",
    "</div>"
   ]
  },
  {
   "cell_type": "markdown",
   "id": "3433fdf2-db23-4cad-8b22-9616a85e5138",
   "metadata": {},
   "source": [
    "### 5.1. Note on resources requests, available resources, configuring large clusters"
   ]
  },
  {
   "cell_type": "markdown",
   "id": "36b5e13b-0228-4dca-934e-bfc10b0e067d",
   "metadata": {},
   "source": [
    "<p>During the <em>scheduling stage</em>, Ray evaluates the <strong>resource requirements</strong> specified via the <code>@ray.remote</code> decorator or within the <code>resources={...}</code> argument. These requirements may include:</p>\n",
    "\n",
    "<ul>\n",
    "    <li><strong>CPU</strong> e.g., <code>@ray.remote(num_cpus=2)</code>)</li>\n",
    "    <li><strong>GPU</strong> e.g., <code>@ray.remote(num_gpus=1)</code>)</li>\n",
    "    <li><strong>Custom resources</strong>: User-defined custom resources like <code>\"TPU\"</code></li>\n",
    "    <li><strong>Memory</strong></li>\n",
    "</ul>\n",
    "\n",
    "<p>Ray's scheduler checks the <strong>resource specification</strong> (sometimes referred to as <strong>resource shape</strong>) to match tasks and actors with available resources in the cluster. If the exact resource combination is unavailable, Ray may autoscale the cluster.</p>\n",
    "\n",
    "<p>You can inspect the current resource availability using:</p>\n",
    "<pre><code>\n",
    "ray.available_resources()\n",
    "</code></pre>\n",
    "\n",
    "<p>This returns a dictionary showing the currently available CPUs, GPUs, memory, and any custom resources, for example:</p>\n",
    "\n",
    "<pre><code>{'CPU': 24.0, 'GPU': 1.0, 'memory': 2147483648.0}</code></pre>"
   ]
  },
  {
   "cell_type": "code",
   "execution_count": null,
   "id": "084f3b86-3154-4b9a-add5-b8c38636f158",
   "metadata": {},
   "outputs": [],
   "source": [
    "ray.available_resources()"
   ]
  },
  {
   "cell_type": "markdown",
   "id": "a95db62a-822a-41a9-83b2-c5136e4715a3",
   "metadata": {},
   "source": [
    "<div class=\"alert alert-info\">\n",
    "\n",
    "<strong>Pattern:</strong> configure the head node to be unavailable for compute tasks.\n",
    "\n",
    "When scaling to large clusters, it's important to ensure that the <strong>head node</strong> does not handle any compute tasks. Users can indicate that the head node is unavailable for compute by setting its resources:\n",
    "\n",
    "```resources: {\"CPU\": 0}```\n",
    "\n",
    "Learn more about <strong><a href=\"https://docs.ray.io/en/latest/cluster/vms/user-guides/large-cluster-best-practices.html#configuring-the-head-node\" target=\"_blank\">configuring the head node</a></strong>.\n",
    "</div>"
   ]
  },
  {
   "cell_type": "markdown",
   "id": "33dd688e-4a16-4483-a473-185ef01c25e9",
   "metadata": {},
   "source": [
    "### 5.2. Fractional resources"
   ]
  },
  {
   "cell_type": "markdown",
   "id": "6ea6043b-1a09-4eca-8414-a95565150afb",
   "metadata": {},
   "source": [
    "Fractional resources allow Ray Tasks to request a fraction of a CPU or GPU (e.g., 0.5), enabling finer-grained resource allocation.\n",
    "\n",
    "Let's consider the above example again:"
   ]
  },
  {
   "cell_type": "code",
   "execution_count": null,
   "id": "657e33c1-3a11-4992-80fc-cd850980b921",
   "metadata": {},
   "outputs": [],
   "source": [
    "@ray.remote(num_cpus=0.5)\n",
    "def remote_add(a, b):\n",
    "    return a + b"
   ]
  },
  {
   "cell_type": "code",
   "execution_count": null,
   "id": "28b395b0-4c4c-4210-8dd5-a10cb1687d1c",
   "metadata": {},
   "outputs": [],
   "source": [
    "ref = remote_add.remote(2, 3)\n",
    "ref"
   ]
  },
  {
   "cell_type": "code",
   "execution_count": null,
   "id": "6a6e06f1-8ffa-411b-890c-296c98be021e",
   "metadata": {},
   "outputs": [],
   "source": [
    "ray.get(ref)"
   ]
  },
  {
   "cell_type": "markdown",
   "id": "acf294f1-10d8-41ee-bdbb-7c87118c71ad",
   "metadata": {},
   "source": [
    "<div class=\"alert alert-info\">\n",
    "    Fractional resources include support for <strong><a href=\"https://docs.ray.io/en/latest/ray-core/scheduling/accelerators.html#fractional-accelerators\" target=\"_blank\">multiple accelerators</a></strong>, allowing users to load multiple smaller models onto a single GPU. This is especially useful for scenarios like batch inference. Learn more about <strong><a href=\"https://docs.ray.io/en/latest/ray-core/scheduling/resources.html#fractional-resource-requirements\" target=\"_blank\">fractional resource requirements</a></strong>.\n",
    "</div>"
   ]
  },
  {
   "cell_type": "markdown",
   "id": "82c96686-998f-421a-b5a9-04cc806d8a36",
   "metadata": {},
   "source": [
    "### 5.3. IO bound tasks and fractional resources"
   ]
  },
  {
   "cell_type": "markdown",
   "id": "afd8e0bd-72c5-4340-a57d-82d1ecda5d75",
   "metadata": {},
   "source": [
    "Setting fractional cpus or even `num_cpus=0` is a pattern for <strong>I/O-bound tasks</strong> that do not require CPU-intensive computation.\n",
    "\n",
    "<p>This allows Ray to oversubscribe CPUs, scheduling many such tasks concurrently without reserving CPU cores. Since <code>num_cpus=0</code> always passes the scheduler\u2019s resource check, these tasks get scheduled immediately.</p>\n",
    "\n",
    "<p>This can lead to <strong>resource savings</strong> and better utilization in workloads with high I/O.</p>\n",
    "\n",
    "<p>More details about <a href=\"https://docs.ray.io/en/latest/ray-core/scheduling/resources.html#fractional-resource-requirements\" target=\"_blank\">\n",
    "fractional resource requirements</a>.</p>"
   ]
  }
 ],
 "metadata": {
  "kernelspec": {
   "display_name": "ray-jupyter",
   "language": "python",
   "name": "python3"
  },
  "language_info": {
   "codemirror_mode": {
    "name": "ipython",
    "version": 3
   },
   "file_extension": ".py",
   "mimetype": "text/x-python",
   "name": "python",
   "nbconvert_exporter": "python",
   "pygments_lexer": "ipython3",
   "version": "3.11.13"
  }
 },
 "nbformat": 4,
 "nbformat_minor": 5
}