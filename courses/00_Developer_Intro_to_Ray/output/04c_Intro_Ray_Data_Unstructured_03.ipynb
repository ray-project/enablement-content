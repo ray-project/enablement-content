{
 "cells": [
  {
   "cell_type": "markdown",
   "metadata": {},
   "source": [
    "## 2. How to work with Ray Data\n",
    "\n",
    "It is commonly a three step process when using Ray Data:\n",
    "1. Create your Dataset (most commonly using an IO connector)\n",
    "2. Apply transformations to your Dataset\n",
    "3. Consume your Dataset by either:\n",
    "   1. Writing it out to a sink (file-based or database)\n",
    "   2. Iterating over it (connecting it to a training process)"
   ]
  }
 ],
 "metadata": {
  "kernelspec": {
   "display_name": "ray-jupyter",
   "language": "python",
   "name": "python3"
  },
  "language_info": {
   "codemirror_mode": {
    "name": "ipython",
    "version": 3
   },
   "file_extension": ".py",
   "mimetype": "text/x-python",
   "name": "python",
   "nbconvert_exporter": "python",
   "pygments_lexer": "ipython3",
   "version": "3.11.13"
  }
 },
 "nbformat": 4,
 "nbformat_minor": 4
}