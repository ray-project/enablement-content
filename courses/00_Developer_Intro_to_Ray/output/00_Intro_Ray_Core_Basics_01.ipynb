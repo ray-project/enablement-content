{
 "cells": [
  {
   "cell_type": "markdown",
   "id": "1fd443a5-c9d3-4b6f-ad72-59c1eba1d112",
   "metadata": {},
   "source": [
    "# Introduction to Ray Core: Getting Started"
   ]
  },
  {
   "cell_type": "markdown",
   "id": "f6e3a7d5-5033-4f31-912a-0e405c1a1bc9",
   "metadata": {},
   "source": [
    "\u00a9 2025, Anyscale. All Rights Reserved"
   ]
  },
  {
   "cell_type": "markdown",
   "id": "1947e07a",
   "metadata": {},
   "source": [
    "\ud83d\udcbb **Launch Locally**: You can run this notebook locally.\n",
    "\n",
    "\ud83d\ude80 **Launch on Cloud**: Think about running this notebook on a Ray Cluster (Click [here](http://console.anyscale.com/register) to easily start a Ray cluster on Anyscale)"
   ]
  },
  {
   "cell_type": "markdown",
   "id": "fcd84432-84b0-426e-8546-42f33804f2fa",
   "metadata": {},
   "source": [
    "This notebook provides a step-by-step quick tour of Ray Core basics.\n",
    "\n",
    "<div class=\"alert alert-block alert-info\">\n",
    "\n",
    "<b> Here is the roadmap for this notebook </b>\n",
    "\n",
    "<ol>\n",
    "  <li>Overview</li>\n",
    "  <li>Creating Remote Functions</li>\n",
    "  <li>Executing Remote Functions</li>\n",
    "  <li>Getting Results</li>\n",
    "  <li>Putting It All Together\n",
    "    <ul>\n",
    "      <li>Note about Ray ID Specification</li>\n",
    "      <li>Anti-pattern: Calling ray.get in a loop harms parallelism</li>\n",
    "    </ul>\n",
    "  </li>\n",
    "</ol>\n",
    "</div>"
   ]
  },
  {
   "cell_type": "markdown",
   "id": "5c263dcd",
   "metadata": {},
   "source": [
    "**Imports**"
   ]
  },
  {
   "cell_type": "code",
   "execution_count": null,
   "id": "98399ea9-933a-452f-be3f-bc1535006443",
   "metadata": {
    "tags": []
   },
   "outputs": [],
   "source": [
    "import os\n",
    "import random\n",
    "import sys\n",
    "import time\n",
    "\n",
    "import numpy as np\n",
    "import ray"
   ]
  }
 ],
 "metadata": {
  "kernelspec": {
   "display_name": "ray-jupyter",
   "language": "python",
   "name": "python3"
  },
  "language_info": {
   "codemirror_mode": {
    "name": "ipython",
    "version": 3
   },
   "file_extension": ".py",
   "mimetype": "text/x-python",
   "name": "python",
   "nbconvert_exporter": "python",
   "pygments_lexer": "ipython3",
   "version": "3.11.13"
  }
 },
 "nbformat": 4,
 "nbformat_minor": 5
}