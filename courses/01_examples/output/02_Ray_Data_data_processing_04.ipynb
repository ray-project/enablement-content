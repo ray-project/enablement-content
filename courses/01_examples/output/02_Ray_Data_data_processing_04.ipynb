{
 "cells": [
  {
   "cell_type": "markdown",
   "metadata": {},
   "source": [
    "## Filter Ray Dataset\n",
    "This show how to filter some rows in a Ray dataset. In this example, a filter expression is applied to keep only positive reviews.\n",
    "\n",
    "* Filter can be an expression or a function. Expression API is faster than functional API.\n",
    "* Concurrency parameter is used to launch multiple workers. If it not set (default), number of workers is determined by the available resources and the number of input blocks."
   ]
  },
  {
   "cell_type": "code",
   "execution_count": 18,
   "metadata": {},
   "outputs": [
    {
     "name": "stderr",
     "output_type": "stream",
     "text": [
      "/Users/maxpumperla/code/enablement-content-june-2025/01_examples/venv/lib/python3.11/site-packages/ray/data/dataset.py:1419: UserWarning: Use 'expr' instead of 'fn' when possible for performant filters.\n",
      "  warnings.warn(\n"
     ]
    }
   ],
   "source": [
    "# Filter: keep only positive reviews\n",
    "# using expression API, faster than lambda\n",
    "# concurrency=2 is used to parallelize the filtering operation\n",
    "# Note: If you have a large dataset, consider using a larger concurrency value for better performance\n",
    "# filtered = ds_reviews.filter(expr=\"label == 1\", concurrency=2)\n",
    "\n",
    "# functional API, slower than expression API\n",
    "filtered = ds_reviews.filter(lambda row: row[\"label\"] == 1)"
   ]
  },
  {
   "cell_type": "code",
   "execution_count": 19,
   "metadata": {},
   "outputs": [
    {
     "name": "stdout",
     "output_type": "stream",
     "text": [
      "Filter(<lambda>)\n",
      "+- Dataset(num_rows=25000, schema={id: int64, text: string, label: int64})\n"
     ]
    }
   ],
   "source": [
    "print(filtered)"
   ]
  }
 ],
 "metadata": {
  "kernelspec": {
   "display_name": "Python 3 (ipykernel)",
   "language": "python",
   "name": "python3"
  },
  "language_info": {
   "codemirror_mode": {
    "name": "ipython",
    "version": 3
   },
   "file_extension": ".py",
   "mimetype": "text/x-python",
   "name": "python",
   "nbconvert_exporter": "python",
   "pygments_lexer": "ipython3",
   "version": "3.11.6"
  }
 },
 "nbformat": 4,
 "nbformat_minor": 4
}