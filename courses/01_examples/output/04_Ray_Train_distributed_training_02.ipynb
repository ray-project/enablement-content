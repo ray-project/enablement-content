{
 "cells": [
  {
   "cell_type": "markdown",
   "metadata": {},
   "source": [
    "## 1. Architecture"
   ]
  },
  {
   "cell_type": "markdown",
   "metadata": {},
   "source": [
    "![Architecture Diagram](https://lz-public-demo.s3.us-east-1.amazonaws.com/anyscale101/01_examples/04_Ray_Train_architecture.svg?sanitize=true)"
   ]
  },
  {
   "cell_type": "markdown",
   "metadata": {},
   "source": [
    "### 2. Library Imports"
   ]
  },
  {
   "cell_type": "code",
   "execution_count": 1,
   "metadata": {},
   "outputs": [],
   "source": [
    "# Import necessary libraries\n",
    "\n",
    "import os\n",
    "from typing import Dict # For type hinting\n",
    "\n",
    "import torch # PyTorch for tensor operations\n",
    "from torch import nn # PyTorch for deep learning\n",
    "from torch.utils.data import DataLoader # DataLoader for batching and shuffling data\n",
    "from tqdm import tqdm\n",
    "\n",
    "import numpy as np\n",
    "import evaluate\n",
    "from datasets import load_dataset # To load datasets from Hugging Face\n",
    "import transformers # Transformers library for model and tokenizer\n",
    "from transformers import (\n",
    "    Trainer, # \n",
    "    TrainingArguments,\n",
    "    AutoTokenizer, # Tokenizer for Hugging Face models\n",
    "    AutoModelForSequenceClassification, # Model for sequence classification\n",
    ")\n",
    "\n",
    "import ray.train # Ray Train for distributed training\n",
    "from ray.train import ScalingConfig\n",
    "from ray.train.torch import TorchTrainer # Trainer for PyTorch\n",
    "from ray.train.torch import TorchConfig # Configuration for PyTorch training\n",
    "from ray.runtime_env import RuntimeEnv # Runtime environment for Ray tasks\n"
   ]
  }
 ],
 "metadata": {
  "kernelspec": {
   "display_name": "Python 3 (ipykernel)",
   "language": "python",
   "name": "python3"
  },
  "language_info": {
   "codemirror_mode": {
    "name": "ipython",
    "version": 3
   },
   "file_extension": ".py",
   "mimetype": "text/x-python",
   "name": "python",
   "nbconvert_exporter": "python",
   "pygments_lexer": "ipython3",
   "version": "3.11.6"
  }
 },
 "nbformat": 4,
 "nbformat_minor": 4
}