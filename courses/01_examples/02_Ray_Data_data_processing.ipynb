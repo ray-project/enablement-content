{
 "cells": [
  {
   "cell_type": "markdown",
   "metadata": {},
   "source": [
    "# Data Processing with Ray Data\n",
    "© 2025, Anyscale. All Rights Reserved"
   ]
  },
  {
   "cell_type": "markdown",
   "metadata": {},
   "source": [
    "💻 **Launch Locally**: You can run this notebook locally.\n",
    "\n",
    "🚀 **Launch on Cloud**: Think about running this notebook on a Ray Cluster (Click [here](http://console.anyscale.com/register) to easily start a Ray cluster on Anyscale)"
   ]
  },
  {
   "cell_type": "markdown",
   "metadata": {},
   "source": [
    "\n",
    "Data preprocessing is a crucial step in any machine learning workflow, and Ray Data provides a scalable and flexible way to handle this process on large datasets. With Ray Data, you can efficiently load, transform, filter, and join datasets using a distributed framework that leverages the power of multiple CPUs or nodes. This makes it possible to preprocess data that would be too large to fit into memory on a single machine, enabling seamless scaling from your laptop to a cluster.\n",
    "\n",
    "Ray Data supports a variety of preprocessing operations, such as filtering rows based on conditions, joining multiple datasets, and applying custom transformations like tokenization or label encoding. For example, you can load a large public dataset like IMDB reviews, filter for only positive reviews, join with metadata, and tokenize the text—all in a distributed and parallelized manner. This approach not only speeds up data preparation but also integrates smoothly with downstream machine learning tasks, making Ray Data a powerful tool for modern data pipelines."
   ]
  },
  {
   "cell_type": "markdown",
   "metadata": {},
   "source": [
    "### Outline of the notebook\n",
    "This notebook shows a few examples on how to preprocess data with Ray Data.\n",
    "\n",
    "<div class=\"alert alert-block alert-info\">\n",
    "<ul>\n",
    "    <li>Library Imports\n",
    "    <li>Initialize Ray and Load a Large Public Dataset\n",
    "    <li>Convert to Ray Dataset\n",
    "    <li>Create a Second Dataset\n",
    "    <li>Filtering Data\n",
    "    <li>Joining Datasets\n",
    "    <li>Tokenization and Preprocessing\n",
    "    <li>Converting to Pandas DataFrame\n",
    "    <li>Shutting Down Ray\n",
    "    <li>Conclusion\n",
    "</ul>\n",
    "</div>"
   ]
  },
  {
   "cell_type": "markdown",
   "metadata": {},
   "source": [
    "## Library Imports"
   ]
  },
  {
   "cell_type": "code",
   "execution_count": 2,
   "metadata": {},
   "outputs": [],
   "source": [
    "import ray\n",
    "from datasets import load_dataset\n",
    "import pandas as pd\n",
    "# showcase ray data transformations\n",
    "from ray.data.preprocessors import Tokenizer"
   ]
  },
  {
   "cell_type": "markdown",
   "metadata": {},
   "source": [
    "### Initialize Ray and Load a Dataset\n",
    "Load a public dataset from Hugging Face and explore the dataset with a few sample rows."
   ]
  },
  {
   "cell_type": "code",
   "execution_count": 3,
   "metadata": {},
   "outputs": [
    {
     "name": "stderr",
     "output_type": "stream",
     "text": [
      "2025-07-11 08:03:29,512\tINFO worker.py:1908 -- Started a local Ray instance. View the dashboard at \u001b[1m\u001b[32mhttp://127.0.0.1:8265 \u001b[39m\u001b[22m\n"
     ]
    },
    {
     "data": {
      "application/vnd.jupyter.widget-view+json": {
       "model_id": "54e0c9d74a4b4dfaa7b5f12524ab6aff",
       "version_major": 2,
       "version_minor": 0
      },
      "text/html": [
       "<div class=\"lm-Widget p-Widget lm-Panel p-Panel jp-Cell-outputWrapper\">\n",
       "    <div style=\"margin-left: 50px;display: flex;flex-direction: row;align-items: center\">\n",
       "        <div class=\"jp-RenderedHTMLCommon\" style=\"display: flex; flex-direction: row;\">\n",
       "  <svg viewBox=\"0 0 567 224\" fill=\"none\" xmlns=\"http://www.w3.org/2000/svg\" style=\"height: 3em;\">\n",
       "    <g clip-path=\"url(#clip0_4338_178347)\">\n",
       "        <path d=\"M341.29 165.561H355.29L330.13 129.051C345.63 123.991 354.21 112.051 354.21 94.2307C354.21 71.3707 338.72 58.1807 311.88 58.1807H271V165.561H283.27V131.661H311.8C314.25 131.661 316.71 131.501 319.01 131.351L341.25 165.561H341.29ZM283.29 119.851V70.0007H311.82C331.3 70.0007 342.34 78.2907 342.34 94.5507C342.34 111.271 331.34 119.861 311.82 119.861L283.29 119.851ZM451.4 138.411L463.4 165.561H476.74L428.74 58.1807H416L367.83 165.561H380.83L392.83 138.411H451.4ZM446.19 126.601H398L422 72.1407L446.24 126.601H446.19ZM526.11 128.741L566.91 58.1807H554.35L519.99 114.181L485.17 58.1807H472.44L514.01 129.181V165.541H526.13V128.741H526.11Z\" fill=\"var(--jp-ui-font-color0)\"/>\n",
       "        <path d=\"M82.35 104.44C84.0187 97.8827 87.8248 92.0678 93.1671 87.9146C98.5094 83.7614 105.083 81.5067 111.85 81.5067C118.617 81.5067 125.191 83.7614 130.533 87.9146C135.875 92.0678 139.681 97.8827 141.35 104.44H163.75C164.476 101.562 165.622 98.8057 167.15 96.2605L127.45 56.5605C121.071 60.3522 113.526 61.6823 106.235 60.3005C98.9443 58.9187 92.4094 54.9203 87.8602 49.0574C83.3109 43.1946 81.0609 35.8714 81.5332 28.4656C82.0056 21.0599 85.1679 14.0819 90.4252 8.8446C95.6824 3.60726 102.672 0.471508 110.08 0.0272655C117.487 -0.416977 124.802 1.86091 130.647 6.4324C136.493 11.0039 140.467 17.5539 141.821 24.8501C143.175 32.1463 141.816 39.6859 138 46.0505L177.69 85.7505C182.31 82.9877 187.58 81.4995 192.962 81.4375C198.345 81.3755 203.648 82.742 208.33 85.3976C213.012 88.0532 216.907 91.9029 219.616 96.5544C222.326 101.206 223.753 106.492 223.753 111.875C223.753 117.258 222.326 122.545 219.616 127.197C216.907 131.848 213.012 135.698 208.33 138.353C203.648 141.009 198.345 142.375 192.962 142.313C187.58 142.251 182.31 140.763 177.69 138L138 177.7C141.808 184.071 143.155 191.614 141.79 198.91C140.424 206.205 136.44 212.75 130.585 217.313C124.731 221.875 117.412 224.141 110.004 223.683C102.596 223.226 95.6103 220.077 90.3621 214.828C85.1139 209.58 81.9647 202.595 81.5072 195.187C81.0497 187.779 83.3154 180.459 87.878 174.605C92.4405 168.751 98.9853 164.766 106.281 163.401C113.576 162.035 121.119 163.383 127.49 167.19L167.19 127.49C165.664 124.941 164.518 122.182 163.79 119.3H141.39C139.721 125.858 135.915 131.673 130.573 135.826C125.231 139.98 118.657 142.234 111.89 142.234C105.123 142.234 98.5494 139.98 93.2071 135.826C87.8648 131.673 84.0587 125.858 82.39 119.3H60C58.1878 126.495 53.8086 132.78 47.6863 136.971C41.5641 141.163 34.1211 142.972 26.7579 142.059C19.3947 141.146 12.6191 137.574 7.70605 132.014C2.79302 126.454 0.0813599 119.29 0.0813599 111.87C0.0813599 104.451 2.79302 97.2871 7.70605 91.7272C12.6191 86.1673 19.3947 82.5947 26.7579 81.6817C34.1211 80.7686 41.5641 82.5781 47.6863 86.7696C53.8086 90.9611 58.1878 97.2456 60 104.44H82.35ZM100.86 204.32C103.407 206.868 106.759 208.453 110.345 208.806C113.93 209.159 117.527 208.258 120.522 206.256C123.517 204.254 125.725 201.276 126.771 197.828C127.816 194.38 127.633 190.677 126.253 187.349C124.874 184.021 122.383 181.274 119.205 179.577C116.027 177.88 112.359 177.337 108.826 178.042C105.293 178.746 102.113 180.654 99.8291 183.44C97.5451 186.226 96.2979 189.718 96.3 193.32C96.2985 195.364 96.7006 197.388 97.4831 199.275C98.2656 201.163 99.4132 202.877 100.86 204.32ZM204.32 122.88C206.868 120.333 208.453 116.981 208.806 113.396C209.159 109.811 208.258 106.214 206.256 103.219C204.254 100.223 201.275 98.0151 197.827 96.97C194.38 95.9249 190.676 96.1077 187.348 97.4873C184.02 98.8669 181.274 101.358 179.577 104.536C177.879 107.714 177.337 111.382 178.041 114.915C178.746 118.448 180.653 121.627 183.439 123.911C186.226 126.195 189.717 127.443 193.32 127.44C195.364 127.443 197.388 127.042 199.275 126.259C201.163 125.476 202.878 124.328 204.32 122.88ZM122.88 19.4205C120.333 16.8729 116.981 15.2876 113.395 14.9347C109.81 14.5817 106.213 15.483 103.218 17.4849C100.223 19.4868 98.0146 22.4654 96.9696 25.9131C95.9245 29.3608 96.1073 33.0642 97.4869 36.3922C98.8665 39.7202 101.358 42.4668 104.535 44.1639C107.713 45.861 111.381 46.4036 114.914 45.6992C118.447 44.9949 121.627 43.0871 123.911 40.301C126.195 37.515 127.442 34.0231 127.44 30.4205C127.44 28.3772 127.038 26.3539 126.255 24.4664C125.473 22.5788 124.326 20.8642 122.88 19.4205ZM19.42 100.86C16.8725 103.408 15.2872 106.76 14.9342 110.345C14.5813 113.93 15.4826 117.527 17.4844 120.522C19.4863 123.518 22.4649 125.726 25.9127 126.771C29.3604 127.816 33.0638 127.633 36.3918 126.254C39.7198 124.874 42.4664 122.383 44.1635 119.205C45.8606 116.027 46.4032 112.359 45.6988 108.826C44.9944 105.293 43.0866 102.114 40.3006 99.8296C37.5145 97.5455 34.0227 96.2983 30.42 96.3005C26.2938 96.3018 22.337 97.9421 19.42 100.86ZM100.86 100.86C98.3125 103.408 96.7272 106.76 96.3742 110.345C96.0213 113.93 96.9226 117.527 98.9244 120.522C100.926 123.518 103.905 125.726 107.353 126.771C110.8 127.816 114.504 127.633 117.832 126.254C121.16 124.874 123.906 122.383 125.604 119.205C127.301 116.027 127.843 112.359 127.139 108.826C126.434 105.293 124.527 102.114 121.741 99.8296C118.955 97.5455 115.463 96.2983 111.86 96.3005C109.817 96.299 107.793 96.701 105.905 97.4835C104.018 98.2661 102.303 99.4136 100.86 100.86Z\" fill=\"#00AEEF\"/>\n",
       "    </g>\n",
       "    <defs>\n",
       "        <clipPath id=\"clip0_4338_178347\">\n",
       "            <rect width=\"566.93\" height=\"223.75\" fill=\"white\"/>\n",
       "        </clipPath>\n",
       "    </defs>\n",
       "  </svg>\n",
       "</div>\n",
       "\n",
       "        <table class=\"jp-RenderedHTMLCommon\" style=\"border-collapse: collapse;color: var(--jp-ui-font-color1);font-size: var(--jp-ui-font-size1);\">\n",
       "    <tr>\n",
       "        <td style=\"text-align: left\"><b>Python version:</b></td>\n",
       "        <td style=\"text-align: left\"><b>3.11.6</b></td>\n",
       "    </tr>\n",
       "    <tr>\n",
       "        <td style=\"text-align: left\"><b>Ray version:</b></td>\n",
       "        <td style=\"text-align: left\"><b>2.47.1</b></td>\n",
       "    </tr>\n",
       "    <tr>\n",
       "    <td style=\"text-align: left\"><b>Dashboard:</b></td>\n",
       "    <td style=\"text-align: left\"><b><a href=\"http://127.0.0.1:8265\" target=\"_blank\">http://127.0.0.1:8265</a></b></td>\n",
       "</tr>\n",
       "\n",
       "</table>\n",
       "\n",
       "    </div>\n",
       "</div>\n"
      ],
      "text/plain": [
       "RayContext(dashboard_url='127.0.0.1:8265', python_version='3.11.6', ray_version='2.47.1', ray_commit='61d3f2f1aa33563faa398105f4abda88cb39440b')"
      ]
     },
     "execution_count": 3,
     "metadata": {},
     "output_type": "execute_result"
    }
   ],
   "source": [
    "\n",
    "# Start Ray\n",
    "ray.init()\n"
   ]
  },
  {
   "cell_type": "code",
   "execution_count": 4,
   "metadata": {},
   "outputs": [],
   "source": [
    "# Load the IMDB dataset from Hugging Face Datasets (train split)\n",
    "imdb = load_dataset(\"imdb\", split=\"train\")\n"
   ]
  },
  {
   "cell_type": "code",
   "execution_count": 5,
   "metadata": {},
   "outputs": [
    {
     "name": "stdout",
     "output_type": "stream",
     "text": [
      "Dataset({\n",
      "    features: ['text', 'label'],\n",
      "    num_rows: 25000\n",
      "})\n"
     ]
    }
   ],
   "source": [
    "print(imdb) # show the dataset structure"
   ]
  },
  {
   "cell_type": "code",
   "execution_count": 6,
   "metadata": {},
   "outputs": [
    {
     "data": {
      "text/plain": [
       "{'text': ['I rented I AM CURIOUS-YELLOW from my video store because of all the controversy that surrounded it when it was first released in 1967. I also heard that at first it was seized by U.S. customs if it ever tried to enter this country, therefore being a fan of films considered \"controversial\" I really had to see this for myself.<br /><br />The plot is centered around a young Swedish drama student named Lena who wants to learn everything she can about life. In particular she wants to focus her attentions to making some sort of documentary on what the average Swede thought about certain political issues such as the Vietnam War and race issues in the United States. In between asking politicians and ordinary denizens of Stockholm about their opinions on politics, she has sex with her drama teacher, classmates, and married men.<br /><br />What kills me about I AM CURIOUS-YELLOW is that 40 years ago, this was considered pornographic. Really, the sex and nudity scenes are few and far between, even then it\\'s not shot like some cheaply made porno. While my countrymen mind find it shocking, in reality sex and nudity are a major staple in Swedish cinema. Even Ingmar Bergman, arguably their answer to good old boy John Ford, had sex scenes in his films.<br /><br />I do commend the filmmakers for the fact that any sex shown in the film is shown for artistic purposes rather than just to shock people and make money to be shown in pornographic theaters in America. I AM CURIOUS-YELLOW is a good film for anyone wanting to study the meat and potatoes (no pun intended) of Swedish cinema. But really, this film doesn\\'t have much of a plot.',\n",
       "  '\"I Am Curious: Yellow\" is a risible and pretentious steaming pile. It doesn\\'t matter what one\\'s political views are because this film can hardly be taken seriously on any level. As for the claim that frontal male nudity is an automatic NC-17, that isn\\'t true. I\\'ve seen R-rated films with male nudity. Granted, they only offer some fleeting views, but where are the R-rated films with gaping vulvas and flapping labia? Nowhere, because they don\\'t exist. The same goes for those crappy cable shows: schlongs swinging in the breeze but not a clitoris in sight. And those pretentious indie movies like The Brown Bunny, in which we\\'re treated to the site of Vincent Gallo\\'s throbbing johnson, but not a trace of pink visible on Chloe Sevigny. Before crying (or implying) \"double-standard\" in matters of nudity, the mentally obtuse should take into account one unavoidably obvious anatomical difference between men and women: there are no genitals on display when actresses appears nude, and the same cannot be said for a man. In fact, you generally won\\'t see female genitals in an American film in anything short of porn or explicit erotica. This alleged double-standard is less a double standard than an admittedly depressing ability to come to terms culturally with the insides of women\\'s bodies.',\n",
       "  \"If only to avoid making this type of film in the future. This film is interesting as an experiment but tells no cogent story.<br /><br />One might feel virtuous for sitting thru it because it touches on so many IMPORTANT issues but it does so without any discernable motive. The viewer comes away with no new perspectives (unless one comes up with one while one's mind wanders, as it will invariably do during this pointless film).<br /><br />One might better spend one's time staring out a window at a tree growing.<br /><br />\"],\n",
       " 'label': [0, 0, 0]}"
      ]
     },
     "execution_count": 6,
     "metadata": {},
     "output_type": "execute_result"
    }
   ],
   "source": [
    "imdb[0:3]  # Show the first 3 rows of the dataset"
   ]
  },
  {
   "cell_type": "code",
   "execution_count": 7,
   "metadata": {},
   "outputs": [
    {
     "name": "stdout",
     "output_type": "stream",
     "text": [
      "Number of positive labels =  12500\n"
     ]
    }
   ],
   "source": [
    "# 0 = negative, 1 = positive\n",
    "print('Number of positive labels = ', sum(imdb['label']))"
   ]
  },
  {
   "cell_type": "markdown",
   "metadata": {},
   "source": [
    "## Convert to Ray Dataset\n",
    "Add unique IDs to each row and create a Ray Dataset. Ray Dataset is distributed across the nodes and enables parallel computations."
   ]
  },
  {
   "cell_type": "code",
   "execution_count": 8,
   "metadata": {},
   "outputs": [],
   "source": [
    "# Add id and convert to Ray Dataset\n",
    "ds_reviews = ray.data.from_items([\n",
    "    {\"id\": i, \"text\": row[\"text\"], \"label\": row[\"label\"]}\n",
    "        for i, row in enumerate(imdb)\n",
    "]) # add id to each row\n"
   ]
  },
  {
   "cell_type": "code",
   "execution_count": 9,
   "metadata": {},
   "outputs": [
    {
     "name": "stdout",
     "output_type": "stream",
     "text": [
      "MaterializedDataset(\n",
      "   num_blocks=200,\n",
      "   num_rows=25000,\n",
      "   schema={id: int64, text: string, label: int64}\n",
      ")\n"
     ]
    }
   ],
   "source": [
    "print(ds_reviews)"
   ]
  },
  {
   "cell_type": "markdown",
   "metadata": {},
   "source": [
    "### Create a Second Dataset\n",
    "Here we create a second dataset (fake metadata) with some rows with common IDs as in ds_reviews data. In practice, you would have a real metadata or another dataset. This used to show join operation between two Ray datasets."
   ]
  },
  {
   "cell_type": "code",
   "execution_count": 10,
   "metadata": {},
   "outputs": [],
   "source": [
    "\n",
    "# Create a second dataset: pretend we have metadata (source column) for every 100th row.\n",
    "# This is just for demonstration purposes; in practice, you would have a real metadata source.\n",
    "ds_meta = ray.data.from_items([\n",
    "    {\"id\": i, \"source\": \"imdb\"} for i in range(0, len(imdb), 100)\n",
    "])\n"
   ]
  },
  {
   "cell_type": "code",
   "execution_count": 11,
   "metadata": {},
   "outputs": [
    {
     "name": "stdout",
     "output_type": "stream",
     "text": [
      "MaterializedDataset(\n",
      "   num_blocks=200,\n",
      "   num_rows=250,\n",
      "   schema={id: int64, source: string}\n",
      ")\n"
     ]
    }
   ],
   "source": [
    "print(ds_meta)"
   ]
  },
  {
   "cell_type": "markdown",
   "metadata": {},
   "source": [
    "## Filter Ray Dataset\n",
    "This show how to filter some rows in a Ray dataset. In this example, a filter expression is applied to keep only positive reviews.\n",
    "\n",
    "* Filter can be an expression or a function. Expression API is faster than functional API.\n",
    "* Concurrency parameter is used to launch multiple workers. If it not set (default), number of workers is determined by the available resources and the number of input blocks."
   ]
  },
  {
   "cell_type": "code",
   "execution_count": 18,
   "metadata": {},
   "outputs": [
    {
     "name": "stderr",
     "output_type": "stream",
     "text": [
      "/Users/maxpumperla/code/enablement-content-june-2025/01_examples/venv/lib/python3.11/site-packages/ray/data/dataset.py:1419: UserWarning: Use 'expr' instead of 'fn' when possible for performant filters.\n",
      "  warnings.warn(\n"
     ]
    }
   ],
   "source": [
    "# Filter: keep only positive reviews\n",
    "# using expression API, faster than lambda\n",
    "# concurrency=2 is used to parallelize the filtering operation\n",
    "# Note: If you have a large dataset, consider using a larger concurrency value for better performance\n",
    "# filtered = ds_reviews.filter(expr=\"label == 1\", concurrency=2)\n",
    "\n",
    "# functional API, slower than expression API\n",
    "filtered = ds_reviews.filter(lambda row: row[\"label\"] == 1)"
   ]
  },
  {
   "cell_type": "code",
   "execution_count": 19,
   "metadata": {},
   "outputs": [
    {
     "name": "stdout",
     "output_type": "stream",
     "text": [
      "Filter(<lambda>)\n",
      "+- Dataset(num_rows=25000, schema={id: int64, text: string, label: int64})\n"
     ]
    }
   ],
   "source": [
    "print(filtered)"
   ]
  },
  {
   "cell_type": "markdown",
   "metadata": {},
   "source": [
    "## Join Two Ray Datasets\n",
    "Here we show a join operation by joining the filtered reviews with the metadata dataset on 'id'. This is a simple inner join operation to demonstrate how to combine datasets.\n",
    "\n",
    "Note: num_partitions=2 is used here for demonstration; adjust based on your dataset\n",
    "size and performance needs. The join operation can be expensive, so consider the size of your datasets."
   ]
  },
  {
   "cell_type": "code",
   "execution_count": 20,
   "metadata": {},
   "outputs": [],
   "source": [
    "# Join: inner join on 'id'\n",
    "joined = filtered.join(ds_meta, on=(\"id\",), join_type=\"inner\", num_partitions=2)\n"
   ]
  },
  {
   "cell_type": "code",
   "execution_count": 21,
   "metadata": {},
   "outputs": [
    {
     "name": "stderr",
     "output_type": "stream",
     "text": [
      "2025-07-11 08:42:12,344\tINFO logging.py:295 -- Registered dataset logger for dataset dataset_7_0\n",
      "2025-07-11 08:42:12,351\tINFO streaming_executor.py:117 -- Starting execution of Dataset dataset_7_0. Full logs are in /tmp/ray/session_2025-07-11_08-03-28_326524_18345/logs/ray-data\n",
      "2025-07-11 08:42:12,351\tINFO streaming_executor.py:118 -- Execution plan of Dataset dataset_7_0: InputDataBuffer[Input] -> TaskPoolMapOperator[Filter(<lambda>)], InputDataBuffer[Input] -> JoinOperator[Join(num_partitions=2)] -> LimitOperator[limit=5]\n"
     ]
    },
    {
     "data": {
      "application/vnd.jupyter.widget-view+json": {
       "model_id": "c9df6b8422bd4c2ea8181a82fac22ee7",
       "version_major": 2,
       "version_minor": 0
      },
      "text/plain": [
       "Running 0: 0.00 row [00:00, ? row/s]"
      ]
     },
     "metadata": {},
     "output_type": "display_data"
    },
    {
     "data": {
      "application/vnd.jupyter.widget-view+json": {
       "model_id": "f97dc6fb04ec4b3db26f700e6013c181",
       "version_major": 2,
       "version_minor": 0
      },
      "text/plain": [
       "- Filter(<lambda>) 1: 0.00 row [00:00, ? row/s]"
      ]
     },
     "metadata": {},
     "output_type": "display_data"
    },
    {
     "data": {
      "application/vnd.jupyter.widget-view+json": {
       "model_id": "ef9484dac4154b2ba3300e9e4472d957",
       "version_major": 2,
       "version_minor": 0
      },
      "text/plain": [
       "- Join(num_partitions=2) 2: 0.00 row [00:00, ? row/s]"
      ]
     },
     "metadata": {},
     "output_type": "display_data"
    },
    {
     "data": {
      "application/vnd.jupyter.widget-view+json": {
       "model_id": "1ad8caa26a4748609a90fd7c0b293c28",
       "version_major": 2,
       "version_minor": 0
      },
      "text/plain": [
       "- limit=5 3: 0.00 row [00:00, ? row/s]"
      ]
     },
     "metadata": {},
     "output_type": "display_data"
    },
    {
     "name": "stderr",
     "output_type": "stream",
     "text": [
      "2025-07-11 08:42:13,579\tINFO streaming_executor.py:227 -- ✔️  Dataset dataset_7_0 execution finished in 1.23 seconds\n"
     ]
    },
    {
     "name": "stdout",
     "output_type": "stream",
     "text": [
      "{'id': 12500, 'text': 'Zentropa has much in common with The Third Man, another noir-like film set among the rubble of postwar Europe. Like TTM, there is much inventive camera work. There is an innocent American who gets emotionally involved with a woman he doesn\\'t really understand, and whose naivety is all the more striking in contrast with the natives.<br /><br />But I\\'d have to say that The Third Man has a more well-crafted storyline. Zentropa is a bit disjointed in this respect. Perhaps this is intentional: it is presented as a dream/nightmare, and making it too coherent would spoil the effect. <br /><br />This movie is unrelentingly grim--\"noir\" in more than one sense; one never sees the sun shine. Grim, but intriguing, and frightening.', 'label': 1, 'source': 'imdb'}\n",
      "{'id': 13000, 'text': \"Visually stunning and full of Eastern Philosophy, this amazing martial arts fantasy is brought to you by master director Tsui Hark, the man behind some of the best films Hong Kong cinema has produced. The special effects are beautiful and imaginative. The plot is a bit on the cerebral side, but is a refreshing change from films that treat their audience as if they were morons. If thinking is not your forte, however, this may not be your movie. Maybe you should go see the latest from the Hollywood studio's no brain club, but if you are looking for something more, he's where you will find it.\", 'label': 1, 'source': 'imdb'}\n",
      "{'id': 13100, 'text': \"The fourth of five westerns Anthony Mann did with James Stewart, this one involves a hard bitten cattleman named Jeff Webster who takes a cattle drive from Wyoming to Alaska, via Seattle. He hooks up in Seattle with his partners Ben Tatum (Walter Brennan) and Rube Morris (Jay C. Flippen) that he has sent ahead of time in order to make preparations for the boat trip, north.<br /><br />But first, he has to put up with insubordinate trail hands, cheating riverboat captains and the charms of coy, manipulative Ronda Castle (Ruth Roman) who believes Jeff could be a valuable ally in the future. That's why she hides him out on the boat while the captain's looking for him for the earlier (and justifiable) killing of a trail hand.<br /><br />Jeff also has the misfortune of running into sleazy Judge Gannon (John McIntire) who runs the town of Skagway, Alaska. Gannon locks Jeff up for disrupting his public hanging by running his cattle through town. He fines Jeff the ownership of his cattle and Jeff just has to eat crow for the time being. <br /><br />In the meantime, Jeff agrees to ride point for Ronda up to Dawson in order to deliver supplies. But this is just a ruse so Jeff, Ben and Rube can slip back into Skagway and steal his cattle back. Of course Judge Gannon finds out about this and is right behind but is delayed by Jeff with a rifle while Ben races the cattle over the Canadian border out of Gannon's reach.<br /><br />After avoiding an avalanche and another shootout with some other Skagway men, they finally reach Dawson where Jeff sells his cattle to the highest bidder, which just happens to be Ronda who then promptly sets up a new gambling house in Dawson. Jeff then takes his money and buys himself a claim and starts panning for gold. <br /><br />But then Judge Gannon comes up to Dawson to get in on the gold action up there, and tells Jeff that he was getting a little bored with Skagway and wants to try his luck up in the Klondike, himself. That involves bring some hired gunman with him and forcibly stealing some of the other miner's claims. Jeff and Ben now feel it's time to clear out while the goings are good, leaving Rube to fend for himself as a most ineffective sheriff against Gannon and his gang.<br /><br />They look for a back way out only to find themselves ambushed by Gannon's men because Ben made the mistake of opening his big mouth. Ben is killed and Jeff is severely wounded but that doesn't save Judge Gannon from his just due. The ending shootout at night on the muddy Dawson street pretty much takes care of that. First Jeff kills two of Gannon's best gunman (Jack Elam and Robert Wilkie). Then as Ronda comes out to warn Jeff that Gannon is trying to slip around behind him, Gannon shoots her in the back and she dies right there in Jeff's arms. Then Jeff kills Gannon as he's hiding under a wooden sidewalk. Revenge has spoken.<br /><br />This is another rip-roaring western that's right up there with THE NAKED SPUR and THE MAN FROM LARAMIE. Why the Universal DVD uses a pan-and-scan print instead of the widescreen print TCM uses, is beyond me. You'll wind up missing half the glorious Alberta cinematography by William Daniels. So if you like well-written 50s westerns, then this one's an A-list keeper. <br /><br />8 out of 10\", 'label': 1, 'source': 'imdb'}\n",
      "{'id': 13600, 'text': \"I miss Dark Angel!..<br /><br />I understand not ever one likes it, but as far as I'm concerned the show should not have been canceled, especially for another space show mock up...<br /><br />I'm reading the books now. they are doing a pretty good job of explaining somethings, but I still think we should get a TV movie or something.<br /><br />THE FREAK NATION LIVES!!!!!!!!\", 'label': 1, 'source': 'imdb'}\n",
      "{'id': 13700, 'text': \"I like the good and evil battle. I liked Eddie in this movie better than any movie he has ever done. He wasn't The smart, cocky, know it all he usually plays. He shows heart and a more humble humor. The fact that it shows there are stranger things in Heaven and on earth than we can think of gives me hope.\", 'label': 1, 'source': 'imdb'}\n"
     ]
    }
   ],
   "source": [
    "\n",
    "# Show a few joined results\n",
    "for row in joined.take(5):\n",
    "    print(row)"
   ]
  },
  {
   "cell_type": "markdown",
   "metadata": {},
   "source": [
    "## Preprocessing with a Tokenizer\n",
    "This showcases a preprocessing method that tokenizes the text column using custom tokenization function. Such preprocessing methods are useful in preparing the data for training a model."
   ]
  },
  {
   "cell_type": "code",
   "execution_count": 22,
   "metadata": {},
   "outputs": [],
   "source": [
    "import string\n",
    "# Define a tokenizer for the text column\n",
    "def tokenization_fn(s):\n",
    "    for character in string.punctuation:\n",
    "        s = s.replace(character, \"\")\n",
    "    return s.split()\n",
    "# tokenizer = Tokenizer(columns=[\"text\"], tokenization_fn=tokenization_fn)\n",
    "tokenizer = Tokenizer(columns=[\"text\"], output_columns=[\"text_tokenized\"],\n",
    "                      tokenization_fn=tokenization_fn)"
   ]
  },
  {
   "cell_type": "code",
   "execution_count": 23,
   "metadata": {},
   "outputs": [
    {
     "name": "stderr",
     "output_type": "stream",
     "text": [
      "2025-07-11 08:47:48,646\tINFO logging.py:295 -- Registered dataset logger for dataset dataset_9_0\n",
      "2025-07-11 08:47:48,650\tINFO streaming_executor.py:117 -- Starting execution of Dataset dataset_9_0. Full logs are in /tmp/ray/session_2025-07-11_08-03-28_326524_18345/logs/ray-data\n",
      "2025-07-11 08:47:48,651\tINFO streaming_executor.py:118 -- Execution plan of Dataset dataset_9_0: InputDataBuffer[Input] -> TaskPoolMapOperator[Filter(<lambda>)->Tokenizer] -> LimitOperator[limit=5]\n"
     ]
    },
    {
     "data": {
      "application/vnd.jupyter.widget-view+json": {
       "model_id": "cb40f1aa8df74795b10bd834ef66cb43",
       "version_major": 2,
       "version_minor": 0
      },
      "text/plain": [
       "Running 0: 0.00 row [00:00, ? row/s]"
      ]
     },
     "metadata": {},
     "output_type": "display_data"
    },
    {
     "data": {
      "application/vnd.jupyter.widget-view+json": {
       "model_id": "5578efcf44834e9081aa0a5def20f589",
       "version_major": 2,
       "version_minor": 0
      },
      "text/plain": [
       "- Filter(<lambda>)->Tokenizer 1: 0.00 row [00:00, ? row/s]"
      ]
     },
     "metadata": {},
     "output_type": "display_data"
    },
    {
     "data": {
      "application/vnd.jupyter.widget-view+json": {
       "model_id": "220cffeb3b6244a78fc3f1fd48bd34ad",
       "version_major": 2,
       "version_minor": 0
      },
      "text/plain": [
       "- limit=5 2: 0.00 row [00:00, ? row/s]"
      ]
     },
     "metadata": {},
     "output_type": "display_data"
    },
    {
     "name": "stderr",
     "output_type": "stream",
     "text": [
      "2025-07-11 08:47:48,837\tINFO streaming_executor.py:227 -- ✔️  Dataset dataset_9_0 execution finished in 0.19 seconds\n"
     ]
    },
    {
     "name": "stdout",
     "output_type": "stream",
     "text": [
      "{'id': 12500, 'text': 'Zentropa has much in common with The Third Man, another noir-like film set among the rubble of postwar Europe. Like TTM, there is much inventive camera work. There is an innocent American who gets emotionally involved with a woman he doesn\\'t really understand, and whose naivety is all the more striking in contrast with the natives.<br /><br />But I\\'d have to say that The Third Man has a more well-crafted storyline. Zentropa is a bit disjointed in this respect. Perhaps this is intentional: it is presented as a dream/nightmare, and making it too coherent would spoil the effect. <br /><br />This movie is unrelentingly grim--\"noir\" in more than one sense; one never sees the sun shine. Grim, but intriguing, and frightening.', 'label': 1, 'text_tokenized': ['Zentropa', 'has', 'much', 'in', 'common', 'with', 'The', 'Third', 'Man', 'another', 'noirlike', 'film', 'set', 'among', 'the', 'rubble', 'of', 'postwar', 'Europe', 'Like', 'TTM', 'there', 'is', 'much', 'inventive', 'camera', 'work', 'There', 'is', 'an', 'innocent', 'American', 'who', 'gets', 'emotionally', 'involved', 'with', 'a', 'woman', 'he', 'doesnt', 'really', 'understand', 'and', 'whose', 'naivety', 'is', 'all', 'the', 'more', 'striking', 'in', 'contrast', 'with', 'the', 'nativesbr', 'br', 'But', 'Id', 'have', 'to', 'say', 'that', 'The', 'Third', 'Man', 'has', 'a', 'more', 'wellcrafted', 'storyline', 'Zentropa', 'is', 'a', 'bit', 'disjointed', 'in', 'this', 'respect', 'Perhaps', 'this', 'is', 'intentional', 'it', 'is', 'presented', 'as', 'a', 'dreamnightmare', 'and', 'making', 'it', 'too', 'coherent', 'would', 'spoil', 'the', 'effect', 'br', 'br', 'This', 'movie', 'is', 'unrelentingly', 'grimnoir', 'in', 'more', 'than', 'one', 'sense', 'one', 'never', 'sees', 'the', 'sun', 'shine', 'Grim', 'but', 'intriguing', 'and', 'frightening']}\n",
      "{'id': 12501, 'text': \"Zentropa is the most original movie I've seen in years. If you like unique thrillers that are influenced by film noir, then this is just the right cure for all of those Hollywood summer blockbusters clogging the theaters these days. Von Trier's follow-ups like Breaking the Waves have gotten more acclaim, but this is really his best work. It is flashy without being distracting and offers the perfect combination of suspense and dark humor. It's too bad he decided handheld cameras were the wave of the future. It's hard to say who talked him away from the style he exhibits here, but it's everyone's loss that he went into his heavily theoretical dogma direction instead.\", 'label': 1, 'text_tokenized': ['Zentropa', 'is', 'the', 'most', 'original', 'movie', 'Ive', 'seen', 'in', 'years', 'If', 'you', 'like', 'unique', 'thrillers', 'that', 'are', 'influenced', 'by', 'film', 'noir', 'then', 'this', 'is', 'just', 'the', 'right', 'cure', 'for', 'all', 'of', 'those', 'Hollywood', 'summer', 'blockbusters', 'clogging', 'the', 'theaters', 'these', 'days', 'Von', 'Triers', 'followups', 'like', 'Breaking', 'the', 'Waves', 'have', 'gotten', 'more', 'acclaim', 'but', 'this', 'is', 'really', 'his', 'best', 'work', 'It', 'is', 'flashy', 'without', 'being', 'distracting', 'and', 'offers', 'the', 'perfect', 'combination', 'of', 'suspense', 'and', 'dark', 'humor', 'Its', 'too', 'bad', 'he', 'decided', 'handheld', 'cameras', 'were', 'the', 'wave', 'of', 'the', 'future', 'Its', 'hard', 'to', 'say', 'who', 'talked', 'him', 'away', 'from', 'the', 'style', 'he', 'exhibits', 'here', 'but', 'its', 'everyones', 'loss', 'that', 'he', 'went', 'into', 'his', 'heavily', 'theoretical', 'dogma', 'direction', 'instead']}\n",
      "{'id': 12502, 'text': \"Lars Von Trier is never backward in trying out new techniques. Some of them are very original while others are best forgotten.<br /><br />He depicts postwar Germany as a nightmarish train journey. With so many cities lying in ruins, Leo Kessler a young American of German descent feels obliged to help in their restoration. It is not a simple task as he quickly finds out.<br /><br />His uncle finds him a job as a night conductor on the Zentropa Railway Line. His job is to attend to the needs of the passengers. When the shoes are polished a chalk mark is made on the soles. A terrible argument ensues when a passenger's shoes are not chalked despite the fact they have been polished. There are many allusions to the German fanaticism of adherence to such stupid details.<br /><br />The railway journey is like an allegory representing man's procession through life with all its trials and tribulations. In one sequence Leo dashes through the back carriages to discover them filled with half-starved bodies appearing to have just escaped from Auschwitz . These images, horrible as they are, are fleeting as in a dream, each with its own terrible impact yet unconnected.<br /><br />At a station called Urmitz Leo jumps from the train with a parceled bomb. In view of many by-standers he connects the bomb to the underside of a carriage. He returns to his cabin and makes a connection to a time clock. Later he jumps from the train (at high speed) and lies in the cool grass on a river bank. Looking at the stars above he decides that his job is to build and not destroy. Subsequently as he sees the train approaching a giant bridge he runs at breakneck speed to board the train and stop the clock. If you care to analyse the situation it is a completely impossible task. Quite ridiculous in fact. It could only happen in a dream.<br /><br />It's strange how one remembers little details such as a row of cups hanging on hooks and rattling away with the swaying of the train.<br /><br />Despite the fact that this film is widely acclaimed, I prefer Lars Von Trier's later films (Breaking the Waves and The Idiots). The bomb scene described above really put me off. Perhaps I'm a realist.\", 'label': 1, 'text_tokenized': ['Lars', 'Von', 'Trier', 'is', 'never', 'backward', 'in', 'trying', 'out', 'new', 'techniques', 'Some', 'of', 'them', 'are', 'very', 'original', 'while', 'others', 'are', 'best', 'forgottenbr', 'br', 'He', 'depicts', 'postwar', 'Germany', 'as', 'a', 'nightmarish', 'train', 'journey', 'With', 'so', 'many', 'cities', 'lying', 'in', 'ruins', 'Leo', 'Kessler', 'a', 'young', 'American', 'of', 'German', 'descent', 'feels', 'obliged', 'to', 'help', 'in', 'their', 'restoration', 'It', 'is', 'not', 'a', 'simple', 'task', 'as', 'he', 'quickly', 'finds', 'outbr', 'br', 'His', 'uncle', 'finds', 'him', 'a', 'job', 'as', 'a', 'night', 'conductor', 'on', 'the', 'Zentropa', 'Railway', 'Line', 'His', 'job', 'is', 'to', 'attend', 'to', 'the', 'needs', 'of', 'the', 'passengers', 'When', 'the', 'shoes', 'are', 'polished', 'a', 'chalk', 'mark', 'is', 'made', 'on', 'the', 'soles', 'A', 'terrible', 'argument', 'ensues', 'when', 'a', 'passengers', 'shoes', 'are', 'not', 'chalked', 'despite', 'the', 'fact', 'they', 'have', 'been', 'polished', 'There', 'are', 'many', 'allusions', 'to', 'the', 'German', 'fanaticism', 'of', 'adherence', 'to', 'such', 'stupid', 'detailsbr', 'br', 'The', 'railway', 'journey', 'is', 'like', 'an', 'allegory', 'representing', 'mans', 'procession', 'through', 'life', 'with', 'all', 'its', 'trials', 'and', 'tribulations', 'In', 'one', 'sequence', 'Leo', 'dashes', 'through', 'the', 'back', 'carriages', 'to', 'discover', 'them', 'filled', 'with', 'halfstarved', 'bodies', 'appearing', 'to', 'have', 'just', 'escaped', 'from', 'Auschwitz', 'These', 'images', 'horrible', 'as', 'they', 'are', 'are', 'fleeting', 'as', 'in', 'a', 'dream', 'each', 'with', 'its', 'own', 'terrible', 'impact', 'yet', 'unconnectedbr', 'br', 'At', 'a', 'station', 'called', 'Urmitz', 'Leo', 'jumps', 'from', 'the', 'train', 'with', 'a', 'parceled', 'bomb', 'In', 'view', 'of', 'many', 'bystanders', 'he', 'connects', 'the', 'bomb', 'to', 'the', 'underside', 'of', 'a', 'carriage', 'He', 'returns', 'to', 'his', 'cabin', 'and', 'makes', 'a', 'connection', 'to', 'a', 'time', 'clock', 'Later', 'he', 'jumps', 'from', 'the', 'train', 'at', 'high', 'speed', 'and', 'lies', 'in', 'the', 'cool', 'grass', 'on', 'a', 'river', 'bank', 'Looking', 'at', 'the', 'stars', 'above', 'he', 'decides', 'that', 'his', 'job', 'is', 'to', 'build', 'and', 'not', 'destroy', 'Subsequently', 'as', 'he', 'sees', 'the', 'train', 'approaching', 'a', 'giant', 'bridge', 'he', 'runs', 'at', 'breakneck', 'speed', 'to', 'board', 'the', 'train', 'and', 'stop', 'the', 'clock', 'If', 'you', 'care', 'to', 'analyse', 'the', 'situation', 'it', 'is', 'a', 'completely', 'impossible', 'task', 'Quite', 'ridiculous', 'in', 'fact', 'It', 'could', 'only', 'happen', 'in', 'a', 'dreambr', 'br', 'Its', 'strange', 'how', 'one', 'remembers', 'little', 'details', 'such', 'as', 'a', 'row', 'of', 'cups', 'hanging', 'on', 'hooks', 'and', 'rattling', 'away', 'with', 'the', 'swaying', 'of', 'the', 'trainbr', 'br', 'Despite', 'the', 'fact', 'that', 'this', 'film', 'is', 'widely', 'acclaimed', 'I', 'prefer', 'Lars', 'Von', 'Triers', 'later', 'films', 'Breaking', 'the', 'Waves', 'and', 'The', 'Idiots', 'The', 'bomb', 'scene', 'described', 'above', 'really', 'put', 'me', 'off', 'Perhaps', 'Im', 'a', 'realist']}\n",
      "{'id': 12503, 'text': '*Contains spoilers due to me having to describe some film techniques, so read at your own risk!*<br /><br />I loved this film. The use of tinting in some of the scenes makes it seem like an old photograph come to life. I also enjoyed the projection of people on a back screen. For instance, in one scene, Leopold calls his wife and she is projected behind him rather than in a typical split screen. Her face is huge in the back and Leo\\'s is in the foreground.<br /><br />One of the best uses of this is when the young boys kill the Ravensteins on the train, a scene shot in an almost political poster style, with facial close ups. It reminded me of Battleship Potemkin, that intense constant style coupled with the spray of red to convey tons of horror without much gore. Same with the scene when Katharina finds her father dead in the bathtub...you can only see the red water on the side. It is one of the things I love about Von Trier, his understatement of horror, which ends up making it all the more creepy.<br /><br />The use of text in the film was unique, like when Leo\\'s character is pushed by the word, \"Werewolf.\" I have never seen anything like that in a film.<br /><br />The use of black comedy in this film was well done. Ernst-Hugo Järegård is great as Leo\\'s uncle. It brings up the snickers I got from his role in the Kingdom (Riget.) This humor makes the plotline of absurd anal retentiveness of train conductors against the terrible backdrop of WW2 and all the chaos, easier to take. It reminds me of Riget in the way the hospital administrator is trying to maintain a normalcy at the end of part one when everything is going crazy. It shows that some people are truly oblivious to the awful things happening around them. Yet some people, like Leo, are tuned in, but do nothing positive about it.<br /><br />The voice over, done expertly well by Max von Sydow, is amusing too. It draws you into the story and makes you jump into Leo\\'s head, which at times is a scary place to be.<br /><br />The movie brings up the point that one is a coward if they don\\'t choose a side. I see the same idea used in Dancer in the Dark, where Bjork\\'s character doesn\\'t speak up for herself and ends up being her own destruction. Actually, at one time, Von Trier seemed anti-woman to me, by making Breaking the Waves and Dancer, but now I know his male characters don\\'t fare well either! I found myself at the same place during the end of Dancer, when you seriously want the main character to rethink their actions, but of course, they never do!', 'label': 1, 'text_tokenized': ['Contains', 'spoilers', 'due', 'to', 'me', 'having', 'to', 'describe', 'some', 'film', 'techniques', 'so', 'read', 'at', 'your', 'own', 'riskbr', 'br', 'I', 'loved', 'this', 'film', 'The', 'use', 'of', 'tinting', 'in', 'some', 'of', 'the', 'scenes', 'makes', 'it', 'seem', 'like', 'an', 'old', 'photograph', 'come', 'to', 'life', 'I', 'also', 'enjoyed', 'the', 'projection', 'of', 'people', 'on', 'a', 'back', 'screen', 'For', 'instance', 'in', 'one', 'scene', 'Leopold', 'calls', 'his', 'wife', 'and', 'she', 'is', 'projected', 'behind', 'him', 'rather', 'than', 'in', 'a', 'typical', 'split', 'screen', 'Her', 'face', 'is', 'huge', 'in', 'the', 'back', 'and', 'Leos', 'is', 'in', 'the', 'foregroundbr', 'br', 'One', 'of', 'the', 'best', 'uses', 'of', 'this', 'is', 'when', 'the', 'young', 'boys', 'kill', 'the', 'Ravensteins', 'on', 'the', 'train', 'a', 'scene', 'shot', 'in', 'an', 'almost', 'political', 'poster', 'style', 'with', 'facial', 'close', 'ups', 'It', 'reminded', 'me', 'of', 'Battleship', 'Potemkin', 'that', 'intense', 'constant', 'style', 'coupled', 'with', 'the', 'spray', 'of', 'red', 'to', 'convey', 'tons', 'of', 'horror', 'without', 'much', 'gore', 'Same', 'with', 'the', 'scene', 'when', 'Katharina', 'finds', 'her', 'father', 'dead', 'in', 'the', 'bathtubyou', 'can', 'only', 'see', 'the', 'red', 'water', 'on', 'the', 'side', 'It', 'is', 'one', 'of', 'the', 'things', 'I', 'love', 'about', 'Von', 'Trier', 'his', 'understatement', 'of', 'horror', 'which', 'ends', 'up', 'making', 'it', 'all', 'the', 'more', 'creepybr', 'br', 'The', 'use', 'of', 'text', 'in', 'the', 'film', 'was', 'unique', 'like', 'when', 'Leos', 'character', 'is', 'pushed', 'by', 'the', 'word', 'Werewolf', 'I', 'have', 'never', 'seen', 'anything', 'like', 'that', 'in', 'a', 'filmbr', 'br', 'The', 'use', 'of', 'black', 'comedy', 'in', 'this', 'film', 'was', 'well', 'done', 'ErnstHugo', 'Järegård', 'is', 'great', 'as', 'Leos', 'uncle', 'It', 'brings', 'up', 'the', 'snickers', 'I', 'got', 'from', 'his', 'role', 'in', 'the', 'Kingdom', 'Riget', 'This', 'humor', 'makes', 'the', 'plotline', 'of', 'absurd', 'anal', 'retentiveness', 'of', 'train', 'conductors', 'against', 'the', 'terrible', 'backdrop', 'of', 'WW2', 'and', 'all', 'the', 'chaos', 'easier', 'to', 'take', 'It', 'reminds', 'me', 'of', 'Riget', 'in', 'the', 'way', 'the', 'hospital', 'administrator', 'is', 'trying', 'to', 'maintain', 'a', 'normalcy', 'at', 'the', 'end', 'of', 'part', 'one', 'when', 'everything', 'is', 'going', 'crazy', 'It', 'shows', 'that', 'some', 'people', 'are', 'truly', 'oblivious', 'to', 'the', 'awful', 'things', 'happening', 'around', 'them', 'Yet', 'some', 'people', 'like', 'Leo', 'are', 'tuned', 'in', 'but', 'do', 'nothing', 'positive', 'about', 'itbr', 'br', 'The', 'voice', 'over', 'done', 'expertly', 'well', 'by', 'Max', 'von', 'Sydow', 'is', 'amusing', 'too', 'It', 'draws', 'you', 'into', 'the', 'story', 'and', 'makes', 'you', 'jump', 'into', 'Leos', 'head', 'which', 'at', 'times', 'is', 'a', 'scary', 'place', 'to', 'bebr', 'br', 'The', 'movie', 'brings', 'up', 'the', 'point', 'that', 'one', 'is', 'a', 'coward', 'if', 'they', 'dont', 'choose', 'a', 'side', 'I', 'see', 'the', 'same', 'idea', 'used', 'in', 'Dancer', 'in', 'the', 'Dark', 'where', 'Bjorks', 'character', 'doesnt', 'speak', 'up', 'for', 'herself', 'and', 'ends', 'up', 'being', 'her', 'own', 'destruction', 'Actually', 'at', 'one', 'time', 'Von', 'Trier', 'seemed', 'antiwoman', 'to', 'me', 'by', 'making', 'Breaking', 'the', 'Waves', 'and', 'Dancer', 'but', 'now', 'I', 'know', 'his', 'male', 'characters', 'dont', 'fare', 'well', 'either', 'I', 'found', 'myself', 'at', 'the', 'same', 'place', 'during', 'the', 'end', 'of', 'Dancer', 'when', 'you', 'seriously', 'want', 'the', 'main', 'character', 'to', 'rethink', 'their', 'actions', 'but', 'of', 'course', 'they', 'never', 'do']}\n",
      "{'id': 12504, 'text': \"That was the first thing that sprang to mind as I watched the closing credits to Europa make there was across the screen, never in my entire life have I seen a film of such technical genius, the visuals of Europa are so impressive that any film I watch in it's wake will only pale in comparison, forget your Michael Bay, Ridley Scott slick Hollywood cinematography, Europa has more ethereal beauty than anything those two could conjure up in a million years. Now I'd be the first to hail Lars von Trier a genius just off the back of his films Breaking the Waves and Dancer in the Dark, but this is stupid, the fact that Europa has gone un-noticed by film experts for so long is a crime against cinema, whilst overrated rubbish like Crouching Tiger, Hidden Dragon and Life is Beautiful clean up at the academy awards (but what do the know) Europa has been hidden away, absent form video stores and (until recently) any British TV channels. <br /><br />The visuals in Europa are not MTV gloss; it's not a case of style over substance, its more a case of substance dictating style. Much like his first film The Element of Crime, von Trier uses the perspective of the main character to draw us into his world, and much like Element, the film begins with the main character (or in the case of Europa, we the audience) being hypnotized. As we move down the tracks, the voice of the Narrator (Max von Sydow) counts us down into a deep sleep, until we awake in Europa. This allows von Trier and his three cinematographers to pay with the conventions of time and imagery, there are many scenes in Europa when a character in the background, who is in black and white, will interact with a person in the foreground who will be colour, von Trier is trying to show us how much precedence the coloured item or person has over the plot, for instance, it's no surprise that the first shot of Leopold Kessler (Jean-marc Barr) is in colour, since he is the only character who's actions have superiority over the film. <br /><br />The performances are good, they may not be on par with performances in later von Trier films, but that's just because the images are sometimes so distracting that you don't really pick up on them the first time round. But I would like to point out the fantastic performance of Jean-Marc Barr in the lead role, whose blind idealism is slowly warn down by the two opposing sides, until he erupts in the films final act. Again, muck like The Element of Crime, the film ends with our hero unable to wake up from his nightmare state, left in this terrible place, with only the continuing narration of von Sydow to seal his fate. Europa is a tremendous film, and I cant help thinking what a shame that von Trier has abandoned this way of filming, since he was clearly one of the most talented visual directors working at that time, Europa, much like the rest of his cinematic cannon is filled with a wealth of iconic scenes. His dedication to composition and mise-en-scene is unrivalled, not to mention his use of sound and production design. But since his no-frills melodramas turned out to be Breaking the Waves and Dancer in the Dark then who can argue, but it does seems like a waste of an imaginative talent. 10/10\", 'label': 1, 'text_tokenized': ['That', 'was', 'the', 'first', 'thing', 'that', 'sprang', 'to', 'mind', 'as', 'I', 'watched', 'the', 'closing', 'credits', 'to', 'Europa', 'make', 'there', 'was', 'across', 'the', 'screen', 'never', 'in', 'my', 'entire', 'life', 'have', 'I', 'seen', 'a', 'film', 'of', 'such', 'technical', 'genius', 'the', 'visuals', 'of', 'Europa', 'are', 'so', 'impressive', 'that', 'any', 'film', 'I', 'watch', 'in', 'its', 'wake', 'will', 'only', 'pale', 'in', 'comparison', 'forget', 'your', 'Michael', 'Bay', 'Ridley', 'Scott', 'slick', 'Hollywood', 'cinematography', 'Europa', 'has', 'more', 'ethereal', 'beauty', 'than', 'anything', 'those', 'two', 'could', 'conjure', 'up', 'in', 'a', 'million', 'years', 'Now', 'Id', 'be', 'the', 'first', 'to', 'hail', 'Lars', 'von', 'Trier', 'a', 'genius', 'just', 'off', 'the', 'back', 'of', 'his', 'films', 'Breaking', 'the', 'Waves', 'and', 'Dancer', 'in', 'the', 'Dark', 'but', 'this', 'is', 'stupid', 'the', 'fact', 'that', 'Europa', 'has', 'gone', 'unnoticed', 'by', 'film', 'experts', 'for', 'so', 'long', 'is', 'a', 'crime', 'against', 'cinema', 'whilst', 'overrated', 'rubbish', 'like', 'Crouching', 'Tiger', 'Hidden', 'Dragon', 'and', 'Life', 'is', 'Beautiful', 'clean', 'up', 'at', 'the', 'academy', 'awards', 'but', 'what', 'do', 'the', 'know', 'Europa', 'has', 'been', 'hidden', 'away', 'absent', 'form', 'video', 'stores', 'and', 'until', 'recently', 'any', 'British', 'TV', 'channels', 'br', 'br', 'The', 'visuals', 'in', 'Europa', 'are', 'not', 'MTV', 'gloss', 'its', 'not', 'a', 'case', 'of', 'style', 'over', 'substance', 'its', 'more', 'a', 'case', 'of', 'substance', 'dictating', 'style', 'Much', 'like', 'his', 'first', 'film', 'The', 'Element', 'of', 'Crime', 'von', 'Trier', 'uses', 'the', 'perspective', 'of', 'the', 'main', 'character', 'to', 'draw', 'us', 'into', 'his', 'world', 'and', 'much', 'like', 'Element', 'the', 'film', 'begins', 'with', 'the', 'main', 'character', 'or', 'in', 'the', 'case', 'of', 'Europa', 'we', 'the', 'audience', 'being', 'hypnotized', 'As', 'we', 'move', 'down', 'the', 'tracks', 'the', 'voice', 'of', 'the', 'Narrator', 'Max', 'von', 'Sydow', 'counts', 'us', 'down', 'into', 'a', 'deep', 'sleep', 'until', 'we', 'awake', 'in', 'Europa', 'This', 'allows', 'von', 'Trier', 'and', 'his', 'three', 'cinematographers', 'to', 'pay', 'with', 'the', 'conventions', 'of', 'time', 'and', 'imagery', 'there', 'are', 'many', 'scenes', 'in', 'Europa', 'when', 'a', 'character', 'in', 'the', 'background', 'who', 'is', 'in', 'black', 'and', 'white', 'will', 'interact', 'with', 'a', 'person', 'in', 'the', 'foreground', 'who', 'will', 'be', 'colour', 'von', 'Trier', 'is', 'trying', 'to', 'show', 'us', 'how', 'much', 'precedence', 'the', 'coloured', 'item', 'or', 'person', 'has', 'over', 'the', 'plot', 'for', 'instance', 'its', 'no', 'surprise', 'that', 'the', 'first', 'shot', 'of', 'Leopold', 'Kessler', 'Jeanmarc', 'Barr', 'is', 'in', 'colour', 'since', 'he', 'is', 'the', 'only', 'character', 'whos', 'actions', 'have', 'superiority', 'over', 'the', 'film', 'br', 'br', 'The', 'performances', 'are', 'good', 'they', 'may', 'not', 'be', 'on', 'par', 'with', 'performances', 'in', 'later', 'von', 'Trier', 'films', 'but', 'thats', 'just', 'because', 'the', 'images', 'are', 'sometimes', 'so', 'distracting', 'that', 'you', 'dont', 'really', 'pick', 'up', 'on', 'them', 'the', 'first', 'time', 'round', 'But', 'I', 'would', 'like', 'to', 'point', 'out', 'the', 'fantastic', 'performance', 'of', 'JeanMarc', 'Barr', 'in', 'the', 'lead', 'role', 'whose', 'blind', 'idealism', 'is', 'slowly', 'warn', 'down', 'by', 'the', 'two', 'opposing', 'sides', 'until', 'he', 'erupts', 'in', 'the', 'films', 'final', 'act', 'Again', 'muck', 'like', 'The', 'Element', 'of', 'Crime', 'the', 'film', 'ends', 'with', 'our', 'hero', 'unable', 'to', 'wake', 'up', 'from', 'his', 'nightmare', 'state', 'left', 'in', 'this', 'terrible', 'place', 'with', 'only', 'the', 'continuing', 'narration', 'of', 'von', 'Sydow', 'to', 'seal', 'his', 'fate', 'Europa', 'is', 'a', 'tremendous', 'film', 'and', 'I', 'cant', 'help', 'thinking', 'what', 'a', 'shame', 'that', 'von', 'Trier', 'has', 'abandoned', 'this', 'way', 'of', 'filming', 'since', 'he', 'was', 'clearly', 'one', 'of', 'the', 'most', 'talented', 'visual', 'directors', 'working', 'at', 'that', 'time', 'Europa', 'much', 'like', 'the', 'rest', 'of', 'his', 'cinematic', 'cannon', 'is', 'filled', 'with', 'a', 'wealth', 'of', 'iconic', 'scenes', 'His', 'dedication', 'to', 'composition', 'and', 'miseenscene', 'is', 'unrivalled', 'not', 'to', 'mention', 'his', 'use', 'of', 'sound', 'and', 'production', 'design', 'But', 'since', 'his', 'nofrills', 'melodramas', 'turned', 'out', 'to', 'be', 'Breaking', 'the', 'Waves', 'and', 'Dancer', 'in', 'the', 'Dark', 'then', 'who', 'can', 'argue', 'but', 'it', 'does', 'seems', 'like', 'a', 'waste', 'of', 'an', 'imaginative', 'talent', '1010']}\n"
     ]
    }
   ],
   "source": [
    "\n",
    "# print tokenizer sample\n",
    "for row in tokenizer.transform(filtered).take(5):\n",
    "    print(row)\n"
   ]
  },
  {
   "cell_type": "markdown",
   "metadata": {},
   "source": [
    "### Convert to Pandas DataFrame\n",
    "Converting the processed Ray Dataset to a Pandas DataFrame for further analysis."
   ]
  },
  {
   "cell_type": "code",
   "execution_count": 24,
   "metadata": {},
   "outputs": [
    {
     "name": "stderr",
     "output_type": "stream",
     "text": [
      "2025-07-11 08:48:51,767\tINFO logging.py:295 -- Registered dataset logger for dataset dataset_10_0\n",
      "2025-07-11 08:48:51,771\tINFO streaming_executor.py:117 -- Starting execution of Dataset dataset_10_0. Full logs are in /tmp/ray/session_2025-07-11_08-03-28_326524_18345/logs/ray-data\n",
      "2025-07-11 08:48:51,771\tINFO streaming_executor.py:118 -- Execution plan of Dataset dataset_10_0: InputDataBuffer[Input] -> TaskPoolMapOperator[Filter(<lambda>)], InputDataBuffer[Input] -> JoinOperator[Join(num_partitions=2)] -> TaskPoolMapOperator[Tokenizer]\n"
     ]
    },
    {
     "data": {
      "application/vnd.jupyter.widget-view+json": {
       "model_id": "e49e64975f844f35a83c00c4504ecbf7",
       "version_major": 2,
       "version_minor": 0
      },
      "text/plain": [
       "Running 0: 0.00 row [00:00, ? row/s]"
      ]
     },
     "metadata": {},
     "output_type": "display_data"
    },
    {
     "data": {
      "application/vnd.jupyter.widget-view+json": {
       "model_id": "3a91fb451c66436eac7fa15ab676b30f",
       "version_major": 2,
       "version_minor": 0
      },
      "text/plain": [
       "- Filter(<lambda>) 1: 0.00 row [00:00, ? row/s]"
      ]
     },
     "metadata": {},
     "output_type": "display_data"
    },
    {
     "data": {
      "application/vnd.jupyter.widget-view+json": {
       "model_id": "186e973505114de496a096dc906ade0d",
       "version_major": 2,
       "version_minor": 0
      },
      "text/plain": [
       "- Join(num_partitions=2) 2: 0.00 row [00:00, ? row/s]"
      ]
     },
     "metadata": {},
     "output_type": "display_data"
    },
    {
     "data": {
      "application/vnd.jupyter.widget-view+json": {
       "model_id": "a807095d9505438fa60146b2c71c206c",
       "version_major": 2,
       "version_minor": 0
      },
      "text/plain": [
       "- Tokenizer 3: 0.00 row [00:00, ? row/s]"
      ]
     },
     "metadata": {},
     "output_type": "display_data"
    },
    {
     "name": "stderr",
     "output_type": "stream",
     "text": [
      "2025-07-11 08:48:52,845\tINFO streaming_executor.py:227 -- ✔️  Dataset dataset_10_0 execution finished in 1.07 seconds\n"
     ]
    }
   ],
   "source": [
    "# Get a tokenized Pandas DataFrame from the 'joined' Ray Dataset\n",
    "# Note: This will convert the Ray Dataset to a Pandas DataFrame, which may not\n",
    "# be suitable for very large datasets due to memory constraints.\n",
    "preprocessed_df = tokenizer.transform(joined).to_pandas()\n"
   ]
  },
  {
   "cell_type": "code",
   "execution_count": 25,
   "metadata": {},
   "outputs": [
    {
     "data": {
      "text/html": [
       "<div>\n",
       "<style scoped>\n",
       "    .dataframe tbody tr th:only-of-type {\n",
       "        vertical-align: middle;\n",
       "    }\n",
       "\n",
       "    .dataframe tbody tr th {\n",
       "        vertical-align: top;\n",
       "    }\n",
       "\n",
       "    .dataframe thead th {\n",
       "        text-align: right;\n",
       "    }\n",
       "</style>\n",
       "<table border=\"1\" class=\"dataframe\">\n",
       "  <thead>\n",
       "    <tr style=\"text-align: right;\">\n",
       "      <th></th>\n",
       "      <th>id</th>\n",
       "      <th>text</th>\n",
       "      <th>label</th>\n",
       "      <th>source</th>\n",
       "      <th>text_tokenized</th>\n",
       "    </tr>\n",
       "  </thead>\n",
       "  <tbody>\n",
       "    <tr>\n",
       "      <th>0</th>\n",
       "      <td>12500</td>\n",
       "      <td>Zentropa has much in common with The Third Man...</td>\n",
       "      <td>1</td>\n",
       "      <td>imdb</td>\n",
       "      <td>[Zentropa, has, much, in, common, with, The, T...</td>\n",
       "    </tr>\n",
       "    <tr>\n",
       "      <th>1</th>\n",
       "      <td>13000</td>\n",
       "      <td>Visually stunning and full of Eastern Philosop...</td>\n",
       "      <td>1</td>\n",
       "      <td>imdb</td>\n",
       "      <td>[Visually, stunning, and, full, of, Eastern, P...</td>\n",
       "    </tr>\n",
       "    <tr>\n",
       "      <th>2</th>\n",
       "      <td>13100</td>\n",
       "      <td>The fourth of five westerns Anthony Mann did w...</td>\n",
       "      <td>1</td>\n",
       "      <td>imdb</td>\n",
       "      <td>[The, fourth, of, five, westerns, Anthony, Man...</td>\n",
       "    </tr>\n",
       "    <tr>\n",
       "      <th>3</th>\n",
       "      <td>13600</td>\n",
       "      <td>I miss Dark Angel!..&lt;br /&gt;&lt;br /&gt;I understand n...</td>\n",
       "      <td>1</td>\n",
       "      <td>imdb</td>\n",
       "      <td>[I, miss, Dark, Angelbr, br, I, understand, no...</td>\n",
       "    </tr>\n",
       "    <tr>\n",
       "      <th>4</th>\n",
       "      <td>13700</td>\n",
       "      <td>I like the good and evil battle. I liked Eddie...</td>\n",
       "      <td>1</td>\n",
       "      <td>imdb</td>\n",
       "      <td>[I, like, the, good, and, evil, battle, I, lik...</td>\n",
       "    </tr>\n",
       "  </tbody>\n",
       "</table>\n",
       "</div>"
      ],
      "text/plain": [
       "      id                                               text  label source  \\\n",
       "0  12500  Zentropa has much in common with The Third Man...      1   imdb   \n",
       "1  13000  Visually stunning and full of Eastern Philosop...      1   imdb   \n",
       "2  13100  The fourth of five westerns Anthony Mann did w...      1   imdb   \n",
       "3  13600  I miss Dark Angel!..<br /><br />I understand n...      1   imdb   \n",
       "4  13700  I like the good and evil battle. I liked Eddie...      1   imdb   \n",
       "\n",
       "                                      text_tokenized  \n",
       "0  [Zentropa, has, much, in, common, with, The, T...  \n",
       "1  [Visually, stunning, and, full, of, Eastern, P...  \n",
       "2  [The, fourth, of, five, westerns, Anthony, Man...  \n",
       "3  [I, miss, Dark, Angelbr, br, I, understand, no...  \n",
       "4  [I, like, the, good, and, evil, battle, I, lik...  "
      ]
     },
     "execution_count": 25,
     "metadata": {},
     "output_type": "execute_result"
    }
   ],
   "source": [
    "# Display the first few rows of the preprocessed DataFrame\n",
    "preprocessed_df.head()"
   ]
  },
  {
   "cell_type": "markdown",
   "metadata": {},
   "source": [
    "### Shutdown Ray"
   ]
  },
  {
   "cell_type": "code",
   "execution_count": 26,
   "metadata": {},
   "outputs": [],
   "source": [
    "# Shutdown Ray\n",
    "ray.shutdown()"
   ]
  },
  {
   "cell_type": "markdown",
   "metadata": {},
   "source": [
    "### Summary"
   ]
  },
  {
   "cell_type": "markdown",
   "metadata": {},
   "source": [
    "This notebook demonstrates how to preprocess large datasets using Ray Data in a distributed and scalable way. It covers loading a public dataset (IMDB reviews), converting it to a Ray Dataset, filtering and joining data, applying tokenization, and converting the results to a Pandas DataFrame for further analysis. The workflow highlights how Ray Data enables efficient data processing for machine learning pipelines, even with datasets that are too large for a single machine."
   ]
  }
 ],
 "metadata": {
  "kernelspec": {
   "display_name": "Python 3 (ipykernel)",
   "language": "python",
   "name": "python3"
  },
  "language_info": {
   "codemirror_mode": {
    "name": "ipython",
    "version": 3
   },
   "file_extension": ".py",
   "mimetype": "text/x-python",
   "name": "python",
   "nbconvert_exporter": "python",
   "pygments_lexer": "ipython3",
   "version": "3.11.6"
  }
 },
 "nbformat": 4,
 "nbformat_minor": 4
}
